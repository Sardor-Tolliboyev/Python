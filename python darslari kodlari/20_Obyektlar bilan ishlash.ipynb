{
 "cells": [
  {
   "cell_type": "markdown",
   "id": "345317b4-59f8-42c2-8839-e664cbcba98a",
   "metadata": {},
   "source": [
    "## Obyektlar bilan ishlash"
   ]
  },
  {
   "cell_type": "markdown",
   "id": "fa0fb35d-319b-498f-8c65-3ac77bb725a6",
   "metadata": {},
   "source": [
    "XUSUSIYATLARGA STANDART QIYMAT BERISH"
   ]
  },
  {
   "cell_type": "code",
   "execution_count": 1,
   "id": "02d9b70c-7237-4686-bfd4-c73e777619b4",
   "metadata": {},
   "outputs": [],
   "source": [
    "class Talaba:\n",
    "    def __init__(self,ism,familiya,tyil):\n",
    "        self.ism = ism\n",
    "        self.familiya = familiya\n",
    "        self.tyil = tyil\n",
    "        self.bosqich = 1\n",
    "    \n",
    "    def get_info(self):\n",
    "        return f\"{self.ism} {self.familiya}. {self.bosqich}-bosqich talabasi \""
   ]
  },
  {
   "cell_type": "code",
   "execution_count": 2,
   "id": "f348832a-49ab-4c6d-a819-d10836155b14",
   "metadata": {},
   "outputs": [
    {
     "name": "stdout",
     "output_type": "stream",
     "text": [
      "Alijon Valiyev. 1-bosqich talabasi \n"
     ]
    }
   ],
   "source": [
    "talaba1 = Talaba(\"Alijon\",\"Valiyev\",2000)\n",
    "print(talaba1.get_info())"
   ]
  },
  {
   "cell_type": "markdown",
   "id": "a8de7cb0-4288-492e-9119-990dd6d9fc90",
   "metadata": {},
   "source": [
    "STANDART QIYMATNI O'ZGARTIRISH"
   ]
  },
  {
   "cell_type": "code",
   "execution_count": 3,
   "id": "ba0a8ede-3c6a-457d-9093-7214f5716b24",
   "metadata": {},
   "outputs": [
    {
     "name": "stdout",
     "output_type": "stream",
     "text": [
      "2\n"
     ]
    }
   ],
   "source": [
    "talaba1.bosqich= 2\n",
    "print(talaba1.bosqich)"
   ]
  },
  {
   "cell_type": "code",
   "execution_count": 4,
   "id": "6c4ad91e-de94-427e-b478-c3d9702858ac",
   "metadata": {},
   "outputs": [
    {
     "name": "stdout",
     "output_type": "stream",
     "text": [
      "Alijon Valiyev. 2-bosqich talabasi \n"
     ]
    }
   ],
   "source": [
    "print(talaba1.get_info())"
   ]
  },
  {
   "cell_type": "code",
   "execution_count": 14,
   "id": "b16b878a-b048-427f-887f-2ddc9bed4dbf",
   "metadata": {},
   "outputs": [],
   "source": [
    "class Talaba:\n",
    "    def __init__(self,ism,familiya,tyil):\n",
    "        self.ism = ism\n",
    "        self.familiya = familiya\n",
    "        self.tyil = tyil\n",
    "        self.bosqich = 1\n",
    "    \n",
    "    def get_info(self):\n",
    "        return f\"{self.ism} {self.familiya}. {self.bosqich}-bosqich talabasi \"\n",
    "    \n",
    "    def set_bosqich(self,bosqich):\n",
    "        self.bosqich = bosqich"
   ]
  },
  {
   "cell_type": "code",
   "execution_count": 15,
   "id": "996f568e-be23-4b4d-b51f-689c5c483f5d",
   "metadata": {},
   "outputs": [
    {
     "name": "stdout",
     "output_type": "stream",
     "text": [
      "Alijon Valiyev. 3-bosqich talabasi \n"
     ]
    }
   ],
   "source": [
    "talaba1 = Talaba(\"Alijon\", \"Valiyev\", 2000)\n",
    "talaba1.set_bosqich(3)\n",
    "print(talaba1.get_info())"
   ]
  },
  {
   "cell_type": "code",
   "execution_count": 16,
   "id": "4f90db83-cb30-446b-a406-97e84898c368",
   "metadata": {},
   "outputs": [],
   "source": [
    "class Talaba:\n",
    "    def __init__(self,ism,familiya,tyil):\n",
    "        self.ism = ism\n",
    "        self.familiya = familiya\n",
    "        self.tyil = tyil\n",
    "        self.bosqich = 1\n",
    "    \n",
    "    def get_info(self):\n",
    "        return f\"{self.ism} {self.familiya}. {self.bosqich}-bosqich talabasi \"\n",
    "    \n",
    "    def set_bosqich(self,bosqich):\n",
    "        self.bosqich = bosqich\n",
    "        \n",
    "    def update_bosqich(self):\n",
    "        self.bosqich += 1"
   ]
  },
  {
   "cell_type": "code",
   "execution_count": 17,
   "id": "2f96c903-880e-4f70-9082-9e6fad8490bc",
   "metadata": {},
   "outputs": [
    {
     "name": "stdout",
     "output_type": "stream",
     "text": [
      "Alijon Valiyev. 1-bosqich talabasi \n",
      "Alijon Valiyev. 2-bosqich talabasi \n"
     ]
    }
   ],
   "source": [
    "talaba1 = Talaba(\"Alijon\",\"Valiyev\",2000)\n",
    "print(talaba1.get_info())\n",
    "\n",
    "talaba1.update_bosqich() # 1 bosqichga oshiramiz\n",
    "print(talaba1.get_info())"
   ]
  },
  {
   "cell_type": "code",
   "execution_count": 18,
   "id": "e1adf214-8a34-4a14-8295-77325266bb4c",
   "metadata": {},
   "outputs": [
    {
     "name": "stdout",
     "output_type": "stream",
     "text": [
      "Alijon Valiyev. 3-bosqich talabasi \n"
     ]
    }
   ],
   "source": [
    "talaba1.update_bosqich() # 1 bosqichga oshiramiz\n",
    "print(talaba1.get_info())"
   ]
  },
  {
   "cell_type": "code",
   "execution_count": 19,
   "id": "86fcc500-09b4-4f3e-b708-ed694cc533f7",
   "metadata": {},
   "outputs": [
    {
     "name": "stdout",
     "output_type": "stream",
     "text": [
      "Alijon Valiyev. 4-bosqich talabasi \n"
     ]
    }
   ],
   "source": [
    "talaba1.update_bosqich() # 1 bosqichga oshiramiz\n",
    "print(talaba1.get_info())"
   ]
  },
  {
   "cell_type": "markdown",
   "id": "6bb5d0af-bb1c-4f8c-9f7a-aa2a0b1249c8",
   "metadata": {},
   "source": [
    "OBYEKTLAR O'RTASIDA MUNOSABAT"
   ]
  },
  {
   "cell_type": "code",
   "execution_count": 20,
   "id": "5007703c-cc97-4ca2-9d3f-e548eec74da4",
   "metadata": {},
   "outputs": [],
   "source": [
    "class Fan():\n",
    "    def __init__(self,nomi):\n",
    "        self.nomi = nomi\n",
    "        self.talabalar_soni = 0\n",
    "        self.talabalar = []\n",
    "    \n",
    "    def add_student(self,talaba):\n",
    "        self.talabalar.append(talaba)\n",
    "        self.talabalar_soni += 1"
   ]
  },
  {
   "cell_type": "code",
   "execution_count": 30,
   "id": "ea411f28-0ae1-4e94-a7c8-e1b1bdbca0b5",
   "metadata": {},
   "outputs": [],
   "source": [
    "matematika = Fan(\"Oliy Matematika\")\n",
    "talaba1 = Talaba(\"Alijon\",\"Valiyev\",2000)\n",
    "talaba2 = Talaba(\"Hasan\",\"Alimov\",2001)\n",
    "talaba3 = Talaba(\"Akrom\",\"Boriyev\",2001)"
   ]
  },
  {
   "cell_type": "code",
   "execution_count": 31,
   "id": "29537737-6901-4ee1-8793-63207062a72b",
   "metadata": {},
   "outputs": [],
   "source": [
    "matematika.add_student(talaba1)\n",
    "matematika.add_student(talaba2)\n",
    "matematika.add_student(talaba3)"
   ]
  },
  {
   "cell_type": "code",
   "execution_count": 32,
   "id": "5bd69650-c29e-494c-94b8-2695cb9130a1",
   "metadata": {},
   "outputs": [
    {
     "name": "stdout",
     "output_type": "stream",
     "text": [
      "3\n"
     ]
    }
   ],
   "source": [
    "print(matematika.talabalar_soni)"
   ]
  },
  {
   "cell_type": "code",
   "execution_count": 33,
   "id": "8b873a44-4c53-4037-8831-3dfe06f951a3",
   "metadata": {},
   "outputs": [
    {
     "name": "stdout",
     "output_type": "stream",
     "text": [
      "[<__main__.Talaba object at 0x0000029CBDAEE1E0>, <__main__.Talaba object at 0x0000029CBDAEF2F0>, <__main__.Talaba object at 0x0000029CBDAEE150>]\n"
     ]
    }
   ],
   "source": [
    "print(matematika.talabalar)"
   ]
  },
  {
   "cell_type": "code",
   "execution_count": 34,
   "id": "5c59f7b2-a083-4e29-8913-6088a997ac05",
   "metadata": {},
   "outputs": [],
   "source": [
    "class Fan():\n",
    "    def __init__(self,nomi):\n",
    "        self.nomi = nomi\n",
    "        self.talabalar_soni = 0\n",
    "        self.talabalar = []\n",
    "    \n",
    "    def add_student(self,talaba):\n",
    "        self.talabalar.append(talaba)\n",
    "        self.talabalar_soni += 1\n",
    "    \n",
    "    def get_students(self):\n",
    "        return [talaba.get_info() for talaba in self.talabalar]"
   ]
  },
  {
   "cell_type": "markdown",
   "id": "d83ec218-bd9b-43b0-8683-d73e664cdaed",
   "metadata": {},
   "source": [
    "[talaba.get_info() for talaba in self.talabalar]\n",
    "\n",
    "Kodimizni tahlil qilsak, self.talabalar ichidagi har bir talaba uchun get_info() metodini bajar degan ma'no kelib chiqadi. Kodni kvadrat qavslar ichiga olganimiz uchun esa, har bir tsikl natijasi avtomat ravishda ro'yxatga qo'shib boriladi. "
   ]
  },
  {
   "cell_type": "code",
   "execution_count": 35,
   "id": "3933c838-c422-4102-bcf3-73960d56469a",
   "metadata": {},
   "outputs": [
    {
     "name": "stdout",
     "output_type": "stream",
     "text": [
      "['Alijon Valiyev. 1-bosqich talabasi ', 'Hasan Alimov. 1-bosqich talabasi ', 'Akrom Boriyev. 1-bosqich talabasi ']\n"
     ]
    }
   ],
   "source": [
    "mat_talabalar = matematika.get_students()\n",
    "print(mat_talabalar)"
   ]
  },
  {
   "cell_type": "markdown",
   "id": "5bb4c2b0-41a4-49f4-beec-fb03abb50c22",
   "metadata": {},
   "source": [
    "NUQTA YOKI METOD?"
   ]
  },
  {
   "cell_type": "markdown",
   "id": "1a354ab8-0835-4835-a264-6e43bc934c3c",
   "metadata": {},
   "source": [
    "Pythondagi obyketlarning o'ziga xos xususiyatlaridan biri, obyektning xususiyatiga nuqta orqali murojat qilish mumkin. Misol uchun avval yaratagn talaba1 obyektining ismini bilish uchun talaba1.ism deb yozish kifoya.\n",
    "\n",
    "Bu o'ziga yarasha qulay bo'lsada, bu usuldan foydalanmagan afzal. Sababi, vaqt o'tib klassingiz takomillashishi, uning ba'zi xususiyatlari o'zgarishi, o'chirilishi yoki almashtirilishi mumkin. Shunday holatlarda nuqta orqali murojat qilish siz kutgan natijani bermasligi va dastur xato ishlashiga olib kelishi mumkin. Bunday holatlarning oldini olish uchun esa, obyektning xususiyatlarini metod orqali olishni odat qilish tavsiya qilinadi. Huddi shu kabi, obyektning xususiyatlarini yangilash uchun ham alohida metodlar yozga afzal."
   ]
  },
  {
   "cell_type": "code",
   "execution_count": 36,
   "id": "4c255c50-d031-4489-9d96-63d4a86f7d4c",
   "metadata": {},
   "outputs": [],
   "source": [
    "class Talaba:\n",
    "    def __init__(self,ism,familiya,tyil):\n",
    "        self.ism = ism\n",
    "        self.familiya = familiya\n",
    "        self.tyil = tyil\n",
    "        self.bosqich = 1\n",
    "      \n",
    "    def set_bosqich(self,bosqich):\n",
    "        self.bosqich = bosqich\n",
    "        \n",
    "    def update_bosqich(self):\n",
    "        self.bosqich += 1    \n",
    "    \n",
    "    def get_info(self):\n",
    "        return f\"{self.ism} {self.familiya}. {self.bosqich}-bosqich talabasi \"\n",
    "    \n",
    "    def get_name(self):\n",
    "        return self.ism\n",
    "    \n",
    "    def get_lastname(self):\n",
    "        return self.familiya\n",
    "    \n",
    "    def get_fullname(self):\n",
    "        return f\"{self.ism} {self.familiya}\"\n",
    "    \n",
    "    def get_age(self,yil):\n",
    "        return yil-self.tyil"
   ]
  },
  {
   "cell_type": "markdown",
   "id": "e5f96727-abc9-4477-a1e1-0b28a1dfa1ed",
   "metadata": {},
   "source": [
    "Huddi shu kabi, Fan klassimizning yakuniy ko'rinishi quyidagicha bo'ladi:"
   ]
  },
  {
   "cell_type": "code",
   "execution_count": 41,
   "id": "02f3ad62-6224-42ec-b7dc-56710d6b275c",
   "metadata": {},
   "outputs": [],
   "source": [
    "class Fan():\n",
    "    def __init__(self,nomi):\n",
    "        self.nomi = nomi\n",
    "        self.talabalar_soni = 0\n",
    "        self.talabalar = []\n",
    "    \n",
    "    def add_student(self,talaba):\n",
    "        self.talabalar.append(talaba)\n",
    "        self.talabalar_soni += 1\n",
    "    \n",
    "    def get_name(self):\n",
    "        return self.nomi\n",
    "    \n",
    "    def get_students(self):\n",
    "        return [x.get_info() for x in self.talabalar]\n",
    "    \n",
    "    def get_students_num(self):\n",
    "        return self.talabalar_soni"
   ]
  },
  {
   "cell_type": "markdown",
   "id": "84f550ae-7467-491c-afef-7cc31cfe50e8",
   "metadata": {},
   "source": [
    "OBYEKTNING XUSUSIYATLARI VA METODLARINI KO'RISH"
   ]
  },
  {
   "cell_type": "markdown",
   "id": "fac52b0a-d62f-4542-879f-5965a5a2edc2",
   "metadata": {},
   "source": [
    "Obyektlar bilan ishlaganda, o'z-o'zidan shu obyektga tegishli xususiyatlar va metodlarni bilish talab qilinadi. Agar obyekt tegishli bo'lgan klassni o'zimiz yaratgan bo'lsak, istalgan payt klass ichini ko'rib olishimiz mumkin. Lekin boshqalar yaratgan klass haqida ma'lumot olish talab qilinsa, buning bir nechta yo'li bor.\n",
    "\n",
    "dir() FUNKSIYASI\n",
    "\n",
    "dir() funksiyasi yordamida istalgan obyekt yoki klassning xususiyatlari va metodlarini ko'rib olishimiz mumkin:"
   ]
  },
  {
   "cell_type": "code",
   "execution_count": 45,
   "id": "ab34b263-644f-4e2b-a2f1-f2cc3b8dd485",
   "metadata": {},
   "outputs": [
    {
     "data": {
      "text/plain": [
       "['__class__',\n",
       " '__delattr__',\n",
       " '__dict__',\n",
       " '__dir__',\n",
       " '__doc__',\n",
       " '__eq__',\n",
       " '__format__',\n",
       " '__ge__',\n",
       " '__getattribute__',\n",
       " '__getstate__',\n",
       " '__gt__',\n",
       " '__hash__',\n",
       " '__init__',\n",
       " '__init_subclass__',\n",
       " '__le__',\n",
       " '__lt__',\n",
       " '__module__',\n",
       " '__ne__',\n",
       " '__new__',\n",
       " '__reduce__',\n",
       " '__reduce_ex__',\n",
       " '__repr__',\n",
       " '__setattr__',\n",
       " '__sizeof__',\n",
       " '__str__',\n",
       " '__subclasshook__',\n",
       " '__weakref__',\n",
       " 'get_age',\n",
       " 'get_fullname',\n",
       " 'get_info',\n",
       " 'get_lastname',\n",
       " 'get_name',\n",
       " 'set_bosqich',\n",
       " 'update_bosqich']"
      ]
     },
     "execution_count": 45,
     "metadata": {},
     "output_type": "execute_result"
    }
   ],
   "source": [
    "dir(Talaba)"
   ]
  },
  {
   "cell_type": "markdown",
   "id": "cc1e9366-5e4a-4bb0-a913-7765877cc1d0",
   "metadata": {},
   "source": [
    "Lekin bunda har bir klass bilan keluvchi maxsus dunder metodlar ham chiqib keldi. Dunder metodlar ikki pastki chiziq (__) bilan boshlanadi va maxsus holatlar uchun saqlab qo'yilgan. Biz hozircha faqat __init__ metodi bilan tanishdik, qolganlari bilan keyingi darslarimizda yana ko'rishamiz. Dunder metodlardan keyin esa biz murojat qilishimiz mumkin bo'lgan metodlar ro'yxati kelgan."
   ]
  },
  {
   "cell_type": "markdown",
   "id": "23ba20e2-3e60-4f79-810b-9fcbed7cb3bc",
   "metadata": {},
   "source": [
    "Dunder — double underscore (ikki pastki chiziq) so'zlarining qisqartmasi."
   ]
  },
  {
   "cell_type": "markdown",
   "id": "89742084-167a-4d2e-87fe-e529566c5238",
   "metadata": {},
   "source": [
    "Keling dunder metodlarni tashlab, bizga kerak metodlarni qaytaruvchi sodda funksiya yozamiz:"
   ]
  },
  {
   "cell_type": "code",
   "execution_count": 46,
   "id": "b81969fc-72e7-4f53-9d6e-959d9dc80152",
   "metadata": {},
   "outputs": [
    {
     "name": "stdout",
     "output_type": "stream",
     "text": [
      "['get_age', 'get_fullname', 'get_info', 'get_lastname', 'get_name', 'set_bosqich', 'update_bosqich']\n"
     ]
    }
   ],
   "source": [
    "def see_methods(klass):\n",
    "    return [method for method in dir(klass) if method.startswith('__') is False]\n",
    "\n",
    "print(see_methods(Talaba))"
   ]
  },
  {
   "cell_type": "code",
   "execution_count": 47,
   "id": "be813f32-792f-494d-a3ee-50c7daf2bbec",
   "metadata": {},
   "outputs": [
    {
     "name": "stdout",
     "output_type": "stream",
     "text": [
      "['bosqich', 'familiya', 'get_age', 'get_fullname', 'get_info', 'get_lastname', 'get_name', 'ism', 'set_bosqich', 'tyil', 'update_bosqich']\n"
     ]
    }
   ],
   "source": [
    "print(see_methods(talaba1))"
   ]
  },
  {
   "cell_type": "markdown",
   "id": "bcf58c92-759e-4252-9832-4bd08cbc9562",
   "metadata": {},
   "source": [
    "__dict__ METODI\n",
    "Yuqorida zikr qilingan dunder metodlardan biri bu __dict__ metodi bo'lib, bu metod obyketning xususiyatlarini lug'at ko'rinishida qaytaradi:"
   ]
  },
  {
   "cell_type": "code",
   "execution_count": 48,
   "id": "9e96593d-94fb-48e6-a968-e0b572d88aa6",
   "metadata": {},
   "outputs": [
    {
     "name": "stdout",
     "output_type": "stream",
     "text": [
      "{'ism': 'Alijon', 'familiya': 'Valiyev', 'tyil': 2000, 'bosqich': 1}\n"
     ]
    }
   ],
   "source": [
    "print(talaba1.__dict__)"
   ]
  },
  {
   "cell_type": "code",
   "execution_count": 50,
   "id": "f01dd75e-9e6b-49a0-b62b-5a1412eeacbd",
   "metadata": {},
   "outputs": [
    {
     "name": "stdout",
     "output_type": "stream",
     "text": [
      "dict_keys(['ism', 'familiya', 'tyil', 'bosqich'])\n"
     ]
    }
   ],
   "source": [
    "print(talaba1.__dict__.keys())"
   ]
  },
  {
   "cell_type": "markdown",
   "id": "d5b26195-d748-4224-a185-a88ea84acd3e",
   "metadata": {},
   "source": [
    " ## Amaliyot"
   ]
  },
  {
   "cell_type": "markdown",
   "id": "fe3b5c7e-12b7-4ce3-9982-342806ea9242",
   "metadata": {},
   "source": [
    "1. Avto degan yangi klass yarating. Unga avtomobillarga doir bo'lgan bir nechta xususiyatlar (model, rang, korobka, narh va hokazo) qo'shing. Ayrim xususiyatlarga standart qiymat bering (masalan, kilometer=0)"
   ]
  },
  {
   "cell_type": "code",
   "execution_count": 57,
   "id": "56f88fa3-97ab-47fa-9140-9160b0d031d9",
   "metadata": {},
   "outputs": [],
   "source": [
    "class Avto:\n",
    "    def __init__(self, model, rang, korobka, narh):\n",
    "        self.model = model\n",
    "        self.rang = rang\n",
    "        self.korobka = korobka\n",
    "        self.narh = narh\n",
    "        self.kilometr = 0"
   ]
  },
  {
   "cell_type": "markdown",
   "id": "ad40eaa1-b892-45ab-a908-07ff2729cb33",
   "metadata": {},
   "source": [
    "2. Avto ga oid obyektning xususiyatlarini qaytaradigan metodlar yozing get_info() metodi avti haqida to'liq ma'lumotni matn ko'rinishida qaytarsin"
   ]
  },
  {
   "cell_type": "code",
   "execution_count": 58,
   "id": "396c208e-6a97-4100-9970-110bfae21812",
   "metadata": {},
   "outputs": [],
   "source": [
    "class Avto:\n",
    "    def __init__(self, model, rang, korobka, narh):\n",
    "        self.model = model\n",
    "        self.rang = rang\n",
    "        self.korobka = korobka\n",
    "        self.narh = narh\n",
    "        self.kilometr = 0\n",
    "    def get_info(self):\n",
    "        return f\"Model: {self.model}, \\n Rang: {self.rang}, \\n Korobka: {self.korobka}, \\n Narhi: {self.narh} $, \\n Kilometri: {self.kilometr}\""
   ]
  },
  {
   "cell_type": "code",
   "execution_count": 59,
   "id": "ca3ee5cb-b4d0-4d51-9211-edefa92599d5",
   "metadata": {},
   "outputs": [
    {
     "name": "stdout",
     "output_type": "stream",
     "text": [
      "Model: Gentra, \n",
      " Rang: Oq, \n",
      " Korobka: Chevrolet, \n",
      " Narhi: 13000 $, \n",
      " Kilometri: 0\n"
     ]
    }
   ],
   "source": [
    "avto1 = Avto('Gentra', 'Oq', 'Chevrolet', 13000)\n",
    "print(avto1.get_info())"
   ]
  },
  {
   "cell_type": "markdown",
   "id": "4b069ad1-816b-4554-a521-64fb90b1a437",
   "metadata": {},
   "source": [
    "3. Avto ga oid obyektning xususiyatlarini yangilaydigan metodlar yozing. update_km() metodi son qabul qilib olib, avtomobilning yurgan kilometrajini yangilab borsin"
   ]
  },
  {
   "cell_type": "code",
   "execution_count": 63,
   "id": "5f4b57cb-7a2e-4851-9bed-7312f246062d",
   "metadata": {},
   "outputs": [],
   "source": [
    "class Avto:\n",
    "    def __init__(self, model, rang, korobka, narh):\n",
    "        self.model = model\n",
    "        self.rang = rang\n",
    "        self.korobka = korobka\n",
    "        self.narh = narh\n",
    "        self.kilometr = 0\n",
    "    def set_km(self, kilometr):\n",
    "        self.kilometr = kilometr\n",
    "        \n",
    "    def update_km(self):\n",
    "        self.kilometr += 100\n",
    "        \n",
    "    def get_info(self):\n",
    "        return f\"Model: {self.model}, \\n Rang: {self.rang}, \\n Korobka: {self.korobka}, \\n Narhi: {self.narh} $, \\n Kilometri: {self.kilometr} km\""
   ]
  },
  {
   "cell_type": "code",
   "execution_count": 68,
   "id": "28ecd64f-55ad-4b14-b383-d2d77417203c",
   "metadata": {},
   "outputs": [
    {
     "name": "stdout",
     "output_type": "stream",
     "text": [
      "Model: Gentra, \n",
      " Rang: Oq, \n",
      " Korobka: Chevrolet, \n",
      " Narhi: 13000 $, \n",
      " Kilometri: 0 km\n"
     ]
    }
   ],
   "source": [
    "avto1 = Avto('Gentra', 'Oq', 'Chevrolet', 13000)\n",
    "print(avto1.get_info())"
   ]
  },
  {
   "cell_type": "code",
   "execution_count": 69,
   "id": "6895d57d-885a-4121-b822-dbf8455f94ef",
   "metadata": {},
   "outputs": [
    {
     "name": "stdout",
     "output_type": "stream",
     "text": [
      "Model: Gentra, \n",
      " Rang: Oq, \n",
      " Korobka: Chevrolet, \n",
      " Narhi: 13000 $, \n",
      " Kilometri: 100 km\n"
     ]
    }
   ],
   "source": [
    "avto1.update_km() # 100 km bo'ladi\n",
    "print(avto1.get_info())"
   ]
  },
  {
   "cell_type": "code",
   "execution_count": 70,
   "id": "cfd9eb00-6674-4103-9229-3aec792ef696",
   "metadata": {},
   "outputs": [
    {
     "name": "stdout",
     "output_type": "stream",
     "text": [
      "Model: Gentra, \n",
      " Rang: Oq, \n",
      " Korobka: Chevrolet, \n",
      " Narhi: 13000 $, \n",
      " Kilometri: 200 km\n"
     ]
    }
   ],
   "source": [
    "avto1.update_km() # 200 km bo'ladi\n",
    "print(avto1.get_info())"
   ]
  },
  {
   "cell_type": "markdown",
   "id": "7ebc9d8b-e0dc-42d9-84de-89dd64625871",
   "metadata": {},
   "source": [
    "4. Yangi, Avtosalon degan klass yarating va kerakli xususiyatlar bilan to'ldiring (salon nomi, manzili, sotuvdagi avtomobillar va hokazo)"
   ]
  },
  {
   "cell_type": "code",
   "execution_count": 71,
   "id": "01e6c993-c5eb-458d-b47a-5cf41da0933c",
   "metadata": {},
   "outputs": [],
   "source": [
    "class Avtosalon:\n",
    "    def __init__(self, nomi, manzil, s_avtolar):\n",
    "        self.nomi = nomi\n",
    "        self.mazil = manzil\n",
    "        self.s_avtolar = s_avtolar\n",
    "        avtomobillar = []"
   ]
  },
  {
   "cell_type": "markdown",
   "id": "90b3a2fe-73cb-4e43-80d6-63d02b5053c1",
   "metadata": {},
   "source": [
    "5. Avtosalonga yangi avtomobillar qo'shish uchun metod yozing\n",
    "6. Avtosalondagi avtomobillar haqida ma'lumot qaytaruvchi metod yozing\n",
    "7. Yuqoridagi obyektlar va ularga tegishli metodlarni tekshirib ko'ring"
   ]
  },
  {
   "cell_type": "code",
   "execution_count": 87,
   "id": "77cbe2a4-460a-4398-8856-27f7cddfa10c",
   "metadata": {},
   "outputs": [],
   "source": [
    "class Avtosalon:\n",
    "    def __init__(self, nomi, manzil):\n",
    "        self.nomi = nomi\n",
    "        self.mazil = manzil\n",
    "        self.avtomobillar = []\n",
    "        self.soni = 0\n",
    "\n",
    "    def add_avto(self, avto):\n",
    "        self.avtomobillar.append(avto)\n",
    "        self.soni += 1\n",
    "\n",
    "    def get_name(self):\n",
    "        return self.nomi\n",
    "    \n",
    "    def get_avtolar(self):\n",
    "        return [a.get_info() for a in self.avtomobillar]\n",
    "    \n",
    "    def get_son(self):\n",
    "        return self.soni"
   ]
  },
  {
   "cell_type": "code",
   "execution_count": 88,
   "id": "c11e9bff-0ff2-4421-9f43-0b41f20685b9",
   "metadata": {},
   "outputs": [],
   "source": [
    "avtosalon = Avtosalon('Chevrolet', 'Samarqand v')\n",
    "avto1 = Avto('Gentra', 'Oq', 'Chevrolet', 13000)\n",
    "avto2 = Avto('Nexia', 'Oq', 'Chevrolet', 8000)\n",
    "avto3 = Avto('Nexia 3', 'Qora', 'Chevrolet', 11000)"
   ]
  },
  {
   "cell_type": "code",
   "execution_count": 89,
   "id": "2727a6c7-8f06-4ec3-aa6f-b643bb15a5b6",
   "metadata": {},
   "outputs": [],
   "source": [
    "avtosalon.add_avto(avto1)\n",
    "avtosalon.add_avto(avto2)\n",
    "avtosalon.add_avto(avto3)"
   ]
  },
  {
   "cell_type": "code",
   "execution_count": 95,
   "id": "d69941c8-22eb-4ff0-87cc-fede0b9a9d8a",
   "metadata": {},
   "outputs": [
    {
     "name": "stdout",
     "output_type": "stream",
     "text": [
      "['Model: Gentra, \\n Rang: Oq, \\n Korobka: Chevrolet, \\n Narhi: 13000 $, \\n Kilometri: 0 km', 'Model: Nexia, \\n Rang: Oq, \\n Korobka: Chevrolet, \\n Narhi: 8000 $, \\n Kilometri: 0 km', 'Model: Nexia 3, \\n Rang: Qora, \\n Korobka: Chevrolet, \\n Narhi: 11000 $, \\n Kilometri: 0 km']\n"
     ]
    }
   ],
   "source": [
    "print(avtosalon.get_avtolar())"
   ]
  },
  {
   "cell_type": "code",
   "execution_count": 98,
   "id": "70956ad6-4f3a-4965-aecd-c44e8172f062",
   "metadata": {},
   "outputs": [
    {
     "name": "stdout",
     "output_type": "stream",
     "text": [
      "{'model': 'Nexia', 'rang': 'Oq', 'korobka': 'Chevrolet', 'narh': 8000, 'kilometr': 0}\n"
     ]
    }
   ],
   "source": [
    "print(avto2.__dict__)"
   ]
  },
  {
   "cell_type": "code",
   "execution_count": 101,
   "id": "91d414fb-69b5-4d27-aa67-d9b1b5efdfd2",
   "metadata": {},
   "outputs": [
    {
     "name": "stdout",
     "output_type": "stream",
     "text": [
      "[<__main__.Avto object at 0x0000029CBDB34170>, <__main__.Avto object at 0x0000029CBDB35610>, <__main__.Avto object at 0x0000029CBD147B60>]\n"
     ]
    }
   ],
   "source": [
    "print(avtosalon.avtomobillar)"
   ]
  },
  {
   "cell_type": "code",
   "execution_count": 102,
   "id": "c0b18c4a-42a7-4550-b9e5-2a34d06d0a85",
   "metadata": {},
   "outputs": [
    {
     "name": "stdout",
     "output_type": "stream",
     "text": [
      "3\n"
     ]
    }
   ],
   "source": [
    "print(avtosalon.get_son())"
   ]
  },
  {
   "cell_type": "markdown",
   "id": "c192e0ec-8fab-4119-b1af-5c35faf1d688",
   "metadata": {},
   "source": [
    "8. dir() funksyasi va __dict__ metodi yordamida o'zingiz yozgan va Pythondagi turli klass va obyektlarning xususiyatlari va metodlarini toping (dir(str), dir(int) va hokazo)"
   ]
  },
  {
   "cell_type": "code",
   "execution_count": 103,
   "id": "6884d03a-b8c7-4dd4-9b58-2f0a1ff52817",
   "metadata": {},
   "outputs": [
    {
     "data": {
      "text/plain": [
       "['__class__',\n",
       " '__delattr__',\n",
       " '__dict__',\n",
       " '__dir__',\n",
       " '__doc__',\n",
       " '__eq__',\n",
       " '__format__',\n",
       " '__ge__',\n",
       " '__getattribute__',\n",
       " '__getstate__',\n",
       " '__gt__',\n",
       " '__hash__',\n",
       " '__init__',\n",
       " '__init_subclass__',\n",
       " '__le__',\n",
       " '__lt__',\n",
       " '__module__',\n",
       " '__ne__',\n",
       " '__new__',\n",
       " '__reduce__',\n",
       " '__reduce_ex__',\n",
       " '__repr__',\n",
       " '__setattr__',\n",
       " '__sizeof__',\n",
       " '__str__',\n",
       " '__subclasshook__',\n",
       " '__weakref__',\n",
       " 'add_avto',\n",
       " 'get_avtolar',\n",
       " 'get_name',\n",
       " 'get_son']"
      ]
     },
     "execution_count": 103,
     "metadata": {},
     "output_type": "execute_result"
    }
   ],
   "source": [
    "dir(Avtosalon)"
   ]
  },
  {
   "cell_type": "code",
   "execution_count": 105,
   "id": "d540e3f7-765b-4e79-a544-67de4ee7068a",
   "metadata": {},
   "outputs": [
    {
     "name": "stdout",
     "output_type": "stream",
     "text": [
      "{'model': 'Nexia 3', 'rang': 'Qora', 'korobka': 'Chevrolet', 'narh': 11000, 'kilometr': 0}\n"
     ]
    }
   ],
   "source": [
    "print(avto3.__dict__)"
   ]
  },
  {
   "cell_type": "code",
   "execution_count": 107,
   "id": "c6ca820e-6a13-428b-9691-b89b0a921b01",
   "metadata": {},
   "outputs": [
    {
     "name": "stdout",
     "output_type": "stream",
     "text": [
      "dict_keys(['model', 'rang', 'korobka', 'narh', 'kilometr'])\n"
     ]
    }
   ],
   "source": [
    "print(avto3.__dict__.keys())"
   ]
  },
  {
   "cell_type": "code",
   "execution_count": 108,
   "id": "05011a45-44c0-4d42-bf14-fb3d65347e8e",
   "metadata": {},
   "outputs": [
    {
     "name": "stdout",
     "output_type": "stream",
     "text": [
      "['add_avto', 'get_avtolar', 'get_name', 'get_son']\n"
     ]
    }
   ],
   "source": [
    "def see_methods(klass):\n",
    "    return [method for method in dir(klass) if method.startswith('__') is False]\n",
    "\n",
    "print(see_methods(Avtosalon))"
   ]
  },
  {
   "cell_type": "code",
   "execution_count": null,
   "id": "dbc7b873-6e45-4e5d-933f-00a08ea0f9d5",
   "metadata": {},
   "outputs": [],
   "source": []
  }
 ],
 "metadata": {
  "kernelspec": {
   "display_name": "Python 3 (ipykernel)",
   "language": "python",
   "name": "python3"
  },
  "language_info": {
   "codemirror_mode": {
    "name": "ipython",
    "version": 3
   },
   "file_extension": ".py",
   "mimetype": "text/x-python",
   "name": "python",
   "nbconvert_exporter": "python",
   "pygments_lexer": "ipython3",
   "version": "3.12.1"
  }
 },
 "nbformat": 4,
 "nbformat_minor": 5
}
