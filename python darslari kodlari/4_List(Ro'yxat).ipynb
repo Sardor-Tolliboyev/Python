{
 "cells": [
  {
   "cell_type": "code",
   "execution_count": 1,
   "id": "ee5290dd-0940-43dc-b2e7-a4e13dbe998d",
   "metadata": {},
   "outputs": [],
   "source": [
    "#List(Ro'yxat)"
   ]
  },
  {
   "cell_type": "code",
   "execution_count": 2,
   "id": "ffe34310-fb2d-4ebe-9ecd-85acb2e55849",
   "metadata": {},
   "outputs": [],
   "source": [
    "mevalar = ['olma', 'anjir', 'shaftoli', \"o'rik\"] # mevalar ro'yxati (matnlar)\n",
    "narhlar = [12000, 18000, 10900, 22000] # narhlar ro'yxati (sonlar)\n",
    "sonlar = ['bir', 'ikki', 3, 4, 5] # sonlar va matnlar aralash ro'yxat\n",
    "ismlar = [] # bo'sh ro'yxat"
   ]
  },
  {
   "cell_type": "code",
   "execution_count": 3,
   "id": "4697b93a-a48c-4dbc-a050-e6490dd499ba",
   "metadata": {},
   "outputs": [
    {
     "name": "stdout",
     "output_type": "stream",
     "text": [
      "Birinchi meva:  olma\n",
      "Ikkinchi meva:  o'rik\n"
     ]
    }
   ],
   "source": [
    "mevalar = ['olma', 'anjir', 'shaftoli', \"o'rik\"] # mevalar ro'yxati (matnlar)\n",
    "print(\"Birinchi meva: \", mevalar[0])\n",
    "print(\"Ikkinchi meva: \", mevalar[3])"
   ]
  },
  {
   "cell_type": "code",
   "execution_count": 4,
   "id": "df794b5f-a033-4bc2-ba81-c500b97c00d4",
   "metadata": {},
   "outputs": [
    {
     "name": "stdout",
     "output_type": "stream",
     "text": [
      "Birinchi meva:  Olma\n",
      "Ikkinchi meva:  ANJIR\n"
     ]
    }
   ],
   "source": [
    "mevalar = ['olma', 'anjir', 'shaftoli', \"o'rik\"] # mevalar ro'yxati (matnlar)\n",
    "print(\"Birinchi meva: \", mevalar[0].title())\n",
    "print(\"Ikkinchi meva: \", mevalar[1].upper())"
   ]
  },
  {
   "cell_type": "code",
   "execution_count": 5,
   "id": "a9837719-2d3d-4d4c-989e-df6c5cbe1530",
   "metadata": {},
   "outputs": [
    {
     "name": "stdout",
     "output_type": "stream",
     "text": [
      "32900\n"
     ]
    }
   ],
   "source": [
    "narhlar = [12000, 18000, 10900, 22000]\n",
    "print(narhlar[2] + narhlar[3])"
   ]
  },
  {
   "cell_type": "code",
   "execution_count": 6,
   "id": "d79fa3ab-626a-4d94-8172-745065beccbc",
   "metadata": {},
   "outputs": [
    {
     "name": "stdout",
     "output_type": "stream",
     "text": [
      "Kia\n"
     ]
    }
   ],
   "source": [
    "car_models = ['Toyota', 'GM', 'Volvo', 'BMW', 'Hyundai', 'Kia', 'Volkswagen']\n",
    "print(car_models[-2]) # Listning eng oxirgi elementiga -1 bilan murojat qilamiz "
   ]
  },
  {
   "cell_type": "code",
   "execution_count": 7,
   "id": "9886d968-459a-463e-80f3-b656074e4eb0",
   "metadata": {},
   "outputs": [
    {
     "name": "stdout",
     "output_type": "stream",
     "text": [
      "[13000, 18000, 11000, 24000]\n"
     ]
    }
   ],
   "source": [
    "narhlar = [12000, 18000, 10900, 22000]\n",
    "narhlar[0] = 13000 # 1-qiymatni 13000 ga o'zgartiramiz\n",
    "narhlar[2] = 11000 # 3-qiymatni 11000 ga o'zgartiramiz\n",
    "narhlar[3] = narhlar[3]+2000 # 4-qiymatga 2000 qo'shamiz\n",
    "print(narhlar)"
   ]
  },
  {
   "cell_type": "code",
   "execution_count": 8,
   "id": "24992ed2-e912-43dd-90a0-1f8f4a6e941c",
   "metadata": {},
   "outputs": [
    {
     "name": "stdout",
     "output_type": "stream",
     "text": [
      "['olma', 'anjir', 'shaftoli', \"o'rik\", 'tarvuz']\n"
     ]
    }
   ],
   "source": [
    "mevalar = ['olma', 'anjir', 'shaftoli', \"o'rik\"]\n",
    "mevalar.append(\"tarvuz\") # mevalar ga tarvuz qo'shamiz\n",
    "print(mevalar)"
   ]
  },
  {
   "cell_type": "code",
   "execution_count": 9,
   "id": "d4150817-0101-4b6e-9211-d2075a978890",
   "metadata": {},
   "outputs": [
    {
     "name": "stdout",
     "output_type": "stream",
     "text": [
      "['Lacetti', 'Nexia 3', 'Cobalt']\n"
     ]
    }
   ],
   "source": [
    "cars = [] # bo'sh ro'yxat yaratamiz\n",
    "cars.append('Lacetti') # ro'yxatga Lacetti mashinasini qo'shamiz\n",
    "cars.append('Nexia 3') # ro'yxatga Nexia 3 mashinasini qo'shamiz\n",
    "cars.append('Cobalt')  # ro'yxatga Cobalt  mashinasini qo'shamiz\n",
    "print(cars)"
   ]
  },
  {
   "cell_type": "code",
   "execution_count": 10,
   "id": "daee980b-e8de-408c-bcc5-252842e523d0",
   "metadata": {},
   "outputs": [
    {
     "name": "stdout",
     "output_type": "stream",
     "text": [
      "['Malibu', 'Lacetti', 'Nexia 3', 'Cobalt']\n"
     ]
    }
   ],
   "source": [
    "cars = ['Lacetti', 'Nexia 3', 'Cobalt']\n",
    "cars.insert(0, 'Malibu') # 1-o'ringa yangi qiymat qo'shamiz\n",
    "print(cars)"
   ]
  },
  {
   "cell_type": "code",
   "execution_count": 11,
   "id": "391f78fe-5662-4a84-988f-3f77916ef320",
   "metadata": {},
   "outputs": [
    {
     "name": "stdout",
     "output_type": "stream",
     "text": [
      "['Malibu', 'Lacetti', 'Damas', 'Nexia 3', 'Cobalt']\n"
     ]
    }
   ],
   "source": [
    "cars.insert(2, 'Damas') # 3-o'ringa yangi qiymat qo'shamiz\n",
    "print(cars)"
   ]
  },
  {
   "cell_type": "code",
   "execution_count": 12,
   "id": "7d192ec7-c5fe-4f06-8dbd-5f5fe092bad7",
   "metadata": {},
   "outputs": [
    {
     "name": "stdout",
     "output_type": "stream",
     "text": [
      "['olma', 'shaftoli', \"o'rik\", 'anor']\n"
     ]
    }
   ],
   "source": [
    "mevalar = ['olma', 'anjir', 'shaftoli', \"o'rik\", 'anor']\n",
    "del mevalar[1] # 2-element (anjir) ni o'chirib tashlaymiz\n",
    "print(mevalar)"
   ]
  },
  {
   "cell_type": "code",
   "execution_count": 13,
   "id": "095fb9f4-4160-437a-8afa-302de5491669",
   "metadata": {},
   "outputs": [
    {
     "name": "stdout",
     "output_type": "stream",
     "text": [
      "['olma', 'anjir', \"o'rik\", 'anor']\n"
     ]
    }
   ],
   "source": [
    "mevalar = ['olma', 'anjir', 'shaftoli', \"o'rik\", 'anor']\n",
    "mevalar.remove('shaftoli') # Ro'yxatdan shaftolini o'chirdik\n",
    "print(mevalar)"
   ]
  },
  {
   "cell_type": "code",
   "execution_count": 14,
   "id": "4eb8679c-7329-4ae3-a7d1-6c59e51bf4c5",
   "metadata": {},
   "outputs": [
    {
     "name": "stdout",
     "output_type": "stream",
     "text": [
      "['it', 'sigir', \"qo'y\", 'quyon', 'mushuk']\n"
     ]
    }
   ],
   "source": [
    "hayvonlar = ['it', 'mushuk', 'sigir', 'qo\\'y', 'quyon', 'mushuk']\n",
    "hayvonlar.remove(\"mushuk\") # Ro'yxatda 2 ta mushuk bor, ulardan birinchisi o'chadi\n",
    "print(hayvonlar)"
   ]
  },
  {
   "cell_type": "code",
   "execution_count": 15,
   "id": "b3d0f0b4-066e-4bd7-98ab-64194650266a",
   "metadata": {},
   "outputs": [
    {
     "name": "stdout",
     "output_type": "stream",
     "text": [
      "Men banan sotib oldim\n",
      "Olinmagan mahsulotlar:  [\"yog'\", 'un', 'piyoz', \"go'sht\"]\n"
     ]
    }
   ],
   "source": [
    "bozorlik = [\"yog'\", 'un', 'piyoz', 'banan', \"go'sht\"]\n",
    "mahsulot = bozorlik.pop(3) # Ro'yxatdan banan ni sug'urib olamiz\n",
    "print(\"Men \" + mahsulot + \" sotib oldim\")\n",
    "print(\"Olinmagan mahsulotlar: \", bozorlik)"
   ]
  },
  {
   "cell_type": "code",
   "execution_count": 16,
   "id": "1f67490b-2030-40eb-8805-25f4481e4312",
   "metadata": {},
   "outputs": [],
   "source": [
    "#Amaliyot"
   ]
  },
  {
   "cell_type": "code",
   "execution_count": 17,
   "id": "8fa6efff-c66c-4538-8ee3-8b0ff2f14a31",
   "metadata": {},
   "outputs": [],
   "source": [
    "# ismlar degan ro'yxat yarating va kamida 3 ta yaqin do'stingizning ismini kiriting"
   ]
  },
  {
   "cell_type": "code",
   "execution_count": 18,
   "id": "4766ab24-5f71-49c1-8b2a-2941eb8f662c",
   "metadata": {},
   "outputs": [],
   "source": [
    "ismlar=['Aziz', 'Dilshod', 'Asadbek']"
   ]
  },
  {
   "cell_type": "code",
   "execution_count": 19,
   "id": "8eadd018-679f-4f00-b5de-1f6ffc2caf99",
   "metadata": {},
   "outputs": [],
   "source": [
    "# Ro'yxatdagi har bir do'stingizga qisqa xabar yozib konsolga chiqaring:"
   ]
  },
  {
   "cell_type": "code",
   "execution_count": 20,
   "id": "21f4af44-1277-42c8-b8ab-cdd8ad805007",
   "metadata": {},
   "outputs": [
    {
     "name": "stdout",
     "output_type": "stream",
     "text": [
      "Salom  Aziz  bugun choyxona bormi?\n",
      "Asadbek , choyxonaga boramizmi?\n"
     ]
    }
   ],
   "source": [
    "print(\"Salom \", ismlar[0], \" bugun choyxona bormi?\")\n",
    "print(ismlar[2], \", choyxonaga boramizmi?\")"
   ]
  },
  {
   "cell_type": "code",
   "execution_count": 22,
   "id": "f21240bd-75bf-444b-926e-e457aca828c9",
   "metadata": {},
   "outputs": [],
   "source": [
    "# sonlar deb nomlangan ro'yxat yarating va ichiga turli sonlarni yuklang (musbat, manﬁy, butun, o'nlik)."
   ]
  },
  {
   "cell_type": "code",
   "execution_count": 23,
   "id": "18f3a662-474c-486b-8279-476934b67ae4",
   "metadata": {},
   "outputs": [],
   "source": [
    "sonlar=[10, -7, 84, 87, 0]"
   ]
  },
  {
   "cell_type": "code",
   "execution_count": 24,
   "id": "af1982a9-92ee-465e-9f29-64bb8bd17999",
   "metadata": {},
   "outputs": [
    {
     "name": "stdout",
     "output_type": "stream",
     "text": [
      "[10, 171, 84, 87, 0]\n"
     ]
    }
   ],
   "source": [
    "sonlar[1]=sonlar[3]+sonlar[2]\n",
    "print(sonlar)"
   ]
  },
  {
   "cell_type": "code",
   "execution_count": 26,
   "id": "ab4b7737-3f04-4491-9f5d-dcbe43c334ba",
   "metadata": {},
   "outputs": [],
   "source": [
    "# Yuqoridagi ro'yxatdagi sonlar ustida turli arifmetik amallar bajarib ko'ring. Ro'yxatdagi ba'zi\n",
    "# sonlarning qiymatini o'zgartiring, ba'zilarini esa almashtiring."
   ]
  },
  {
   "cell_type": "code",
   "execution_count": 25,
   "id": "9b22db9d-613e-49e1-8049-de2e7bd853f4",
   "metadata": {},
   "outputs": [
    {
     "name": "stdout",
     "output_type": "stream",
     "text": [
      "255\n"
     ]
    }
   ],
   "source": [
    "print(sonlar[1]+sonlar[2])"
   ]
  },
  {
   "cell_type": "code",
   "execution_count": 28,
   "id": "a0b2e70b-e120-45af-86d1-75b03273df50",
   "metadata": {},
   "outputs": [
    {
     "name": "stdout",
     "output_type": "stream",
     "text": [
      "Men tarixiy shaxslardan  Alpomish bilan, zamonaviy shaxslardan esa Ronaldo suhbat qilishni istar edim\n"
     ]
    }
   ],
   "source": [
    "print('Men tarixiy shaxslardan ', t_shaxslar.pop(1), 'bilan, zamonaviy shaxslardan esa', z_shaxslar.pop(0), 'suhbat qilishni istar edim')"
   ]
  },
  {
   "cell_type": "code",
   "execution_count": 27,
   "id": "0c2e446b-6f5e-4608-bef2-f85999a5f680",
   "metadata": {},
   "outputs": [],
   "source": [
    "t_shaxslar=['Alisher Navoiy', 'Alpomish']\n",
    "z_shaxslar=['Ronaldo', 'Messi']"
   ]
  },
  {
   "cell_type": "code",
   "execution_count": 29,
   "id": "0a31bda2-562a-413b-a59f-7d3198475585",
   "metadata": {},
   "outputs": [],
   "source": [
    "# t_shaxslar va z_shaxslar degan 2 ta ro'yxat yarating va biriga o'zingiz eng ko'p hurmat qilgan tarixiy shaxslarning, ikkinchisiga esa zamonamizdagi tirik bo'lgan shaxslarning ismini kiriting."
   ]
  },
  {
   "cell_type": "code",
   "execution_count": 36,
   "id": "315b134e-1486-4f1e-8f62-e41bb46da436",
   "metadata": {},
   "outputs": [],
   "source": [
    "friends=[]"
   ]
  },
  {
   "cell_type": "code",
   "execution_count": 37,
   "id": "e574b7aa-e6a7-4397-990e-cd345e888713",
   "metadata": {},
   "outputs": [
    {
     "name": "stdout",
     "output_type": "stream",
     "text": [
      "['Asadbek', 'Dilshod', 'Ilhom', 'Ramziddin', 'Otabek', 'Sharof', 'Suxrob']\n"
     ]
    }
   ],
   "source": [
    "friends.append('Asadbek')\n",
    "friends.append('Dilshod')\n",
    "friends.append('Ilhom')\n",
    "friends.append('Ramziddin')\n",
    "friends.append('Otabek')\n",
    "friends.append('Sharof')\n",
    "friends.append('Suxrob')\n",
    "print(friends)"
   ]
  },
  {
   "cell_type": "code",
   "execution_count": 38,
   "id": "d9f7c52d-df3e-4030-b088-8a3b0fc71c80",
   "metadata": {},
   "outputs": [],
   "source": [
    "# Yuqoridagi ro'yxatdan mehmonga kela olmaydigan odamlarni .remove() metodi yordamida o'chrib tashlang."
   ]
  },
  {
   "cell_type": "code",
   "execution_count": 39,
   "id": "6fd0903a-a1b6-4951-838d-2a8c1372695f",
   "metadata": {},
   "outputs": [
    {
     "name": "stdout",
     "output_type": "stream",
     "text": [
      "to'yimga shu do'stlarim keloladi  ['Asadbek', 'Ilhom', 'Ramziddin', 'Otabek', 'Sharof']\n"
     ]
    }
   ],
   "source": [
    "friends.remove('Dilshod')\n",
    "friends.remove('Suxrob')\n",
    "print(\"to'yimga shu do'stlarim keloladi \", friends)"
   ]
  },
  {
   "cell_type": "code",
   "execution_count": 40,
   "id": "662378a2-cbd7-49d2-af4b-542ea9584e58",
   "metadata": {},
   "outputs": [],
   "source": [
    "# Ro'yxatning oxiriga, boshiga va o'rtasiga yangi ismlar qo'shing."
   ]
  },
  {
   "cell_type": "code",
   "execution_count": 41,
   "id": "c343b13f-ea07-488a-8f14-4d66901eb668",
   "metadata": {},
   "outputs": [
    {
     "name": "stdout",
     "output_type": "stream",
     "text": [
      "['Jasur', 'Asadbek', 'Ilhom', 'Ramziddin', 'Shodiyor', 'Otabek', 'Sharof', \"o'zim\"]\n"
     ]
    }
   ],
   "source": [
    "friends.insert(0, \"Jasur\")\n",
    "friends.insert(4, \"Shodiyor\")\n",
    "friends.insert(8, \"o'zim\")\n",
    "print(friends)"
   ]
  },
  {
   "cell_type": "code",
   "execution_count": 42,
   "id": "00709d40-fc6b-4b04-b504-dd2182e00045",
   "metadata": {},
   "outputs": [],
   "source": [
    "# Yangi mehmonlar deb nomlangan bo'sh ro'yxat yarating. \n",
    "# .pop() va .append() metodlari yordamida mehmonga kelgan do'stlaringizning ismini friends ro'yxatidan sug'urib olib, mehmonlar ro'yxatiga qo'shing."
   ]
  },
  {
   "cell_type": "code",
   "execution_count": 43,
   "id": "6b0ede49-3090-4b48-bd19-51eb2fd9f761",
   "metadata": {},
   "outputs": [],
   "source": [
    "mehmonlar=[]"
   ]
  },
  {
   "cell_type": "code",
   "execution_count": 44,
   "id": "1972f653-b5c6-497f-8bcc-1bd0ad9b8d8f",
   "metadata": {},
   "outputs": [
    {
     "name": "stdout",
     "output_type": "stream",
     "text": [
      "kelgan mehmonlar: \n",
      " ['Ramziddin', 'Sharof']\n"
     ]
    }
   ],
   "source": [
    "mehmonlar.append(friends.pop(3))\n",
    "mehmonlar.append(friends.pop(5))\n",
    "print(\"kelgan mehmonlar: \\n\", mehmonlar)"
   ]
  },
  {
   "cell_type": "code",
   "execution_count": null,
   "id": "5fd9914f-d98f-4763-b9b7-a71da418e31b",
   "metadata": {},
   "outputs": [],
   "source": []
  }
 ],
 "metadata": {
  "kernelspec": {
   "display_name": "Python 3 (ipykernel)",
   "language": "python",
   "name": "python3"
  },
  "language_info": {
   "codemirror_mode": {
    "name": "ipython",
    "version": 3
   },
   "file_extension": ".py",
   "mimetype": "text/x-python",
   "name": "python",
   "nbconvert_exporter": "python",
   "pygments_lexer": "ipython3",
   "version": "3.12.1"
  }
 },
 "nbformat": 4,
 "nbformat_minor": 5
}
