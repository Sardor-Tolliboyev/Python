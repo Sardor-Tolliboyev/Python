{
 "cells": [
  {
   "cell_type": "code",
   "execution_count": 1,
   "id": "7e443040-67a9-45e7-9936-dc95dcf17fbe",
   "metadata": {},
   "outputs": [],
   "source": [
    "# Modullar"
   ]
  },
  {
   "cell_type": "code",
   "execution_count": 5,
   "id": "de1de720-6510-43fd-a50b-c305ec1aace5",
   "metadata": {},
   "outputs": [],
   "source": [
    "# MODULNI CHAQIRIB OLISH"
   ]
  },
  {
   "cell_type": "code",
   "execution_count": 6,
   "id": "078479b6-2515-4750-9389-4f376769a749",
   "metadata": {},
   "outputs": [
    {
     "name": "stdout",
     "output_type": "stream",
     "text": [
      "Qora GM MALIBU, avtomat korobka, 2020-yil, 40000$\n"
     ]
    }
   ],
   "source": [
    "import avto_info_mod # avto_info_mod faylini (modulini) chaqiramiz\n",
    "\n",
    "avto1 = avto_info_mod.avto_info(\"GM\", \"Malibu\", \"Qora\", \"avtomat\", 2020,40000)\n",
    "avto_info_mod.info_print(avto1)"
   ]
  },
  {
   "cell_type": "code",
   "execution_count": 7,
   "id": "6229b40d-f476-4c62-8339-12b7685e1c4b",
   "metadata": {},
   "outputs": [],
   "source": [
    "# MODULGA QISQA NOM BERISH"
   ]
  },
  {
   "cell_type": "code",
   "execution_count": 8,
   "id": "10de529c-c0cd-4df9-81d8-62c0500005d4",
   "metadata": {},
   "outputs": [
    {
     "name": "stdout",
     "output_type": "stream",
     "text": [
      "Qora GM MALIBU, avtomat korobka, 2020-yil, 40000$\n"
     ]
    }
   ],
   "source": [
    "import avto_info_mod as aim # avto_info_mod ni qisqa nom aim bilan chaqiramiz\n",
    "\n",
    "avto1 = aim.avto_info(\"GM\", \"Malibu\", \"Qora\", \"avtomat\", 2020,40000)\n",
    "aim.info_print(avto1)"
   ]
  },
  {
   "cell_type": "code",
   "execution_count": 9,
   "id": "7b23f45a-9c31-4091-b399-8541b0f0b118",
   "metadata": {},
   "outputs": [],
   "source": [
    "# MODUL ICIHDAN MA'LUM FUNKSIYALARNI KO'CHIRIB OLISH"
   ]
  },
  {
   "cell_type": "code",
   "execution_count": 10,
   "id": "f4e62179-2fa7-46e1-9518-1b81427d4d5c",
   "metadata": {},
   "outputs": [
    {
     "name": "stdout",
     "output_type": "stream",
     "text": [
      "Qora GM MALIBU, avtomat korobka, 2020-yil, 40000$\n"
     ]
    }
   ],
   "source": [
    "from avto_info_mod import avto_info, info_print\n",
    "\n",
    "avto1 = avto_info(\"GM\", \"Malibu\", \"Qora\", \"avtomat\", 2020,40000)\n",
    "info_print(avto1)"
   ]
  },
  {
   "cell_type": "code",
   "execution_count": 11,
   "id": "2d2f04a8-957b-4628-befe-9f8616920535",
   "metadata": {},
   "outputs": [],
   "source": [
    "# FUNKSIYALARGA QISQA NOM BERISH"
   ]
  },
  {
   "cell_type": "code",
   "execution_count": 12,
   "id": "88761d64-7149-4693-89a1-33caf166605b",
   "metadata": {},
   "outputs": [
    {
     "name": "stdout",
     "output_type": "stream",
     "text": [
      "Qora GM MALIBU, avtomat korobka, 2020-yil, 40000$\n"
     ]
    }
   ],
   "source": [
    "from avto_info_mod import avto_info as ainfo, info_print as iprint\n",
    "\n",
    "avto1 = ainfo(\"GM\", \"Malibu\", \"Qora\", \"avtomat\", 2020,40000)\n",
    "iprint(avto1)"
   ]
  },
  {
   "cell_type": "code",
   "execution_count": 13,
   "id": "15e6b923-ce72-417a-8ef2-38470e8fd52b",
   "metadata": {},
   "outputs": [],
   "source": [
    "# MODUL ICHIDAGI BARCHA FUNKSIYALARNI KO'CHIRIB OLISH"
   ]
  },
  {
   "cell_type": "code",
   "execution_count": 14,
   "id": "4615e774-4096-4f92-97c7-a110cd80cfa8",
   "metadata": {},
   "outputs": [
    {
     "name": "stdout",
     "output_type": "stream",
     "text": [
      "Qora GM MALIBU, avtomat korobka, 2020-yil, 40000$\n"
     ]
    }
   ],
   "source": [
    "from avto_info_mod import *\n",
    "\n",
    "avto1 = avto_info(\"GM\", \"Malibu\", \"Qora\", \"avtomat\", 2020,40000)\n",
    "info_print(avto1)"
   ]
  },
  {
   "cell_type": "code",
   "execution_count": 15,
   "id": "c330a99d-33d0-4128-a294-155242794544",
   "metadata": {},
   "outputs": [],
   "source": [
    "# Diqqat! Bir necha sabablarga ko'ra bu usuldan foydalanish tavsiya qilinmaydi. Katta modullarda yuzlab funksiyalar bo'lishi mumkin, va funksiya nomi sizning dasturingizdagi boshqa funksiya yoki o'zgaruvchi bilan bir hil nomga ega bo'lsa, dastur xato ishlashiga olib keladi."
   ]
  },
  {
   "cell_type": "code",
   "execution_count": 16,
   "id": "b1700f9f-5347-44a6-b49e-76e78ac63939",
   "metadata": {},
   "outputs": [],
   "source": [
    "# MODULDA O'ZGARUVCHI SAQLASH"
   ]
  },
  {
   "cell_type": "code",
   "execution_count": 17,
   "id": "3fe6bca9-4326-49bf-a9a8-6b81172c3243",
   "metadata": {},
   "outputs": [],
   "source": [
    "# PYTHON MODULLARI"
   ]
  },
  {
   "cell_type": "code",
   "execution_count": 19,
   "id": "6dd56217-843c-4faa-81b0-e1ae12998612",
   "metadata": {},
   "outputs": [],
   "source": [
    "# math MODULI"
   ]
  },
  {
   "cell_type": "code",
   "execution_count": 20,
   "id": "74c1514d-9344-407a-87c5-bb59b35d0cd6",
   "metadata": {},
   "outputs": [
    {
     "name": "stdout",
     "output_type": "stream",
     "text": [
      "20.0\n"
     ]
    }
   ],
   "source": [
    "# sqrt() - qavs ichida berilgan qiymatning kvadrat ildizini qaytaradi\n",
    "import math\n",
    "\n",
    "x=400\n",
    "print(math.sqrt(x))"
   ]
  },
  {
   "cell_type": "code",
   "execution_count": 21,
   "id": "f9d65610-8a8c-4e50-8750-001932c92187",
   "metadata": {},
   "outputs": [
    {
     "name": "stdout",
     "output_type": "stream",
     "text": [
      "3125\n"
     ]
    }
   ],
   "source": [
    "# pow(x,y) - x ning y-darajasini qaytaradi\n",
    "\n",
    "print(pow(5,5))"
   ]
  },
  {
   "cell_type": "code",
   "execution_count": 22,
   "id": "b4c16831-b21a-45c2-9bbb-8b9c150d1443",
   "metadata": {},
   "outputs": [
    {
     "name": "stdout",
     "output_type": "stream",
     "text": [
      "3.141592653589793\n"
     ]
    }
   ],
   "source": [
    "# pi - π ning qiymatini saqlovchi o'zgaruvchi\n",
    "\n",
    "from math import pi\n",
    "print(pi)"
   ]
  },
  {
   "cell_type": "code",
   "execution_count": 23,
   "id": "7d70c645-696e-42a6-a396-8712363941e9",
   "metadata": {},
   "outputs": [
    {
     "name": "stdout",
     "output_type": "stream",
     "text": [
      "3.0\n",
      "2.0\n"
     ]
    }
   ],
   "source": [
    "# log2(x) va log10(x) - x ning 2 va 10-lik logorifmini qaytaruvchi funksiyalar\n",
    "\n",
    "print(math.log2(8))\n",
    "print(math.log10(100))"
   ]
  },
  {
   "cell_type": "code",
   "execution_count": 26,
   "id": "2839ff98-dc53-4b00-be3d-665abb0b2aec",
   "metadata": {},
   "outputs": [],
   "source": [
    "# # random MODULI\n",
    "# Random moduli tasodifiy sonlar bilan ishlash uchun qulay funksiyalarga boy. Keing ulardan ayrimlari bilan tanishamiz."
   ]
  },
  {
   "cell_type": "code",
   "execution_count": 25,
   "id": "35668159-b8fb-43a9-afed-49211b24d815",
   "metadata": {},
   "outputs": [],
   "source": [
    "# randint(a,b)\n",
    "# Bu funksiya a va b oraligi'da tasodifiy butun son qaytaradi."
   ]
  },
  {
   "cell_type": "code",
   "execution_count": 27,
   "id": "cacc9649-1a95-407e-be98-71aefb995df5",
   "metadata": {},
   "outputs": [
    {
     "name": "stdout",
     "output_type": "stream",
     "text": [
      "24\n"
     ]
    }
   ],
   "source": [
    "import random as r # random modulini r deb chaqirayapmiz\n",
    "\n",
    "son = r.randint(0,100) # 0 va 100 oralig'ida tasodifiy son\n",
    "print(son)"
   ]
  },
  {
   "cell_type": "code",
   "execution_count": 28,
   "id": "e7811d34-88bd-4314-b2e8-5fc763703160",
   "metadata": {},
   "outputs": [],
   "source": [
    "# choice(x)\n",
    "# x ning ichidan tasodifiy qiymatni qaytaruvchi funksiya. Bunda x bir necha elementdan iborat o'zgaruvchi (matn, ro'yxat) bo'lishi kerak."
   ]
  },
  {
   "cell_type": "code",
   "execution_count": 29,
   "id": "34f9323e-6eab-44cf-8010-a915d11514f4",
   "metadata": {},
   "outputs": [
    {
     "name": "stdout",
     "output_type": "stream",
     "text": [
      "anvar\n",
      "n\n"
     ]
    }
   ],
   "source": [
    "ismlar = ['olim','anvar','hasan','husan']\n",
    "ism = r.choice(ismlar) # ismlar dan tasodifiy ism tanlaymiz\n",
    "print(ism)\n",
    "print(r.choice(ism)) # ismdan tasodifiy harf tanlaymiz"
   ]
  },
  {
   "cell_type": "code",
   "execution_count": 33,
   "id": "21068a00-7829-4d7f-8d09-70564f641083",
   "metadata": {},
   "outputs": [
    {
     "name": "stdout",
     "output_type": "stream",
     "text": [
      "[40, 45, 50]\n",
      "45\n"
     ]
    }
   ],
   "source": [
    "x = list(range(40,51,5))\n",
    "print(x)\n",
    "print(r.choice(x))"
   ]
  },
  {
   "cell_type": "code",
   "execution_count": 31,
   "id": "8b10afdb-16fb-4304-8951-5a009f87e785",
   "metadata": {},
   "outputs": [
    {
     "name": "stdout",
     "output_type": "stream",
     "text": [
      "[0, 1, 2, 3, 4, 5, 6, 7, 8, 9, 10]\n",
      "[10, 3, 8, 2, 4, 5, 7, 1, 0, 6, 9]\n"
     ]
    }
   ],
   "source": [
    "#  shuffle(x)\n",
    "# x ichidagi elementlarni tasodifiy tartibda qaytaruvchi funksiya. Bunda x bir necha elementdan iborat o'zgaruvchi (matn, ro'yxat) bo'lishi kerak.\n",
    "\n",
    "x = list(range(11))\n",
    "print(x)\n",
    "r.shuffle(x)\n",
    "print(x)"
   ]
  },
  {
   "cell_type": "code",
   "execution_count": 32,
   "id": "22ea13dc-0366-49f7-a3ec-914288b755c8",
   "metadata": {},
   "outputs": [
    {
     "name": "stdout",
     "output_type": "stream",
     "text": [
      "[10, 12, 14, 16, 18]\n",
      "[18, 16, 14, 12, 10]\n"
     ]
    }
   ],
   "source": [
    "x = list(range(10, 20, 2))\n",
    "print(x)\n",
    "r.shuffle(x)\n",
    "print(x)"
   ]
  },
  {
   "cell_type": "code",
   "execution_count": null,
   "id": "6071eb23-5dcf-413b-a11c-d168aad95405",
   "metadata": {},
   "outputs": [],
   "source": []
  }
 ],
 "metadata": {
  "kernelspec": {
   "display_name": "Python 3 (ipykernel)",
   "language": "python",
   "name": "python3"
  },
  "language_info": {
   "codemirror_mode": {
    "name": "ipython",
    "version": 3
   },
   "file_extension": ".py",
   "mimetype": "text/x-python",
   "name": "python",
   "nbconvert_exporter": "python",
   "pygments_lexer": "ipython3",
   "version": "3.12.1"
  }
 },
 "nbformat": 4,
 "nbformat_minor": 5
}
