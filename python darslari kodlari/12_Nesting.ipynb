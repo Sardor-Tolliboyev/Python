{
 "cells": [
  {
   "cell_type": "code",
   "execution_count": 1,
   "id": "6178ef4c-462c-40e3-9e36-dbe9e9f27fb2",
   "metadata": {},
   "outputs": [],
   "source": [
    "# Nesting"
   ]
  },
  {
   "cell_type": "code",
   "execution_count": 2,
   "id": "a1178da5-8884-43d8-b53c-0a2a64ddd5f3",
   "metadata": {},
   "outputs": [],
   "source": [
    "car0 = {\n",
    "        'model':'lacetti',\n",
    "        'rang':'oq',\n",
    "        'yil':2018,\n",
    "        'narh':13000,\n",
    "        'km':50000, \n",
    "        'korobka':'avtomat'\n",
    "        }\n",
    "car1 =  {\n",
    "        'model':'nexia 3',\n",
    "        'rang':'qora',\n",
    "        'yil':2015,\n",
    "        'narh':9000,\n",
    "        'km':89000,\n",
    "        'korobka':'mexanika'\n",
    "        }\n",
    "car2 = {\n",
    "        'model':'gentra',\n",
    "        'rang':'qizil',\n",
    "        'yil':2019,\n",
    "        'narh':15000,\n",
    "        'km':20000,\n",
    "        'korobka':'mexanika'\n",
    "        }"
   ]
  },
  {
   "cell_type": "code",
   "execution_count": 3,
   "id": "8dfa68d9-eaa4-4d8e-a44d-6606e72dfbbc",
   "metadata": {},
   "outputs": [
    {
     "name": "stdout",
     "output_type": "stream",
     "text": [
      "Lacetti,    oq rang,    2018-yil, 13000$\n",
      "Nexia 3,    qora rang,    2015-yil, 9000$\n",
      "Gentra,    qizil rang,    2019-yil, 15000$\n"
     ]
    }
   ],
   "source": [
    "car = car0\n",
    "print(f\"{car['model'].title()},\\\n",
    "    {car['rang']} rang,\\\n",
    "    {car['yil']}-yil, {car['narh']}$\")\n",
    "\n",
    "car = car1\n",
    "print(f\"{car['model'].title()},\\\n",
    "    {car['rang']} rang,\\\n",
    "    {car['yil']}-yil, {car['narh']}$\")\n",
    "\n",
    "car = car2\n",
    "print(f\"{car['model'].title()},\\\n",
    "    {car['rang']} rang,\\\n",
    "    {car['yil']}-yil, {car['narh']}$\")"
   ]
  },
  {
   "cell_type": "code",
   "execution_count": 4,
   "id": "fd03c6b7-446f-4c0c-a35d-3f1c42ad7543",
   "metadata": {},
   "outputs": [],
   "source": [
    "# Keling, barcha avtolarni bitta ro'yxatga joylaymiz, va for tsikli yordamida birma-bir konsolga\n",
    "# chiqaramiz:"
   ]
  },
  {
   "cell_type": "code",
   "execution_count": 6,
   "id": "3f79e2fb-ee5d-4b11-b3e9-1319d0db58ba",
   "metadata": {},
   "outputs": [
    {
     "name": "stdout",
     "output_type": "stream",
     "text": [
      "Lacetti, oq rang, 2018-yil, 13000$\n",
      "Nexia 3, qora rang, 2015-yil, 9000$\n",
      "Gentra, qizil rang, 2019-yil, 15000$\n"
     ]
    }
   ],
   "source": [
    "cars = [car0, car1, car2]\n",
    "for car in cars:\n",
    "    print(f\"{car['model'].title()}, \"\n",
    "          f\"{car['rang']} rang, \"\n",
    "          f\"{car['yil']}-yil, {car['narh']}$\")"
   ]
  },
  {
   "cell_type": "code",
   "execution_count": 7,
   "id": "478f208d-9710-4bdd-8296-ba1ea0401d2f",
   "metadata": {},
   "outputs": [
    {
     "name": "stdout",
     "output_type": "stream",
     "text": [
      "{'model': 'lacetti', 'rang': 'oq', 'yil': 2018, 'narh': 13000, 'km': 50000, 'korobka': 'avtomat'}\n"
     ]
    }
   ],
   "source": [
    "print(cars[0])"
   ]
  },
  {
   "cell_type": "code",
   "execution_count": 8,
   "id": "ee4be815-4ad5-4908-a7fe-821f8361f3da",
   "metadata": {},
   "outputs": [
    {
     "name": "stdout",
     "output_type": "stream",
     "text": [
      "lacetti\n"
     ]
    }
   ],
   "source": [
    "print(cars[0]['model'])"
   ]
  },
  {
   "cell_type": "code",
   "execution_count": 9,
   "id": "9dafed59-041f-4878-9dda-d6c51cd41941",
   "metadata": {},
   "outputs": [
    {
     "name": "stdout",
     "output_type": "stream",
     "text": [
      "Qizil gentra\n"
     ]
    }
   ],
   "source": [
    "print(f\"{cars[2]['rang'].title()} \"\n",
    "      f\"{cars[2]['model']}\")"
   ]
  },
  {
   "cell_type": "code",
   "execution_count": 11,
   "id": "8b2f6710-fe2e-4b69-956e-420a8d4ed875",
   "metadata": {},
   "outputs": [],
   "source": [
    "malibus = [] # Malibu mashinalari uchun bo'sh ro'yxat yaratdik\n",
    "for n in range(10):\n",
    "    new_car = { # har bir yangi mashina uchun lug'at yaratamiz\n",
    "        'model':'malibu',\n",
    "        'rang':None, # rangi noaniq\n",
    "        'yil':2020,\n",
    "        'narh':None, # narhi belgilanmagan\n",
    "        'km':0,\n",
    "        'korobka':'avto'\n",
    "        }\n",
    "    malibus.append(new_car) # yangi lug'atni ro'yxatga qo'shamiz"
   ]
  },
  {
   "cell_type": "code",
   "execution_count": 17,
   "id": "073c2bf2-a9c7-4aec-80db-be6a20bbe5b9",
   "metadata": {},
   "outputs": [
    {
     "name": "stdout",
     "output_type": "stream",
     "text": [
      "{'model': 'malibu', 'rang': 'qizil', 'yil': 2020, 'narh': 40000, 'km': 0, 'korobka': 'avto'}\n",
      "{'model': 'malibu', 'rang': 'qizil', 'yil': 2020, 'narh': 40000, 'km': 0, 'korobka': 'avto'}\n",
      "{'model': 'malibu', 'rang': 'qizil', 'yil': 2020, 'narh': 40000, 'km': 0, 'korobka': 'avto'}\n",
      "{'model': 'malibu', 'rang': 'qora', 'yil': 2020, 'narh': 40000, 'km': 0, 'korobka': 'avto'}\n",
      "{'model': 'malibu', 'rang': 'qora', 'yil': 2020, 'narh': 40000, 'km': 0, 'korobka': 'avto'}\n",
      "{'model': 'malibu', 'rang': 'qora', 'yil': 2020, 'narh': 40000, 'km': 0, 'korobka': 'avto'}\n",
      "{'model': 'malibu', 'rang': 'qora', 'yil': 2020, 'narh': 35000, 'km': 0, 'korobka': 'mexanika'}\n",
      "{'model': 'malibu', 'rang': 'qora', 'yil': 2020, 'narh': 35000, 'km': 0, 'korobka': 'mexanika'}\n",
      "{'model': 'malibu', 'rang': 'qora', 'yil': 2020, 'narh': 35000, 'km': 0, 'korobka': 'mexanika'}\n",
      "{'model': 'malibu', 'rang': 'qora', 'yil': 2020, 'narh': 35000, 'km': 0, 'korobka': 'mexanika'}\n"
     ]
    }
   ],
   "source": [
    "# birinchi 3 ta mashinaga qizil rang beramiz\n",
    "for malibu in malibus[:3]:\n",
    "    malibu['rang'] = 'qizil'\n",
    "\n",
    "# keyingi 3 tasiga qora\n",
    "for malibu in malibus[3:6]:\n",
    "    malibu['rang'] = 'qora'\n",
    "\n",
    "# oxirgi 4 ta avtoni qora, lekin korobkasini mexanika qilamiz\n",
    "for malibu in malibus[6:]: # oxirgi 4 ta mashinani\n",
    "    malibu['rang'] = 'qora' # rangi qora\n",
    "    malibu['korobka'] = 'mexanika' # korobkasi mexanika\n",
    "\n",
    "# mashinalarning korobkasidan chiqqan holda narh belgilaymiz\n",
    "for malibu in malibus:\n",
    "    if malibu['korobka'] == 'avto':\n",
    "        malibu['narh'] = 40000\n",
    "    else:\n",
    "        malibu['narh'] = 35000\n",
    "    print(malibu)"
   ]
  },
  {
   "cell_type": "code",
   "execution_count": 18,
   "id": "ae72fa8e-aa34-4fb3-9e49-033af3664068",
   "metadata": {},
   "outputs": [],
   "source": [
    "# LUG'AT ICHIDA RO'YXAT"
   ]
  },
  {
   "cell_type": "code",
   "execution_count": 19,
   "id": "88647e2b-4364-47b5-9285-6bc60290c9c3",
   "metadata": {},
   "outputs": [],
   "source": [
    "dasturchilar = {\n",
    "    'ali':['python', 'c++'],\n",
    "    'vali':['html', 'css', 'js'],\n",
    "    'hasan':['php', 'sql'],\n",
    "    'husan':['python', 'php'],\n",
    "    'maryam':['c++', 'c#']\n",
    "    }"
   ]
  },
  {
   "cell_type": "code",
   "execution_count": 20,
   "id": "2b175d05-158c-4aa5-9f5f-b64406cc66e9",
   "metadata": {},
   "outputs": [
    {
     "name": "stdout",
     "output_type": "stream",
     "text": [
      "\n",
      "Ali quyidagi dasturlash tillarini biladi:PYTHON C++ \n",
      "Vali quyidagi dasturlash tillarini biladi:HTML CSS JS \n",
      "Hasan quyidagi dasturlash tillarini biladi:PHP SQL \n",
      "Husan quyidagi dasturlash tillarini biladi:PYTHON PHP \n",
      "Maryam quyidagi dasturlash tillarini biladi:C++ C# "
     ]
    }
   ],
   "source": [
    "for ism, tillar in dasturchilar.items():\n",
    "    print(f\"\\n{ism.title()} quyidagi dasturlash tillarini biladi:\", end='')\n",
    "    for til in tillar:\n",
    "        print(f\"{til.upper()} \", end='')"
   ]
  },
  {
   "cell_type": "code",
   "execution_count": 21,
   "id": "015118f0-83df-406d-96ed-08c202f72a5d",
   "metadata": {},
   "outputs": [],
   "source": [
    "# LUG'AT ICHIDA LUG'AT"
   ]
  },
  {
   "cell_type": "code",
   "execution_count": 25,
   "id": "9f9a21d6-b37f-44fb-8b95-1608f5066164",
   "metadata": {},
   "outputs": [],
   "source": [
    "hamkasblar = {\n",
    "    'ali':{'familiya':'valiyev',\n",
    "           'tyil':1995,\n",
    "           'malumot':'oliy',\n",
    "           'tillar':['puyhon', 'c++']\n",
    "          },\n",
    "    'vali':{'familiya':'aliyev',\n",
    "           'tyil':2001,\n",
    "           'malumot':\"o'rta-maxsus\",\n",
    "           'tillar':['html', 'css', 'js']\n",
    "          },\n",
    "    'hasan':{'familiya':'husanov',\n",
    "             'tyil':1999,\n",
    "             'malumot':'maxsus',\n",
    "             'tillar':['python', 'php']\n",
    "            }\n",
    "            }"
   ]
  },
  {
   "cell_type": "code",
   "execution_count": 26,
   "id": "29ab0c74-bc85-4bc2-850a-f22fed888697",
   "metadata": {},
   "outputs": [
    {
     "name": "stdout",
     "output_type": "stream",
     "text": [
      "\n",
      "Ali Valiyev, 1995-yilda tug'ilgan. Ma'lumoti: oliy. \n",
      "Quyidagi dasturlash tillarini biladi:\n",
      "PUYHON\n",
      "C++\n",
      "\n",
      "Vali Aliyev, 2001-yilda tug'ilgan. Ma'lumoti: o'rta-maxsus. \n",
      "Quyidagi dasturlash tillarini biladi:\n",
      "HTML\n",
      "CSS\n",
      "JS\n",
      "\n",
      "Hasan Husanov, 1999-yilda tug'ilgan. Ma'lumoti: maxsus. \n",
      "Quyidagi dasturlash tillarini biladi:\n",
      "PYTHON\n",
      "PHP\n"
     ]
    }
   ],
   "source": [
    "for ism, info in hamkasblar.items():\n",
    "    print(f\"\\n{ism.title()} {info['familiya'].title()}, \"\n",
    "          f\"{info['tyil']}-yilda tug'ilgan. \"\n",
    "          f\"Ma'lumoti: {info['malumot']}. \\n\"\n",
    "          \"Quyidagi dasturlash tillarini biladi:\")\n",
    "    for til in info['tillar']:\n",
    "        print(til.upper())"
   ]
  },
  {
   "cell_type": "code",
   "execution_count": 27,
   "id": "a21f15a0-17f2-4c3c-9675-9352139212bf",
   "metadata": {},
   "outputs": [],
   "source": [
    "# Amaliyot"
   ]
  },
  {
   "cell_type": "code",
   "execution_count": 28,
   "id": "cb1e1ec2-b696-4c6d-b881-fc2874c93699",
   "metadata": {},
   "outputs": [],
   "source": [
    "# Adabiyot (ilm-fan, san'at, internet) olamidagi 4 ta mashxur shaxlar haqidagi ma'lumotlarni\n",
    "# lug'at ko'rinishida saqlang. Lug'atlarni bitta ro'yxatga joylang, va har bir shaxs haqidagi\n",
    "# ma'lumotni konsolga chiqaring."
   ]
  },
  {
   "cell_type": "code",
   "execution_count": 32,
   "id": "f865abd0-177a-4c60-8be5-ecf95e91cf8e",
   "metadata": {},
   "outputs": [],
   "source": [
    "m_shaxs1 = {\n",
    "        'ism':'Abu Abdulloh Muhammad ibn Ismoil',\n",
    "        'tyil':810,\n",
    "        'tmanzil':'Buxoro',\n",
    "        'umr':60\n",
    "            }\n",
    "\n",
    "m_shaxs2 = {\n",
    "        'ism':'Abdulla Qodiriy',\n",
    "        'tyil':1894,\n",
    "        'tmanzil':'Toshkent',\n",
    "        'umr':44\n",
    "            }\n",
    "\n",
    "m_shaxs3 = {\n",
    "        'ism':'Erkin Vohidov',\n",
    "        'tyil':1936,\n",
    "        'tmanzil':\"Farg'ona\",\n",
    "        'umr':80\n",
    "            }\n",
    "\n",
    "m_shaxs4 = {\n",
    "        'ism':'Alisher Navoiy',\n",
    "        'tyil':1441,\n",
    "        'tmanzil':'Xirot',\n",
    "        'umr':60\n",
    "            }"
   ]
  },
  {
   "cell_type": "code",
   "execution_count": 33,
   "id": "d76b9c0d-1efb-40ac-94bc-3bd58f4b3e41",
   "metadata": {},
   "outputs": [
    {
     "name": "stdout",
     "output_type": "stream",
     "text": [
      "Abu Abdulloh Muhammad ibn Ismoil 810-yilda Buxoroda tavallud topgan. 60 yil umr ko'rgan.\n",
      "Abdulla Qodiriy 1894-yilda Toshkentda tavallud topgan. 44 yil umr ko'rgan.\n",
      "Erkin Vohidov 1936-yilda Farg'onada tavallud topgan. 80 yil umr ko'rgan.\n",
      "Alisher Navoiy 1441-yilda Xirotda tavallud topgan. 60 yil umr ko'rgan.\n"
     ]
    }
   ],
   "source": [
    "m_shaxslar = [m_shaxs1, m_shaxs2, m_shaxs3, m_shaxs4]\n",
    "for shaxs in m_shaxslar:\n",
    "    print(f\"{shaxs['ism']} {shaxs['tyil']}-yilda {shaxs['tmanzil']}da tavallud topgan. {shaxs['umr']} yil umr ko'rgan.\")"
   ]
  },
  {
   "cell_type": "code",
   "execution_count": 34,
   "id": "e115ecbc-70b0-40ef-b437-ddcad490ffa0",
   "metadata": {},
   "outputs": [],
   "source": [
    "# Yuqoridagi lug'atlarga har bir shaxsning mashxur asarlari ro'yxatini ham qo'shing. For tsikli\n",
    "# yordamida muallifning ismi va uning asarlarini konsolga chiqaring."
   ]
  },
  {
   "cell_type": "code",
   "execution_count": 52,
   "id": "bfc7404f-d495-49c2-833d-61ae3ffbf4a4",
   "metadata": {},
   "outputs": [],
   "source": [
    "shaxslar = {\n",
    "        'Abu Abdulloh Muhammad ibn Ismoil':[\"Al-jome' as-sahih\", 'Al-adab al-mufrad', 'At-tarix al-kabir', \"At-tarix al-sag'ir\"],\n",
    "        'Abdulla Qodiriy':[\"O'tgan kunlar\", 'Mehrobdan chayon', 'Obid ketmon'],\n",
    "        'Erkin Vohidov':['Tong nafasi', \"Qo'shiqlarim sizga\", \"O'zbegim\", 'Qiziquvchan Matmusa'], \n",
    "        'Alisher Navoiy':['Xamsa', 'Lison ut-Tayr', 'Mahbub Al-Qulub', 'Munojot']\n",
    "            }"
   ]
  },
  {
   "cell_type": "code",
   "execution_count": 56,
   "id": "1e54a29d-26c4-4366-829f-af6a8d10f188",
   "metadata": {},
   "outputs": [
    {
     "name": "stdout",
     "output_type": "stream",
     "text": [
      "Abu Abdulloh Muhammad ibn Ismoil ning asarlari:\n",
      "Al-jome' as-sahih\n",
      "Al-adab al-mufrad\n",
      "At-tarix al-kabir\n",
      "At-tarix al-sag'ir\n",
      "Abdulla Qodiriy ning asarlari:\n",
      "O'tgan kunlar\n",
      "Mehrobdan chayon\n",
      "Obid ketmon\n",
      "Erkin Vohidov ning asarlari:\n",
      "Tong nafasi\n",
      "Qo'shiqlarim sizga\n",
      "O'zbegim\n",
      "Qiziquvchan Matmusa\n",
      "Alisher Navoiy ning asarlari:\n",
      "Xamsa\n",
      "Lison ut-Tayr\n",
      "Mahbub Al-Qulub\n",
      "Munojot\n"
     ]
    }
   ],
   "source": [
    "for ism, asarlar in shaxslar.items():\n",
    "    print(f\"{ism} ning asarlari:\")\n",
    "    for asar in asarlar:\n",
    "        print(asar)"
   ]
  },
  {
   "cell_type": "code",
   "execution_count": 57,
   "id": "46d40584-9bb2-480c-a07d-7bddb3d80fc4",
   "metadata": {},
   "outputs": [],
   "source": [
    "# Oila a'zolaringiz (do'stlaringiz) dan 3 ta sevimli kino-seriali haqida so'rang. Do'stingiz ismi\n",
    "# kalit, uning sevimli kinolarini esa ro'yxat ko'rinishida lug'artga saqlang.  Natijani konsolga\n",
    "# chiqaring."
   ]
  },
  {
   "cell_type": "code",
   "execution_count": 60,
   "id": "16d974ec-8a9c-45de-a760-f6b2b460c8ee",
   "metadata": {},
   "outputs": [],
   "source": [
    "dostlar = {\n",
    "        'ali':['terminator', 'rambo', 'titanic'],\n",
    "        'vali':['tanet', 'inception', 'interstellar'],\n",
    "        'hasan':['abdullajon', 'bomba', 'shaytanat'],\n",
    "        'husan':['mahallada duv-duv gap', 'jonh wick']\n",
    "        }"
   ]
  },
  {
   "cell_type": "code",
   "execution_count": 62,
   "id": "4b3f7dbe-2c18-49f8-b4de-5c9d87d50db0",
   "metadata": {},
   "outputs": [
    {
     "name": "stdout",
     "output_type": "stream",
     "text": [
      "Alining sevimli kinolari:\n",
      "Terminator\n",
      "Rambo\n",
      "Titanic\n",
      "Valining sevimli kinolari:\n",
      "Tanet\n",
      "Inception\n",
      "Interstellar\n",
      "Hasanning sevimli kinolari:\n",
      "Abdullajon\n",
      "Bomba\n",
      "Shaytanat\n",
      "Husanning sevimli kinolari:\n",
      "Mahallada Duv-Duv Gap\n",
      "Jonh Wick\n"
     ]
    }
   ],
   "source": [
    "for ism, kinolar in dostlar.items():\n",
    "    print(f\"{ism.title()}ning sevimli kinolari:\")\n",
    "    for kino in kinolar:\n",
    "        print(kino.title())"
   ]
  },
  {
   "cell_type": "code",
   "execution_count": 63,
   "id": "8d874f4a-6cca-4557-b25a-5b3a4c4ff7c6",
   "metadata": {},
   "outputs": [],
   "source": [
    "# Davlatlar degan lug'at yarating, lug'at ichida bir nechta davlatlar haqida ma'lumotlarni lug'at\n",
    "# ko'rinishida saqlang. Har bir davlat haqida ma'lumotni konsolga chiqaring."
   ]
  },
  {
   "cell_type": "code",
   "execution_count": 69,
   "id": "65d153d7-ef41-4a9b-97c8-4dd4ba2ff1b3",
   "metadata": {},
   "outputs": [],
   "source": [
    "davlatlar = {\n",
    "    \"O'zbekiston\":{\n",
    "            'poytaxt':'Toshkent',\n",
    "            'hududi':448978,\n",
    "            'aholisi':33000000,\n",
    "            'pul birligi':\"so'm\"\n",
    "            },\n",
    "    \"Rossiya\":{\n",
    "            'poytaxt':'Moskva',\n",
    "            'hududi':17098246,\n",
    "            'aholisi':144000000,\n",
    "            'pul birligi':'rubl'\n",
    "            },\n",
    "    \"AQSH\":{\n",
    "            'poytaxt':'Vashington',\n",
    "            'hududi':9631418,\n",
    "            'aholisi':327000000,\n",
    "            'pul birligi':'dollar'\n",
    "            },\n",
    "    \"Malayziya\":{\n",
    "            'poytaxt':'Kuala-Lumpur',\n",
    "            'hududi':329750,\n",
    "            'aholisi':25000000,\n",
    "            'pul birligi':'rinngit'\n",
    "            }\n",
    "        }"
   ]
  },
  {
   "cell_type": "code",
   "execution_count": 86,
   "id": "04c64849-e76e-4eac-a0ce-fabf9d8b933b",
   "metadata": {},
   "outputs": [
    {
     "name": "stdout",
     "output_type": "stream",
     "text": [
      "O'zbekistonning potaxti Toshkent \n",
      "Hududi: 448978 kv.km \n",
      "Aholisi: 33000000 \n",
      "Pul birligi: so'm\n",
      "Rossiyaning potaxti Moskva \n",
      "Hududi: 17098246 kv.km \n",
      "Aholisi: 144000000 \n",
      "Pul birligi: rubl\n",
      "AQSHning potaxti Vashington \n",
      "Hududi: 9631418 kv.km \n",
      "Aholisi: 327000000 \n",
      "Pul birligi: dollar\n",
      "Malayziyaning potaxti Kuala-Lumpur \n",
      "Hududi: 329750 kv.km \n",
      "Aholisi: 25000000 \n",
      "Pul birligi: rinngit\n"
     ]
    }
   ],
   "source": [
    "for nomi, malumot in davlatlar.items():\n",
    "    print(f\"{nomi}ning potaxti {malumot['poytaxt']} \\n\"\n",
    "          f\"Hududi: {malumot['hududi']} kv.km \\n\"\n",
    "          f\"Aholisi: {malumot['aholisi']} \\n\"\n",
    "          f\"Pul birligi: {malumot['pul birligi']}\")"
   ]
  },
  {
   "cell_type": "code",
   "execution_count": 75,
   "id": "c86ceca3-51fd-4b19-bb6f-5756b8648b08",
   "metadata": {},
   "outputs": [],
   "source": [
    "# Yuqoridagi dasturga o'zgartirish kiriting: konsolga barcha davlatlarni emas, foydalanuvchi\n",
    "# so'ragan davlat haqida ma'lumot bering. Agar davlat sizning lug'atingizda mavjud bo'lmasa,\n",
    "# \"Bizda bu davlat haqida ma'lumot yo'q\" degan xabarni chiqaring."
   ]
  },
  {
   "cell_type": "code",
   "execution_count": null,
   "id": "dbc559b1-56f8-44f3-b4fa-eb653a7464cc",
   "metadata": {},
   "outputs": [
    {
     "name": "stdin",
     "output_type": "stream",
     "text": [
      "Davlat nomini kiriting (chiqish uchun 'exit'):  AQSH\n"
     ]
    },
    {
     "name": "stdout",
     "output_type": "stream",
     "text": [
      "\n",
      "Aqshning poytaxsti Vashington \n",
      "Hududi: 9631418 kv.km \n",
      "Aholisi: 327000000 \n",
      "Pul birligi: dollar\n",
      "\n"
     ]
    },
    {
     "name": "stdin",
     "output_type": "stream",
     "text": [
      "Davlat nomini kiriting (chiqish uchun 'exit'):  O'zbekiston\n"
     ]
    },
    {
     "name": "stdout",
     "output_type": "stream",
     "text": [
      "\n",
      "O'Zbekistonning poytaxsti Toshkent \n",
      "Hududi: 448978 kv.km \n",
      "Aholisi: 33000000 \n",
      "Pul birligi: so'm\n",
      "\n"
     ]
    },
    {
     "name": "stdin",
     "output_type": "stream",
     "text": [
      "Davlat nomini kiriting (chiqish uchun 'exit'):  Singapur\n"
     ]
    },
    {
     "name": "stdout",
     "output_type": "stream",
     "text": [
      "Bizda bu davlat haqida ma'lumot mavjud emas.\n",
      "\n"
     ]
    }
   ],
   "source": [
    "while True:\n",
    "    davlat = input(\"Davlat nomini kiriting (chiqish uchun 'exit'): \")\n",
    "    if davlat.lower() == 'exit':\n",
    "        break\n",
    "\n",
    "    if davlat in davlatlar:\n",
    "        malumot = davlatlar[davlat]\n",
    "        print(f\"\\n{davlat.title()}ning poytaxsti {malumot['poytaxt']} \\n\"\n",
    "              f\"Hududi: {malumot['hududi']} kv.km \\n\"\n",
    "              f\"Aholisi: {malumot['aholisi']} \\n\"\n",
    "              f\"Pul birligi: {malumot['pul birligi']}\\n\")\n",
    "    else:\n",
    "        print(\"Bizda bu davlat haqida ma'lumot mavjud emas.\\n\")"
   ]
  },
  {
   "cell_type": "code",
   "execution_count": null,
   "id": "9297de80-1562-4e8e-be4d-ac65b86645c0",
   "metadata": {},
   "outputs": [],
   "source": []
  }
 ],
 "metadata": {
  "kernelspec": {
   "display_name": "Python 3 (ipykernel)",
   "language": "python",
   "name": "python3"
  },
  "language_info": {
   "codemirror_mode": {
    "name": "ipython",
    "version": 3
   },
   "file_extension": ".py",
   "mimetype": "text/x-python",
   "name": "python",
   "nbconvert_exporter": "python",
   "pygments_lexer": "ipython3",
   "version": "3.12.1"
  }
 },
 "nbformat": 4,
 "nbformat_minor": 5
}
