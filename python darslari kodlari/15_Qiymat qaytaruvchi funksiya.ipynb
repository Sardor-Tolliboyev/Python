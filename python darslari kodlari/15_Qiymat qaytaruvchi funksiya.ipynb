{
 "cells": [
  {
   "cell_type": "code",
   "execution_count": 1,
   "id": "255b5c95-154f-46e1-bca4-100fd0df4946",
   "metadata": {},
   "outputs": [],
   "source": [
    "# Qiymat qaytaruvchi funksiya"
   ]
  },
  {
   "cell_type": "code",
   "execution_count": 2,
   "id": "caa64bbc-3ade-4dba-99d8-dcfe3c4f34aa",
   "metadata": {},
   "outputs": [],
   "source": [
    "# FUNKSIYADAN ODDIY QIYMAT QAYTARISH"
   ]
  },
  {
   "cell_type": "code",
   "execution_count": 3,
   "id": "2d6a25a9-00fe-49dd-9241-7654474a47ba",
   "metadata": {},
   "outputs": [],
   "source": [
    "def toliq_ism_yasa(ism, familiya):\n",
    "    \"\"\"Toliq isma qaytaruvchi funksiya\"\"\"\n",
    "    toliq_ism = f\"{ism} {familiya}\"\n",
    "    return toliq_ism # qiymat qaytarish uchun return operatorini ishlatamiz"
   ]
  },
  {
   "cell_type": "code",
   "execution_count": 4,
   "id": "4fbb6407-ce19-4451-9f87-71c296addb79",
   "metadata": {},
   "outputs": [],
   "source": [
    "talaba1 = toliq_ism_yasa('olim','hakimov')\n",
    "talaba2 = toliq_ism_yasa('hakim','olimov')"
   ]
  },
  {
   "cell_type": "code",
   "execution_count": 5,
   "id": "528b6cd6-88b4-4ed9-bffa-c68757677e3c",
   "metadata": {},
   "outputs": [
    {
     "name": "stdout",
     "output_type": "stream",
     "text": [
      "Darsga kelmagan talabalar: olim hakimov va hakim olimov\n"
     ]
    }
   ],
   "source": [
    "print(f\"Darsga kelmagan talabalar: {talaba1} va {talaba2}\")"
   ]
  },
  {
   "cell_type": "code",
   "execution_count": 6,
   "id": "6bbb2b3f-f233-4e03-a82b-29ac0473c246",
   "metadata": {},
   "outputs": [],
   "source": [
    "# IXTIYORIY ARGUMENTLAR"
   ]
  },
  {
   "cell_type": "code",
   "execution_count": 7,
   "id": "cf2ec93a-2a1e-4886-b34b-ce759830a5f1",
   "metadata": {},
   "outputs": [],
   "source": [
    "def toliq_ism_yasa(ism, familiya, otasining_ismi=''):\n",
    "    \"\"\"Toliq isma qaytaruvchi funksiya\"\"\"\n",
    "    if otasining_ismi: # otasining_ismi mavjudligini tekshiramiz\n",
    "        toliq_ism = f\"{ism} {otasining_ismi} {familiya}\"\n",
    "    else:\n",
    "        toliq_ism = f\"{ism} {familiya}\"\n",
    "    return toliq_ism.title()"
   ]
  },
  {
   "cell_type": "code",
   "execution_count": 8,
   "id": "fd3df10b-0408-4155-b107-f71412917b35",
   "metadata": {},
   "outputs": [
    {
     "name": "stdout",
     "output_type": "stream",
     "text": [
      "Darsga kelmagan talabalar: Olim Hakimov va Hakim Abrorovich Olimov\n"
     ]
    }
   ],
   "source": [
    "talaba1 = toliq_ism_yasa('olim','hakimov') #otasining_ismi kiritilmadi\n",
    "talaba2 = toliq_ism_yasa('hakim','olimov','abrorovich')\n",
    "print(f\"Darsga kelmagan talabalar: {talaba1} va {talaba2}\")"
   ]
  },
  {
   "cell_type": "code",
   "execution_count": 9,
   "id": "52176104-eb46-4bb8-9986-ac402e2fd9f6",
   "metadata": {},
   "outputs": [],
   "source": [
    "# FUNKSIYADAN LUG'AT QAYTARAMIZ"
   ]
  },
  {
   "cell_type": "code",
   "execution_count": 10,
   "id": "e90614d2-5754-4e76-a431-d4564ee1f3cb",
   "metadata": {},
   "outputs": [],
   "source": [
    "def avto_info(kompaniya, model, rangi, korobka, yili, narhi=None):\n",
    "    avto = {'kompaniya':kompaniya,\n",
    "            'model':model,\n",
    "            'rang':rangi,\n",
    "            'korobka':korobka,\n",
    "            'yil':yili,\n",
    "            'narh':narhi}\n",
    "    return avto"
   ]
  },
  {
   "cell_type": "code",
   "execution_count": 11,
   "id": "5bf3edbb-288e-4ff9-99cc-71e02b6544c9",
   "metadata": {},
   "outputs": [
    {
     "name": "stdout",
     "output_type": "stream",
     "text": [
      "Onlayn bozordagi mavjud avtomashinalar:\n",
      "Qora Malibu. Narhi: Noma'lum\n",
      "Oq Gentra. Narhi: 15000\n"
     ]
    }
   ],
   "source": [
    "avto1 = avto_info('GM','Malibu','Qora','Avtomat',2018)\n",
    "avto2 = avto_info('GM','Gentra','Oq','Mexanika',2016,15000)\n",
    "avtolar = [avto1, avto2]\n",
    "print('Onlayn bozordagi mavjud avtomashinalar:')\n",
    "for avto in avtolar:\n",
    "    if avto['narh']:\n",
    "        narh = avto['narh']\n",
    "    else:\n",
    "        narh = \"Noma'lum\"\n",
    "    print(f\"{avto['rang']} {avto['model']}. Narhi: {narh}\")"
   ]
  },
  {
   "cell_type": "code",
   "execution_count": 12,
   "id": "77e0d5ff-fac3-4277-8688-dd3eaae4a4e8",
   "metadata": {},
   "outputs": [],
   "source": [
    "# FUNKSIYADAN RO'YXAT QAYTARAMIZ"
   ]
  },
  {
   "cell_type": "code",
   "execution_count": 13,
   "id": "1c803cc7-2d53-41cd-bf46-eae730c5b94d",
   "metadata": {},
   "outputs": [],
   "source": [
    "def oraliq(min,max):\n",
    "    sonlar = [] # bo'sh ro'yxat\n",
    "    while min<max:\n",
    "        sonlar.append(min)\n",
    "        min += 1\n",
    "    return sonlar"
   ]
  },
  {
   "cell_type": "code",
   "execution_count": 14,
   "id": "a8952533-3245-49c8-82a3-9d3d90ef76ff",
   "metadata": {},
   "outputs": [
    {
     "name": "stdout",
     "output_type": "stream",
     "text": [
      "[0, 1, 2, 3, 4, 5, 6, 7, 8, 9]\n",
      "[10, 11, 12, 13, 14, 15, 16, 17, 18, 19, 20]\n"
     ]
    }
   ],
   "source": [
    "print(oraliq(0,10))\n",
    "print(oraliq(10,21))"
   ]
  },
  {
   "cell_type": "code",
   "execution_count": 18,
   "id": "2f5226ec-a738-4167-b136-1f747d94a700",
   "metadata": {},
   "outputs": [],
   "source": [
    "def oraliq(min,max, qadam):\n",
    "    sonlar = [] # bo'sh ro'yxat\n",
    "    while min<max:\n",
    "        sonlar.append(min)\n",
    "        min += qadam\n",
    "    return sonlar"
   ]
  },
  {
   "cell_type": "code",
   "execution_count": 19,
   "id": "c07743cc-73c0-4b24-8230-2d774329bc72",
   "metadata": {},
   "outputs": [
    {
     "name": "stdout",
     "output_type": "stream",
     "text": [
      "[0, 2, 4, 6, 8, 10, 12, 14, 16, 18, 20]\n"
     ]
    }
   ],
   "source": [
    "print(oraliq(0,21,2)) # 0 dan 21 gacha 2 qadam bilan"
   ]
  },
  {
   "cell_type": "code",
   "execution_count": 20,
   "id": "3c797943-c118-4632-a453-e8865816a019",
   "metadata": {},
   "outputs": [],
   "source": [
    "# FUNKSIYALARNI TSIKLDA ISHLATISH"
   ]
  },
  {
   "cell_type": "code",
   "execution_count": 24,
   "id": "27e8ebf8-3d04-4232-b2eb-9bbf1b89e7e9",
   "metadata": {},
   "outputs": [
    {
     "name": "stdout",
     "output_type": "stream",
     "text": [
      "Saytimizdagi avtolar ro'yxatini shakllantiramiz.\n",
      "\n",
      "Quyidagi ma'lumotlarni kiriting"
     ]
    },
    {
     "name": "stdin",
     "output_type": "stream",
     "text": [
      "Ishlab chiqaruvchi:  gm\n",
      "Modeli:  malibu\n",
      "Rangi:  oq\n",
      "Korobka:  avto\n",
      "Ishlab chiqarilgan yili:  2025\n",
      "Narhi:  15000\n",
      "Yana avto qo'shasizmi? (yes/no):  no\n"
     ]
    }
   ],
   "source": [
    "print(\"Saytimizdagi avtolar ro'yxatini shakllantiramiz.\")\n",
    "avtolar=[] # salondagi avtolar uchun bo'sh ro'yxat\n",
    "while True:\n",
    "    print(\"\\nQuyidagi ma'lumotlarni kiriting\",end='')\n",
    "    kompaniya=input(\"Ishlab chiqaruvchi: \")\n",
    "    model=input(\"Modeli: \")\n",
    "    rangi=input(\"Rangi: \")\n",
    "    korobka=input(\"Korobka: \")\n",
    "    yili=input(\"Ishlab chiqarilgan yili: \")\n",
    "    narhi=input(\"Narhi: \")\n",
    "    \n",
    "    #Foydalanuvchi kiritdan ma'lumotlardan avto_info yordamida \n",
    "    #lug'at shakllantirib, har bir lug'atni ro'yxatga qo'shamiz:\n",
    "    avtolar.append(avto_info(kompaniya, model, rangi, korobka, yili, narhi))\n",
    "    \n",
    "    # Yana avto qo'shish-qo'shmaslikni so'raymiz\n",
    "    javob = input(\"Yana avto qo'shasizmi? (yes/no): \")\n",
    "    if javob=='no':\n",
    "        break"
   ]
  },
  {
   "cell_type": "code",
   "execution_count": 27,
   "id": "922d074d-0b34-4118-b5cc-3d108166944e",
   "metadata": {},
   "outputs": [
    {
     "name": "stdout",
     "output_type": "stream",
     "text": [
      "\n",
      "Salondagi avtolar:\n",
      "Oq malibu. Narhi 15000\n"
     ]
    }
   ],
   "source": [
    "print(\"\\nSalondagi avtolar:\")\n",
    "for avto in avtolar:\n",
    "    if avto['narh']:\n",
    "        narh = avto['narh']\n",
    "    else:\n",
    "        narh = \"Noma'lum\"\n",
    "    print(f\"{avto['rang'].title()} {avto['model']}. Narhi {narh}\")"
   ]
  },
  {
   "cell_type": "code",
   "execution_count": 28,
   "id": "be49b525-adb1-4d2c-bdf2-b89e9684bfc5",
   "metadata": {},
   "outputs": [
    {
     "name": "stdout",
     "output_type": "stream",
     "text": [
      "[{'kompaniya': 'gm', 'model': 'malibu', 'rang': 'oq', 'korobka': 'avto', 'yil': '2025', 'narh': '15000'}]\n"
     ]
    }
   ],
   "source": [
    "print(avtolar)"
   ]
  },
  {
   "cell_type": "code",
   "execution_count": 29,
   "id": "f1052545-5986-4e6a-9951-1f4f65b16961",
   "metadata": {},
   "outputs": [],
   "source": [
    "# Amaliyot"
   ]
  },
  {
   "cell_type": "code",
   "execution_count": 30,
   "id": "b257cc38-0bd8-4eef-ac47-4da89fe2e18a",
   "metadata": {},
   "outputs": [],
   "source": [
    "# 1.Foydanaluvchidan ismi, familiyasi, tug'ilgan yili, tug'ilgan joyi, email manzili va telefon raqamini qabul qilib, lug'at ko'rinishida qaytaruvchi funksiya yozing. Lug'atda foydalanuvchu yoshi ham bo'lsin. Ba'zi argumentlarni kiritishni ixtiyoriy qiling (masalan, tel.raqam, el.manzil)"
   ]
  },
  {
   "cell_type": "code",
   "execution_count": 41,
   "id": "f3d3dfd5-0e6b-42e2-bf9c-575135ea68ec",
   "metadata": {},
   "outputs": [],
   "source": [
    "def funk(ism, familiya, t_yil, t_joy, email_m = '', telefon_r=None):\n",
    "    malumot = {'ism':ism,\n",
    "            'familiya':familiya,\n",
    "            't_yil':t_yil,\n",
    "            't_joy':t_joy,\n",
    "            'email_m':email_m,\n",
    "            'telefon_r':telefon_r,\n",
    "            'yoshi':2025-t_yil\n",
    "           }\n",
    "    return malumot"
   ]
  },
  {
   "cell_type": "code",
   "execution_count": 43,
   "id": "afebcc9a-27ab-45bc-bc31-9d7bd66ace23",
   "metadata": {},
   "outputs": [
    {
     "name": "stdout",
     "output_type": "stream",
     "text": [
      "Ma'lumot:\n",
      "Sardor Tolliboyev haqida.\n",
      " Tug'ilgan yili: 2005 \n",
      "Tug'ilgan joyi: Samarqand \n",
      "Email manzili: tolliboyevsardor05@gmail.com\n",
      "Telefon raqami: 998949180516\n",
      "Yoshi: 20\n",
      "\n",
      "Azizbek Jabborov haqida.\n",
      " Tug'ilgan yili: 2005 \n",
      "Tug'ilgan joyi: Samarqand \n",
      "Email manzili: \n",
      "Telefon raqami: 998949180516\n",
      "Yoshi: 20\n",
      "\n"
     ]
    }
   ],
   "source": [
    "func1 = funk('Sardor', 'Tolliboyev', 2005, 'Samarqand', 'tolliboyevsardor05@gmail.com', 998949180516)\n",
    "func2 = funk('Azizbek', 'Jabborov', 2005, 'Samarqand')\n",
    "funk_soni = [func1, func2]\n",
    "print(\"Ma'lumot:\")\n",
    "for n in funk_soni:\n",
    "    if n['email_m'] or n['telefon_r']:\n",
    "        email_m = n['email_m']\n",
    "        telefon_r = n['telefon_r']\n",
    "    else:\n",
    "        email_m = ''\n",
    "        telfon_r = ''\n",
    "    print(f\"{n['ism']} {n['familiya']} haqida.\\n \"\n",
    "          f\"Tug'ilgan yili: {n['t_yil']} \\n\"\n",
    "          f\"Tug'ilgan joyi: {n['t_joy']} \\n\"\n",
    "          f\"Email manzili: {email_m}\\n\"\n",
    "          f\"Telefon raqami: {telefon_r}\\n\"\n",
    "          f\"Yoshi: {n['yoshi']}\\n\")"
   ]
  },
  {
   "cell_type": "code",
   "execution_count": 44,
   "id": "b59736e9-ec75-447a-b3e0-debc4bba4f46",
   "metadata": {},
   "outputs": [],
   "source": [
    "# 2.Yuqoridagi funksiyani while yordamida bir necha bor chaqiring, va mijozlar degan ro'yxatni shakllantiring. Ro'yxatdagi mijozlar haqidagi ma'lumotni konsolga chiqaring."
   ]
  },
  {
   "cell_type": "code",
   "execution_count": 54,
   "id": "6fe3c2df-af88-4b84-b37a-b72fbdb80617",
   "metadata": {},
   "outputs": [
    {
     "name": "stdout",
     "output_type": "stream",
     "text": [
      "Ma'lumotlarni kiriting.\n",
      "\n",
      "Quyidagi ma'lumotlarni kiriting"
     ]
    },
    {
     "name": "stdin",
     "output_type": "stream",
     "text": [
      "Ismi:  sardor\n",
      "Familiyasi:  tolliboyev\n",
      "Tug'ilgan yili:  2005\n",
      "Tug'ilgan joyi:  samarqand\n",
      "Email manzili:  ts2005@gmail.com\n",
      "Telefon raqami:  998990131190\n",
      "Yana avto qo'shasizmi? (yes/no):  no\n"
     ]
    }
   ],
   "source": [
    "print(\"Ma'lumotlarni kiriting.\")\n",
    "malumotlar_M=[]\n",
    "while True:\n",
    "    print(\"\\nQuyidagi ma'lumotlarni kiriting\",end='')\n",
    "    ism = input(\"Ismi: \")\n",
    "    familiya = input(\"Familiyasi: \")\n",
    "    t_yil = int(input(\"Tug'ilgan yili: \"))\n",
    "    t_joy = input(\"Tug'ilgan joyi: \")\n",
    "    email_m = input(\"Email manzili: \")\n",
    "    telefon_r = input(\"Telefon raqami: \")\n",
    "    yoshi = 2025-t_yil\n",
    "    malumotlar_M.append(funk(ism, familiya, t_yil, t_joy, email_m, telefon_r))\n",
    "    \n",
    "    javob = input(\"Yana avto qo'shasizmi? (yes/no): \")\n",
    "    if javob=='no':\n",
    "        break"
   ]
  },
  {
   "cell_type": "code",
   "execution_count": 55,
   "id": "802fdf84-5e36-4005-8522-3bec92763d4e",
   "metadata": {},
   "outputs": [
    {
     "name": "stdout",
     "output_type": "stream",
     "text": [
      "\n",
      "Ma'lumotlar:\n",
      "Sardor Tolliboyev haqida.\n",
      " Tug'ilgan yili: 2005 \n",
      "Tug'ilgan joyi: Samarqand \n",
      "Email manzili: ts2005@gmail.com\n",
      "Telefon raqami: 998990131190\n",
      "Yoshi: 20\n",
      "\n"
     ]
    }
   ],
   "source": [
    "print(\"\\nMa'lumotlar:\")\n",
    "for n in malumotlar_M:\n",
    "    if n['email_m'] or n['telefon_r']:\n",
    "        email_m = n['email_m']\n",
    "        telefon_r = n['telefon_r']\n",
    "    else:\n",
    "        email_m = ''\n",
    "        telfon_r = ''\n",
    "    print(f\"{n['ism'].title()} {n['familiya'].title()} haqida.\\n \"\n",
    "          f\"Tug'ilgan yili: {n['t_yil']} \\n\"\n",
    "          f\"Tug'ilgan joyi: {n['t_joy'].title()} \\n\"\n",
    "          f\"Email manzili: {email_m}\\n\"\n",
    "          f\"Telefon raqami: {telefon_r}\\n\"\n",
    "          f\"Yoshi: {n['yoshi']}\\n\")"
   ]
  },
  {
   "cell_type": "code",
   "execution_count": 56,
   "id": "093aaf26-740e-4784-a1a8-6ae04692da63",
   "metadata": {},
   "outputs": [],
   "source": [
    "# 3.Uchta son qabul qilib, ulardan eng kattasini qaytaruvchi funksiya yozing"
   ]
  },
  {
   "cell_type": "code",
   "execution_count": 72,
   "id": "705cbd6b-79fb-4d5a-9e14-8d30276bbdc8",
   "metadata": {},
   "outputs": [],
   "source": [
    "def max(x, y, z):\n",
    "    if x > y and y > z and x > z:\n",
    "        print(x)\n",
    "    if y > x and x > z and y > z:\n",
    "        print(y)\n",
    "    if z > y and y > x and z > x:\n",
    "        print(z)"
   ]
  },
  {
   "cell_type": "code",
   "execution_count": 79,
   "id": "257dda45-d6ff-41ca-8ec7-4d9f4d77a073",
   "metadata": {},
   "outputs": [
    {
     "data": {
      "text/plain": [
       "10"
      ]
     },
     "execution_count": 79,
     "metadata": {},
     "output_type": "execute_result"
    }
   ],
   "source": [
    "max(8, 10, 9)"
   ]
  },
  {
   "cell_type": "code",
   "execution_count": 80,
   "id": "c27bf5ae-2cb0-4788-b225-5dd0200ca81d",
   "metadata": {},
   "outputs": [],
   "source": [
    "# 4.Foydalanuvchidan aylaning radiusini qabul qilib olib, uning radiusini, diametrini, perimetri va yuzini lug'at ko'rinishida qaytaruvchi funksiya yozing"
   ]
  },
  {
   "cell_type": "code",
   "execution_count": 81,
   "id": "330765b6-d1d6-4f0d-b542-9f35b94ff3d5",
   "metadata": {},
   "outputs": [],
   "source": [
    "def aylana_h(r):\n",
    "    r = float(r)\n",
    "    pi = 3.1415\n",
    "    malumot = {\n",
    "        'radiusi':r,\n",
    "        'diametri':2 * r,\n",
    "        'uzunligi':2 * pi * r,\n",
    "        'yuzi':pi * (r**2)\n",
    "    }\n",
    "    return malumot"
   ]
  },
  {
   "cell_type": "code",
   "execution_count": 86,
   "id": "d8835fed-1054-4384-866c-267b4172f306",
   "metadata": {},
   "outputs": [
    {
     "name": "stdin",
     "output_type": "stream",
     "text": [
      "Aylana radiusi r= 7\n"
     ]
    }
   ],
   "source": [
    "r = float(input(\"Aylana radiusi r=\"))\n",
    "funk = aylana_h(r)"
   ]
  },
  {
   "cell_type": "code",
   "execution_count": 88,
   "id": "0ffe8ac6-2dbb-4be2-8e06-905fa357cefc",
   "metadata": {},
   "outputs": [
    {
     "name": "stdout",
     "output_type": "stream",
     "text": [
      "{'radiusi': 7.0, 'diametri': 14.0, 'uzunligi': 43.981, 'yuzi': 153.9335}\n"
     ]
    }
   ],
   "source": [
    "print(funk)"
   ]
  },
  {
   "cell_type": "code",
   "execution_count": 89,
   "id": "beba5713-14c3-41af-ab70-8e5f5b7eb9dc",
   "metadata": {},
   "outputs": [],
   "source": [
    "# 5.Berilgan oraliqdagi tub sonlar ro'yxatini qaytaruvchi funksiya yozing (tub sonlar —faqat birga va o'ziga qoldiqsiz bo'linuvchi, 1 dan katta musbat sonlar)"
   ]
  },
  {
   "cell_type": "code",
   "execution_count": 90,
   "id": "9695fb2f-06ce-4441-a3a0-aff92bf3ffb5",
   "metadata": {},
   "outputs": [],
   "source": [
    "def tub_sonlar(n1, n2):\n",
    "    tubsonlar = []\n",
    "    for n in range(n1, n2+1):\n",
    "        if n > 1:\n",
    "            for i in range(2, n):\n",
    "                if n % i == 0:\n",
    "                    break\n",
    "            else:\n",
    "                tubsonlar.append(n)\n",
    "    return tubsonlar"
   ]
  },
  {
   "cell_type": "code",
   "execution_count": 91,
   "id": "7f404608-0374-45a5-97a3-da3a5dca4a94",
   "metadata": {},
   "outputs": [
    {
     "name": "stdout",
     "output_type": "stream",
     "text": [
      "[11, 13]\n"
     ]
    }
   ],
   "source": [
    "tub_s = tub_sonlar(8, 16)\n",
    "print(tub_s)"
   ]
  },
  {
   "cell_type": "code",
   "execution_count": 92,
   "id": "55f74baa-ec54-48de-b21d-4daab328ed6e",
   "metadata": {},
   "outputs": [
    {
     "name": "stdout",
     "output_type": "stream",
     "text": [
      "[17, 19, 23, 29, 31, 37]\n"
     ]
    }
   ],
   "source": [
    "tub_s = tub_sonlar(15, 40)\n",
    "print(tub_s)"
   ]
  },
  {
   "cell_type": "code",
   "execution_count": 93,
   "id": "a6cbdccd-47df-4c9c-bb74-91b3fd5da078",
   "metadata": {},
   "outputs": [],
   "source": [
    "# 6.Foydalanuvchidan son qabul qilib, shu son miqdoricha Fibonachchi ketma-ketligidagi sonlar ro'yxatni qaytaruvchi funksiya yozing.  Ta’rif: Har bir hadi o’zidan oldingi ikkita hadning yig’indisiga teng bo’lgan ketma-ketlik Fibonachchi ketma-ketligi deyiladi. Bunda boshlang’ish had ko’pincha 1 deb olinadi.  1, 1, 2, 3, 5, 8, 13, 21, 34, 55,..."
   ]
  },
  {
   "cell_type": "code",
   "execution_count": 101,
   "id": "b7e71733-a5ce-45d5-9a8d-28d574802798",
   "metadata": {},
   "outputs": [],
   "source": [
    "def fibonachi(n):\n",
    "    fib_sonlar = []\n",
    "    f1 = 1\n",
    "    f2 = 1\n",
    "    for _ in range(n):\n",
    "        fib_sonlar.append(f1)\n",
    "        f1, f2  = f2, f1 + f2\n",
    "    return fib_sonlar"
   ]
  },
  {
   "cell_type": "code",
   "execution_count": 106,
   "id": "0e38c6a9-5d16-4090-a357-8873d5e07b5d",
   "metadata": {},
   "outputs": [
    {
     "name": "stdin",
     "output_type": "stream",
     "text": [
      "Nechta fibonachi soni chiqsin:  10\n"
     ]
    },
    {
     "name": "stdout",
     "output_type": "stream",
     "text": [
      "[1, 1, 2, 3, 5, 8, 13, 21, 34, 55]\n"
     ]
    }
   ],
   "source": [
    "n = int(input(\"Nechta fibonachi soni chiqsin: \"))\n",
    "fib = fibonachi(n)\n",
    "print(fib)"
   ]
  },
  {
   "cell_type": "code",
   "execution_count": null,
   "id": "b5e7bc61-ce2e-4116-9582-7f58e8c52789",
   "metadata": {},
   "outputs": [],
   "source": []
  }
 ],
 "metadata": {
  "kernelspec": {
   "display_name": "Python 3 (ipykernel)",
   "language": "python",
   "name": "python3"
  },
  "language_info": {
   "codemirror_mode": {
    "name": "ipython",
    "version": 3
   },
   "file_extension": ".py",
   "mimetype": "text/x-python",
   "name": "python",
   "nbconvert_exporter": "python",
   "pygments_lexer": "ipython3",
   "version": "3.12.1"
  }
 },
 "nbformat": 4,
 "nbformat_minor": 5
}
