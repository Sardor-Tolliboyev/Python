{
 "cells": [
  {
   "cell_type": "code",
   "execution_count": 1,
   "id": "c3818a17-0e71-4b3d-bfc9-3c99a794892c",
   "metadata": {},
   "outputs": [],
   "source": [
    "# Funksiya va ro'yxat"
   ]
  },
  {
   "cell_type": "code",
   "execution_count": 5,
   "id": "4193f47e-bcd2-44c0-936b-a82bdf32d237",
   "metadata": {},
   "outputs": [
    {
     "name": "stdin",
     "output_type": "stream",
     "text": [
      "Talaba Husanning bahosini kiriting:  4\n",
      "Talaba Hasanning bahosini kiriting:  4\n",
      "Talaba Valining bahosini kiriting:  5\n",
      "Talaba Alining bahosini kiriting:  4\n"
     ]
    },
    {
     "name": "stdout",
     "output_type": "stream",
     "text": [
      "{'husan': '4', 'hasan': '4', 'vali': '5', 'ali': '4'}\n"
     ]
    }
   ],
   "source": [
    "def bahola(ismlar):\n",
    "    baholar = {}\n",
    "    while ismlar:\n",
    "        ism = ismlar.pop()\n",
    "        baho = input(f\"Talaba {ism.title()}ning bahosini kiriting: \")\n",
    "        baholar[ism]=baho\n",
    "    return baholar\n",
    "\n",
    "talabalar = ['ali', 'vali', 'hasan', 'husan']\n",
    "baholar = bahola(talabalar)\n",
    "print(baholar)"
   ]
  },
  {
   "cell_type": "code",
   "execution_count": 6,
   "id": "57eedd95-a2af-40b9-adb2-18c86858a23f",
   "metadata": {},
   "outputs": [
    {
     "name": "stdin",
     "output_type": "stream",
     "text": [
      "Talaba Husanning bahosini kiriting:  4\n",
      "Talaba Hasanning bahosini kiriting:  4\n",
      "Talaba Valining bahosini kiriting:  4\n",
      "Talaba Alining bahosini kiriting:  4\n"
     ]
    },
    {
     "name": "stdout",
     "output_type": "stream",
     "text": [
      "[]\n"
     ]
    }
   ],
   "source": [
    "talabalar = ['ali', 'vali', 'hasan', 'husan']\n",
    "baholar = bahola(talabalar)\n",
    "print(talabalar)"
   ]
  },
  {
   "cell_type": "code",
   "execution_count": 7,
   "id": "f91f1b1f-99c4-431f-bffc-92af7e8f55cf",
   "metadata": {},
   "outputs": [],
   "source": [
    "# ASL RO'YXATGA O'ZGARTIRISH KIRITISHNING OLDINI OLISH "
   ]
  },
  {
   "cell_type": "code",
   "execution_count": 8,
   "id": "7d53e6fc-051c-4a53-93f7-6d00151aeb4f",
   "metadata": {},
   "outputs": [
    {
     "name": "stdin",
     "output_type": "stream",
     "text": [
      "Talaba Husanning bahosini kiriting:  4\n",
      "Talaba Hasanning bahosini kiriting:  4\n",
      "Talaba Valining bahosini kiriting:  5\n",
      "Talaba Alining bahosini kiriting:  4\n"
     ]
    },
    {
     "name": "stdout",
     "output_type": "stream",
     "text": [
      "['ali', 'vali', 'hasan', 'husan']\n"
     ]
    }
   ],
   "source": [
    "talabalar = ['ali', 'vali', 'hasan', 'husan']\n",
    "baholar = bahola(talabalar[:])\n",
    "print(talabalar)"
   ]
  },
  {
   "cell_type": "code",
   "execution_count": 9,
   "id": "112a8b9a-1865-4b85-b454-f3e3b2e16f47",
   "metadata": {},
   "outputs": [],
   "source": [
    "# Amaliyot"
   ]
  },
  {
   "cell_type": "code",
   "execution_count": 10,
   "id": "f4896baa-2b4d-4754-b0b4-897a1c9c7be5",
   "metadata": {},
   "outputs": [],
   "source": [
    "# Matnlardan iborat ro'yxat qabul qilib, ro'yxatdagi har bir matnning birinchi harfini katta harfga o'zgatiruvchi funksiya yozing. "
   ]
  },
  {
   "cell_type": "code",
   "execution_count": 37,
   "id": "617865aa-bc2d-4dde-a862-7b3dea3e0da1",
   "metadata": {},
   "outputs": [],
   "source": [
    "def katta_harf(ismlar):\n",
    "    k_ism = []\n",
    "    while ismlar:\n",
    "        ism = ismlar.pop()\n",
    "        k_ism.append(ism.title())\n",
    "    return k_ism"
   ]
  },
  {
   "cell_type": "code",
   "execution_count": 38,
   "id": "4fb1ac94-9f39-4e35-bab4-b6930c56bb3c",
   "metadata": {},
   "outputs": [
    {
     "name": "stdout",
     "output_type": "stream",
     "text": [
      "['Husan', 'Hasan', 'Vali', 'Ali']\n"
     ]
    }
   ],
   "source": [
    "ismlar = ['ali', 'vali', 'hasan', 'husan']\n",
    "k_ism = katta_harf(ismlar)\n",
    "print(k_ism)"
   ]
  },
  {
   "cell_type": "code",
   "execution_count": 39,
   "id": "dd2c6769-f284-4e9b-a5d8-8c98adfd423a",
   "metadata": {},
   "outputs": [],
   "source": [
    "# 2.Yuoqirdagi funksiyani asl ro'yxatni o'zgartirmaydigan va yangi ro'yxat qaytaradigan qilib o'zgartiring"
   ]
  },
  {
   "cell_type": "code",
   "execution_count": 40,
   "id": "78883d00-6f6a-410f-b731-7d7805967088",
   "metadata": {},
   "outputs": [
    {
     "name": "stdout",
     "output_type": "stream",
     "text": [
      "['ali', 'vali', 'hasan', 'husan']\n",
      "['Husan', 'Hasan', 'Vali', 'Ali']\n"
     ]
    }
   ],
   "source": [
    "ismlar = ['ali', 'vali', 'hasan', 'husan']\n",
    "yangi_ismlar = katta_harf(ismlar[:])\n",
    "print(ismlar)\n",
    "print(yangi_ismlar)"
   ]
  },
  {
   "cell_type": "code",
   "execution_count": 41,
   "id": "5c8115ef-0413-46e2-b23e-02a4504b6c03",
   "metadata": {},
   "outputs": [],
   "source": [
    "# 3.Darsimiz davomida yozgan bahola funksiyasini .pop() metodidan foydalanmasdan va asl ro'yxatga o'zgartirish kiritmasdan faqat lug'at qaytaradigan qilib yozing."
   ]
  },
  {
   "cell_type": "code",
   "execution_count": 45,
   "id": "c2f1bc50-ddc1-4a56-911f-ce2b77729c6b",
   "metadata": {},
   "outputs": [
    {
     "name": "stdin",
     "output_type": "stream",
     "text": [
      "Talaba Alining bahosini kiriting:  4\n",
      "Talaba Valining bahosini kiriting:  5\n",
      "Talaba Hasanning bahosini kiriting:  4\n",
      "Talaba Husanning bahosini kiriting:  5\n"
     ]
    },
    {
     "name": "stdout",
     "output_type": "stream",
     "text": [
      "{'ali': '4', 'vali': '5', 'hasan': '4', 'husan': '5'}\n",
      "Asl ro'yxat\n",
      " ['ali', 'vali', 'hasan', 'husan']\n"
     ]
    }
   ],
   "source": [
    "def bahola(ismlar):\n",
    "    baholar = {}\n",
    "    for ism in ismlar:\n",
    "        baho = input(f\"Talaba {ism.title()}ning bahosini kiriting: \")\n",
    "        baholar[ism]=baho\n",
    "    return baholar\n",
    "\n",
    "talabalar = ['ali', 'vali', 'hasan', 'husan']\n",
    "baholar = bahola(talabalar)\n",
    "print(baholar)\n",
    "print(\"Asl ro'yxat\\n\", talabalar)"
   ]
  }
 ],
 "metadata": {
  "kernelspec": {
   "display_name": "Python 3 (ipykernel)",
   "language": "python",
   "name": "python3"
  },
  "language_info": {
   "codemirror_mode": {
    "name": "ipython",
    "version": 3
   },
   "file_extension": ".py",
   "mimetype": "text/x-python",
   "name": "python",
   "nbconvert_exporter": "python",
   "pygments_lexer": "ipython3",
   "version": "3.12.1"
  }
 },
 "nbformat": 4,
 "nbformat_minor": 5
}
