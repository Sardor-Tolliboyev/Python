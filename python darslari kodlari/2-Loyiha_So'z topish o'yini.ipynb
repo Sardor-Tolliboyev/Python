{
 "cells": [
  {
   "cell_type": "code",
   "execution_count": 2,
   "id": "4d5e2288-2d51-457c-a51d-95d2341f111f",
   "metadata": {},
   "outputs": [],
   "source": [
    "# So'z topish o'yini"
   ]
  },
  {
   "cell_type": "code",
   "execution_count": 3,
   "id": "a7b7ffb8-43fd-4284-8523-2257ad663902",
   "metadata": {},
   "outputs": [],
   "source": [
    "# choice — bu Python'dagi random moduliga tegishli funksiya bo‘lib, ro'yxat, matn yoki boshqa ketma-ketlik (list, tuple, string) ichidan bitta tasodifiy elementni tanlab beradi."
   ]
  },
  {
   "cell_type": "code",
   "execution_count": 15,
   "id": "446f163e-553c-43dd-ba3f-1a15902e04a5",
   "metadata": {},
   "outputs": [],
   "source": [
    "import random\n",
    "from suzlar_ruyxati import suzlar\n",
    "\n",
    "def tasodifiy_suz():\n",
    "    suz = random.choice(suzlar)\n",
    "    while \"-\" in suz or ' ' in suz:\n",
    "        suz = random.choice(suzlar)    \n",
    "    return suz.upper()\n",
    "\n",
    "def natijasi(foyd_harflar, suz):\n",
    "    natija = \"\"\n",
    "    for harf in suz:\n",
    "        if harf in foyd_harflar:\n",
    "            natija += harf\n",
    "        else:\n",
    "            natija += \"-\"\n",
    "    return natija\n",
    "\n",
    "def play():\n",
    "    suz = tasodifiy_suz()\n",
    "    # So'zdagi harflar\n",
    "    suzdagi_harflar = set(suz)\n",
    "    # Foydalanuvchi kiritgan harflar\n",
    "    foyd_harflar = ''\n",
    "    print(f\"Мен {len(suz)} хонали сўз ўйладим. Топа оласизми?\")\n",
    "    # print(word)\n",
    "    while suzdagi_harflar:\n",
    "        print(natijasi(foyd_harflar, suz))\n",
    "        if foyd_harflar:\n",
    "            print(f\"Шу вақтгача киритган ҳарфларингиз: {foyd_harflar}\")\n",
    "        \n",
    "        harf = input(\"Ҳарф киритинг: \").upper()\n",
    "        if harf in foyd_harflar:\n",
    "            print(\"Бу ҳарфни аввал киритгансиз. Бошқа ҳарф киритинг.\")\n",
    "            continue        \n",
    "        elif harf in suz:\n",
    "            suzdagi_harflar.remove(harf)\n",
    "            print(f\"{harf} ҳарфи тўғри.\")\n",
    "        else:\n",
    "            print(\"Бундай ҳарф йўқ.\")\n",
    "        foyd_harflar += harf\n",
    "    print(f\"Табриклайман! {suz} сўзини {len(foyd_harflar)} та уринишда топдингиз.\")"
   ]
  },
  {
   "cell_type": "code",
   "execution_count": 16,
   "id": "a27f451e-4b00-4426-bea8-9120ca403df0",
   "metadata": {},
   "outputs": [
    {
     "name": "stdout",
     "output_type": "stream",
     "text": [
      "Мен 7 хонали сўз ўйладим. Топа оласизми?\n",
      "-------\n"
     ]
    },
    {
     "name": "stdin",
     "output_type": "stream",
     "text": [
      "Ҳарф киритинг:  в\n"
     ]
    },
    {
     "name": "stdout",
     "output_type": "stream",
     "text": [
      "Бундай ҳарф йўқ.\n",
      "-------\n",
      "Шу вақтгача киритган ҳарфларингиз: В\n"
     ]
    },
    {
     "name": "stdin",
     "output_type": "stream",
     "text": [
      "Ҳарф киритинг:  а\n"
     ]
    },
    {
     "name": "stdout",
     "output_type": "stream",
     "text": [
      "Бундай ҳарф йўқ.\n",
      "-------\n",
      "Шу вақтгача киритган ҳарфларингиз: ВА\n"
     ]
    },
    {
     "name": "stdin",
     "output_type": "stream",
     "text": [
      "Ҳарф киритинг:  л\n"
     ]
    },
    {
     "name": "stdout",
     "output_type": "stream",
     "text": [
      "Бундай ҳарф йўқ.\n",
      "-------\n",
      "Шу вақтгача киритган ҳарфларингиз: ВАЛ\n"
     ]
    },
    {
     "name": "stdin",
     "output_type": "stream",
     "text": [
      "Ҳарф киритинг:  й\n"
     ]
    },
    {
     "name": "stdout",
     "output_type": "stream",
     "text": [
      "Бундай ҳарф йўқ.\n",
      "-------\n",
      "Шу вақтгача киритган ҳарфларингиз: ВАЛЙ\n"
     ]
    },
    {
     "name": "stdin",
     "output_type": "stream",
     "text": [
      "Ҳарф киритинг:  ш\n"
     ]
    },
    {
     "name": "stdout",
     "output_type": "stream",
     "text": [
      "Ш ҳарфи тўғри.\n",
      "-Ш-----\n",
      "Шу вақтгача киритган ҳарфларингиз: ВАЛЙШ\n"
     ]
    },
    {
     "name": "stdin",
     "output_type": "stream",
     "text": [
      "Ҳарф киритинг:  и\n"
     ]
    },
    {
     "name": "stdout",
     "output_type": "stream",
     "text": [
      "И ҳарфи тўғри.\n",
      "ИШ-И---\n",
      "Шу вақтгача киритган ҳарфларингиз: ВАЛЙШИ\n"
     ]
    },
    {
     "name": "stdin",
     "output_type": "stream",
     "text": [
      "Ҳарф киритинг:  ч\n"
     ]
    },
    {
     "name": "stdout",
     "output_type": "stream",
     "text": [
      "Бундай ҳарф йўқ.\n",
      "ИШ-И---\n",
      "Шу вақтгача киритган ҳарфларингиз: ВАЛЙШИЧ\n"
     ]
    },
    {
     "name": "stdin",
     "output_type": "stream",
     "text": [
      "Ҳарф киритинг:  я\n"
     ]
    },
    {
     "name": "stdout",
     "output_type": "stream",
     "text": [
      "Бундай ҳарф йўқ.\n",
      "ИШ-И---\n",
      "Шу вақтгача киритган ҳарфларингиз: ВАЛЙШИЧЯ\n"
     ]
    },
    {
     "name": "stdin",
     "output_type": "stream",
     "text": [
      "Ҳарф киритинг:  т\n"
     ]
    },
    {
     "name": "stdout",
     "output_type": "stream",
     "text": [
      "Бундай ҳарф йўқ.\n",
      "ИШ-И---\n",
      "Шу вақтгача киритган ҳарфларингиз: ВАЛЙШИЧЯТ\n"
     ]
    },
    {
     "name": "stdin",
     "output_type": "stream",
     "text": [
      "Ҳарф киритинг:  р\n"
     ]
    },
    {
     "name": "stdout",
     "output_type": "stream",
     "text": [
      "Бундай ҳарф йўқ.\n",
      "ИШ-И---\n",
      "Шу вақтгача киритган ҳарфларингиз: ВАЛЙШИЧЯТР\n"
     ]
    },
    {
     "name": "stdin",
     "output_type": "stream",
     "text": [
      "Ҳарф киритинг:  п\n"
     ]
    },
    {
     "name": "stdout",
     "output_type": "stream",
     "text": [
      "Бундай ҳарф йўқ.\n",
      "ИШ-И---\n",
      "Шу вақтгача киритган ҳарфларингиз: ВАЛЙШИЧЯТРП\n"
     ]
    },
    {
     "name": "stdin",
     "output_type": "stream",
     "text": [
      "Ҳарф киритинг:  н\n"
     ]
    },
    {
     "name": "stdout",
     "output_type": "stream",
     "text": [
      "Бундай ҳарф йўқ.\n",
      "ИШ-И---\n",
      "Шу вақтгача киритган ҳарфларингиз: ВАЛЙШИЧЯТРПН\n"
     ]
    },
    {
     "name": "stdin",
     "output_type": "stream",
     "text": [
      "Ҳарф киритинг:  г\n"
     ]
    },
    {
     "name": "stdout",
     "output_type": "stream",
     "text": [
      "Бундай ҳарф йўқ.\n",
      "ИШ-И---\n",
      "Шу вақтгача киритган ҳарфларингиз: ВАЛЙШИЧЯТРПНГ\n"
     ]
    },
    {
     "name": "stdin",
     "output_type": "stream",
     "text": [
      "Ҳарф киритинг:  д\n"
     ]
    },
    {
     "name": "stdout",
     "output_type": "stream",
     "text": [
      "Бундай ҳарф йўқ.\n",
      "ИШ-И---\n",
      "Шу вақтгача киритган ҳарфларингиз: ВАЛЙШИЧЯТРПНГД\n"
     ]
    },
    {
     "name": "stdin",
     "output_type": "stream",
     "text": [
      "Ҳарф киритинг:  х\n"
     ]
    },
    {
     "name": "stdout",
     "output_type": "stream",
     "text": [
      "Бундай ҳарф йўқ.\n",
      "ИШ-И---\n",
      "Шу вақтгача киритган ҳарфларингиз: ВАЛЙШИЧЯТРПНГДХ\n"
     ]
    },
    {
     "name": "stdin",
     "output_type": "stream",
     "text": [
      "Ҳарф киритинг:  қ\n"
     ]
    },
    {
     "name": "stdout",
     "output_type": "stream",
     "text": [
      "Қ ҳарфи тўғри.\n",
      "ИШҚИ---\n",
      "Шу вақтгача киритган ҳарфларингиз: ВАЛЙШИЧЯТРПНГДХҚ\n"
     ]
    },
    {
     "name": "stdin",
     "output_type": "stream",
     "text": [
      "Ҳарф киритинг:  ҳ\n"
     ]
    },
    {
     "name": "stdout",
     "output_type": "stream",
     "text": [
      "Бундай ҳарф йўқ.\n",
      "ИШҚИ---\n",
      "Шу вақтгача киритган ҳарфларингиз: ВАЛЙШИЧЯТРПНГДХҚҲ\n"
     ]
    },
    {
     "name": "stdin",
     "output_type": "stream",
     "text": [
      "Ҳарф киритинг:  з\n"
     ]
    },
    {
     "name": "stdout",
     "output_type": "stream",
     "text": [
      "З ҳарфи тўғри.\n",
      "ИШҚИ--З\n",
      "Шу вақтгача киритган ҳарфларингиз: ВАЛЙШИЧЯТРПНГДХҚҲЗ\n"
     ]
    },
    {
     "name": "stdin",
     "output_type": "stream",
     "text": [
      "Ҳарф киритинг:  е\n"
     ]
    },
    {
     "name": "stdout",
     "output_type": "stream",
     "text": [
      "Бундай ҳарф йўқ.\n",
      "ИШҚИ--З\n",
      "Шу вақтгача киритган ҳарфларингиз: ВАЛЙШИЧЯТРПНГДХҚҲЗЕ\n"
     ]
    },
    {
     "name": "stdin",
     "output_type": "stream",
     "text": [
      "Ҳарф киритинг:  с\n"
     ]
    },
    {
     "name": "stdout",
     "output_type": "stream",
     "text": [
      "Бундай ҳарф йўқ.\n",
      "ИШҚИ--З\n",
      "Шу вақтгача киритган ҳарфларингиз: ВАЛЙШИЧЯТРПНГДХҚҲЗЕС\n"
     ]
    },
    {
     "name": "stdin",
     "output_type": "stream",
     "text": [
      "Ҳарф киритинг:  м\n"
     ]
    },
    {
     "name": "stdout",
     "output_type": "stream",
     "text": [
      "Бундай ҳарф йўқ.\n",
      "ИШҚИ--З\n",
      "Шу вақтгача киритган ҳарфларингиз: ВАЛЙШИЧЯТРПНГДХҚҲЗЕСМ\n"
     ]
    },
    {
     "name": "stdin",
     "output_type": "stream",
     "text": [
      "Ҳарф киритинг:  б\n"
     ]
    },
    {
     "name": "stdout",
     "output_type": "stream",
     "text": [
      "Б ҳарфи тўғри.\n",
      "ИШҚИБ-З\n",
      "Шу вақтгача киритган ҳарфларингиз: ВАЛЙШИЧЯТРПНГДХҚҲЗЕСМБ\n"
     ]
    },
    {
     "name": "stdin",
     "output_type": "stream",
     "text": [
      "Ҳарф киритинг:  у\n"
     ]
    },
    {
     "name": "stdout",
     "output_type": "stream",
     "text": [
      "Бундай ҳарф йўқ.\n",
      "ИШҚИБ-З\n",
      "Шу вақтгача киритган ҳарфларингиз: ВАЛЙШИЧЯТРПНГДХҚҲЗЕСМБУ\n"
     ]
    },
    {
     "name": "stdin",
     "output_type": "stream",
     "text": [
      "Ҳарф киритинг:  о\n"
     ]
    },
    {
     "name": "stdout",
     "output_type": "stream",
     "text": [
      "О ҳарфи тўғри.\n",
      "Табриклайман! ИШҚИБОЗ сўзини 24 та уринишда топдингиз.\n"
     ]
    }
   ],
   "source": [
    "play()"
   ]
  },
  {
   "cell_type": "code",
   "execution_count": null,
   "id": "b853d0e7-0734-4bcf-8e12-0c23390de327",
   "metadata": {},
   "outputs": [],
   "source": []
  }
 ],
 "metadata": {
  "kernelspec": {
   "display_name": "Python 3 (ipykernel)",
   "language": "python",
   "name": "python3"
  },
  "language_info": {
   "codemirror_mode": {
    "name": "ipython",
    "version": 3
   },
   "file_extension": ".py",
   "mimetype": "text/x-python",
   "name": "python",
   "nbconvert_exporter": "python",
   "pygments_lexer": "ipython3",
   "version": "3.12.1"
  }
 },
 "nbformat": 4,
 "nbformat_minor": 5
}
