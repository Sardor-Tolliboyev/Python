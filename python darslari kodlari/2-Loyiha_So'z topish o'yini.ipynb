{
 "cells": [
  {
   "cell_type": "code",
   "execution_count": 2,
   "id": "4d5e2288-2d51-457c-a51d-95d2341f111f",
   "metadata": {},
   "outputs": [],
   "source": [
    "# So'z topish o'yini"
   ]
  },
  {
   "cell_type": "code",
   "execution_count": 3,
   "id": "a7b7ffb8-43fd-4284-8523-2257ad663902",
   "metadata": {},
   "outputs": [],
   "source": [
    "# choice — bu Python'dagi random moduliga tegishli funksiya bo‘lib, ro'yxat, matn yoki boshqa ketma-ketlik (list, tuple, string) ichidan bitta tasodifiy elementni tanlab beradi."
   ]
  },
  {
   "cell_type": "code",
   "execution_count": 4,
   "id": "446f163e-553c-43dd-ba3f-1a15902e04a5",
   "metadata": {},
   "outputs": [],
   "source": [
    "import random\n",
    "from uzwords import words\n",
    "\n",
    "def get_word():\n",
    "    word = random.choice(words)\n",
    "    while \"-\" in word or ' ' in word:\n",
    "        word = random.choice(words)    \n",
    "    return word.upper()\n",
    "\n",
    "def display(user_letters,word):\n",
    "    display_letter=\"\"\n",
    "    for letter in word:\n",
    "        if letter in user_letters:\n",
    "            display_letter += letter\n",
    "        else:\n",
    "            display_letter += \"-\"\n",
    "    return display_letter\n",
    "\n",
    "def play():\n",
    "    word = get_word()\n",
    "    # So'zdagi harflar\n",
    "    word_letters = set(word)\n",
    "    # Foydalanuvchi kiritgan harflar\n",
    "    user_letters = ''\n",
    "    print(f\"Мен {len(word)} хонали сўз ўйладим. Топа оласизми?\")\n",
    "    # print(word)\n",
    "    while word_letters:\n",
    "        print(display(user_letters,word))\n",
    "        if user_letters:\n",
    "            print(f\"Шу вақтгача киритган ҳарфларингиз: {user_letters}\")\n",
    "        \n",
    "        letter = input(\"Ҳарф киритинг: \").upper()\n",
    "        if letter in user_letters:\n",
    "            print(\"Бу ҳарфни аввал киритгансиз. Бошқа ҳарф киритинг.\")\n",
    "            continue        \n",
    "        elif letter in word:\n",
    "            word_letters.remove(letter)\n",
    "            print(f\"{letter} ҳарфи тўғри.\")\n",
    "        else:\n",
    "            print(\"Бундай ҳарф йўқ.\")\n",
    "        user_letters += letter\n",
    "    print(f\"Табриклайман! {word} сўзини {len(user_letters)} та уринишда топдингиз.\")"
   ]
  },
  {
   "cell_type": "code",
   "execution_count": 5,
   "id": "a27f451e-4b00-4426-bea8-9120ca403df0",
   "metadata": {},
   "outputs": [
    {
     "name": "stdout",
     "output_type": "stream",
     "text": [
      "Мен 5 хонали сўз ўйладим. Топа оласизми?\n",
      "-----\n"
     ]
    },
    {
     "name": "stdin",
     "output_type": "stream",
     "text": [
      "Ҳарф киритинг:  р\n"
     ]
    },
    {
     "name": "stdout",
     "output_type": "stream",
     "text": [
      "Бундай ҳарф йўқ.\n",
      "-----\n",
      "Шу вақтгача киритган ҳарфларингиз: Р\n"
     ]
    },
    {
     "name": "stdin",
     "output_type": "stream",
     "text": [
      "Ҳарф киритинг:  з\n"
     ]
    },
    {
     "name": "stdout",
     "output_type": "stream",
     "text": [
      "Бундай ҳарф йўқ.\n",
      "-----\n",
      "Шу вақтгача киритган ҳарфларингиз: РЗ\n"
     ]
    },
    {
     "name": "stdin",
     "output_type": "stream",
     "text": [
      "Ҳарф киритинг:  а\n"
     ]
    },
    {
     "name": "stdout",
     "output_type": "stream",
     "text": [
      "Бундай ҳарф йўқ.\n",
      "-----\n",
      "Шу вақтгача киритган ҳарфларингиз: РЗА\n"
     ]
    },
    {
     "name": "stdin",
     "output_type": "stream",
     "text": [
      "Ҳарф киритинг:  о\n"
     ]
    },
    {
     "name": "stdout",
     "output_type": "stream",
     "text": [
      "О ҳарфи тўғри.\n",
      "---О-\n",
      "Шу вақтгача киритган ҳарфларингиз: РЗАО\n"
     ]
    },
    {
     "name": "stdin",
     "output_type": "stream",
     "text": [
      "Ҳарф киритинг:  й\n"
     ]
    },
    {
     "name": "stdout",
     "output_type": "stream",
     "text": [
      "Бундай ҳарф йўқ.\n",
      "---О-\n",
      "Шу вақтгача киритган ҳарфларингиз: РЗАОЙ\n"
     ]
    },
    {
     "name": "stdin",
     "output_type": "stream",
     "text": [
      "Ҳарф киритинг:  ч\n"
     ]
    },
    {
     "name": "stdout",
     "output_type": "stream",
     "text": [
      "Бундай ҳарф йўқ.\n",
      "---О-\n",
      "Шу вақтгача киритган ҳарфларингиз: РЗАОЙЧ\n"
     ]
    },
    {
     "name": "stdin",
     "output_type": "stream",
     "text": [
      "Ҳарф киритинг:  м\n"
     ]
    },
    {
     "name": "stdout",
     "output_type": "stream",
     "text": [
      "Бундай ҳарф йўқ.\n",
      "---О-\n",
      "Шу вақтгача киритган ҳарфларингиз: РЗАОЙЧМ\n"
     ]
    },
    {
     "name": "stdin",
     "output_type": "stream",
     "text": [
      "Ҳарф киритинг:  т\n"
     ]
    },
    {
     "name": "stdout",
     "output_type": "stream",
     "text": [
      "Бундай ҳарф йўқ.\n",
      "---О-\n",
      "Шу вақтгача киритган ҳарфларингиз: РЗАОЙЧМТ\n"
     ]
    },
    {
     "name": "stdin",
     "output_type": "stream",
     "text": [
      "Ҳарф киритинг:  в\n"
     ]
    },
    {
     "name": "stdout",
     "output_type": "stream",
     "text": [
      "Бундай ҳарф йўқ.\n",
      "---О-\n",
      "Шу вақтгача киритган ҳарфларингиз: РЗАОЙЧМТВ\n"
     ]
    },
    {
     "name": "stdin",
     "output_type": "stream",
     "text": [
      "Ҳарф киритинг:  у\n"
     ]
    },
    {
     "name": "stdout",
     "output_type": "stream",
     "text": [
      "Бундай ҳарф йўқ.\n",
      "---О-\n",
      "Шу вақтгача киритган ҳарфларингиз: РЗАОЙЧМТВУ\n"
     ]
    },
    {
     "name": "stdin",
     "output_type": "stream",
     "text": [
      "Ҳарф киритинг:  к\n"
     ]
    },
    {
     "name": "stdout",
     "output_type": "stream",
     "text": [
      "Бундай ҳарф йўқ.\n",
      "---О-\n",
      "Шу вақтгача киритган ҳарфларингиз: РЗАОЙЧМТВУК\n"
     ]
    },
    {
     "name": "stdin",
     "output_type": "stream",
     "text": [
      "Ҳарф киритинг:  н\n"
     ]
    },
    {
     "name": "stdout",
     "output_type": "stream",
     "text": [
      "Бундай ҳарф йўқ.\n",
      "---О-\n",
      "Шу вақтгача киритган ҳарфларингиз: РЗАОЙЧМТВУКН\n"
     ]
    },
    {
     "name": "stdin",
     "output_type": "stream",
     "text": [
      "Ҳарф киритинг:  г\n"
     ]
    },
    {
     "name": "stdout",
     "output_type": "stream",
     "text": [
      "Бундай ҳарф йўқ.\n",
      "---О-\n",
      "Шу вақтгача киритган ҳарфларингиз: РЗАОЙЧМТВУКНГ\n"
     ]
    },
    {
     "name": "stdin",
     "output_type": "stream",
     "text": [
      "Ҳарф киритинг:  ш\n"
     ]
    },
    {
     "name": "stdout",
     "output_type": "stream",
     "text": [
      "Бундай ҳарф йўқ.\n",
      "---О-\n",
      "Шу вақтгача киритган ҳарфларингиз: РЗАОЙЧМТВУКНГШ\n"
     ]
    },
    {
     "name": "stdin",
     "output_type": "stream",
     "text": [
      "Ҳарф киритинг:  ф\n"
     ]
    },
    {
     "name": "stdout",
     "output_type": "stream",
     "text": [
      "Бундай ҳарф йўқ.\n",
      "---О-\n",
      "Шу вақтгача киритган ҳарфларингиз: РЗАОЙЧМТВУКНГШФ\n"
     ]
    },
    {
     "name": "stdin",
     "output_type": "stream",
     "text": [
      "Ҳарф киритинг:  л\n"
     ]
    },
    {
     "name": "stdout",
     "output_type": "stream",
     "text": [
      "Бундай ҳарф йўқ.\n",
      "---О-\n",
      "Шу вақтгача киритган ҳарфларингиз: РЗАОЙЧМТВУКНГШФЛ\n"
     ]
    },
    {
     "name": "stdin",
     "output_type": "stream",
     "text": [
      "Ҳарф киритинг:  д\n"
     ]
    },
    {
     "name": "stdout",
     "output_type": "stream",
     "text": [
      "Бундай ҳарф йўқ.\n",
      "---О-\n",
      "Шу вақтгача киритган ҳарфларингиз: РЗАОЙЧМТВУКНГШФЛД\n"
     ]
    },
    {
     "name": "stdin",
     "output_type": "stream",
     "text": [
      "Ҳарф киритинг:  с\n"
     ]
    },
    {
     "name": "stdout",
     "output_type": "stream",
     "text": [
      "С ҳарфи тўғри.\n",
      "-С-О-\n",
      "Шу вақтгача киритган ҳарфларингиз: РЗАОЙЧМТВУКНГШФЛДС\n"
     ]
    },
    {
     "name": "stdin",
     "output_type": "stream",
     "text": [
      "Ҳарф киритинг:  б\n"
     ]
    },
    {
     "name": "stdout",
     "output_type": "stream",
     "text": [
      "Бундай ҳарф йўқ.\n",
      "-С-О-\n",
      "Шу вақтгача киритган ҳарфларингиз: РЗАОЙЧМТВУКНГШФЛДСБ\n"
     ]
    },
    {
     "name": "stdin",
     "output_type": "stream",
     "text": [
      "Ҳарф киритинг:  ю\n"
     ]
    },
    {
     "name": "stdout",
     "output_type": "stream",
     "text": [
      "Бундай ҳарф йўқ.\n",
      "-С-О-\n",
      "Шу вақтгача киритган ҳарфларингиз: РЗАОЙЧМТВУКНГШФЛДСБЮ\n"
     ]
    },
    {
     "name": "stdin",
     "output_type": "stream",
     "text": [
      "Ҳарф киритинг:  ж\n"
     ]
    },
    {
     "name": "stdout",
     "output_type": "stream",
     "text": [
      "Бундай ҳарф йўқ.\n",
      "-С-О-\n",
      "Шу вақтгача киритган ҳарфларингиз: РЗАОЙЧМТВУКНГШФЛДСБЮЖ\n"
     ]
    },
    {
     "name": "stdin",
     "output_type": "stream",
     "text": [
      "Ҳарф киритинг:  р\n"
     ]
    },
    {
     "name": "stdout",
     "output_type": "stream",
     "text": [
      "Бу ҳарфни аввал киритгансиз. Бошқа ҳарф киритинг.\n",
      "-С-О-\n",
      "Шу вақтгача киритган ҳарфларингиз: РЗАОЙЧМТВУКНГШФЛДСБЮЖ\n"
     ]
    },
    {
     "name": "stdin",
     "output_type": "stream",
     "text": [
      "Ҳарф киритинг:  ч\n"
     ]
    },
    {
     "name": "stdout",
     "output_type": "stream",
     "text": [
      "Бу ҳарфни аввал киритгансиз. Бошқа ҳарф киритинг.\n",
      "-С-О-\n",
      "Шу вақтгача киритган ҳарфларингиз: РЗАОЙЧМТВУКНГШФЛДСБЮЖ\n"
     ]
    },
    {
     "name": "stdin",
     "output_type": "stream",
     "text": [
      "Ҳарф киритинг:  ц\n"
     ]
    },
    {
     "name": "stdout",
     "output_type": "stream",
     "text": [
      "Бундай ҳарф йўқ.\n",
      "-С-О-\n",
      "Шу вақтгача киритган ҳарфларингиз: РЗАОЙЧМТВУКНГШФЛДСБЮЖЦ\n"
     ]
    },
    {
     "name": "stdin",
     "output_type": "stream",
     "text": [
      "Ҳарф киритинг:  й\n"
     ]
    },
    {
     "name": "stdout",
     "output_type": "stream",
     "text": [
      "Бу ҳарфни аввал киритгансиз. Бошқа ҳарф киритинг.\n",
      "-С-О-\n",
      "Шу вақтгача киритган ҳарфларингиз: РЗАОЙЧМТВУКНГШФЛДСБЮЖЦ\n"
     ]
    },
    {
     "name": "stdin",
     "output_type": "stream",
     "text": [
      "Ҳарф киритинг:  п\n"
     ]
    },
    {
     "name": "stdout",
     "output_type": "stream",
     "text": [
      "Бундай ҳарф йўқ.\n",
      "-С-О-\n",
      "Шу вақтгача киритган ҳарфларингиз: РЗАОЙЧМТВУКНГШФЛДСБЮЖЦП\n"
     ]
    },
    {
     "name": "stdin",
     "output_type": "stream",
     "text": [
      "Ҳарф киритинг:  х\n"
     ]
    },
    {
     "name": "stdout",
     "output_type": "stream",
     "text": [
      "Бундай ҳарф йўқ.\n",
      "-С-О-\n",
      "Шу вақтгача киритган ҳарфларингиз: РЗАОЙЧМТВУКНГШФЛДСБЮЖЦПХ\n"
     ]
    },
    {
     "name": "stdin",
     "output_type": "stream",
     "text": [
      "Ҳарф киритинг:  ё\n"
     ]
    },
    {
     "name": "stdout",
     "output_type": "stream",
     "text": [
      "Бундай ҳарф йўқ.\n",
      "-С-О-\n",
      "Шу вақтгача киритган ҳарфларингиз: РЗАОЙЧМТВУКНГШФЛДСБЮЖЦПХЁ\n"
     ]
    },
    {
     "name": "stdin",
     "output_type": "stream",
     "text": [
      "Ҳарф киритинг:  е\n"
     ]
    },
    {
     "name": "stdout",
     "output_type": "stream",
     "text": [
      "Бундай ҳарф йўқ.\n",
      "-С-О-\n",
      "Шу вақтгача киритган ҳарфларингиз: РЗАОЙЧМТВУКНГШФЛДСБЮЖЦПХЁЕ\n"
     ]
    },
    {
     "name": "stdin",
     "output_type": "stream",
     "text": [
      "Ҳарф киритинг:  г\n"
     ]
    },
    {
     "name": "stdout",
     "output_type": "stream",
     "text": [
      "Бу ҳарфни аввал киритгансиз. Бошқа ҳарф киритинг.\n",
      "-С-О-\n",
      "Шу вақтгача киритган ҳарфларингиз: РЗАОЙЧМТВУКНГШФЛДСБЮЖЦПХЁЕ\n"
     ]
    },
    {
     "name": "stdin",
     "output_type": "stream",
     "text": [
      "Ҳарф киритинг:  з\n"
     ]
    },
    {
     "name": "stdout",
     "output_type": "stream",
     "text": [
      "Бу ҳарфни аввал киритгансиз. Бошқа ҳарф киритинг.\n",
      "-С-О-\n",
      "Шу вақтгача киритган ҳарфларингиз: РЗАОЙЧМТВУКНГШФЛДСБЮЖЦПХЁЕ\n"
     ]
    },
    {
     "name": "stdin",
     "output_type": "stream",
     "text": [
      "Ҳарф киритинг:  й\n"
     ]
    },
    {
     "name": "stdout",
     "output_type": "stream",
     "text": [
      "Бу ҳарфни аввал киритгансиз. Бошқа ҳарф киритинг.\n",
      "-С-О-\n",
      "Шу вақтгача киритган ҳарфларингиз: РЗАОЙЧМТВУКНГШФЛДСБЮЖЦПХЁЕ\n"
     ]
    },
    {
     "name": "stdin",
     "output_type": "stream",
     "text": [
      "Ҳарф киритинг:  ц\n"
     ]
    },
    {
     "name": "stdout",
     "output_type": "stream",
     "text": [
      "Бу ҳарфни аввал киритгансиз. Бошқа ҳарф киритинг.\n",
      "-С-О-\n",
      "Шу вақтгача киритган ҳарфларингиз: РЗАОЙЧМТВУКНГШФЛДСБЮЖЦПХЁЕ\n"
     ]
    },
    {
     "name": "stdin",
     "output_type": "stream",
     "text": [
      "Ҳарф киритинг:  у\n"
     ]
    },
    {
     "name": "stdout",
     "output_type": "stream",
     "text": [
      "Бу ҳарфни аввал киритгансиз. Бошқа ҳарф киритинг.\n",
      "-С-О-\n",
      "Шу вақтгача киритган ҳарфларингиз: РЗАОЙЧМТВУКНГШФЛДСБЮЖЦПХЁЕ\n"
     ]
    },
    {
     "name": "stdin",
     "output_type": "stream",
     "text": [
      "Ҳарф киритинг:  к\n"
     ]
    },
    {
     "name": "stdout",
     "output_type": "stream",
     "text": [
      "Бу ҳарфни аввал киритгансиз. Бошқа ҳарф киритинг.\n",
      "-С-О-\n",
      "Шу вақтгача киритган ҳарфларингиз: РЗАОЙЧМТВУКНГШФЛДСБЮЖЦПХЁЕ\n"
     ]
    },
    {
     "name": "stdin",
     "output_type": "stream",
     "text": [
      "Ҳарф киритинг:  е\n"
     ]
    },
    {
     "name": "stdout",
     "output_type": "stream",
     "text": [
      "Бу ҳарфни аввал киритгансиз. Бошқа ҳарф киритинг.\n",
      "-С-О-\n",
      "Шу вақтгача киритган ҳарфларингиз: РЗАОЙЧМТВУКНГШФЛДСБЮЖЦПХЁЕ\n"
     ]
    },
    {
     "name": "stdin",
     "output_type": "stream",
     "text": [
      "Ҳарф киритинг:  н\n"
     ]
    },
    {
     "name": "stdout",
     "output_type": "stream",
     "text": [
      "Бу ҳарфни аввал киритгансиз. Бошқа ҳарф киритинг.\n",
      "-С-О-\n",
      "Шу вақтгача киритган ҳарфларингиз: РЗАОЙЧМТВУКНГШФЛДСБЮЖЦПХЁЕ\n"
     ]
    },
    {
     "name": "stdin",
     "output_type": "stream",
     "text": [
      "Ҳарф киритинг:  г\n"
     ]
    },
    {
     "name": "stdout",
     "output_type": "stream",
     "text": [
      "Бу ҳарфни аввал киритгансиз. Бошқа ҳарф киритинг.\n",
      "-С-О-\n",
      "Шу вақтгача киритган ҳарфларингиз: РЗАОЙЧМТВУКНГШФЛДСБЮЖЦПХЁЕ\n"
     ]
    },
    {
     "name": "stdin",
     "output_type": "stream",
     "text": [
      "Ҳарф киритинг:  ш\n"
     ]
    },
    {
     "name": "stdout",
     "output_type": "stream",
     "text": [
      "Бу ҳарфни аввал киритгансиз. Бошқа ҳарф киритинг.\n",
      "-С-О-\n",
      "Шу вақтгача киритган ҳарфларингиз: РЗАОЙЧМТВУКНГШФЛДСБЮЖЦПХЁЕ\n"
     ]
    },
    {
     "name": "stdin",
     "output_type": "stream",
     "text": [
      "Ҳарф киритинг:  щ\n"
     ]
    },
    {
     "name": "stdout",
     "output_type": "stream",
     "text": [
      "Бундай ҳарф йўқ.\n",
      "-С-О-\n",
      "Шу вақтгача киритган ҳарфларингиз: РЗАОЙЧМТВУКНГШФЛДСБЮЖЦПХЁЕЩ\n"
     ]
    },
    {
     "name": "stdin",
     "output_type": "stream",
     "text": [
      "Ҳарф киритинг:  \n"
     ]
    },
    {
     "name": "stdout",
     "output_type": "stream",
     "text": [
      "Бу ҳарфни аввал киритгансиз. Бошқа ҳарф киритинг.\n",
      "-С-О-\n",
      "Шу вақтгача киритган ҳарфларингиз: РЗАОЙЧМТВУКНГШФЛДСБЮЖЦПХЁЕЩ\n"
     ]
    },
    {
     "name": "stdin",
     "output_type": "stream",
     "text": [
      "Ҳарф киритинг:  зз\n"
     ]
    },
    {
     "name": "stdout",
     "output_type": "stream",
     "text": [
      "Бундай ҳарф йўқ.\n",
      "-С-О-\n",
      "Шу вақтгача киритган ҳарфларингиз: РЗАОЙЧМТВУКНГШФЛДСБЮЖЦПХЁЕЩЗЗ\n"
     ]
    },
    {
     "name": "stdin",
     "output_type": "stream",
     "text": [
      "Ҳарф киритинг:  х\n"
     ]
    },
    {
     "name": "stdout",
     "output_type": "stream",
     "text": [
      "Бу ҳарфни аввал киритгансиз. Бошқа ҳарф киритинг.\n",
      "-С-О-\n",
      "Шу вақтгача киритган ҳарфларингиз: РЗАОЙЧМТВУКНГШФЛДСБЮЖЦПХЁЕЩЗЗ\n"
     ]
    },
    {
     "name": "stdin",
     "output_type": "stream",
     "text": [
      "Ҳарф киритинг:  ж\n"
     ]
    },
    {
     "name": "stdout",
     "output_type": "stream",
     "text": [
      "Бу ҳарфни аввал киритгансиз. Бошқа ҳарф киритинг.\n",
      "-С-О-\n",
      "Шу вақтгача киритган ҳарфларингиз: РЗАОЙЧМТВУКНГШФЛДСБЮЖЦПХЁЕЩЗЗ\n"
     ]
    },
    {
     "name": "stdin",
     "output_type": "stream",
     "text": [
      "Ҳарф киритинг:  э\n"
     ]
    },
    {
     "name": "stdout",
     "output_type": "stream",
     "text": [
      "Бундай ҳарф йўқ.\n",
      "-С-О-\n",
      "Шу вақтгача киритган ҳарфларингиз: РЗАОЙЧМТВУКНГШФЛДСБЮЖЦПХЁЕЩЗЗЭ\n"
     ]
    },
    {
     "name": "stdin",
     "output_type": "stream",
     "text": [
      "Ҳарф киритинг:  д\n"
     ]
    },
    {
     "name": "stdout",
     "output_type": "stream",
     "text": [
      "Бу ҳарфни аввал киритгансиз. Бошқа ҳарф киритинг.\n",
      "-С-О-\n",
      "Шу вақтгача киритган ҳарфларингиз: РЗАОЙЧМТВУКНГШФЛДСБЮЖЦПХЁЕЩЗЗЭ\n"
     ]
    },
    {
     "name": "stdin",
     "output_type": "stream",
     "text": [
      "Ҳарф киритинг:  л\n"
     ]
    },
    {
     "name": "stdout",
     "output_type": "stream",
     "text": [
      "Бу ҳарфни аввал киритгансиз. Бошқа ҳарф киритинг.\n",
      "-С-О-\n",
      "Шу вақтгача киритган ҳарфларингиз: РЗАОЙЧМТВУКНГШФЛДСБЮЖЦПХЁЕЩЗЗЭ\n"
     ]
    },
    {
     "name": "stdin",
     "output_type": "stream",
     "text": [
      "Ҳарф киритинг:  о\n"
     ]
    },
    {
     "name": "stdout",
     "output_type": "stream",
     "text": [
      "Бу ҳарфни аввал киритгансиз. Бошқа ҳарф киритинг.\n",
      "-С-О-\n",
      "Шу вақтгача киритган ҳарфларингиз: РЗАОЙЧМТВУКНГШФЛДСБЮЖЦПХЁЕЩЗЗЭ\n"
     ]
    },
    {
     "name": "stdin",
     "output_type": "stream",
     "text": [
      "Ҳарф киритинг:  р\n"
     ]
    },
    {
     "name": "stdout",
     "output_type": "stream",
     "text": [
      "Бу ҳарфни аввал киритгансиз. Бошқа ҳарф киритинг.\n",
      "-С-О-\n",
      "Шу вақтгача киритган ҳарфларингиз: РЗАОЙЧМТВУКНГШФЛДСБЮЖЦПХЁЕЩЗЗЭ\n"
     ]
    },
    {
     "name": "stdin",
     "output_type": "stream",
     "text": [
      "Ҳарф киритинг:  п\n"
     ]
    },
    {
     "name": "stdout",
     "output_type": "stream",
     "text": [
      "Бу ҳарфни аввал киритгансиз. Бошқа ҳарф киритинг.\n",
      "-С-О-\n",
      "Шу вақтгача киритган ҳарфларингиз: РЗАОЙЧМТВУКНГШФЛДСБЮЖЦПХЁЕЩЗЗЭ\n"
     ]
    },
    {
     "name": "stdin",
     "output_type": "stream",
     "text": [
      "Ҳарф киритинг:  а\n"
     ]
    },
    {
     "name": "stdout",
     "output_type": "stream",
     "text": [
      "Бу ҳарфни аввал киритгансиз. Бошқа ҳарф киритинг.\n",
      "-С-О-\n",
      "Шу вақтгача киритган ҳарфларингиз: РЗАОЙЧМТВУКНГШФЛДСБЮЖЦПХЁЕЩЗЗЭ\n"
     ]
    },
    {
     "name": "stdin",
     "output_type": "stream",
     "text": [
      "Ҳарф киритинг:  в\n"
     ]
    },
    {
     "name": "stdout",
     "output_type": "stream",
     "text": [
      "Бу ҳарфни аввал киритгансиз. Бошқа ҳарф киритинг.\n",
      "-С-О-\n",
      "Шу вақтгача киритган ҳарфларингиз: РЗАОЙЧМТВУКНГШФЛДСБЮЖЦПХЁЕЩЗЗЭ\n"
     ]
    },
    {
     "name": "stdin",
     "output_type": "stream",
     "text": [
      "Ҳарф киритинг:  ы\n"
     ]
    },
    {
     "name": "stdout",
     "output_type": "stream",
     "text": [
      "Бундай ҳарф йўқ.\n",
      "-С-О-\n",
      "Шу вақтгача киритган ҳарфларингиз: РЗАОЙЧМТВУКНГШФЛДСБЮЖЦПХЁЕЩЗЗЭЫ\n"
     ]
    },
    {
     "name": "stdin",
     "output_type": "stream",
     "text": [
      "Ҳарф киритинг:  ф\n"
     ]
    },
    {
     "name": "stdout",
     "output_type": "stream",
     "text": [
      "Бу ҳарфни аввал киритгансиз. Бошқа ҳарф киритинг.\n",
      "-С-О-\n",
      "Шу вақтгача киритган ҳарфларингиз: РЗАОЙЧМТВУКНГШФЛДСБЮЖЦПХЁЕЩЗЗЭЫ\n"
     ]
    },
    {
     "name": "stdin",
     "output_type": "stream",
     "text": [
      "Ҳарф киритинг:  я\n"
     ]
    },
    {
     "name": "stdout",
     "output_type": "stream",
     "text": [
      "Я ҳарфи тўғри.\n",
      "ЯС-О-\n",
      "Шу вақтгача киритган ҳарфларингиз: РЗАОЙЧМТВУКНГШФЛДСБЮЖЦПХЁЕЩЗЗЭЫЯ\n"
     ]
    },
    {
     "name": "stdin",
     "output_type": "stream",
     "text": [
      "Ҳарф киритинг:  ч\n"
     ]
    },
    {
     "name": "stdout",
     "output_type": "stream",
     "text": [
      "Бу ҳарфни аввал киритгансиз. Бошқа ҳарф киритинг.\n",
      "ЯС-О-\n",
      "Шу вақтгача киритган ҳарфларингиз: РЗАОЙЧМТВУКНГШФЛДСБЮЖЦПХЁЕЩЗЗЭЫЯ\n"
     ]
    },
    {
     "name": "stdin",
     "output_type": "stream",
     "text": [
      "Ҳарф киритинг:  м\n"
     ]
    },
    {
     "name": "stdout",
     "output_type": "stream",
     "text": [
      "Бу ҳарфни аввал киритгансиз. Бошқа ҳарф киритинг.\n",
      "ЯС-О-\n",
      "Шу вақтгача киритган ҳарфларингиз: РЗАОЙЧМТВУКНГШФЛДСБЮЖЦПХЁЕЩЗЗЭЫЯ\n"
     ]
    },
    {
     "name": "stdin",
     "output_type": "stream",
     "text": [
      "Ҳарф киритинг:  т\n"
     ]
    },
    {
     "name": "stdout",
     "output_type": "stream",
     "text": [
      "Бу ҳарфни аввал киритгансиз. Бошқа ҳарф киритинг.\n",
      "ЯС-О-\n",
      "Шу вақтгача киритган ҳарфларингиз: РЗАОЙЧМТВУКНГШФЛДСБЮЖЦПХЁЕЩЗЗЭЫЯ\n"
     ]
    },
    {
     "name": "stdin",
     "output_type": "stream",
     "text": [
      "Ҳарф киритинг:  и\n"
     ]
    },
    {
     "name": "stdout",
     "output_type": "stream",
     "text": [
      "Бундай ҳарф йўқ.\n",
      "ЯС-О-\n",
      "Шу вақтгача киритган ҳарфларингиз: РЗАОЙЧМТВУКНГШФЛДСБЮЖЦПХЁЕЩЗЗЭЫЯИ\n"
     ]
    },
    {
     "name": "stdin",
     "output_type": "stream",
     "text": [
      "Ҳарф киритинг:  ю\n"
     ]
    },
    {
     "name": "stdout",
     "output_type": "stream",
     "text": [
      "Бу ҳарфни аввал киритгансиз. Бошқа ҳарф киритинг.\n",
      "ЯС-О-\n",
      "Шу вақтгача киритган ҳарфларингиз: РЗАОЙЧМТВУКНГШФЛДСБЮЖЦПХЁЕЩЗЗЭЫЯИ\n"
     ]
    },
    {
     "name": "stdin",
     "output_type": "stream",
     "text": [
      "Ҳарф киритинг:  б\n"
     ]
    },
    {
     "name": "stdout",
     "output_type": "stream",
     "text": [
      "Бу ҳарфни аввал киритгансиз. Бошқа ҳарф киритинг.\n",
      "ЯС-О-\n",
      "Шу вақтгача киритган ҳарфларингиз: РЗАОЙЧМТВУКНГШФЛДСБЮЖЦПХЁЕЩЗЗЭЫЯИ\n"
     ]
    },
    {
     "name": "stdin",
     "output_type": "stream",
     "text": [
      "Ҳарф киритинг:  қ\n"
     ]
    },
    {
     "name": "stdout",
     "output_type": "stream",
     "text": [
      "Қ ҳарфи тўғри.\n",
      "Табриклайман! ЯСҚОҚ сўзини 34 та уринишда топдингиз.\n"
     ]
    }
   ],
   "source": [
    "play()"
   ]
  },
  {
   "cell_type": "code",
   "execution_count": null,
   "id": "b853d0e7-0734-4bcf-8e12-0c23390de327",
   "metadata": {},
   "outputs": [],
   "source": []
  }
 ],
 "metadata": {
  "kernelspec": {
   "display_name": "Python 3 (ipykernel)",
   "language": "python",
   "name": "python3"
  },
  "language_info": {
   "codemirror_mode": {
    "name": "ipython",
    "version": 3
   },
   "file_extension": ".py",
   "mimetype": "text/x-python",
   "name": "python",
   "nbconvert_exporter": "python",
   "pygments_lexer": "ipython3",
   "version": "3.12.1"
  }
 },
 "nbformat": 4,
 "nbformat_minor": 5
}
