{
 "cells": [
  {
   "cell_type": "code",
   "execution_count": 1,
   "id": "2de453a9-c3f5-402b-aea5-5d4d1bebc134",
   "metadata": {},
   "outputs": [],
   "source": [
    "#Lug'at elementlari bilan ishlash"
   ]
  },
  {
   "cell_type": "code",
   "execution_count": 3,
   "id": "838cea03-57b5-45a1-99ad-d4d50465d14a",
   "metadata": {},
   "outputs": [],
   "source": [
    "# .items() METODI\n",
    "# Ushbu metod yordamida lug'at ichidagi barcha kalit-qiymat juftliklarini ko'rishimiz mumkin."
   ]
  },
  {
   "cell_type": "code",
   "execution_count": 4,
   "id": "fbb19cc0-7dd0-414a-9a0b-acca4bb1776d",
   "metadata": {},
   "outputs": [
    {
     "name": "stdout",
     "output_type": "stream",
     "text": [
      "dict_items([('ism', 'alijon'), ('familiya', 'shamshiyev'), ('yosh', 22), ('fakultet', 'matematika'), ('kurs', 4)])\n"
     ]
    }
   ],
   "source": [
    "talaba_0 = {\n",
    "    'ism':'alijon',\n",
    "    'familiya':'shamshiyev',\n",
    "    'yosh':22,\n",
    "    'fakultet':'matematika',\n",
    "    'kurs':4\n",
    "    }\n",
    "print(talaba_0.items())"
   ]
  },
  {
   "cell_type": "code",
   "execution_count": 5,
   "id": "a34debac-46f0-444d-b65f-c74b2e0d1456",
   "metadata": {},
   "outputs": [
    {
     "name": "stdout",
     "output_type": "stream",
     "text": [
      "Kalit: ism\n",
      "Qiymat alijon \n",
      "\n",
      "Kalit: familiya\n",
      "Qiymat shamshiyev \n",
      "\n",
      "Kalit: yosh\n",
      "Qiymat 22 \n",
      "\n",
      "Kalit: fakultet\n",
      "Qiymat matematika \n",
      "\n",
      "Kalit: kurs\n",
      "Qiymat 4 \n",
      "\n"
     ]
    }
   ],
   "source": [
    "for kalit, qiymat in talaba_0.items():\n",
    "    print(f\"Kalit: {kalit}\")\n",
    "    print(f\"Qiymat {qiymat} \\n\")"
   ]
  },
  {
   "cell_type": "code",
   "execution_count": 8,
   "id": "b47417a1-7ccb-452d-b1bb-e9e973aca1b5",
   "metadata": {},
   "outputs": [
    {
     "name": "stdout",
     "output_type": "stream",
     "text": [
      "Alining telefoni iphone x\n",
      "Valining telefoni galaxy s9\n",
      "Olimning telefoni mi 10 pro\n",
      "Orifning telefoni nokia 3310\n"
     ]
    }
   ],
   "source": [
    "telefonlar = {\n",
    "    'ali':'iphone x',\n",
    "    'vali':'galaxy s9',\n",
    "    'olim':'mi 10 pro',\n",
    "    'orif':'nokia 3310'\n",
    "    }\n",
    "for k, q in telefonlar.items():\n",
    "    print(f\"{k.title()}ning telefoni {q}\")"
   ]
  },
  {
   "cell_type": "code",
   "execution_count": 9,
   "id": "9d877817-1248-40bb-90a3-dc7928a5d5b1",
   "metadata": {},
   "outputs": [],
   "source": [
    "# .keys() METODI\n",
    "# Agar lug'atdagi kalit so'zlarni ko'rish talab qilinsa, .keys() metodidan foydalanishimiz mumkin."
   ]
  },
  {
   "cell_type": "code",
   "execution_count": 10,
   "id": "3d3d03db-f161-46f5-a167-5e69377bac4a",
   "metadata": {},
   "outputs": [
    {
     "name": "stdout",
     "output_type": "stream",
     "text": [
      "dict_keys(['olma', 'anor', 'uzum', 'anjir', 'shaftoli'])\n"
     ]
    }
   ],
   "source": [
    "mahsulotlar = {\n",
    "    'olma':10000,\n",
    "    'anor':20000,\n",
    "    'uzum':40000,\n",
    "    'anjir':25000,\n",
    "    'shaftoli':30000\n",
    "    }\n",
    "\n",
    "print(mahsulotlar.keys())"
   ]
  },
  {
   "cell_type": "code",
   "execution_count": 12,
   "id": "a80eb15d-75b6-4c1c-bbda-cd47cb9159bf",
   "metadata": {},
   "outputs": [
    {
     "name": "stdout",
     "output_type": "stream",
     "text": [
      "Do'kondagi mahsulotlar:\n",
      "Olma\n",
      "Anor\n",
      "Uzum\n",
      "Anjir\n",
      "Shaftoli\n"
     ]
    }
   ],
   "source": [
    "print(\"Do'kondagi mahsulotlar:\")\n",
    "for mahsulot in mahsulotlar.keys():\n",
    "    print(mahsulot.title())"
   ]
  },
  {
   "cell_type": "code",
   "execution_count": 11,
   "id": "fe003345-58ed-4677-bb73-0b92ac26d9de",
   "metadata": {},
   "outputs": [
    {
     "name": "stdout",
     "output_type": "stream",
     "text": [
      "Do'kondagi mahsulotlar:\n",
      "Olma\n",
      "Anor\n",
      "Uzum\n",
      "Anjir\n",
      "Shaftoli\n"
     ]
    }
   ],
   "source": [
    "print(\"Do'kondagi mahsulotlar:\")\n",
    "for mahsulot in mahsulotlar:\n",
    "    print(mahsulot.title())"
   ]
  },
  {
   "cell_type": "code",
   "execution_count": 13,
   "id": "9cb6ffaf-950e-4ab4-beb3-5836d22a2ec5",
   "metadata": {},
   "outputs": [
    {
     "name": "stdout",
     "output_type": "stream",
     "text": [
      "Anor 20000 so'm\n",
      "Uzum 40000 so'm\n"
     ]
    }
   ],
   "source": [
    "bozorlik = ['anor', 'uzum', 'non', 'baliq']\n",
    "for mahsulot in mahsulotlar:\n",
    "    if mahsulot in bozorlik:\n",
    "        print(f\"{mahsulot.title()} {mahsulotlar[mahsulot]} so'm\")"
   ]
  },
  {
   "cell_type": "code",
   "execution_count": 15,
   "id": "b1e7b520-fdb3-4848-8130-31bfcfc775c6",
   "metadata": {},
   "outputs": [
    {
     "name": "stdout",
     "output_type": "stream",
     "text": [
      "Iltimos, do'koningizga non ham olib keling\n",
      "Iltimos, do'koningizga baliq ham olib keling\n"
     ]
    }
   ],
   "source": [
    "for buyum in bozorlik:\n",
    "    if buyum not in mahsulotlar:\n",
    "        print(f\"Iltimos, do'koningizga {buyum} ham olib keling\")"
   ]
  },
  {
   "cell_type": "code",
   "execution_count": 16,
   "id": "a19bd05f-fa16-4253-9907-7d58fae3e4b1",
   "metadata": {},
   "outputs": [],
   "source": [
    "# Pythonda lug'at elementlari siz (foydalanuvchi) kiritgan tartibda saqlanadi. Agar lug'at\n",
    "# elementlarini alifbo bo'yicha chiqarish talab qilinsa, sorted() funktsiyasidan foydalanamiz."
   ]
  },
  {
   "cell_type": "code",
   "execution_count": 18,
   "id": "c59ea5ff-4d36-4dc1-8972-c05d89494054",
   "metadata": {},
   "outputs": [
    {
     "name": "stdout",
     "output_type": "stream",
     "text": [
      "Do'konimizdagi mahsulotlar: \n",
      "Anjir\n",
      "Anor\n",
      "Olma\n",
      "Shaftoli\n",
      "Uzum\n"
     ]
    }
   ],
   "source": [
    "print(\"Do'konimizdagi mahsulotlar: \")\n",
    "for mahsulot in sorted(mahsulotlar):\n",
    "    print(mahsulot.title())"
   ]
  },
  {
   "cell_type": "code",
   "execution_count": 19,
   "id": "29698977-db7c-4192-acbe-ed4914166b1d",
   "metadata": {},
   "outputs": [],
   "source": [
    "# .values() METODI\n",
    "# Agar lug'atdagi qiymatlarni chiqarish talab qilinsa .values() metodidan foydalanishimiz mumkin."
   ]
  },
  {
   "cell_type": "code",
   "execution_count": 21,
   "id": "26798b71-e5ca-4ccd-a44d-6dd9db0685c9",
   "metadata": {},
   "outputs": [
    {
     "name": "stdout",
     "output_type": "stream",
     "text": [
      "dict_values(['iphone x', 'galaxy s9', 'mi 10 pro', 'nokia 3310'])\n"
     ]
    }
   ],
   "source": [
    "print(telefonlar.values())"
   ]
  },
  {
   "cell_type": "code",
   "execution_count": 23,
   "id": "993faa34-20a9-4cfc-b3bc-eb49542c9242",
   "metadata": {},
   "outputs": [
    {
     "name": "stdout",
     "output_type": "stream",
     "text": [
      "Foydalanuvchilar quyidagi telefonlarni ishlatishadi:\n",
      "iphone x\n",
      "galaxy s9\n",
      "mi 10 pro\n",
      "nokia 3310\n"
     ]
    }
   ],
   "source": [
    "print(\"Foydalanuvchilar quyidagi telefonlarni ishlatishadi:\")\n",
    "for tel in telefonlar.values():\n",
    "    print(tel)"
   ]
  },
  {
   "cell_type": "code",
   "execution_count": 25,
   "id": "6eedb5eb-92a8-4de0-a911-97631f2dd63c",
   "metadata": {},
   "outputs": [
    {
     "name": "stdout",
     "output_type": "stream",
     "text": [
      "Foydalanuvchilar quyidagi telefonlarni ishlatishadi:\n",
      "iphone x\n",
      "galaxy s9\n",
      "mi 10 pro\n",
      "nokia 3310\n",
      "galaxy s9\n",
      "huawei p30\n",
      "iphone x\n",
      "iphone x\n"
     ]
    }
   ],
   "source": [
    "telefonlar = {\n",
    "    'ali':'iphone x',\n",
    "    'vali':'galaxy s9',\n",
    "    'olim':'mi 10 pro',\n",
    "    'orif':'nokia 3310',\n",
    "    'hamida':'galaxy s9',\n",
    "    'maryam':'huawei p30',\n",
    "    'tohir':'iphone x',\n",
    "    'umar':'iphone x'\n",
    "    }\n",
    "\n",
    "print(\"Foydalanuvchilar quyidagi telefonlarni ishlatishadi:\")\n",
    "for tel in telefonlar.values():\n",
    "    print(tel)"
   ]
  },
  {
   "cell_type": "code",
   "execution_count": 26,
   "id": "0f37c9ce-87df-4667-b034-bc5fee32eea5",
   "metadata": {},
   "outputs": [],
   "source": [
    "# Yuoqirdagi natijaga e'tibor bersanigz, bir nechta foydalanuvchilar \n",
    "# iphone x va galaxy s9 telefonidan foydalanishar ekan, va bu modellar qayta-qayta konsolga chiqdi.\n",
    "# Buning oldini olish uchun set() funktsiyasidan foydalanishimiz mumkin."
   ]
  },
  {
   "cell_type": "code",
   "execution_count": 28,
   "id": "f94f6871-9966-4b1e-a8a8-9b3cfd9e4545",
   "metadata": {},
   "outputs": [
    {
     "name": "stdout",
     "output_type": "stream",
     "text": [
      "Foydalanuvchilar quyidagi telefonlarni ishlatishadi:\n",
      "mi 10 pro\n",
      "huawei p30\n",
      "nokia 3310\n",
      "galaxy s9\n",
      "iphone x\n"
     ]
    }
   ],
   "source": [
    "print(\"Foydalanuvchilar quyidagi telefonlarni ishlatishadi:\")\n",
    "for tel in set(telefonlar.values()):\n",
    "    print(tel)"
   ]
  },
  {
   "cell_type": "code",
   "execution_count": 29,
   "id": "1c15e601-a776-49f2-90e0-f817b1db98c7",
   "metadata": {},
   "outputs": [],
   "source": [
    "# Amaliyot"
   ]
  },
  {
   "cell_type": "code",
   "execution_count": 31,
   "id": "d81ba136-9e9a-47d2-b8af-c377c178983c",
   "metadata": {},
   "outputs": [],
   "source": [
    "# Python izohli lug'atini yarating va lug'atga kamida 10 ta so'z qo'shing. Lug'atdagi har bir kalit\n",
    "# va qiymatni for tsikli yordamida, alifbo ketma-ketligida chiroyli qilib konsolga chiqaring."
   ]
  },
  {
   "cell_type": "code",
   "execution_count": 35,
   "id": "d425ff25-efb0-46b3-b28c-14a324546899",
   "metadata": {},
   "outputs": [
    {
     "name": "stdout",
     "output_type": "stream",
     "text": [
      "Boolean-Mantiqiy qiymat\n",
      "Float-O'nlik son\n",
      "For-Biror amalni  qayta-qayta bajarish tsikli\n",
      "If-Shartlarni tekshirish operatori\n",
      "Integer-Butun son\n"
     ]
    }
   ],
   "source": [
    "tarjimon = {\n",
    "    'Boolean':'Mantiqiy qiymat',\n",
    "    'Float':\"O'nlik son\",\n",
    "    'For':'Biror amalni  qayta-qayta bajarish tsikli',\n",
    "    'Integer':'Butun son',\n",
    "    'If':'Shartlarni tekshirish operatori'\n",
    "    }\n",
    "for n in sorted(tarjimon):\n",
    "    print(f\"{n}-{tarjimon[n]}\")"
   ]
  },
  {
   "cell_type": "code",
   "execution_count": 36,
   "id": "53a0e722-c32e-4f24-be91-4c280ef0b95b",
   "metadata": {},
   "outputs": [],
   "source": [
    "# Davlatlar va ularning poytaxtlari lug'atini tuzing. Avval lug'atdagi davlatlarni, keyin\n",
    "# poytaxtlarni alohida-alohida, alifbo ketma-ketligida konsolga chiqaring.\n"
   ]
  },
  {
   "cell_type": "code",
   "execution_count": 40,
   "id": "3fd02f5f-b3ea-4fed-9f7f-ec2c2a2757e2",
   "metadata": {},
   "outputs": [
    {
     "name": "stdout",
     "output_type": "stream",
     "text": [
      "Davlatlar: \t Davlatlarning poytaxtlari:\n",
      "AQSH \t WASHINGTON\n",
      "ITALIYA \t RIM\n",
      "O'ZBEKISTON \t TOSHKENT\n",
      "ROSSIYA \t MOSKVA\n",
      "TOJIKISTON \t DUSHANBE\n"
     ]
    }
   ],
   "source": [
    "d_p = {\n",
    "    \"o'zbekiston\":\"toshkent\",\n",
    "    'tojikiston':'dushanbe',\n",
    "    'aqsh':'washington',\n",
    "    'rossiya':'moskva',\n",
    "    'italiya':'rim'\n",
    "    }\n",
    "print(f\"Davlatlar: \\t Davlatlarning poytaxtlari:\")\n",
    "for d, p in sorted(d_p.items()):\n",
    "    print(f\"{d.upper()} \\t {p.upper()}\")"
   ]
  },
  {
   "cell_type": "code",
   "execution_count": 41,
   "id": "a1afc1f9-0500-4c0b-8de0-ae2e44d62633",
   "metadata": {},
   "outputs": [],
   "source": [
    "# Foydalanuvchidan istalgan davlatni kiritishni so'rang va shu davlatning poytaxtini konsolga\n",
    "# chiqaring. Agar foydalanuvchi lug'atda yo'q davlatni kiritsa, \"Bizda bunday ma'lumot yo'q\"\n",
    "# degan xabarni chiqaring."
   ]
  },
  {
   "cell_type": "code",
   "execution_count": 42,
   "id": "15adce8e-fe12-4a58-9211-597b66969240",
   "metadata": {},
   "outputs": [],
   "source": [
    "d_p = {\n",
    "    \"o'zbekiston\":\"toshkent\",\n",
    "    'tojikiston':'dushanbe',\n",
    "    'aqsh':'washington',\n",
    "    'rossiya':'moskva',\n",
    "    'italiya':'rim'\n",
    "    }"
   ]
  },
  {
   "cell_type": "code",
   "execution_count": 48,
   "id": "f60fc2c6-cbe1-4201-884e-951cae813ee8",
   "metadata": {},
   "outputs": [
    {
     "name": "stdin",
     "output_type": "stream",
     "text": [
      "Qaysi davlat poytaxtini bilishni hohlaysiz?  aqsh\n"
     ]
    },
    {
     "name": "stdout",
     "output_type": "stream",
     "text": [
      "AQSHning poytaxti WASHINGTON\n"
     ]
    }
   ],
   "source": [
    "davlat = input(\"Qaysi davlat poytaxtini bilishni hohlaysiz? \")\n",
    "if davlat in d_p:\n",
    "    print(f\"{davlat.upper()}ning poytaxti {d_p[davlat].upper()}\")"
   ]
  },
  {
   "cell_type": "code",
   "execution_count": 49,
   "id": "f9ab6120-653f-42c3-80ed-bd55953a2869",
   "metadata": {},
   "outputs": [],
   "source": [
    "# Restoran menusi lug'atini tuzing (kamida 10 ta taom-narh juftligini kiriting).\n",
    "# Foydalanuvchidan 3 ta ovqat buyurtma berishni so'rang. Foydalanuvchi kiritgan taomlarni\n",
    "# menu bilan solishtiring, agar taom menuda bo'lsa narhini ko'rsating, aks holda \"bizda bunday\n",
    "# taom yo'q\" degan xabarni chiqaring."
   ]
  },
  {
   "cell_type": "code",
   "execution_count": 74,
   "id": "07c8e578-e89f-4c1a-bad9-966b1eafac31",
   "metadata": {},
   "outputs": [],
   "source": [
    "taomlar = {\n",
    "    'osh':40000,\n",
    "    'manti':10000,\n",
    "    'non':4000,\n",
    "    'xonim':15000,\n",
    "    'lavash':30000,\n",
    "    'shorbo':35000,\n",
    "    'lagman':35000,\n",
    "    'fri':18000,\n",
    "    'befshteks':25000,\n",
    "    'somsa':5000\n",
    "    }"
   ]
  },
  {
   "cell_type": "code",
   "execution_count": 84,
   "id": "ea22b20f-9d4e-429e-b7ff-87cbd9cbd179",
   "metadata": {},
   "outputs": [
    {
     "name": "stdout",
     "output_type": "stream",
     "text": [
      "3 ta taom buyurtma bering \n"
     ]
    },
    {
     "name": "stdin",
     "output_type": "stream",
     "text": [
      "1-taom: osh\n",
      "2-taom: xoddog\n",
      "3-taom: non\n"
     ]
    },
    {
     "name": "stdout",
     "output_type": "stream",
     "text": [
      "osh 40000 so'm\n",
      "Bizda bunday taom yo'q.\n",
      "non 4000 so'm\n"
     ]
    }
   ],
   "source": [
    "print(\"3 ta taom buyurtma bering \") \n",
    "buyurtmalar = []\n",
    "for i in range(3):\n",
    "    buyurtmalar.append(input(f\"{i+1}-taom:\").lower())\n",
    "for buyurtma in buyurtmalar:\n",
    "    if buyurtma in taomlar:\n",
    "        print(f\"{buyurtma} {taomlar[buyurtma]} so'm\")\n",
    "    else: print(\"Bizda bunday taom yo'q.\")"
   ]
  },
  {
   "cell_type": "code",
   "execution_count": null,
   "id": "9ec819e4-647d-47ab-97fc-adb74eff0e6b",
   "metadata": {},
   "outputs": [],
   "source": []
  }
 ],
 "metadata": {
  "kernelspec": {
   "display_name": "Python 3 (ipykernel)",
   "language": "python",
   "name": "python3"
  },
  "language_info": {
   "codemirror_mode": {
    "name": "ipython",
    "version": 3
   },
   "file_extension": ".py",
   "mimetype": "text/x-python",
   "name": "python",
   "nbconvert_exporter": "python",
   "pygments_lexer": "ipython3",
   "version": "3.12.1"
  }
 },
 "nbformat": 4,
 "nbformat_minor": 5
}
