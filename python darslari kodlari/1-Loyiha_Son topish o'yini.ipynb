{
 "cells": [
  {
   "cell_type": "code",
   "execution_count": 1,
   "id": "db078a1b-8793-440b-bdc8-005e59559ea8",
   "metadata": {},
   "outputs": [],
   "source": [
    "# son topish o'yini"
   ]
  },
  {
   "cell_type": "code",
   "execution_count": 2,
   "id": "af8cbb4d-b8bd-45df-b4aa-bc4fcddaf513",
   "metadata": {},
   "outputs": [],
   "source": [
    "import random"
   ]
  },
  {
   "cell_type": "code",
   "execution_count": 24,
   "id": "b71b358b-a5fb-4757-bf72-c1f16733c52c",
   "metadata": {},
   "outputs": [],
   "source": [
    "def SONTOP(x = 10):\n",
    "    tasodifiy_r = random.randint(1, x)\n",
    "    print(f\"Men 1 dan {x} gacha son o'yladim, topa olasizmi?\", end='')\n",
    "    taxminlar = 0\n",
    "    while True:\n",
    "        taxminlar += 1\n",
    "        taxmin = int(input(\">\"))\n",
    "        if taxmin < tasodifiy_r:\n",
    "            print(\"Xato, men o'ylagan son bundan katta. Yana harakat qiling:\", end='')\n",
    "        elif taxmin > tasodifiy_r:\n",
    "            print(\"Xato, men o'ylagan son bundan kichik. Yana harakat qiling:\", end='')\n",
    "        else:\n",
    "            break\n",
    "            \n",
    "    print(f\"Tabriklayman. {taxminlar} urinishda topdingiz!\")\n",
    "    return taxminlar"
   ]
  },
  {
   "cell_type": "code",
   "execution_count": 25,
   "id": "ed8bede9-6e33-4899-8f1a-ffdb160d8966",
   "metadata": {},
   "outputs": [],
   "source": [
    "def sontopadi(x = 10):\n",
    "    input(f\" 1 dan {x} gacha son o'ylang va istalgan son yozing. Men topaman:\")\n",
    "    kichik = 1\n",
    "    katta = x\n",
    "    taxminlar = 0\n",
    "    while True:\n",
    "        taxminlar += 1\n",
    "        if kichik != katta:\n",
    "            taxmin = random.randint(kichik, katta)\n",
    "        else:\n",
    "            taxmin = kichik\n",
    "        javob = input(f\"Siz {taxmin} sonni o'yladingiz: to'g'ri (t), \"\n",
    "                      f\"men o'ylagan son bundan katta (+), yoki kichik (-)\".lower())\n",
    "        if javob == '-':\n",
    "            katta = taxmin - 1\n",
    "        elif javob == '+':\n",
    "            quyi = taxmin + 1\n",
    "        else:\n",
    "            break\n",
    "    print(f\"Men {taxminlar} ta taxmin bilan topdim!\")\n",
    "    return taxminlar"
   ]
  },
  {
   "cell_type": "code",
   "execution_count": 26,
   "id": "f7e49bff-34e0-48ad-88bb-b99da3507934",
   "metadata": {},
   "outputs": [],
   "source": [
    "def natija(x = 10):\n",
    "    yana = True\n",
    "    while yana:\n",
    "        taxminlar_1 = SONTOP(x)\n",
    "        taxminlar_2 = sontopadi(x)\n",
    "\n",
    "        if taxminlar_1 > taxminlar_2:\n",
    "            print(f\"Men {taxminlar_2} taxmin bilan topdim va yutdim!\")\n",
    "        elif taxminlar_1 < taxminlar_2:\n",
    "            print(f\"Siz {taxminlar_1} taxmin bilan topdingiz va yutdingiz!\")\n",
    "        else:\n",
    "            print(\"Durrang!\")\n",
    "        yana = int(input(\"Yana o'ynaymizmi? (ha(1)/yo'q(0))\"))"
   ]
  },
  {
   "cell_type": "code",
   "execution_count": 27,
   "id": "6a3460cd-ef9d-47d9-b61d-9421cb685d2b",
   "metadata": {},
   "outputs": [
    {
     "name": "stdout",
     "output_type": "stream",
     "text": [
      "Men 1 dan 10 gacha son o'yladim, topa olasizmi?"
     ]
    },
    {
     "name": "stdin",
     "output_type": "stream",
     "text": [
      "> 4\n"
     ]
    },
    {
     "name": "stdout",
     "output_type": "stream",
     "text": [
      "Xato, men o'ylagan son bundan katta. Yana harakat qiling:"
     ]
    },
    {
     "name": "stdin",
     "output_type": "stream",
     "text": [
      "> 6\n"
     ]
    },
    {
     "name": "stdout",
     "output_type": "stream",
     "text": [
      "Xato, men o'ylagan son bundan katta. Yana harakat qiling:"
     ]
    },
    {
     "name": "stdin",
     "output_type": "stream",
     "text": [
      "> 8\n"
     ]
    },
    {
     "name": "stdout",
     "output_type": "stream",
     "text": [
      "Xato, men o'ylagan son bundan katta. Yana harakat qiling:"
     ]
    },
    {
     "name": "stdin",
     "output_type": "stream",
     "text": [
      "> 10\n"
     ]
    },
    {
     "name": "stdout",
     "output_type": "stream",
     "text": [
      "Tabriklayman. 4 urinishda topdingiz!\n"
     ]
    },
    {
     "name": "stdin",
     "output_type": "stream",
     "text": [
      " 1 dan 10 gacha son o'ylang va istalgan son yozing. Men topaman: 5\n",
      "siz 10 sonni o'yladingiz: to'g'ri (t), men o'ylagan son bundan katta (+), yoki kichik (-) -\n",
      "siz 7 sonni o'yladingiz: to'g'ri (t), men o'ylagan son bundan katta (+), yoki kichik (-) -\n",
      "siz 6 sonni o'yladingiz: to'g'ri (t), men o'ylagan son bundan katta (+), yoki kichik (-) -\n",
      "siz 2 sonni o'yladingiz: to'g'ri (t), men o'ylagan son bundan katta (+), yoki kichik (-) +\n",
      "siz 2 sonni o'yladingiz: to'g'ri (t), men o'ylagan son bundan katta (+), yoki kichik (-) +\n",
      "siz 2 sonni o'yladingiz: to'g'ri (t), men o'ylagan son bundan katta (+), yoki kichik (-) +\n",
      "siz 3 sonni o'yladingiz: to'g'ri (t), men o'ylagan son bundan katta (+), yoki kichik (-) +\n",
      "siz 3 sonni o'yladingiz: to'g'ri (t), men o'ylagan son bundan katta (+), yoki kichik (-) +\n",
      "siz 5 sonni o'yladingiz: to'g'ri (t), men o'ylagan son bundan katta (+), yoki kichik (-) t\n"
     ]
    },
    {
     "name": "stdout",
     "output_type": "stream",
     "text": [
      "Men 9 ta taxmin bilan topdim!\n",
      "Siz 4 taxmin bilan topdingiz va yutdingiz!\n"
     ]
    },
    {
     "name": "stdin",
     "output_type": "stream",
     "text": [
      "Yana o'ynaymizmi? (ha(1)/yo'q(0)) 0\n"
     ]
    }
   ],
   "source": [
    "natija()"
   ]
  },
  {
   "cell_type": "code",
   "execution_count": null,
   "id": "24e015f9-76c5-4145-aeb1-35aafb66e297",
   "metadata": {},
   "outputs": [],
   "source": []
  }
 ],
 "metadata": {
  "kernelspec": {
   "display_name": "Python 3 (ipykernel)",
   "language": "python",
   "name": "python3"
  },
  "language_info": {
   "codemirror_mode": {
    "name": "ipython",
    "version": 3
   },
   "file_extension": ".py",
   "mimetype": "text/x-python",
   "name": "python",
   "nbconvert_exporter": "python",
   "pygments_lexer": "ipython3",
   "version": "3.12.1"
  }
 },
 "nbformat": 4,
 "nbformat_minor": 5
}
