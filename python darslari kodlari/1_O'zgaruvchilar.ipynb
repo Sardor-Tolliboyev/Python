{
 "cells": [
  {
   "cell_type": "code",
   "execution_count": 1,
   "id": "24135ddd-cffa-46ea-932d-0cbee1b357a6",
   "metadata": {},
   "outputs": [],
   "source": [
    "#o'zgaruvchilar"
   ]
  },
  {
   "cell_type": "code",
   "execution_count": 5,
   "id": "7d99d43f-df37-4f72-8cb6-a3aa63d56660",
   "metadata": {},
   "outputs": [
    {
     "name": "stdout",
     "output_type": "stream",
     "text": [
      "Hello World\n"
     ]
    }
   ],
   "source": [
    "#-1-\"Hello World!\" matnini yangi o'zgaruvchiga yuklang va print() yordamida konsolga chiqaring\n",
    "n=\"Hello World\"\n",
    "print(n)"
   ]
  },
  {
   "cell_type": "code",
   "execution_count": 6,
   "id": "839381da-af18-4a7d-82c7-2e92f0105de4",
   "metadata": {},
   "outputs": [
    {
     "name": "stdout",
     "output_type": "stream",
     "text": [
      "Salom\n",
      "O'zbekiston\n"
     ]
    }
   ],
   "source": [
    "#-2- xabar deb nomlangan o'zgaruvchiga biror matn yuklang va konsolga chiqaring, keyin esa o'zgaruvchiga yangi qiymat berib uni ham konsolga chiqaring.\n",
    "xabar=\"Salom\"\n",
    "print(xabar)\n",
    "xabar=\"O'zbekiston\"\n",
    "print(xabar)"
   ]
  },
  {
   "cell_type": "code",
   "execution_count": 7,
   "id": "3523ab7d-0318-40e1-9b0a-c5a351421f68",
   "metadata": {},
   "outputs": [
    {
     "ename": "SyntaxError",
     "evalue": "invalid syntax (2649448084.py, line 2)",
     "output_type": "error",
     "traceback": [
      "  \u001b[36mCell\u001b[39m\u001b[36m \u001b[39m\u001b[32mIn[7]\u001b[39m\u001b[32m, line 2\u001b[39m\n\u001b[31m    \u001b[39m\u001b[31mclass=\"salom\"\u001b[39m\n         ^\n\u001b[31mSyntaxError\u001b[39m\u001b[31m:\u001b[39m invalid syntax\n"
     ]
    }
   ],
   "source": [
    "#-3- class deb nomlangan o'zgaruvchi yarating, unga biror qiymat bering va konsolga chiqaring (siz kutgan natija chiqdimi?)\n",
    "class=\"salom\"\n",
    "print(class)\n",
    "//kutilgan natija chiqmadi"
   ]
  },
  {
   "cell_type": "code",
   "execution_count": 9,
   "id": "7ca6f363-401b-4b5d-baa0-e13010083f14",
   "metadata": {},
   "outputs": [
    {
     "name": "stdout",
     "output_type": "stream",
     "text": [
      "Radiusi 5 ga teng bo'lgan aylananing yuzi=78.03975\n"
     ]
    }
   ],
   "source": [
    "#-4-\n",
    "radius = 5\n",
    "pi = 3.12159\n",
    "aylana_yuzi = pi * radius**2\n",
    "print(f\"Radiusi {radius} ga teng bo'lgan aylananing yuzi={aylana_yuzi}\")"
   ]
  },
  {
   "cell_type": "code",
   "execution_count": null,
   "id": "c34f4190-e8ee-4abd-a894-69d50742ab60",
   "metadata": {},
   "outputs": [],
   "source": []
  }
 ],
 "metadata": {
  "kernelspec": {
   "display_name": "Python 3 (ipykernel)",
   "language": "python",
   "name": "python3"
  },
  "language_info": {
   "codemirror_mode": {
    "name": "ipython",
    "version": 3
   },
   "file_extension": ".py",
   "mimetype": "text/x-python",
   "name": "python",
   "nbconvert_exporter": "python",
   "pygments_lexer": "ipython3",
   "version": "3.12.1"
  }
 },
 "nbformat": 4,
 "nbformat_minor": 5
}
