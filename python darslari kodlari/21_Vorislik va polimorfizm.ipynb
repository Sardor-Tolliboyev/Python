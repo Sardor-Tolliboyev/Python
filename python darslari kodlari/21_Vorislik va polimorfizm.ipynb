{
 "cells": [
  {
   "cell_type": "markdown",
   "id": "9900ee55-12cc-448a-bb05-d676af5404a7",
   "metadata": {},
   "source": [
    "## Vorislik va polimorfizm"
   ]
  },
  {
   "cell_type": "markdown",
   "id": "677ad889-98f4-4139-af6f-83ccb22b13ea",
   "metadata": {},
   "source": [
    "SUPER KLASS VA VORIS KLASS"
   ]
  },
  {
   "cell_type": "markdown",
   "id": "6418721e-a66c-4e37-8a6a-9bd1aca0cc8f",
   "metadata": {},
   "source": [
    "Obyektga yo'naltirilgan dasturlashning qulayliklaridan biri bu klasslardan boshqa klass yaratish imkoniyati. Bizga kerak bo'lgan yangi klass, avval yaratilgan boshqa klass bilan o'xshashlik joylari bo'lsa, biz bu klassdan voris klass yaratishimiz mumkin. Bunda asl klass - ota, yoki super klass deb ataladi. \n",
    "\n",
    "Super klassdan yaratilgan voris klass otaning barcha yoki tanlangan xususiyatlari va metodlarini meros olish bilan birga, o'ziga xos xususiyat va metodlariga ega bo'ladi.\n",
    "\n",
    "Keling boshlanishiga Shaxs klassini yaratamiz, bu klassimiz keyinchalik boshqa klasslar uchun super klass vazifasini bajaradi:"
   ]
  },
  {
   "cell_type": "code",
   "execution_count": 2,
   "id": "5659d51f-9954-4060-9f66-3b9e23388908",
   "metadata": {},
   "outputs": [],
   "source": [
    "class Shaxs:\n",
    "    def __init__(self, ism, familiya, passport, tyil):\n",
    "        self.ism = ism\n",
    "        self.familiya = familiya\n",
    "        self.passport = passport\n",
    "        self.tyil = tyil\n",
    "\n",
    "    def get_info(self):\n",
    "        info = f\"{self.ism} {self.familiya}.\"\n",
    "        info += f\"Passport:{self.passport}, {self.tyil}-yilda tug'ilgan\"\n",
    "        return info\n",
    "\n",
    "    def get_age(self, yil):\n",
    "        return yil-self.tyil\n"
   ]
  },
  {
   "cell_type": "code",
   "execution_count": 3,
   "id": "e299ea18-cc74-467a-adad-85fc19c94663",
   "metadata": {},
   "outputs": [
    {
     "name": "stdout",
     "output_type": "stream",
     "text": [
      "Hasan Alimov.Passport:FB001122, 1995-yilda tug'ilgan. 26 yoshda.\n"
     ]
    }
   ],
   "source": [
    "inson = Shaxs(\"Hasan\",\"Alimov\",\"FB001122\",1995)\n",
    "print(f\"{inson.get_info()}. {inson.get_age(2021)} yoshda.\")"
   ]
  },
  {
   "cell_type": "markdown",
   "id": "2fac5bb6-0658-475e-99ae-e663349aa01b",
   "metadata": {},
   "source": [
    "## VORIS KLASS YARATISH"
   ]
  },
  {
   "cell_type": "code",
   "execution_count": 6,
   "id": "6c178926-1d5d-483b-94c0-a311e156902d",
   "metadata": {},
   "outputs": [],
   "source": [
    "class Talaba(Shaxs):\n",
    "    def __init__(self, ism, familiya, passport, tyil):\n",
    "        super().__init__(ism, familiya, passport, tyil)"
   ]
  },
  {
   "cell_type": "code",
   "execution_count": 7,
   "id": "c1a6aa45-7ee9-4f15-9603-05e2c57ba7b0",
   "metadata": {},
   "outputs": [
    {
     "name": "stdout",
     "output_type": "stream",
     "text": [
      "Valijon Aliyev.Passport:FA112299, 2000-yilda tug'ilgan\n"
     ]
    }
   ],
   "source": [
    "talaba = Talaba(\"Valijon\",\"Aliyev\",\"FA112299\",2000)\n",
    "print(talaba.get_info())"
   ]
  },
  {
   "cell_type": "code",
   "execution_count": 9,
   "id": "cb0c61c0-78ec-4136-a23e-90de83253ba7",
   "metadata": {},
   "outputs": [
    {
     "name": "stdout",
     "output_type": "stream",
     "text": [
      "21\n"
     ]
    }
   ],
   "source": [
    "print(talaba.get_age(2021))"
   ]
  },
  {
   "cell_type": "code",
   "execution_count": 10,
   "id": "5af521b1-e8a1-47f6-8cf2-dee9dc9d8518",
   "metadata": {},
   "outputs": [],
   "source": [
    "class Talaba(Shaxs):\n",
    "    def __init__(self, ism, familiya, passport, tyil,idraqam):\n",
    "        super().__init__(ism, familiya, passport, tyil)\n",
    "        self.idraqam = idraqam\n",
    "        self.bosqich = 1"
   ]
  },
  {
   "cell_type": "code",
   "execution_count": 11,
   "id": "f9071e73-fe54-4623-8d9b-a19ba77fefaa",
   "metadata": {},
   "outputs": [],
   "source": [
    "talaba = Talaba(\"Valijon\", \"Aliyev\", \"FA112299\", 2000, \"0000012\")"
   ]
  },
  {
   "cell_type": "code",
   "execution_count": 13,
   "id": "bb5f1fdd-bf2b-4f29-80e1-c04f43618574",
   "metadata": {},
   "outputs": [
    {
     "data": {
      "text/plain": [
       "25"
      ]
     },
     "execution_count": 13,
     "metadata": {},
     "output_type": "execute_result"
    }
   ],
   "source": [
    "talaba.get_age(2025)"
   ]
  },
  {
   "cell_type": "code",
   "execution_count": 14,
   "id": "9915d5e6-2076-441b-809f-cd33ee476b0a",
   "metadata": {},
   "outputs": [],
   "source": [
    "class Talaba(Shaxs):\n",
    "    def __init__(self, ism, familiya, passport, tyil,idraqam):\n",
    "        super().__init__(ism, familiya, passport, tyil)\n",
    "        self.idraqam = idraqam\n",
    "        self.bosqich = 1\n",
    "    \n",
    "    def get_id(self):\n",
    "        return self.idraqam\n",
    "    \n",
    "    def get_bosqich(self):\n",
    "        return self.bosqich"
   ]
  },
  {
   "cell_type": "code",
   "execution_count": 16,
   "id": "af233ae5-5e99-479c-9812-eeaefe79d5e5",
   "metadata": {},
   "outputs": [
    {
     "name": "stdout",
     "output_type": "stream",
     "text": [
      "Valijon Aliyev.Passport:FA112299, 2000-yilda tug'ilgan. ID raqami:0000012\n"
     ]
    }
   ],
   "source": [
    "talaba = Talaba(\"Valijon\", \"Aliyev\", \"FA112299\", 2000, \"0000012\")\n",
    "print(f\"{talaba.get_info()}. ID raqami:{talaba.get_id()}\")"
   ]
  },
  {
   "cell_type": "code",
   "execution_count": 17,
   "id": "6dc15ec9-520c-487f-ac6b-a3af64a5a468",
   "metadata": {},
   "outputs": [
    {
     "name": "stdout",
     "output_type": "stream",
     "text": [
      "1-bosqich talabasi\n"
     ]
    }
   ],
   "source": [
    "print(f\"{talaba.get_bosqich()}-bosqich talabasi\")"
   ]
  },
  {
   "cell_type": "markdown",
   "id": "8e8481b9-82de-4212-9ed6-9b53c3088b84",
   "metadata": {},
   "source": [
    "## POLIMORFIZM — SUPER KLASS METODLARINI QAYTA YOZISH"
   ]
  },
  {
   "cell_type": "markdown",
   "id": "7015937a-92db-4d39-9b31-6aa3499032d7",
   "metadata": {},
   "source": [
    "Voris klassga super klassdan meros qolgan istalgan metodni qayta talqin qilish mumkin. Avvalgi misolimizdagi get_info() super metodini ko'raylik, bu metod talabaning ismi, familiyasi, passport raqami va tug'ilgan yilini qaytaradi:"
   ]
  },
  {
   "cell_type": "code",
   "execution_count": 18,
   "id": "2575c837-6a28-473e-a604-7ef3d87e19af",
   "metadata": {},
   "outputs": [],
   "source": [
    "class Talaba(Shaxs):\n",
    "    def __init__(self, ism, familiya, passport, tyil,idraqam):\n",
    "        super().__init__(ism, familiya, passport, tyil)\n",
    "        self.idraqam = idraqam\n",
    "        self.bosqich = 1\n",
    "    \n",
    "    def get_id(self):\n",
    "        return self.idraqam\n",
    "    \n",
    "    def get_bosqich(self):\n",
    "        return self.bosqich\n",
    "\n",
    "    def get_info(self):\n",
    "        info = f\"{self.ism} {self.familiya}.\"\n",
    "        info += f\"{self.get_bosqich()}-bosqish. ID raqami: {self.idraqam}\"\n",
    "        return info"
   ]
  },
  {
   "cell_type": "code",
   "execution_count": 21,
   "id": "8e6eb3c1-33ed-4b78-9a18-b311b8e9b98c",
   "metadata": {},
   "outputs": [
    {
     "name": "stdout",
     "output_type": "stream",
     "text": [
      "Valijon Aliyev.1-bosqish. ID raqami: 0000012\n"
     ]
    }
   ],
   "source": [
    "talaba2 = Talaba(\"Valijon\", \"Aliyev\", \"FA112299\", 2000, \"0000012\")\n",
    "print(talaba2.get_info())"
   ]
  },
  {
   "cell_type": "markdown",
   "id": "818477ff-0685-4198-9c92-5b1ffd8d5123",
   "metadata": {},
   "source": [
    "## OBYEKT ICHIDA OBYEKT"
   ]
  },
  {
   "cell_type": "code",
   "execution_count": 22,
   "id": "6d3431fc-62da-495a-83e9-cc9c72d425f1",
   "metadata": {},
   "outputs": [],
   "source": [
    "class Manzil:\n",
    "    def __init__(self,uy,kocha,tuman,viloyat):\n",
    "        self.uy = uy\n",
    "        self.kocha = kocha\n",
    "        self.tuman = tuman\n",
    "        self.viloyat = viloyat\n",
    "    \n",
    "    def get_manzil(self):\n",
    "        manzil = f\"{self.viloyat} viloyati, {self.tuman} tumani, \"\n",
    "        manzil += f\"{self.kocha} ko'chasi, {self.uy}-uy\"\n",
    "        return manzil"
   ]
  },
  {
   "cell_type": "code",
   "execution_count": 23,
   "id": "c9070443-2d2b-4ae4-8ebf-231fb1dab143",
   "metadata": {},
   "outputs": [],
   "source": [
    "class Talaba(Shaxs):\n",
    "    def __init__(self,ism,familiya,passport,tyil,idraqam,manzil):\n",
    "        super().__init__(ism, familiya, passport, tyil)\n",
    "        self.idraqam = idraqam\n",
    "        self.bosqich = 1\n",
    "        self.manzil = manzil\n",
    "    \n",
    "    def get_id(self):\n",
    "        return self.idraqam\n",
    "    \n",
    "    def get_bosqich(self):\n",
    "        return self.bosqich\n",
    "    \n",
    "    def get_info(self):\n",
    "        info = f\"{self.ism} {self.familiya}. \"\n",
    "        info += f\"{self.get_bosqich()}-bosqich. ID raqami: {self.idraqam}\"\n",
    "        return info"
   ]
  },
  {
   "cell_type": "code",
   "execution_count": 24,
   "id": "0a723a01-5fdc-4b10-9484-e643573eebc1",
   "metadata": {},
   "outputs": [],
   "source": [
    "talaba_manzil = Manzil(12, 'Olmazor', \"Bog'bon\", \"Samarqand\")\n",
    "talaba = Talaba(\"Valijon\", \"Aliyev\", \"FA112299\", 2000, \"0000012\", talaba_manzil)"
   ]
  },
  {
   "cell_type": "code",
   "execution_count": 25,
   "id": "6af7813a-f8af-4c8d-87f5-33106a2601a0",
   "metadata": {},
   "outputs": [
    {
     "name": "stdout",
     "output_type": "stream",
     "text": [
      "Samarqand viloyati, Bog'bon tumani, Olmazor ko'chasi, 12-uy\n"
     ]
    }
   ],
   "source": [
    "print(talaba.manzil.get_manzil())"
   ]
  },
  {
   "cell_type": "code",
   "execution_count": 26,
   "id": "64a4f64d-6ba1-4829-a38f-0fab46e51938",
   "metadata": {},
   "outputs": [
    {
     "name": "stdout",
     "output_type": "stream",
     "text": [
      "Bog'bon\n"
     ]
    }
   ],
   "source": [
    "print(talaba.manzil.tuman)"
   ]
  },
  {
   "cell_type": "markdown",
   "id": "c64b655c-a4a1-4afa-9cbb-5830d7252c44",
   "metadata": {},
   "source": [
    "## Amaliyot"
   ]
  },
  {
   "cell_type": "markdown",
   "id": "87a51769-2fc7-43d1-8e71-5c53befec5f7",
   "metadata": {},
   "source": [
    "1. Talaba klassiga yana bir, fanlar degan xususiyat qo'shing. Bu xususiyat parametr sifatida uzatilmasin va obyekt yaratilganida bo'sh ro'yxatdan iborat bo'lsin (self.fanlar=[])"
   ]
  },
  {
   "cell_type": "code",
   "execution_count": 36,
   "id": "1c84a34e-b878-4f37-818e-354ba8dff65c",
   "metadata": {},
   "outputs": [],
   "source": [
    "class Talaba:\n",
    "    def __init__(self, ism, familiya, passport, tyil):\n",
    "        self.ism = ism\n",
    "        self.familiya = familiya\n",
    "        self.passport = passport\n",
    "        self.tyil = tyil\n",
    "        self.bosqich = 3\n",
    "        self.fanlar = []\n",
    "    \n",
    "    def get_bosqich(self):\n",
    "        return self.bosqich\n",
    "    \n",
    "    def get_info(self):\n",
    "        info = f\"{self.ism} {self.familiya}. {self.tyil}-yilda tug'ilgan.\"\n",
    "        info += f\"{self.get_bosqich()}-bosqich. Passporti: {self.passport}\"\n",
    "        return info"
   ]
  },
  {
   "cell_type": "code",
   "execution_count": 38,
   "id": "9503c885-ce02-4413-b35e-e056dc6c7c32",
   "metadata": {},
   "outputs": [
    {
     "name": "stdout",
     "output_type": "stream",
     "text": [
      "Sardor Tolliboyev. 2005-yilda tug'ilgan.3-bosqich. Passporti: AD0000111\n"
     ]
    }
   ],
   "source": [
    "talaba = Talaba(\"Sardor\", \"Tolliboyev\", 'AD0000111', 2005)\n",
    "print(talaba.get_info())"
   ]
  },
  {
   "cell_type": "markdown",
   "id": "bdad733d-215d-49a0-abf8-d44a030d60bb",
   "metadata": {},
   "source": [
    "2. Fan degan yangi klass yarating va bu klassdan turli fanlar uchun alohida obyektlar yarating."
   ]
  },
  {
   "cell_type": "code",
   "execution_count": 57,
   "id": "2e3841f2-ee4e-4a59-a108-c405e4bc9db2",
   "metadata": {},
   "outputs": [],
   "source": [
    "class Talaba:\n",
    "    def __init__(self, ism, familiya, passport, tyil):\n",
    "        self.ism = ism\n",
    "        self.familiya = familiya\n",
    "        self.passport = passport\n",
    "        self.tyil = tyil\n",
    "        self.bosqich = 3\n",
    "        self.fanlar = []\n",
    "        \n",
    "    def add_fan(self, fan):\n",
    "        self.fanlar.append(fan)\n",
    "    \n",
    "    def get_info(self):\n",
    "        info = f\"{self.ism} {self.familiya}. {self.tyil}-yilda tug'ilgan. \"\n",
    "        info += f\"{self.bosqich}-bosqich. Passporti: {self.passport} \"\n",
    "        if self.fanlar:\n",
    "            info += f\"Fanlar {[f.fan for f in self.fanlar]} \"\n",
    "        else:\n",
    "            info += f\"Fanlar kiritilmagan. \"\n",
    "        return info\n",
    "\n",
    "class Fan:\n",
    "    def __init__(self, fan):\n",
    "        self.fan = fan"
   ]
  },
  {
   "cell_type": "code",
   "execution_count": 58,
   "id": "9014369e-bcb4-43d5-8ac1-9419ce04fe43",
   "metadata": {},
   "outputs": [
    {
     "name": "stdout",
     "output_type": "stream",
     "text": [
      "Sardor Tolliboyev. 2005-yilda tug'ilgan. 3-bosqich. Passporti: AD0000111 Fanlar ['Matematika', 'Fizika'] \n"
     ]
    }
   ],
   "source": [
    "matematika = Fan(\"Matematika\")\n",
    "fizika = Fan(\"Fizika\")\n",
    "\n",
    "talaba = Talaba(\"Sardor\", \"Tolliboyev\", \"AD0000111\", 2005)\n",
    "talaba.add_fan(matematika)\n",
    "talaba.add_fan(fizika)\n",
    "\n",
    "print(talaba.get_info())"
   ]
  },
  {
   "cell_type": "markdown",
   "id": "b21236d1-9091-414d-a43a-de71f430130a",
   "metadata": {},
   "source": [
    "3. Talaba klassiga fanga_yozil() degan yangi metod yozing. Bu metod parametr sifatida Fan klassiga tegishli obyektlarni qabul qilib olsin va talabaning fanlar ro'yxatiga qo'shib qo'ysin."
   ]
  },
  {
   "cell_type": "code",
   "execution_count": 65,
   "id": "1c39da35-f8d8-4d50-85f5-adb6f346e552",
   "metadata": {},
   "outputs": [],
   "source": [
    "class Talaba:\n",
    "    def __init__(self, ism, familiya, passport, tyil):\n",
    "        self.ism = ism\n",
    "        self.familiya = familiya\n",
    "        self.passport = passport\n",
    "        self.tyil = tyil\n",
    "        self.bosqich = 3\n",
    "        self.fanlar = []\n",
    "    \n",
    "    def get_info1(self):\n",
    "        info = f\"{self.ism} {self.familiya}. {self.tyil}-yilda tug'ilgan.\\n \"\n",
    "        info += f\"{self.bosqich}-bosqich. Passporti: {self.passport}\\n \"\n",
    "        if self.fanlar:\n",
    "            info += f\"Fanlar: {[f.fan for f in self.fanlar]} \"\n",
    "        else:\n",
    "            info += f\"Fanlar kiritilmagan. \"\n",
    "        return info\n",
    "\n",
    "    def fanga_yozil(self, fan):\n",
    "        self.fanlar.append(fan)\n",
    "        \n",
    "class Fan:\n",
    "    def __init__(self, fan):\n",
    "        self.fan = fan"
   ]
  },
  {
   "cell_type": "code",
   "execution_count": 66,
   "id": "8ff8c3aa-a336-4a2e-a1f8-f87cf821883a",
   "metadata": {},
   "outputs": [
    {
     "name": "stdout",
     "output_type": "stream",
     "text": [
      "Sardor Tolliboyev. 2005-yilda tug'ilgan.\n",
      " 3-bosqich. Passporti: AD0000111\n",
      " Fanlar: ['Matematika', 'Fizika'] \n"
     ]
    }
   ],
   "source": [
    "matematika = Fan(\"Matematika\")\n",
    "fizika = Fan(\"Fizika\")\n",
    "\n",
    "talaba1 = Talaba(\"Sardor\", \"Tolliboyev\", \"AD0000111\", 2005)\n",
    "talaba1.fanga_yozil(matematika)\n",
    "talaba1.fanga_yozil(fizika)\n",
    "\n",
    "print(talaba1.get_info1())"
   ]
  },
  {
   "cell_type": "markdown",
   "id": "fd094911-d5ce-49cd-82bb-027e410b3aa6",
   "metadata": {},
   "source": [
    "4. Talabaning fanlari ro'yxatidan biror fanni o'chirib tashlash uchun remove_fan() metodini yozing. Agar bu metodga ro'yxatda yo'q fan uzatilsa \"Siz bu fanga yozilmagansiz\" xabarini qaytarsin."
   ]
  },
  {
   "cell_type": "code",
   "execution_count": 73,
   "id": "06b50d79-cf0e-4009-a97b-4f02ce346477",
   "metadata": {},
   "outputs": [],
   "source": [
    "class Talaba:\n",
    "    def __init__(self, ism, familiya, passport, tyil):\n",
    "        self.ism = ism\n",
    "        self.familiya = familiya\n",
    "        self.passport = passport\n",
    "        self.tyil = tyil\n",
    "        self.bosqich = 3\n",
    "        self.fanlar = []\n",
    "    \n",
    "    def get_info2(self):\n",
    "        info = f\"{self.ism} {self.familiya}. {self.tyil}-yilda tug'ilgan.\\n \"\n",
    "        info += f\"{self.bosqich}-bosqich. Passporti: {self.passport}\\n \"\n",
    "        if self.fanlar:\n",
    "            info += f\"Fanlar: {[f.fan for f in self.fanlar]} \"\n",
    "        else:\n",
    "            info += f\"Fanlar kiritilmagan. \"\n",
    "        return info\n",
    "\n",
    "    def fanga_yozil(self, fan):\n",
    "        self.fanlar.append(fan)\n",
    "\n",
    "    def remove_fan(self, fan):\n",
    "        if fan in self.fanlar:\n",
    "            self.fanlar.remove(fan)\n",
    "        else:\n",
    "            print(\"Siz bu fanga yozilmagansiz\")\n",
    "            \n",
    "class Fan:\n",
    "    def __init__(self, fan):\n",
    "        self.fan = fan"
   ]
  },
  {
   "cell_type": "code",
   "execution_count": 76,
   "id": "d0e5c559-9659-40d2-8be3-ed2a5cc88807",
   "metadata": {},
   "outputs": [
    {
     "name": "stdout",
     "output_type": "stream",
     "text": [
      "Sardor Tolliboyev. 2005-yilda tug'ilgan.\n",
      " 3-bosqich. Passporti: AD0000111\n",
      " Fanlar: ['Matematika'] \n"
     ]
    }
   ],
   "source": [
    "matematika = Fan(\"Matematika\")\n",
    "fizika = Fan(\"Fizika\")\n",
    "biologiya = Fan(\"Biologiya\")\n",
    "\n",
    "talaba2 = Talaba(\"Sardor\", \"Tolliboyev\", \"AD0000111\", 2005)\n",
    "\n",
    "talaba2.fanga_yozil(matematika)\n",
    "talaba2.fanga_yozil(fizika)\n",
    "\n",
    "talaba2.remove_fan(fizika)\n",
    "\n",
    "print(talaba2.get_info2())"
   ]
  },
  {
   "cell_type": "code",
   "execution_count": 75,
   "id": "f45b1170-1e45-4b5b-9fb2-c0a80491f44a",
   "metadata": {},
   "outputs": [
    {
     "name": "stdout",
     "output_type": "stream",
     "text": [
      "Siz bu fanga yozilmagansiz\n"
     ]
    }
   ],
   "source": [
    "talaba2.remove_fan(biologiya)"
   ]
  },
  {
   "cell_type": "markdown",
   "id": "59125431-0c13-4a63-a805-c6d7eeeccd33",
   "metadata": {},
   "source": [
    "5. Yuqoridagi Shaxs klassidan boshqa turli voris klasslar yaratib ko'ring (masalan Professor, Foydalanuvchi, Sotuvchi, Mijoz va hokazo)"
   ]
  },
  {
   "cell_type": "code",
   "execution_count": 93,
   "id": "c7fceb2f-03d6-47cb-814e-abf18ff544b8",
   "metadata": {},
   "outputs": [],
   "source": [
    "class Shaxs:\n",
    "    def __init__(self, ism, familiya, passport, tyil):\n",
    "        self.ism = ism\n",
    "        self.familiya = familiya\n",
    "        self.passport = passport\n",
    "        self.tyil = tyil\n",
    "\n",
    "    def get_info(self):\n",
    "        info = f\"{self.ism} {self.familiya}.\"\n",
    "        info += f\"Passport:{self.passport}, {self.tyil}-yilda tug'ilgan\"\n",
    "        return info\n",
    "\n",
    "    def get_age(self, yil):\n",
    "        return yil-self.tyil"
   ]
  },
  {
   "cell_type": "code",
   "execution_count": 94,
   "id": "779eeed9-db3c-46ea-b13f-ba86c39ac71a",
   "metadata": {},
   "outputs": [],
   "source": [
    "class Sotuvchi(Shaxs):\n",
    "    def __init__(self, ism, familiya, passport, tyil, dokon_nomi):\n",
    "        super().__init__(ism, familiya, passport, tyil)\n",
    "        self.dokon = dokon_nomi\n",
    "\n",
    "    def get_info(self):\n",
    "        return super().get_info() + f\". Ish joyi: {self.dokon}\""
   ]
  },
  {
   "cell_type": "code",
   "execution_count": 95,
   "id": "318fdfae-9f14-4f27-9929-34e532206c7d",
   "metadata": {},
   "outputs": [
    {
     "name": "stdout",
     "output_type": "stream",
     "text": [
      "Aziz Nabiyev.Passport:AC987654, 1990-yilda tug'ilgan. Ish joyi: Aziz Savdo\n"
     ]
    }
   ],
   "source": [
    "sotuvchi = Sotuvchi(\"Aziz\", \"Nabiyev\", \"AC987654\", 1990, \"Aziz Savdo\")\n",
    "print(sotuvchi.get_info())"
   ]
  },
  {
   "cell_type": "markdown",
   "id": "5c736e9b-f166-4e2a-9be2-e86953944125",
   "metadata": {},
   "source": [
    "6. Har bir klassga o'ziga hoz xususiyatlar va metodlar yuklang. // bajarildi..."
   ]
  },
  {
   "cell_type": "markdown",
   "id": "c9283e65-648b-4f88-b3b6-4315d3236062",
   "metadata": {},
   "source": [
    "7. Barcha yangi klasslar uchun get_info() metodini qayta yozib chiqing."
   ]
  },
  {
   "cell_type": "code",
   "execution_count": 96,
   "id": "19c4c98d-9a4a-4de9-bba1-06ff1471ddf7",
   "metadata": {},
   "outputs": [],
   "source": [
    "class Professor(Shaxs):\n",
    "    def __init__(self, ism, familiya, passport, tyil, fan):\n",
    "        super().__init__(ism, familiya, passport, tyil)\n",
    "        self.fan = fan\n",
    "\n",
    "    def get_info(self):\n",
    "        info = super().get_info()\n",
    "        info += f\". Fan: {self.fan}\"\n",
    "        return info\n",
    "\n",
    "class Foydalanuvchi(Shaxs):\n",
    "    def __init__(self, ism, familiya, passport, tyil, username, email):\n",
    "        super().__init__(ism, familiya, passport, tyil)\n",
    "        self.username = username\n",
    "        self.email = email\n",
    "\n",
    "    def get_info(self):\n",
    "        info = super().get_info()\n",
    "        info += f\". Username: {self.username}, Email: {self.email}\"\n",
    "        return info\n",
    "\n",
    "class Mijoz(Shaxs):\n",
    "    def __init__(self, ism, familiya, passport, tyil, balans=0):\n",
    "        super().__init__(ism, familiya, passport, tyil)\n",
    "        self.balans = balans\n",
    "\n",
    "    def get_info(self):\n",
    "        return super().get_info() + f\". Hisobdagi mablag': {self.balans} so'm\"\n",
    "\n",
    "    def tolov(self, summa):\n",
    "        if self.balans >= summa:\n",
    "            self.balans -= summa\n",
    "            return f\"{summa} so'm to'landi. Qolgan: {self.balans} so'm\"\n",
    "        else:\n",
    "            return \"Hisobda mablag' yetarli emas.\"\n"
   ]
  },
  {
   "cell_type": "code",
   "execution_count": 97,
   "id": "8bd770b4-44ba-4582-9071-426a57795542",
   "metadata": {},
   "outputs": [
    {
     "name": "stdout",
     "output_type": "stream",
     "text": [
      "Sardor Tolliboyev.Passport:AB001122, 2005-yilda tug'ilgan. Fan: Matematika\n",
      "Ali Valiyev.Passport:AB123456, 1999-yilda tug'ilgan. Username: ali99, Email: ali@mail.com\n",
      "Malika Tursunova.Passport:AD456789, 2002-yilda tug'ilgan. Hisobdagi mablag': 100000 so'm\n",
      "30000 so'm to'landi. Qolgan: 70000 so'm\n"
     ]
    }
   ],
   "source": [
    "prof = Professor(\"Sardor\", \"Tolliboyev\", \"AB001122\", 2005, \"Matematika\")\n",
    "user = Foydalanuvchi(\"Ali\", \"Valiyev\", \"AB123456\", 1999, \"ali99\", \"ali@mail.com\")\n",
    "mijoz = Mijoz(\"Malika\", \"Tursunova\", \"AD456789\", 2002, 100000)\n",
    "\n",
    "print(prof.get_info())\n",
    "print(user.get_info())\n",
    "print(mijoz.get_info())\n",
    "print(mijoz.tolov(30000))\n"
   ]
  },
  {
   "cell_type": "markdown",
   "id": "fe062bb8-b304-4623-a0bb-5c8323540a9b",
   "metadata": {},
   "source": [
    "8. Voris klasslardan yana boshqa voris klass yaratib ko'ring. Misol uchun Foydalanuvchi klassidan Admin klassini yarating."
   ]
  },
  {
   "cell_type": "code",
   "execution_count": 98,
   "id": "342cb11d-6ed5-448e-94c2-7d2fb874539a",
   "metadata": {},
   "outputs": [],
   "source": [
    "class Shaxs:\n",
    "    def __init__(self, ism, familiya, tyil):\n",
    "        self.ism = ism\n",
    "        self.familiya = familiya\n",
    "        self.tyil = tyil\n",
    "\n",
    "    def get_info(self):\n",
    "        return f\"{self.ism} {self.familiya}, {self.tyil}-yilda tug‘ilgan.\"\n",
    "\n",
    "\n",
    "class Foydalanuvchi(Shaxs):\n",
    "    def __init__(self, ism, familiya, tyil, username):\n",
    "        super().__init__(ism, familiya, tyil)\n",
    "        self.username = username\n",
    "\n",
    "    def get_info(self):\n",
    "        info = super().get_info()\n",
    "        info += f\" Foydalanuvchi nomi: {self.username}\"\n",
    "        return info\n",
    "\n",
    "\n",
    "class Admin(Foydalanuvchi):\n",
    "    def __init__(self, ism, familiya, tyil, username):\n",
    "        super().__init__(ism, familiya, tyil, username)\n",
    "        self.ruxsatlar = []\n",
    "\n",
    "    def add_ruxsat(self, ruxsat):\n",
    "        self.ruxsatlar.append(ruxsat)\n",
    "\n",
    "    def get_info(self):\n",
    "        info = super().get_info()\n",
    "        if self.ruxsatlar:\n",
    "            info += f\" Ruxsatlar: {self.ruxsatlar}\"\n",
    "        else:\n",
    "            info += \" Ruxsatlar yo‘q.\"\n",
    "        return info\n"
   ]
  },
  {
   "cell_type": "code",
   "execution_count": 99,
   "id": "beaa028b-f8a5-45b6-af68-52133ef48c9e",
   "metadata": {},
   "outputs": [
    {
     "name": "stdout",
     "output_type": "stream",
     "text": [
      "Sardor Tolliboyev, 2005-yilda tug‘ilgan. Foydalanuvchi nomi: admin_sardor Ruxsatlar: [\"foydalanuvchilarni o'chirish\", 'statistikani ko‘rish']\n"
     ]
    }
   ],
   "source": [
    "admin1 = Admin(\"Sardor\", \"Tolliboyev\", 2005, \"admin_sardor\")\n",
    "admin1.add_ruxsat(\"foydalanuvchilarni o'chirish\")\n",
    "admin1.add_ruxsat(\"statistikani ko‘rish\")\n",
    "\n",
    "print(admin1.get_info())\n"
   ]
  },
  {
   "cell_type": "markdown",
   "id": "f02a6e4b-067e-4d6a-98d0-285caacd6228",
   "metadata": {},
   "source": [
    "9. Admin klassiga foydalanuvchida yo'q yangi metodlar yozing, masalan, ban_user() metodi konsolga \"Foydalanuvchi bloklandi\" degan matn chiqarsin."
   ]
  },
  {
   "cell_type": "code",
   "execution_count": 100,
   "id": "a9f16c07-8a7d-4921-ac47-942715214523",
   "metadata": {},
   "outputs": [],
   "source": [
    "class Admin(Foydalanuvchi):\n",
    "    def __init__(self, ism, familiya, tyil, username):\n",
    "        super().__init__(ism, familiya, tyil, username)\n",
    "        self.ruxsatlar = []\n",
    "\n",
    "    def add_ruxsat(self, ruxsat):\n",
    "        self.ruxsatlar.append(ruxsat)\n",
    "\n",
    "    def get_info(self):\n",
    "        info = super().get_info()\n",
    "        if self.ruxsatlar:\n",
    "            info += f\" Ruxsatlar: {self.ruxsatlar}\"\n",
    "        else:\n",
    "            info += \" Ruxsatlar: yo‘q\"\n",
    "        return info\n",
    "        \n",
    "    def ban_user(self, user):\n",
    "        print(f\"Foydalanuvchi '{user.username}' bloklandi.\")"
   ]
  },
  {
   "cell_type": "code",
   "execution_count": 101,
   "id": "1352fc06-caef-4778-a736-88f4854a5cfb",
   "metadata": {},
   "outputs": [
    {
     "name": "stdout",
     "output_type": "stream",
     "text": [
      "Sardor Tolliboyev, 2005-yilda tug‘ilgan. Foydalanuvchi nomi: admin_sardor Ruxsatlar: ['ban qilish', 'foydalanuvchini o‘chirish']\n",
      "Aziza Rasulova, 2000-yilda tug‘ilgan. Foydalanuvchi nomi: aziza00\n",
      "Foydalanuvchi 'aziza00' bloklandi.\n"
     ]
    }
   ],
   "source": [
    "user1 = Foydalanuvchi(\"Aziza\", \"Rasulova\", 2000, \"aziza00\")\n",
    "\n",
    "admin1 = Admin(\"Sardor\", \"Tolliboyev\", 2005, \"admin_sardor\")\n",
    "admin1.add_ruxsat(\"ban qilish\")\n",
    "admin1.add_ruxsat(\"foydalanuvchini o‘chirish\")\n",
    "\n",
    "print(admin1.get_info())\n",
    "print(user1.get_info())\n",
    "\n",
    "admin1.ban_user(user1)\n"
   ]
  },
  {
   "cell_type": "code",
   "execution_count": null,
   "id": "d7dc0227-05d4-4cd2-9992-069e3e189af0",
   "metadata": {},
   "outputs": [],
   "source": []
  }
 ],
 "metadata": {
  "kernelspec": {
   "display_name": "Python 3 (ipykernel)",
   "language": "python",
   "name": "python3"
  },
  "language_info": {
   "codemirror_mode": {
    "name": "ipython",
    "version": 3
   },
   "file_extension": ".py",
   "mimetype": "text/x-python",
   "name": "python",
   "nbconvert_exporter": "python",
   "pygments_lexer": "ipython3",
   "version": "3.12.1"
  }
 },
 "nbformat": 4,
 "nbformat_minor": 5
}
