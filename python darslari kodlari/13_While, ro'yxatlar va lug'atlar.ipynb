{
 "cells": [
  {
   "cell_type": "code",
   "execution_count": 1,
   "id": "c4338121-02b5-4d6d-85ef-033b926cda13",
   "metadata": {},
   "outputs": [],
   "source": [
    "# while, ro'yxatlar va lug'atlar"
   ]
  },
  {
   "cell_type": "code",
   "execution_count": 4,
   "id": "a40ead73-4ec2-4757-a703-292dfe13633c",
   "metadata": {},
   "outputs": [],
   "source": [
    "# WHILE YORDAMIDA RO'YXATNI TO'LDIRISH"
   ]
  },
  {
   "cell_type": "code",
   "execution_count": 2,
   "id": "62abf3bf-d45e-4c58-9045-6a91480d3617",
   "metadata": {},
   "outputs": [
    {
     "name": "stdout",
     "output_type": "stream",
     "text": [
      "Yaqin do'stlaringiz ro'yxatini tuzamiz.\n"
     ]
    },
    {
     "name": "stdin",
     "output_type": "stream",
     "text": [
      "1-do'stingiz ismini kiriting: asadbek\n",
      "Yana ism qo'shasizmi? (ha/yo'q) ha\n",
      "2-do'stingiz ismini kiriting: aziz\n",
      "Yana ism qo'shasizmi? (ha/yo'q) ha\n",
      "3-do'stingiz ismini kiriting: dilshod\n",
      "Yana ism qo'shasizmi? (ha/yo'q) yo'q\n"
     ]
    }
   ],
   "source": [
    "ismlar = []\n",
    "\n",
    "print(\"Yaqin do'stlaringiz ro'yxatini tuzamiz.\")\n",
    "n=1 # ismlarni sanash uchun o'zgaruvchi\n",
    "while True:\n",
    "    savol = f\"{n}-do'stingiz ismini kiriting:\"\n",
    "    ism = input(savol)\n",
    "    ismlar.append(ism)\n",
    "    javob = input(\"Yana ism qo'shasizmi? (ha/yo'q)\")\n",
    "    if javob =='ha':\n",
    "        n+=1\n",
    "        continue\n",
    "    else:\n",
    "        break"
   ]
  },
  {
   "cell_type": "code",
   "execution_count": 3,
   "id": "9b2194f4-b467-48f7-a4ae-42879bb700c4",
   "metadata": {},
   "outputs": [
    {
     "name": "stdout",
     "output_type": "stream",
     "text": [
      "Do'stlaringiz ro'yxati:\n",
      "Asadbek\n",
      "Aziz\n",
      "Dilshod\n"
     ]
    }
   ],
   "source": [
    "print(\"Do'stlaringiz ro'yxati:\")\n",
    "for ism in ismlar:\n",
    "    print(ism.title())"
   ]
  },
  {
   "cell_type": "code",
   "execution_count": 5,
   "id": "1976b733-6a69-4341-8448-7b86a8008dc2",
   "metadata": {},
   "outputs": [],
   "source": [
    "# WHILE YORDAMIDA LUG'ATNI TO'LDIRISH"
   ]
  },
  {
   "cell_type": "code",
   "execution_count": 7,
   "id": "170be116-79e9-431e-8285-1ce5035aec93",
   "metadata": {},
   "outputs": [
    {
     "name": "stdout",
     "output_type": "stream",
     "text": [
      "Do'stlaringiz yoshini saqlaymiz.\n"
     ]
    },
    {
     "name": "stdin",
     "output_type": "stream",
     "text": [
      "Do'stingiz ismini kiriting:  asadbek\n",
      "Asadbekning yoshini kiriting:  20\n",
      "Yana ma'lumot qo'shasizmi? (ha/yo'q) ha\n",
      "Do'stingiz ismini kiriting:  ilhom \n",
      "Ilhom ning yoshini kiriting:  20 \n",
      "Yana ma'lumot qo'shasizmi? (ha/yo'q) yo'q\n"
     ]
    },
    {
     "name": "stdout",
     "output_type": "stream",
     "text": [
      "Asadbek 20 yoshda\n",
      "Ilhom  20 yoshda\n"
     ]
    }
   ],
   "source": [
    "print(\"Do'stlaringiz yoshini saqlaymiz.\")\n",
    "dostlar = {}\n",
    "ishora = True\n",
    "while ishora:\n",
    "    ism = input(\"Do'stingiz ismini kiriting: \")\n",
    "    yosh = input(f\"{ism.title()}ning yoshini kiriting: \")\n",
    "    dostlar[ism] = int(yosh) # ism kalit, yosh qiymat\n",
    "    \n",
    "    javob = input(\"Yana ma'lumot qo'shasizmi? (ha/yo'q)\")\n",
    "    if javob == \"yo'q\":\n",
    "        ishora = False\n",
    "\n",
    "for ism, yosh in dostlar.items():\n",
    "    print(f\"{ism.title()} {yosh} yoshda\")"
   ]
  },
  {
   "cell_type": "code",
   "execution_count": 8,
   "id": "de89999b-1ca2-4beb-8148-bec7c13694cc",
   "metadata": {},
   "outputs": [],
   "source": [
    "# RO'YXAT ELEMENTLARINI O'CHIRISH"
   ]
  },
  {
   "cell_type": "code",
   "execution_count": 9,
   "id": "727c1575-2b40-45f5-8682-9a833f44c511",
   "metadata": {},
   "outputs": [
    {
     "name": "stdout",
     "output_type": "stream",
     "text": [
      "['lacetti', 'toyota', 'audi', 'malibu']\n"
     ]
    }
   ],
   "source": [
    "cars = ['lacetti','nexia','toyota','nexia','audi','malibu','nexia']\n",
    "while 'nexia' in cars: # toki nexia cars ro'yxati ichida ekan...\n",
    "    cars.remove('nexia') # nexia ni ro'yxatdan olib tashla\n",
    "print(cars)"
   ]
  },
  {
   "cell_type": "code",
   "execution_count": 10,
   "id": "ab97d5a8-19f9-4ad4-8c27-b2fffb7680ff",
   "metadata": {},
   "outputs": [
    {
     "name": "stdin",
     "output_type": "stream",
     "text": [
      "Qaysi moshinani o'chiramiz:  nexia\n"
     ]
    },
    {
     "name": "stdout",
     "output_type": "stream",
     "text": [
      "['lacetti', 'toyota', 'audi', 'malibu']\n"
     ]
    }
   ],
   "source": [
    "car = input(\"Qaysi moshinani o'chiramiz: \")\n",
    "while car in cars:\n",
    "    cars.remove(car)\n",
    "print(cars)"
   ]
  },
  {
   "cell_type": "code",
   "execution_count": 11,
   "id": "3ece8691-209c-4e5d-977c-4586fa03b148",
   "metadata": {},
   "outputs": [],
   "source": [
    "# RO'YXATDAN RO'YXATGA ELEMENT KO'CHIRISH"
   ]
  },
  {
   "cell_type": "code",
   "execution_count": 12,
   "id": "65306a18-b578-4873-9255-08b2229b5245",
   "metadata": {},
   "outputs": [
    {
     "name": "stdin",
     "output_type": "stream",
     "text": [
      "Botirning bahosini kiriting:  5\n"
     ]
    },
    {
     "name": "stdout",
     "output_type": "stream",
     "text": [
      "Botir baholandi\n"
     ]
    },
    {
     "name": "stdin",
     "output_type": "stream",
     "text": [
      "Olimning bahosini kiriting:  2\n"
     ]
    },
    {
     "name": "stdout",
     "output_type": "stream",
     "text": [
      "Olim baholandi\n"
     ]
    },
    {
     "name": "stdin",
     "output_type": "stream",
     "text": [
      "Husanning bahosini kiriting:  3\n"
     ]
    },
    {
     "name": "stdout",
     "output_type": "stream",
     "text": [
      "Husan baholandi\n"
     ]
    },
    {
     "name": "stdin",
     "output_type": "stream",
     "text": [
      "Hasanning bahosini kiriting:  4\n"
     ]
    },
    {
     "name": "stdout",
     "output_type": "stream",
     "text": [
      "Hasan baholandi\n"
     ]
    }
   ],
   "source": [
    "talabalar = ['hasan', 'husan', 'olim', 'botir']\n",
    "baholangan_talabalar = {}\n",
    "while talabalar:\n",
    "    talaba = talabalar.pop()\n",
    "    baho = input(f\"{talaba.title()}ning bahosini kiriting: \")\n",
    "    print(f\"{talaba.title()} baholandi\")\n",
    "    baholangan_talabalar[talaba] = baho"
   ]
  },
  {
   "cell_type": "code",
   "execution_count": 13,
   "id": "927c6d8e-b807-4716-b66f-655fa93af71a",
   "metadata": {},
   "outputs": [
    {
     "name": "stdout",
     "output_type": "stream",
     "text": [
      "{'botir': '5', 'olim': '2', 'husan': '3', 'hasan': '4'}\n"
     ]
    }
   ],
   "source": [
    "print(baholangan_talabalar)"
   ]
  },
  {
   "cell_type": "code",
   "execution_count": 14,
   "id": "2e6c40c4-04d9-4331-ba88-e57d7c7d0fbd",
   "metadata": {},
   "outputs": [],
   "source": [
    "# Amaliyot"
   ]
  },
  {
   "cell_type": "code",
   "execution_count": 15,
   "id": "bdea890b-a064-41eb-8ad9-aa50613f63e9",
   "metadata": {},
   "outputs": [],
   "source": [
    "# 1.Foydalanuvchidan buyurtma qabul qiluvchi dastur yozing. Mahsulotlar nomini birma-bir qabul qilib, yangi ro'yxatga joylang."
   ]
  },
  {
   "cell_type": "code",
   "execution_count": 24,
   "id": "b822c68d-0a63-414e-9182-d4cec7096c65",
   "metadata": {},
   "outputs": [
    {
     "name": "stdin",
     "output_type": "stream",
     "text": [
      "1-mahsulot nomi:  olma\n",
      "Davom etsinmi: (ha/yo'q) ha\n",
      "2-mahsulot nomi:  uzum\n",
      "Davom etsinmi: (ha/yo'q) ha\n",
      "3-mahsulot nomi:  anor\n",
      "Davom etsinmi: (ha/yo'q) yo'q\n"
     ]
    },
    {
     "name": "stdout",
     "output_type": "stream",
     "text": [
      "['Olma', 'Uzum', 'Anor']\n"
     ]
    }
   ],
   "source": [
    "mahsulotlar = []\n",
    "n = 1\n",
    "while True:\n",
    "    mahsulot = input(f\"{n}-mahsulot nomi: \")\n",
    "    mahsulotlar.append(mahsulot.title())\n",
    "    davom = input(\"Davom etsinmi: (ha/yo'q)\")\n",
    "    if davom =='ha':\n",
    "        n += 1\n",
    "        continue\n",
    "    else:\n",
    "        break\n",
    "print(mahsulotlar)"
   ]
  },
  {
   "cell_type": "code",
   "execution_count": 25,
   "id": "8f21ed7e-3e5a-4794-a949-2b175ec6914c",
   "metadata": {},
   "outputs": [],
   "source": [
    "# 2.e-bozor uchun mahsulotlar va ularning narhlari lug'atini shakllantiruvchi dastur yozing. Foydalanuvchidan lug'atga bir nechta elementlar (mahsulot va uning narhi) kiritishni so'rang."
   ]
  },
  {
   "cell_type": "code",
   "execution_count": 45,
   "id": "ec2f363d-8759-4a53-854f-f910adef60f8",
   "metadata": {},
   "outputs": [
    {
     "name": "stdin",
     "output_type": "stream",
     "text": [
      "Mahsulot nomi:  olma\n",
      "Olmaning narhini kiriting:  20000\n",
      "Davom etsinmi: (ha/yo'q) ha\n",
      "Mahsulot nomi:  behi\n",
      "Behining narhini kiriting:  15000\n",
      "Davom etsinmi: (ha/yo'q) yo'q\n"
     ]
    }
   ],
   "source": [
    "e_bozor = {}\n",
    "while True:\n",
    "    mahsulot = input(\"Mahsulot nomi: \")\n",
    "    narh = input(f\"{mahsulot.title()}ning narhini kiriting: \")\n",
    "    e_bozor[mahsulot.title()] = int(narh)\n",
    "    davom = input(\"Davom etsinmi: (ha/yo'q)\")\n",
    "    if davom != 'ha':\n",
    "        break"
   ]
  },
  {
   "cell_type": "code",
   "execution_count": 46,
   "id": "8758b7e7-85df-4972-92f7-258ea7f96d7c",
   "metadata": {},
   "outputs": [
    {
     "name": "stdout",
     "output_type": "stream",
     "text": [
      "{'Olma': 20000, 'Behi': 15000}\n"
     ]
    }
   ],
   "source": [
    "print(e_bozor)"
   ]
  },
  {
   "cell_type": "code",
   "execution_count": 28,
   "id": "64f05261-0e25-4ca2-9f30-2de21b3db317",
   "metadata": {},
   "outputs": [],
   "source": [
    "# 3.Yuqoridagi ikki dasturni jamlaymiz. Foydalanuvchi buyurtmasi ro'yxatidagi har bir mahsulotni e-bozordagi mahsulotlar bilan solishitiring (tayyor ro'yxat ishlatishingiz mumkin). Agar mahsuot e-bozorda mavjud bo'lsa mahuslot narhini chiqaring, aks holda \"Bizda bu mahsulot yo'q\" degan xabarni kor'sating."
   ]
  },
  {
   "cell_type": "code",
   "execution_count": 47,
   "id": "1c1c30ae-9f4b-475e-aa61-7572d62d2049",
   "metadata": {},
   "outputs": [
    {
     "name": "stdout",
     "output_type": "stream",
     "text": [
      "Olma narxi: 20000 so'm\n",
      "Bizda bu mahsulot yo'q: Uzum\n",
      "Bizda bu mahsulot yo'q: Anor\n"
     ]
    }
   ],
   "source": [
    "for m in mahsulotlar:\n",
    "    if m in e_bozor:\n",
    "        print(f\"{m.title()} narxi: {e_bozor[m]} so'm\")\n",
    "    else:\n",
    "        print(f\"Bizda bu mahsulot yo'q: {m.title()}\")"
   ]
  }
 ],
 "metadata": {
  "kernelspec": {
   "display_name": "Python 3 (ipykernel)",
   "language": "python",
   "name": "python3"
  },
  "language_info": {
   "codemirror_mode": {
    "name": "ipython",
    "version": 3
   },
   "file_extension": ".py",
   "mimetype": "text/x-python",
   "name": "python",
   "nbconvert_exporter": "python",
   "pygments_lexer": "ipython3",
   "version": "3.12.1"
  }
 },
 "nbformat": 4,
 "nbformat_minor": 5
}
