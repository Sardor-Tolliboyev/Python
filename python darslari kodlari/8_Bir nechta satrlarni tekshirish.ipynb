{
 "cells": [
  {
   "cell_type": "code",
   "execution_count": 1,
   "id": "97072ee1-9e40-460f-b192-59278e09a4da",
   "metadata": {},
   "outputs": [],
   "source": [
    "#bir nechta shartlarni tekshirish"
   ]
  },
  {
   "cell_type": "code",
   "execution_count": 2,
   "id": "a29eb554-c86f-4a0c-85cf-a6b981e73f53",
   "metadata": {},
   "outputs": [
    {
     "name": "stdin",
     "output_type": "stream",
     "text": [
      "Yoshingiz nechida?  20\n"
     ]
    },
    {
     "name": "stdout",
     "output_type": "stream",
     "text": [
      "Sizga kirish 10000 so'm\n"
     ]
    }
   ],
   "source": [
    "yosh = int(input('Yoshingiz nechida? '))\n",
    "if yosh<=4:\n",
    "    print('Sizga kirish bepul.')\n",
    "elif yosh<=12:\n",
    "    print('Sizga kirish 5000 so\\'m')\n",
    "else:\n",
    "    print('Sizga kirish 10000 so\\'m')"
   ]
  },
  {
   "cell_type": "code",
   "execution_count": 3,
   "id": "73f6b33c-52ac-475a-a56a-b152293c9069",
   "metadata": {},
   "outputs": [
    {
     "name": "stdin",
     "output_type": "stream",
     "text": [
      "Yoshingiz nechida?  20\n"
     ]
    },
    {
     "name": "stdout",
     "output_type": "stream",
     "text": [
      "Sizga kirish 10000 so'm\n"
     ]
    }
   ],
   "source": [
    "yosh = int(input('Yoshingiz nechida? '))\n",
    "if yosh<=4:\n",
    "    price = 0\n",
    "elif yosh<=12:\n",
    "    price = 5000\n",
    "else:\n",
    "    price = 10000\n",
    "    \n",
    "print(f\"Sizga kirish {price} so'm\")"
   ]
  },
  {
   "cell_type": "code",
   "execution_count": 4,
   "id": "830cc79b-de3f-491f-8995-86997c506761",
   "metadata": {},
   "outputs": [
    {
     "name": "stdin",
     "output_type": "stream",
     "text": [
      "Yoshingiz nechida?  45\n"
     ]
    },
    {
     "name": "stdout",
     "output_type": "stream",
     "text": [
      "Sizga kirish 10000 so'm\n"
     ]
    }
   ],
   "source": [
    "yosh = int(input('Yoshingiz nechida? '))\n",
    "if yosh<=4: # yosh bolalarga bepul\n",
    "    price = 0\n",
    "elif yosh<=12: # 4 dan 12 yoshgacha 5000 so'm\n",
    "    price = 5000\n",
    "elif yosh<65: # 12 dan katta va 65 dan kichiklarga narh 10000 so'm\n",
    "    price = 10000\n",
    "else: # qariyalarga esa 8000 so'm\n",
    "    price = 8000\n",
    "print(f\"Sizga kirish {price} so'm\")"
   ]
  },
  {
   "cell_type": "code",
   "execution_count": 5,
   "id": "afa48874-8fcc-4c8b-9cb8-22052d223cda",
   "metadata": {},
   "outputs": [
    {
     "name": "stdin",
     "output_type": "stream",
     "text": [
      "Yoshingiz nechida?  66\n"
     ]
    },
    {
     "name": "stdout",
     "output_type": "stream",
     "text": [
      "Sizga kirish 8000 so'm\n"
     ]
    }
   ],
   "source": [
    "yosh = int(input('Yoshingiz nechida? '))\n",
    "if yosh<=4:\n",
    "    price = 0\n",
    "elif yosh<=12:\n",
    "    price = 5000\n",
    "elif yosh<65:\n",
    "    price = 10000\n",
    "elif yosh>=65:\n",
    "    price = 8000    \n",
    "print(f\"Sizga kirish {price} so'm\")"
   ]
  },
  {
   "cell_type": "code",
   "execution_count": 6,
   "id": "d6b82b1b-926f-48e0-9caf-8410bc3e955b",
   "metadata": {},
   "outputs": [
    {
     "name": "stdin",
     "output_type": "stream",
     "text": [
      "Bugun nima kun?>>> Dushanba\n"
     ]
    },
    {
     "name": "stdout",
     "output_type": "stream",
     "text": [
      "Bugun ish kuni.\n"
     ]
    }
   ],
   "source": [
    "kun = input(\"Bugun nima kun?>>>\")\n",
    "if kun.lower()=='shanba' or kun.lower()=='yakshanba':\n",
    "    print('Bugun dam olish kuni.')\n",
    "else:\n",
    "    print('Bugun ish kuni.')"
   ]
  },
  {
   "cell_type": "code",
   "execution_count": 7,
   "id": "6875527b-6718-4901-80a7-8838e2fb91d2",
   "metadata": {},
   "outputs": [
    {
     "name": "stdin",
     "output_type": "stream",
     "text": [
      "Bugun nima kun? Yakshanba\n",
      "Havo harorati qanday? 35\n"
     ]
    },
    {
     "name": "stdout",
     "output_type": "stream",
     "text": [
      "Cho'milgani ketdik!\n"
     ]
    }
   ],
   "source": [
    "kun = input(\"Bugun nima kun?\")\n",
    "harorat = float(input(\"Havo harorati qanday?\"))\n",
    "if kun.lower()=='yakshanba' and harorat>=30:\n",
    "    print(\"Cho'milgani ketdik!\")\n",
    "elif kun.lower()=='yakshanba' and harorat<30:\n",
    "    print(\"Uyda dam olamiz!\")"
   ]
  },
  {
   "cell_type": "code",
   "execution_count": 8,
   "id": "ad8a1f41-9588-49d4-8a74-c615c72b9d07",
   "metadata": {},
   "outputs": [
    {
     "name": "stdin",
     "output_type": "stream",
     "text": [
      "Bugun nima kun? shanba\n",
      "Havo harorati qanday? 48\n"
     ]
    },
    {
     "name": "stdout",
     "output_type": "stream",
     "text": [
      "Cho'milgani ketdik!\n"
     ]
    }
   ],
   "source": [
    "kun = input(\"Bugun nima kun?\")\n",
    "harorat = float(input(\"Havo harorati qanday?\"))\n",
    "if (kun.lower()=='shanba' or kun.lower()=='yakshanba') and harorat>=30:\n",
    "    print(\"Cho'milgani ketdik!\")\n",
    "elif (kun.lower()=='shanba' or kun.lower()=='yakshanba') and harorat<30:\n",
    "    print(\"Uyda dam olamiz!\")"
   ]
  },
  {
   "cell_type": "code",
   "execution_count": 9,
   "id": "c56c53a0-27eb-40c5-8314-85f9f12a66e0",
   "metadata": {},
   "outputs": [
    {
     "name": "stdout",
     "output_type": "stream",
     "text": [
      "Jami 20000 so'm\n"
     ]
    }
   ],
   "source": [
    "narh = 15000 # mijoz 15000 so'mga taom oldi.\n",
    "choy = True # mijoz choy ham oldi\n",
    "salat = False # mijoz salat olmadi\n",
    "\n",
    "if choy and salat: # agar mijoz choy ham salat ham olgan bo'lsa\n",
    "    narh = narh + 10000 # narhga 10000 so'm qo'shamiz\n",
    "elif choy or salat: # agar choy yoki salat olgan bo'lsa\n",
    "    narh = narh + 5000 # narhga 5000 so'm qo'shamiz\n",
    "\n",
    "print(f\"Jami {narh} so'm\") # yakuniy narhni chiqaramiz"
   ]
  },
  {
   "cell_type": "code",
   "execution_count": 10,
   "id": "be7b8222-23fe-4472-a90b-751cd683bcf9",
   "metadata": {},
   "outputs": [
    {
     "name": "stdout",
     "output_type": "stream",
     "text": [
      "Mijoz choy oldi.\n",
      "Mijoz non oldi.\n",
      "Mijoz kompot oldi.\n",
      "Jami 25000 so'm\n"
     ]
    }
   ],
   "source": [
    "narh = 15000 # mijoz 15 so'mga ovqat oldi\n",
    "choy = True\n",
    "salat = False\n",
    "non = True\n",
    "kompot = True\n",
    "assorti = False\n",
    "#Quyidagi har bir shart alohida tekshiriladi va bir-biriga bog'liq emas\n",
    "if choy:   # agar choy olsa\n",
    "    print(\"Mijoz choy oldi.\")\n",
    "    narh = narh + 3000\n",
    "if salat:  # agar salat olsa\n",
    "    print(\"Mijoz salat oldi.\")\n",
    "    narh = narh + 5000\n",
    "if non:    # agar non olsa\n",
    "    print(\"Mijoz non oldi.\")\n",
    "    narh = narh + 2000\n",
    "if kompot: # agar kompot olsa\n",
    "    print(\"Mijoz kompot oldi.\")\n",
    "    narh = narh + 5000\n",
    "if assorti: # agar assorti olsa\n",
    "    print(\"Mijoz assorti oldi.\")\n",
    "    narh = narh + 15000\n",
    "    \n",
    "print(f\"Jami {narh} so'm\")"
   ]
  },
  {
   "cell_type": "code",
   "execution_count": 11,
   "id": "bc094a43-2270-4cbc-b947-a12c85ab2007",
   "metadata": {},
   "outputs": [
    {
     "data": {
      "text/plain": [
       "False"
      ]
     },
     "execution_count": 11,
     "metadata": {},
     "output_type": "execute_result"
    }
   ],
   "source": [
    "menu = ['osh','qazonkabob','shashlik','norin','somsa']\n",
    "'manti' in menu # menu da manti bormi?"
   ]
  },
  {
   "cell_type": "code",
   "execution_count": 12,
   "id": "f337219f-2120-4892-bfc9-e372c25387eb",
   "metadata": {},
   "outputs": [
    {
     "data": {
      "text/plain": [
       "True"
      ]
     },
     "execution_count": 12,
     "metadata": {},
     "output_type": "execute_result"
    }
   ],
   "source": [
    "menu = ['osh','qazonkabob','shashlik','norin','somsa']\n",
    "'osh' in menu # menu da osh bormi?"
   ]
  },
  {
   "cell_type": "code",
   "execution_count": 13,
   "id": "3883021e-441f-4388-b1ce-0f5df41c01f9",
   "metadata": {},
   "outputs": [
    {
     "name": "stdin",
     "output_type": "stream",
     "text": [
      "Nima ovqat yeysiz?>>> osh\n"
     ]
    },
    {
     "name": "stdout",
     "output_type": "stream",
     "text": [
      "Buyurtma qabul qilindi.\n"
     ]
    }
   ],
   "source": [
    "menu = ['osh','qazonkabob','shashlik','norin','somsa']\n",
    "ovqat = input('Nima ovqat yeysiz?>>>')\n",
    "if ovqat.lower() in menu:\n",
    "    print('Buyurtma qabul qilindi.')\n",
    "else:\n",
    "    print('Afsuski bizda bunday ovqat yo\\'q')"
   ]
  },
  {
   "cell_type": "code",
   "execution_count": 14,
   "id": "8c4f2832-588d-41df-a4aa-681bb8943329",
   "metadata": {},
   "outputs": [
    {
     "data": {
      "text/plain": [
       "True"
      ]
     },
     "execution_count": 14,
     "metadata": {},
     "output_type": "execute_result"
    }
   ],
   "source": [
    "menu = ['osh','qazonkabob','shashlik','norin','somsa']\n",
    "'manti' not in menu # menu da manti yo'qmi?"
   ]
  },
  {
   "cell_type": "code",
   "execution_count": 15,
   "id": "741c6873-cfb8-4d81-a1bb-d9808f9612ce",
   "metadata": {},
   "outputs": [
    {
     "data": {
      "text/plain": [
       "False"
      ]
     },
     "execution_count": 15,
     "metadata": {},
     "output_type": "execute_result"
    }
   ],
   "source": [
    "menu = ['osh','qazonkabob','shashlik','norin','somsa']\n",
    "'osh' not in menu # menu da osh yo'qmi?"
   ]
  },
  {
   "cell_type": "code",
   "execution_count": 16,
   "id": "37f0a493-18f1-4820-9a27-211d33fbdcce",
   "metadata": {},
   "outputs": [
    {
     "name": "stdin",
     "output_type": "stream",
     "text": [
      "Nima ovqat yeysiz?>>> osh\n"
     ]
    },
    {
     "name": "stdout",
     "output_type": "stream",
     "text": [
      "Buyurtma qabul qilindi.\n"
     ]
    }
   ],
   "source": [
    "menu = ['osh','qazonkabob','shashlik','norin','somsa']\n",
    "ovqat = input('Nima ovqat yeysiz?>>>')\n",
    "if ovqat.lower() not in menu:\n",
    "    print('Afsuski bizda bunday ovqat yo\\'q')\n",
    "else:\n",
    "    print('Buyurtma qabul qilindi.')"
   ]
  },
  {
   "cell_type": "code",
   "execution_count": 17,
   "id": "c9fee0eb-ed01-44bb-8f04-a276f31e4d29",
   "metadata": {},
   "outputs": [
    {
     "name": "stdout",
     "output_type": "stream",
     "text": [
      "Menuda osh bor\n",
      "Menuda somsa bor\n",
      "Kechirasiz, menuda manti yo'q\n",
      "Menuda shashlik bor\n"
     ]
    }
   ],
   "source": [
    "menu = ['osh','qazonkabob','shashlik','norin','somsa']\n",
    "buyurtmalar = [\"osh\",\"somsa\",\"manti\", \"shashlik\"]\n",
    "\n",
    "for taom in buyurtmalar:\n",
    "    if taom in menu:\n",
    "        print(f\"Menuda {taom} bor\")\n",
    "    else:\n",
    "        print(f\"Kechirasiz, menuda {taom} yo'q\")"
   ]
  },
  {
   "cell_type": "code",
   "execution_count": 18,
   "id": "c9e6f589-26a0-47e3-9f2a-bf937e963e12",
   "metadata": {},
   "outputs": [
    {
     "name": "stdout",
     "output_type": "stream",
     "text": [
      "Menuda osh bor\n",
      "Menuda somsa bor\n",
      "Kechirasiz, menuda manti yo'q\n",
      "Menuda shashlik bor\n"
     ]
    }
   ],
   "source": [
    "menu = ['osh','qazonkabob','shashlik','norin','somsa']\n",
    "buyurtmalar = [\"osh\",\"somsa\",\"manti\", \"shashlik\"]\n",
    "\n",
    "if buyurtmalar: # ro'yxatda biror element bo'lsa bu ifoda TRUE qaytaradi\n",
    "    for taom in buyurtmalar:\n",
    "        if taom in menu:\n",
    "            print(f\"Menuda {taom} bor\")\n",
    "        else:\n",
    "            print(f\"Kechirasiz, menuda {taom} yo'q\")\n",
    "else: # agar ro'yxat bo'sh bo'lsa\n",
    "    print(\"Savatchangiz bo'sh!\")"
   ]
  },
  {
   "cell_type": "code",
   "execution_count": 19,
   "id": "06ddda8d-c645-4dc6-81a9-dc7a7fef401c",
   "metadata": {},
   "outputs": [],
   "source": [
    "#Amaliyot"
   ]
  },
  {
   "cell_type": "code",
   "execution_count": 20,
   "id": "b404b6bd-5a3e-4017-8269-5f079ada755f",
   "metadata": {},
   "outputs": [],
   "source": [
    "# Foydalanuvchidan juft son kiritishni so'rang. Agar foydalanuvchi juft son kiritsa \"Rahmat!\", agar toq son kiritsa \"Bu son juft emas\" degan xabarni chiqaring."
   ]
  },
  {
   "cell_type": "code",
   "execution_count": 21,
   "id": "b03bb232-363e-4fea-b254-f81d3dd37e61",
   "metadata": {},
   "outputs": [
    {
     "name": "stdin",
     "output_type": "stream",
     "text": [
      "juft son kiriting:  44\n"
     ]
    },
    {
     "name": "stdout",
     "output_type": "stream",
     "text": [
      "Rahmat\n"
     ]
    }
   ],
   "source": [
    "x=float(input('juft son kiriting: '))\n",
    "if x%2==0: print('Rahmat')\n",
    "else: print('Bu son juft emas')"
   ]
  },
  {
   "cell_type": "code",
   "execution_count": 22,
   "id": "2af5e9fd-70ef-40db-9dfd-d14621aea8a5",
   "metadata": {},
   "outputs": [],
   "source": [
    "# Foydalanuvchi yoshini so'rang, va muzeyga kirish uchun chipta narhini quyidagicha\n",
    "# chiqaring:\n",
    "# Agar foydalanuvchi 4 yoshdan kichkina yoki 60 dan katta bo'lsa bepul\n",
    "# Agar foydalanuvchi 18 dan kichik bo'lsa 10000 so'm\n",
    "# Agar foydalanuvchi 18 dan katta bo'lsa 20000 so'm"
   ]
  },
  {
   "cell_type": "code",
   "execution_count": 23,
   "id": "5453928a-3142-446a-9a06-86e3f8bf5f28",
   "metadata": {},
   "outputs": [
    {
     "name": "stdin",
     "output_type": "stream",
     "text": [
      "yoshingiz:  20\n"
     ]
    },
    {
     "name": "stdout",
     "output_type": "stream",
     "text": [
      "20000 so'm\n"
     ]
    }
   ],
   "source": [
    "x=int(input(\"yoshingiz: \"))\n",
    "if x<=4 or x>=60:\n",
    "    print(\"bepul\")\n",
    "elif x<=18:\n",
    "    print(\"10000 so'm\")\n",
    "else: print(\"20000 so'm\")"
   ]
  },
  {
   "cell_type": "code",
   "execution_count": 24,
   "id": "4d993aed-23c0-436b-9e0e-f867f414335f",
   "metadata": {},
   "outputs": [],
   "source": [
    "# Foydalanuvchidan ikita son kiritishni so'rang, sonlarni solishtiring va ularning teng yoki katta/kichikligi haqida xabarni chiqaring"
   ]
  },
  {
   "cell_type": "code",
   "execution_count": 25,
   "id": "6edc9126-2a3c-496b-8955-d0191b50376a",
   "metadata": {},
   "outputs": [
    {
     "name": "stdin",
     "output_type": "stream",
     "text": [
      "son kirit:  15\n",
      "son kirit:  45\n"
     ]
    },
    {
     "name": "stdout",
     "output_type": "stream",
     "text": [
      "15.0<45.0\n"
     ]
    }
   ],
   "source": [
    "x=float(input('son kirit: '))\n",
    "y=float(input('son kirit: '))\n",
    "if x==y: print('teng')\n",
    "elif x>y: print(f\"{x}>{y}\")\n",
    "else: print(f\"{x}<{y}\")"
   ]
  },
  {
   "cell_type": "code",
   "execution_count": 26,
   "id": "82d10f15-7a75-45e1-8b14-b2725aa317ec",
   "metadata": {},
   "outputs": [],
   "source": [
    "# mahsulotlar degan ro'yxat yarating va kamida 10 ta turli mahsulotni kiriting. Yangi, savat degan bo'sh ro'yxat yarating va foydalanuvchidan savatga kamida 5 ta mahsulot kiritishni so'rang. Savatdagi elementlarni, \n",
    "# mahsulotlar ro'yxati bilan solishtiring va qaysi biri ro'yxatda bo'lsa \" Mahsulot do'konimizda bor\" aks holda, \" Mahsulot do'konimizda yo'q\" degan xabarlarni chiqaring."
   ]
  },
  {
   "cell_type": "code",
   "execution_count": 27,
   "id": "6a28b71f-09ba-4ade-a93b-b1c0405a5bf4",
   "metadata": {},
   "outputs": [
    {
     "name": "stdin",
     "output_type": "stream",
     "text": [
      "Savatga 1-mahsulotni qo'shing:  Olma\n",
      "Savatga 2-mahsulotni qo'shing:  sabzi\n",
      "Savatga 3-mahsulotni qo'shing:  guruch\n",
      "Savatga 4-mahsulotni qo'shing:  behi\n",
      "Savatga 5-mahsulotni qo'shing:  karam\n"
     ]
    },
    {
     "name": "stdout",
     "output_type": "stream",
     "text": [
      "Do'konimizda Olma yo'q\n",
      "Do'konimizda sabzi yo'q\n",
      "Do'konimizda guruch yo'q\n",
      "Do'konimizda behi yo'q\n",
      "Do'konimizda karam yo'q\n"
     ]
    }
   ],
   "source": [
    "mahsulotlar=['olma', 'banan', 'anjir', 'anor', 'gilos', 'olcha', \"o'rik\", 'sut']\n",
    "savat=[]\n",
    "for i in range(5):\n",
    "    i=input(f\"Savatga {i+1}-mahsulotni qo'shing: \")\n",
    "    savat.append(i)\n",
    "if savat:\n",
    "    for bor in savat:\n",
    "        if bor in mahsulotlar:\n",
    "            print(f\"Do'konimizda {bor} bor\")\n",
    "        else: print(f\"Do'konimizda {bor} yo'q\")"
   ]
  },
  {
   "cell_type": "code",
   "execution_count": 28,
   "id": "eb79abaf-2219-4f69-9ff1-49745add31fd",
   "metadata": {},
   "outputs": [],
   "source": [
    "# Yuqoridagi dasturni quyidagicha o'zgartiring: foydalanuvchidan 5 ta mahsulot kiritishni so'rang. Foydalanuvchi so'ragan va do'konda bor mahsulotlarni yang, bor_mahsulotlar degan ro'yxatga, do'konda yo'q mahsulotlarni esa mavjud_emas degan ro'yxatga qo'shing.  \n",
    "# Agar mavjud_emas ro'yxati bo'sh bo'lsa, \"Siz so'ragan barcha mahsulotlar do'konimizda bor\" degan xabarni, aks holda esa \"Quyidagi mahsulotlar do'konimizda yo'q: .....\" degan xabarni chiqaring."
   ]
  },
  {
   "cell_type": "code",
   "execution_count": 29,
   "id": "b13bf53d-fa30-464c-9cbb-dddfb3a4a146",
   "metadata": {},
   "outputs": [
    {
     "name": "stdin",
     "output_type": "stream",
     "text": [
      "Savatga 1-mahsulotni qo'shing:  olma\n",
      "Savatga 2-mahsulotni qo'shing:  anor\n",
      "Savatga 3-mahsulotni qo'shing:  behi\n",
      "Savatga 4-mahsulotni qo'shing:  shaftoli\n",
      "Savatga 5-mahsulotni qo'shing:  qovun \n"
     ]
    },
    {
     "name": "stdout",
     "output_type": "stream",
     "text": [
      "Do'konimizda quyidagilar yo'q\n",
      "behi\n",
      "shaftoli\n",
      "qovun \n"
     ]
    }
   ],
   "source": [
    "mahsulotlar=['olma', 'banan', 'anjir', 'anor', 'gilos', 'olcha', \"o'rik\", 'sut']\n",
    "savat=[]\n",
    "for i in range(5):\n",
    "    i=input(f\"Savatga {i+1}-mahsulotni qo'shing: \")\n",
    "    savat.append(i)\n",
    "bor_mahsulotlar=[]\n",
    "mavjud_emas=[]\n",
    "for bor in savat:\n",
    "    if bor in mahsulotlar:\n",
    "        bor_mahsulotlar.append(bor)\n",
    "    else: mavjud_emas.append(bor)\n",
    "if mavjud_emas:\n",
    "    print(f\"Do'konimizda quyidagilar yo'q\")\n",
    "    for bor in mavjud_emas:\n",
    "        print(bor)\n",
    "else: print(\"siz so'ragan barcha mahsulotlar do'konimizda bor\")"
   ]
  },
  {
   "cell_type": "code",
   "execution_count": 30,
   "id": "60fc10ca-f089-452a-87d4-716a2ef5dda6",
   "metadata": {},
   "outputs": [],
   "source": [
    "# foydalanuvchilar degan ro'yxat tuzing, va kamida 5 ta login qo'shing. Foydalanuvchidan yangi login tanlashni so'rang va foydalanuvchi kiritgan loginni foydalanuvchilar degan\n",
    "# ro'yxatning tarkibi bilan solishtiring. Agar ro'yxatda bunday login mavjud bo'lsa, \"Login band, yangi login tanlang!\" aks holda \"Xush kelibsiz, foydalanuvchi!\" xabarini chiqaring."
   ]
  },
  {
   "cell_type": "code",
   "execution_count": 31,
   "id": "a10b0107-0c4b-4cb1-bdce-df05c5be7d48",
   "metadata": {},
   "outputs": [
    {
     "name": "stdin",
     "output_type": "stream",
     "text": [
      "login kiriting:  sardor2005\n"
     ]
    },
    {
     "name": "stdout",
     "output_type": "stream",
     "text": [
      "Xush kelibsiz, Sardor2005\n"
     ]
    }
   ],
   "source": [
    "foydalanuvchilar=['sardor', 'anvar', 'ali', 'vali', 'jasur']\n",
    "x=input(\"login kiriting: \")\n",
    "if x in foydalanuvchilar:\n",
    "    print(\"Login band, yangi login tanlang!\")\n",
    "else: print(f\"Xush kelibsiz, {x.title()}\")"
   ]
  },
  {
   "cell_type": "code",
   "execution_count": 32,
   "id": "c52badfe-83c0-4cba-98ba-397fd755b4c0",
   "metadata": {},
   "outputs": [],
   "source": [
    "# Foydalanuvchidan biror butun son kiritishni so'rang. Foydalanuvchi kiritgan sonni 2 da 10 gacha bo'lgan sonlardan qay biriga qoldiqsiz bo'linishini konsolga chiqaring."
   ]
  },
  {
   "cell_type": "code",
   "execution_count": 33,
   "id": "f86952d1-fcd4-44ea-9c43-cfb1505122ce",
   "metadata": {},
   "outputs": [
    {
     "name": "stdin",
     "output_type": "stream",
     "text": [
      "son kirit:  45\n"
     ]
    },
    {
     "name": "stdout",
     "output_type": "stream",
     "text": [
      "45 soni 3 ga qoldiqsiz bo'linadi\n",
      "45 soni 5 ga qoldiqsiz bo'linadi\n",
      "45 soni 9 ga qoldiqsiz bo'linadi\n"
     ]
    }
   ],
   "source": [
    "x=int(input(\"son kirit: \"))\n",
    "for i in range(2,11):\n",
    "    if x%i==0:\n",
    "        print(f\"{x} soni {i} ga qoldiqsiz bo'linadi\")"
   ]
  },
  {
   "cell_type": "code",
   "execution_count": null,
   "id": "cb618cac-c541-4807-b694-0b662c8c5fce",
   "metadata": {},
   "outputs": [],
   "source": []
  }
 ],
 "metadata": {
  "kernelspec": {
   "display_name": "Python 3 (ipykernel)",
   "language": "python",
   "name": "python3"
  },
  "language_info": {
   "codemirror_mode": {
    "name": "ipython",
    "version": 3
   },
   "file_extension": ".py",
   "mimetype": "text/x-python",
   "name": "python",
   "nbconvert_exporter": "python",
   "pygments_lexer": "ipython3",
   "version": "3.12.1"
  }
 },
 "nbformat": 4,
 "nbformat_minor": 5
}
