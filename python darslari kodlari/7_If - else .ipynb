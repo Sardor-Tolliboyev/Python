{
 "cells": [
  {
   "cell_type": "code",
   "execution_count": 1,
   "id": "f4dfb9e2-e449-4894-97dd-1a42cb47887f",
   "metadata": {},
   "outputs": [],
   "source": [
    "# If - else"
   ]
  },
  {
   "cell_type": "code",
   "execution_count": 2,
   "id": "2545ac66-1f70-43a6-a828-62b03b51330f",
   "metadata": {},
   "outputs": [],
   "source": [
    "avtolar = ['audi','bmw','volvo','kia','hyundai']"
   ]
  },
  {
   "cell_type": "code",
   "execution_count": 3,
   "id": "3586f965-4105-4fe0-ad2b-4a925b91534f",
   "metadata": {},
   "outputs": [
    {
     "name": "stdout",
     "output_type": "stream",
     "text": [
      "Audi\n",
      "BMW\n",
      "Volvo\n",
      "Kia\n",
      "Hyundai\n"
     ]
    }
   ],
   "source": [
    "for avto in avtolar: # avtolar ichidadi har bir avto uchun ...\n",
    "    if avto == 'bmw':  # ... agar avto bmw ga teng bo'lsa ...\n",
    "        print(avto.upper()) # avto nomini hamma harflarini katta bilan yoz.\n",
    "    else: # aks holda ... \n",
    "        print(avto.title()) # avto nomini faqat birinchi harfini katta bilann yoz."
   ]
  },
  {
   "cell_type": "code",
   "execution_count": 4,
   "id": "576dc489-c4a9-4c42-8e68-9ef58f10f0c5",
   "metadata": {},
   "outputs": [
    {
     "name": "stdout",
     "output_type": "stream",
     "text": [
      "Audi\n",
      "BMW\n",
      "Volvo\n",
      "Kia\n",
      "Hyundai\n"
     ]
    }
   ],
   "source": [
    "avtolar = ['audi','bmw','volvo','kia','hyundai']\n",
    "for avto in avtolar: # avtolar ichidadi har bir avto uchun ...\n",
    "    if avto == 'bmw':  # ... agar avto bmw ga teng bo'lsa ...\n",
    "        print(avto.upper()) # avto nomini hamma harflarini katta bilan yoz.\n",
    "    else: # aks holda ... \n",
    "        print(avto.title()) # avto nomini faqat birinchi harfini katta bilan yoz."
   ]
  },
  {
   "cell_type": "code",
   "execution_count": 5,
   "id": "1533ec82-23bd-45dd-ab4a-e75ce3203c6b",
   "metadata": {},
   "outputs": [
    {
     "data": {
      "text/plain": [
       "True"
      ]
     },
     "execution_count": 5,
     "metadata": {},
     "output_type": "execute_result"
    }
   ],
   "source": [
    "ism = 'Ali'\n",
    "ism.lower() == 'ali'"
   ]
  },
  {
   "cell_type": "code",
   "execution_count": 6,
   "id": "a26b760a-80fb-4886-b6db-58c8d43be155",
   "metadata": {},
   "outputs": [
    {
     "name": "stdin",
     "output_type": "stream",
     "text": [
      "Ismingiz nima?\n",
      ">>> Sardor\n"
     ]
    },
    {
     "name": "stdout",
     "output_type": "stream",
     "text": [
      "Uzr, Sardor biz Alini kutayapmiz.\n"
     ]
    }
   ],
   "source": [
    "ism = input('Ismingiz nima?\\n>>>') # Foydalanuvchi ismini so'raymiz\n",
    "if ism.lower() != 'ali': # Agar ism Aliga teng bo'lmasa ...\n",
    "    print(f\"Uzr, {ism.title()} biz Alini kutayapmiz.\") # quyidagi xabar chiqadi\n",
    "else:\n",
    "    print(\"Salom, Ali\")"
   ]
  },
  {
   "cell_type": "code",
   "execution_count": 8,
   "id": "abb75d2c-6e7c-4034-a4d3-c865dde7dd8f",
   "metadata": {},
   "outputs": [
    {
     "name": "stdin",
     "output_type": "stream",
     "text": [
      "12x6 nechiga teng?>>> 45\n"
     ]
    },
    {
     "name": "stdout",
     "output_type": "stream",
     "text": [
      "Javob xato!\n"
     ]
    }
   ],
   "source": [
    "javob = float(input(\"12x6 nechiga teng?>>>\"))\n",
    "if javob!=72:\n",
    "    print(\"Javob xato!\")"
   ]
  },
  {
   "cell_type": "code",
   "execution_count": 9,
   "id": "8685c4fd-809e-421a-8678-07709084c6d4",
   "metadata": {},
   "outputs": [
    {
     "name": "stdin",
     "output_type": "stream",
     "text": [
      "Yoshingiz nechida?>>> 20\n"
     ]
    },
    {
     "name": "stdout",
     "output_type": "stream",
     "text": [
      "Xush kelibsiz!\n"
     ]
    }
   ],
   "source": [
    "yosh = int(input(\"Yoshingiz nechida?>>>\"))\n",
    "if yosh>=18: # yosh 18 dan katta yoki teng bo'lsa\n",
    "    print('Xush kelibsiz!')\n",
    "else: # ask holda\n",
    "    print('Kirish mumkin emas!')"
   ]
  },
  {
   "cell_type": "code",
   "execution_count": 10,
   "id": "be07cb1c-4099-4b9d-844c-181717d7cdf8",
   "metadata": {},
   "outputs": [
    {
     "name": "stdin",
     "output_type": "stream",
     "text": [
      "Yangi login tanlang: sardor2005\n"
     ]
    }
   ],
   "source": [
    "login = input(\"Yangi login tanlang:\")\n",
    "if len(login)<=5: # login uzunligini tekshiramiz\n",
    "    print(\"Login 5 harfdan ko'proq bo'lishi shart!\")"
   ]
  },
  {
   "cell_type": "code",
   "execution_count": 11,
   "id": "b8d77f3a-65ec-439a-acdb-8053b4195871",
   "metadata": {},
   "outputs": [
    {
     "name": "stdin",
     "output_type": "stream",
     "text": [
      "Tug'ilgan yilingizni kiriting: 2005\n"
     ]
    },
    {
     "name": "stdout",
     "output_type": "stream",
     "text": [
      "Xush kelibsiz!\n"
     ]
    }
   ],
   "source": [
    "yil = int(input(\"Tug'ilgan yilingizni kiriting:\"))\n",
    "if 2025-yil<18: # foydalanuvchining yoshini hisoblaymiz\n",
    "    print(f\"Yoshingiz {2020-yil}da ekan.\")\n",
    "    print(\"Kirish mumkin emas!\")\n",
    "else:\n",
    "    print(\"Xush kelibsiz!\")"
   ]
  },
  {
   "cell_type": "code",
   "execution_count": 12,
   "id": "627ef9fa-2e8b-458c-8075-75114e495d48",
   "metadata": {},
   "outputs": [
    {
     "name": "stdin",
     "output_type": "stream",
     "text": [
      "Yoshingiz nechida?>>> 20\n"
     ]
    }
   ],
   "source": [
    "yosh = int(input(\"Yoshingiz nechida?>>>\"))\n",
    "if yosh>65: print(\"Siz COVID-19 risk guruhida ekansiz\")"
   ]
  },
  {
   "cell_type": "code",
   "execution_count": 13,
   "id": "d3827e8f-085e-4161-bd13-8974df2d764b",
   "metadata": {},
   "outputs": [
    {
     "name": "stdout",
     "output_type": "stream",
     "text": [
      "x>y\n"
     ]
    }
   ],
   "source": [
    "x, y = 75, 50 # x=25 va y=50\n",
    "print(\"x>y\") if x>y else print(\"x<y\")"
   ]
  },
  {
   "cell_type": "code",
   "execution_count": 14,
   "id": "319be202-0ccc-4910-90ee-a17d1a0a6873",
   "metadata": {},
   "outputs": [],
   "source": [
    "#Amaliyot"
   ]
  },
  {
   "cell_type": "code",
   "execution_count": 15,
   "id": "3c056e61-eb7c-45f3-8de4-1934019c85d7",
   "metadata": {},
   "outputs": [],
   "source": [
    "# Yangi cars = ['toyota', 'mazda', 'hyundai', 'gm', 'kia'] degan ro'yxat tuzing,\n",
    "# ro'yxat elementlarining birinchi har ﬁni katta qilib konsolga chqaring. GM uchun ikkala harfni katta qiling."
   ]
  },
  {
   "cell_type": "code",
   "execution_count": 16,
   "id": "742d88c2-a34c-44a6-9566-89fc0b2ae41c",
   "metadata": {},
   "outputs": [],
   "source": [
    "cars = ['toyota', 'mazda', 'hyundai', 'gm', 'kia']"
   ]
  },
  {
   "cell_type": "code",
   "execution_count": 17,
   "id": "be02bc29-ea3f-4bcc-b605-f40518322d7f",
   "metadata": {},
   "outputs": [
    {
     "name": "stdout",
     "output_type": "stream",
     "text": [
      "Toyota\n",
      "Mazda\n",
      "Hyundai\n",
      "GM\n",
      "Kia\n"
     ]
    }
   ],
   "source": [
    "for i in cars:\n",
    "    if i=='gm':\n",
    "        print(i.upper())\n",
    "    else:\n",
    "        print(i.title())"
   ]
  },
  {
   "cell_type": "code",
   "execution_count": 18,
   "id": "6c323ce3-8888-486f-b5b4-6be81237ebe5",
   "metadata": {},
   "outputs": [],
   "source": [
    "# Yuqoridagi mashqni teng emas (!=) operatori yordamida bajaring."
   ]
  },
  {
   "cell_type": "code",
   "execution_count": 19,
   "id": "38a404f3-725f-419d-9483-9cfd33580c38",
   "metadata": {},
   "outputs": [
    {
     "name": "stdout",
     "output_type": "stream",
     "text": [
      "Toyota\n",
      "Mazda\n",
      "Hyundai\n",
      "GM\n",
      "Kia\n"
     ]
    }
   ],
   "source": [
    "for i in cars:\n",
    "    if i!='gm':\n",
    "        print(i.title())\n",
    "    else:\n",
    "        print(i.upper())"
   ]
  },
  {
   "cell_type": "code",
   "execution_count": 20,
   "id": "2f72e23a-2bff-4a60-80ae-1f4999aad0d5",
   "metadata": {},
   "outputs": [],
   "source": [
    "# Foydalanuvchi login ismini so'rang. Agar login admin bo'lsa, \"Xush kelibsiz, Admin.\n",
    "# Foydalanuvchilar ro'yxatini ko'rasizmi?\" xabarini konsolga chiqaring. Aks holda, \"Xush\n",
    "# kelibsiz, {foydalanuvchi_ismi}! \" matnini konsolga chiqaring."
   ]
  },
  {
   "cell_type": "code",
   "execution_count": 21,
   "id": "50a19104-4b8c-4556-a3aa-bcbd7d8cf988",
   "metadata": {},
   "outputs": [
    {
     "name": "stdin",
     "output_type": "stream",
     "text": [
      "Login ismi:>>> Sardor\n"
     ]
    },
    {
     "name": "stdout",
     "output_type": "stream",
     "text": [
      "Xush kelibsiz, Sardor!\n"
     ]
    }
   ],
   "source": [
    "login=input('Login ismi:>>>')\n",
    "if login=='admin':\n",
    "    print(\"Xush kelibsiz, Admin. Foydalanuvchilar ro'yxatini ko'rasizmi?\")\n",
    "else:\n",
    "    print(f\"Xush kelibsiz, {login}!\")"
   ]
  },
  {
   "cell_type": "code",
   "execution_count": 22,
   "id": "bd5084e6-cb56-43b7-ac6c-f72948e8c8f6",
   "metadata": {},
   "outputs": [],
   "source": [
    "# Foydalanuvchidan 2 ta son kiritishni so'rang. Agar ikki son bir-biriga teng bo'lsa, \"Sonlar teng\" ekan degan yozuvni konsolga chiqaring."
   ]
  },
  {
   "cell_type": "code",
   "execution_count": 24,
   "id": "b57a7ee5-ad62-4161-bcd3-ef18bd5afbae",
   "metadata": {},
   "outputs": [
    {
     "name": "stdin",
     "output_type": "stream",
     "text": [
      "son kirit: 4\n",
      "son kirit: 4\n"
     ]
    },
    {
     "name": "stdout",
     "output_type": "stream",
     "text": [
      "Sonlar teng\n"
     ]
    }
   ],
   "source": [
    "x=float(input('son kirit:'))\n",
    "y=int(input('son kirit:'))\n",
    "if x==y: print(\"Sonlar teng\")"
   ]
  },
  {
   "cell_type": "code",
   "execution_count": 25,
   "id": "c97c317b-93a2-4b21-ae81-e5e04d5a5719",
   "metadata": {},
   "outputs": [],
   "source": [
    "# Foydalanuvchidan istalgan son kiritishni so'rang. Agar son manfiy bo'lsa konsolga \"Manfiy son\", agar musbat bo'lsa \"Musbat son\" degan xabarni chiqaring."
   ]
  },
  {
   "cell_type": "code",
   "execution_count": 26,
   "id": "f6f9d478-01e4-4d97-adbf-819fd8bbdc12",
   "metadata": {},
   "outputs": [
    {
     "name": "stdin",
     "output_type": "stream",
     "text": [
      "son kirit: 4\n"
     ]
    },
    {
     "name": "stdout",
     "output_type": "stream",
     "text": [
      "Musbat son\n"
     ]
    }
   ],
   "source": [
    "x=float(input('son kirit:'))\n",
    "if x<0: print(\"Manfiy son\")\n",
    "elif x>0: print(\"Musbat son\")"
   ]
  },
  {
   "cell_type": "code",
   "execution_count": 27,
   "id": "86e5903b-1011-4595-b13d-4330c96f306a",
   "metadata": {},
   "outputs": [],
   "source": [
    "# Foydalanuvchidan son kiritishni so'rang, agar son musbat bo'lsa uning ildizini hisoblab\n",
    "# konsolga chiqaring. Agar son manfiy bo'lsa, \"Musbat son kiriting\" degan xabarni chiqaring."
   ]
  },
  {
   "cell_type": "code",
   "execution_count": 28,
   "id": "e374a24a-db3d-442e-a8c9-3e8ee09c9022",
   "metadata": {},
   "outputs": [
    {
     "name": "stdin",
     "output_type": "stream",
     "text": [
      "son kirit: 5\n"
     ]
    },
    {
     "name": "stdout",
     "output_type": "stream",
     "text": [
      "2.23606797749979\n"
     ]
    }
   ],
   "source": [
    "x=float(input('son kirit:'))\n",
    "if x<0: print(\"Musbat son kiriting!\")\n",
    "elif x>0: print(x**0.5)"
   ]
  },
  {
   "cell_type": "code",
   "execution_count": null,
   "id": "3850f683-995d-4e5c-800f-262d86ca1c1a",
   "metadata": {},
   "outputs": [],
   "source": []
  }
 ],
 "metadata": {
  "kernelspec": {
   "display_name": "Python 3 (ipykernel)",
   "language": "python",
   "name": "python3"
  },
  "language_info": {
   "codemirror_mode": {
    "name": "ipython",
    "version": 3
   },
   "file_extension": ".py",
   "mimetype": "text/x-python",
   "name": "python",
   "nbconvert_exporter": "python",
   "pygments_lexer": "ipython3",
   "version": "3.12.1"
  }
 },
 "nbformat": 4,
 "nbformat_minor": 5
}
