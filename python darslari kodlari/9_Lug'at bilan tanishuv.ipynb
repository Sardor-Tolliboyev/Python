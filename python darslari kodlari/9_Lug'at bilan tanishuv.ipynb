{
 "cells": [
  {
   "cell_type": "code",
   "execution_count": 2,
   "id": "15ed46a9-8fd0-4a03-b5b7-819ea379ee91",
   "metadata": {},
   "outputs": [],
   "source": [
    "#Lug'at bilan tanishuv"
   ]
  },
  {
   "cell_type": "code",
   "execution_count": 4,
   "id": "317e1dc6-9cb1-4692-8bb7-e2a483488e24",
   "metadata": {},
   "outputs": [
    {
     "name": "stdout",
     "output_type": "stream",
     "text": [
      "ferrari\n"
     ]
    }
   ],
   "source": [
    "car_0 = {'model':'ferrari','rang':'qizil'}\n",
    "print(car_0['model'])"
   ]
  },
  {
   "cell_type": "code",
   "execution_count": 9,
   "id": "6c9b1fd9-77f2-490a-b295-912eb86e189e",
   "metadata": {},
   "outputs": [
    {
     "name": "stdout",
     "output_type": "stream",
     "text": [
      "qizil\n"
     ]
    }
   ],
   "source": [
    "print(car_0['rang'])"
   ]
  },
  {
   "cell_type": "code",
   "execution_count": 7,
   "id": "053d7286-bd9c-4e68-9864-d1f791b64e97",
   "metadata": {},
   "outputs": [
    {
     "name": "stdout",
     "output_type": "stream",
     "text": [
      "Murod Olimov, 2000-yilda tug'ilgan, 20 yoshda\n"
     ]
    }
   ],
   "source": [
    "talaba_0 = {'ism':'murod olimov','yosh':20,'t_yil':2000}\n",
    "print(f\"{talaba_0['m'].title()},\\\n",
    " {talaba_0['t_yil']}-yilda tug'ilgan,\\\n",
    " {talaba_0['yosh']} yoshda\")"
   ]
  },
  {
   "cell_type": "code",
   "execution_count": 10,
   "id": "53ff0be7-0a76-44ea-baf1-3be54c0d3324",
   "metadata": {},
   "outputs": [],
   "source": [
    "talaba_0['kurs'] = 4\n",
    "talaba_0['fakultet'] = 'informatika'"
   ]
  },
  {
   "cell_type": "code",
   "execution_count": 11,
   "id": "8662e1c7-cb5d-4224-af28-65a29674c7c8",
   "metadata": {},
   "outputs": [
    {
     "name": "stdout",
     "output_type": "stream",
     "text": [
      "{'ism': 'murod olimov', 'yosh': 20, 't_yil': 2000, 'kurs': 4, 'fakultet': 'informatika'}\n"
     ]
    }
   ],
   "source": [
    "print(talaba_0)"
   ]
  },
  {
   "cell_type": "code",
   "execution_count": 12,
   "id": "449279a4-1897-4dfa-92a3-73e40bcddf13",
   "metadata": {},
   "outputs": [],
   "source": [
    "talaba_1 = {}"
   ]
  },
  {
   "cell_type": "code",
   "execution_count": 14,
   "id": "c870a715-fd82-435b-a39a-b05dc3e22995",
   "metadata": {},
   "outputs": [
    {
     "name": "stdout",
     "output_type": "stream",
     "text": [
      "{'ism': 'qobil rasulov', 'kurs': 3, 'ysoh': 20}\n",
      "Talaba Qobil Rasulov 3-kurs\n"
     ]
    }
   ],
   "source": [
    "talaba_1['ism'] = 'qobil rasulov'\n",
    "talaba_1['kurs'] = 3\n",
    "talaba_1['ysoh'] = 20\n",
    "print(talaba_1)\n",
    "print(f\"Talaba {talaba_1['ism'].title()} {talaba_1['kurs']}-kurs\")"
   ]
  },
  {
   "cell_type": "code",
   "execution_count": 17,
   "id": "a0e3d840-b896-4a31-8398-fbbbbee561d6",
   "metadata": {},
   "outputs": [
    {
     "name": "stdout",
     "output_type": "stream",
     "text": [
      "Talaba Qobil Rasulov 4-kurs\n"
     ]
    }
   ],
   "source": [
    "talaba_1['kurs'] = 4 \n",
    "print(f\"Talaba {talaba_1['ism'].title()} {talaba_1['kurs']}-kurs\")"
   ]
  },
  {
   "cell_type": "code",
   "execution_count": 18,
   "id": "10d55502-44f1-48e1-8885-be8f31c4f115",
   "metadata": {},
   "outputs": [
    {
     "name": "stdout",
     "output_type": "stream",
     "text": [
      "{'ism': 'murod alomiv', 'yosh': 20, 't_yil': 2000}\n",
      "{'ism': 'murod alomiv', 't_yil': 2000}\n"
     ]
    }
   ],
   "source": [
    "talaba_0 = {'ism':'murod alomiv', 'yosh':20, 't_yil':2000}\n",
    "print(talaba_0)\n",
    "del talaba_0['yosh']\n",
    "print(talaba_0)"
   ]
  },
  {
   "cell_type": "code",
   "execution_count": 19,
   "id": "9fc9237b-d9ca-4389-b286-24ce9d1a60a6",
   "metadata": {},
   "outputs": [],
   "source": [
    "telefonlar = {\n",
    "    'ali':'iphone x',\n",
    "    'vali':'galaxy s9',\n",
    "    'olim':'mi 10 pro',\n",
    "    'orif':'nokia 3310'\n",
    "    }"
   ]
  },
  {
   "cell_type": "code",
   "execution_count": 20,
   "id": "9b24052d-e072-40f8-b356-0fe7ec76d790",
   "metadata": {},
   "outputs": [
    {
     "name": "stdout",
     "output_type": "stream",
     "text": [
      "Alining telefoni iphone x\n"
     ]
    }
   ],
   "source": [
    "phone = telefonlar['ali']\n",
    "print(f\"Alining telefoni {phone}\")"
   ]
  },
  {
   "cell_type": "code",
   "execution_count": 23,
   "id": "b0a0ffc5-9fd5-4294-9e28-c4d336cc981d",
   "metadata": {},
   "outputs": [
    {
     "name": "stdout",
     "output_type": "stream",
     "text": [
      "Bunday ism mavjud emas\n"
     ]
    }
   ],
   "source": [
    "phone = telefonlar.get('hasan', 'Bunday ism mavjud emas')\n",
    "print(phone)"
   ]
  },
  {
   "cell_type": "code",
   "execution_count": 24,
   "id": "e38e78a9-f73f-43ae-afe1-88ee2d25bf9d",
   "metadata": {},
   "outputs": [
    {
     "name": "stdout",
     "output_type": "stream",
     "text": [
      "None\n"
     ]
    }
   ],
   "source": [
    "phone = telefonlar.get('hasan')\n",
    "print(phone)"
   ]
  },
  {
   "cell_type": "code",
   "execution_count": 25,
   "id": "fda907ed-330f-4e3a-8b09-bc041f42e785",
   "metadata": {},
   "outputs": [],
   "source": [
    "# Amaliyot"
   ]
  },
  {
   "cell_type": "code",
   "execution_count": 37,
   "id": "5dae51be-5e01-4af8-bafd-14a6249c7172",
   "metadata": {},
   "outputs": [],
   "source": [
    "# otam (onam, akam, ukam, va hokazo) degan lug'at yarating va lug'atga shu inson haqida kamida 3 ta m'alumot kiriting (ismi, tu'gilgan yili, shahri, manzili va hokazo). Lug'atdagi ma'lumotni matn shaklida konsolga chiqaring :\n",
    "# Otamning ismi Mavlutdin, 1954-yilda, Samarqand viloyatida tug'ilgan"
   ]
  },
  {
   "cell_type": "code",
   "execution_count": 38,
   "id": "3ff1a90d-7148-44a3-a277-a4def6d72390",
   "metadata": {},
   "outputs": [],
   "source": [
    "otam = {'ism':'Xusniddin', \"t_yil\":1983, 'manzil':'Samarqand'}\n",
    "onam = {'ism':'Dildora', \"t_yil\":1984, 'manzil':'Samarqand'}\n",
    "singlim = {'ism':'Charos', \"t_yil\":2008, 'manzil':'Samarqand'}\n",
    "ozim = {'ism':'Sardor', \"t_yil\":2005, 'manzil':'Samarqand'}"
   ]
  },
  {
   "cell_type": "code",
   "execution_count": 39,
   "id": "96ad844c-37e4-4840-b998-f9e2c1df66fe",
   "metadata": {},
   "outputs": [
    {
     "name": "stdout",
     "output_type": "stream",
     "text": [
      "Otamning ismi Xusniddin, 1983-yilda, Samarqand viloyatida tug'ilgan\n",
      "Onamning ismi Dildora, 1984-yilda, Samarqand viloyatida tug'ilgan\n",
      "Mening ismim Sardor, 2005-yilda, Samarqand viloyatida tug'ilganman\n",
      "Singlimning ismi Charos, 2008-yilda, Samarqand viloyatida tug'ilgan\n"
     ]
    }
   ],
   "source": [
    "print(f\"Otamning ismi {otam['ism']}, {otam['t_yil']}-yilda, {otam['manzil']} viloyatida tug'ilgan\")\n",
    "print(f\"Onamning ismi {onam['ism']}, {onam['t_yil']}-yilda, {onam['manzil']} viloyatida tug'ilgan\")\n",
    "print(f\"Mening ismim {ozim['ism']}, {ozim['t_yil']}-yilda, {ozim['manzil']} viloyatida tug'ilganman\")\n",
    "print(f\"Singlimning ismi {singlim['ism']}, {singlim['t_yil']}-yilda, {singlim['manzil']} viloyatida tug'ilgan\")"
   ]
  },
  {
   "cell_type": "code",
   "execution_count": 40,
   "id": "d84c146b-db39-4b2d-b28f-4795dc6aa0a0",
   "metadata": {},
   "outputs": [],
   "source": [
    "# Oila a'zolaringizning sevimli taomlari lug'atini tuzing. Lug'atda kamida 5 ta ism-taom juﬂtigi bo'lsin. Kamida uch kishining sevimli taomini konsolga chiqaring:\n",
    "# Alining sevimli taomi osh "
   ]
  },
  {
   "cell_type": "code",
   "execution_count": 44,
   "id": "502e6260-ecf2-4f68-8433-8a67f7693355",
   "metadata": {},
   "outputs": [
    {
     "name": "stdout",
     "output_type": "stream",
     "text": [
      "Alining sevimli taomi osh\n",
      "Valining sevimli taomi manti\n",
      "Jonibekning sevimli taomi shashlik\n",
      "Javohirning sevimli taomi mastava\n",
      "Jamshidning sevimli taomi chuchvara\n"
     ]
    }
   ],
   "source": [
    "oila = {'ali':'osh', 'vali':'manti', 'jonibek':'shashlik', 'javohir':'mastava', 'jamshid':'chuchvara'}\n",
    "print(f\"Alining sevimli taomi {oila['ali']}\")\n",
    "print(f\"Valining sevimli taomi {oila['vali']}\")\n",
    "print(f\"Jonibekning sevimli taomi {oila['jonibek']}\")\n",
    "print(f\"Javohirning sevimli taomi {oila['javohir']}\")\n",
    "print(f\"Jamshidning sevimli taomi {oila['jamshid']}\")"
   ]
  },
  {
   "cell_type": "code",
   "execution_count": 45,
   "id": "70652b98-e370-4bcc-b8a2-7568f2a33882",
   "metadata": {},
   "outputs": [],
   "source": [
    "# Python izohli lu'gati tuzing: Lug'atga shu kunga qadar o'rgangan 10 ta so'z (atamani) kiriting\n",
    "# (masalan integer, ﬂoat, string, if, else va hokazo) va har birining qisqacha tarjimasini yozing."
   ]
  },
  {
   "cell_type": "code",
   "execution_count": 57,
   "id": "36412ae6-e566-4c70-aa14-29fa41d6bfbc",
   "metadata": {},
   "outputs": [
    {
     "name": "stdout",
     "output_type": "stream",
     "text": [
      "{'integer': 'butun son', 'if': 'agar', 'hello': 'salom', 'apple': 'olma', 'dog': 'kuchuk', 'cat': 'mushuk', 'banana': 'banan', 'kivi': 'kivi', 'father': 'ota', 'mather': 'ona'}\n"
     ]
    }
   ],
   "source": [
    "eng_uz = {\n",
    "    'integer':'butun son',\\\n",
    "    'if':'agar',\\\n",
    "    'hello':'salom',\\\n",
    "    'apple':'olma',\\\n",
    "    'dog':'kuchuk',\\\n",
    "    'cat':'mushuk',\\\n",
    "    'banana':'banan',\\\n",
    "    'kivi':'kivi',\\\n",
    "    'father':'ota',\\\n",
    "    'mather':'ona'\n",
    "    }\n",
    "print(eng_uz)"
   ]
  },
  {
   "cell_type": "code",
   "execution_count": 58,
   "id": "fa3897b2-6886-40bd-b7b5-6e9ed7d081a5",
   "metadata": {},
   "outputs": [],
   "source": [
    "# Foydalanuvchidan biror so'z kiritishni so'rang va so'zning tarjimasini yuqoridagi lug'atdan\n",
    "# chiqarib bering. Agar so'z lu'gatda mavjud bo'lmasa, \"Bunda so'z mavjud emas\" degan xabarni chiqaring."
   ]
  },
  {
   "cell_type": "code",
   "execution_count": 72,
   "id": "37d5c797-3735-4db5-b9fc-f49f1c49e65b",
   "metadata": {},
   "outputs": [
    {
     "name": "stdin",
     "output_type": "stream",
     "text": [
      "Kalit so'z kiriting:  dog\n"
     ]
    },
    {
     "name": "stdout",
     "output_type": "stream",
     "text": [
      "dog tarjimasi: kuchuk\n"
     ]
    }
   ],
   "source": [
    "n = input(\"Kalit so'z kiriting: \")\n",
    "print(f\"{n} tarjimasi: {eng_uz.get(n, \"Bunda so'z mavjud emas\")}\")"
   ]
  },
  {
   "cell_type": "code",
   "execution_count": 67,
   "id": "e9140fb7-f0a5-4ea1-9748-efae875b2a7d",
   "metadata": {},
   "outputs": [],
   "source": [
    "# Yuqoridagi vazifani if-else yordamida qiling va natijani ham foydalanuvchiga tushunarli ko'rinishda chiqaring."
   ]
  },
  {
   "cell_type": "code",
   "execution_count": 74,
   "id": "8fbf7ea6-6789-455c-a85d-20e189ebf384",
   "metadata": {},
   "outputs": [
    {
     "name": "stdin",
     "output_type": "stream",
     "text": [
      "kalit so'z kiriting:  hello\n"
     ]
    },
    {
     "name": "stdout",
     "output_type": "stream",
     "text": [
      "hello so'zi salom deb tarjima qilinadi\n"
     ]
    }
   ],
   "source": [
    "n = input(\"kalit so'z kiriting: \")\n",
    "if n in eng_uz:\n",
    "    print(f\"{n} so'zi {eng_uz[n]} deb tarjima qilinadi\")\n",
    "else: print(\"Bunday so'z mavjud emas\")"
   ]
  },
  {
   "cell_type": "code",
   "execution_count": null,
   "id": "2414fdb3-42dd-42fb-9d78-ace03e28b788",
   "metadata": {},
   "outputs": [],
   "source": []
  }
 ],
 "metadata": {
  "kernelspec": {
   "display_name": "Python 3 (ipykernel)",
   "language": "python",
   "name": "python3"
  },
  "language_info": {
   "codemirror_mode": {
    "name": "ipython",
    "version": 3
   },
   "file_extension": ".py",
   "mimetype": "text/x-python",
   "name": "python",
   "nbconvert_exporter": "python",
   "pygments_lexer": "ipython3",
   "version": "3.12.1"
  }
 },
 "nbformat": 4,
 "nbformat_minor": 5
}
