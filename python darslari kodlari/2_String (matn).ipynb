{
 "cells": [
  {
   "cell_type": "code",
   "execution_count": 1,
   "id": "8f6fb689-6f54-4f98-b55b-284ed4c38404",
   "metadata": {},
   "outputs": [],
   "source": [
    "#String (matn)"
   ]
  },
  {
   "cell_type": "code",
   "execution_count": 2,
   "id": "7c393066-cee5-4e53-bc28-6caed00033c6",
   "metadata": {},
   "outputs": [
    {
     "name": "stdout",
     "output_type": "stream",
     "text": [
      "Men yangi 📱oldim\n"
     ]
    }
   ],
   "source": [
    "matn = \"Men yangi 📱oldim\"\n",
    "print(matn)"
   ]
  },
  {
   "cell_type": "code",
   "execution_count": 3,
   "id": "872c1333-2f43-4bb8-95f1-5e2241a32dbf",
   "metadata": {},
   "outputs": [
    {
     "name": "stdout",
     "output_type": "stream",
     "text": [
      "Mening ismim Ahmad\n"
     ]
    }
   ],
   "source": [
    "ism = 'Ahmad'\n",
    "print(\"Mening ismim \" + ism)"
   ]
  },
  {
   "cell_type": "code",
   "execution_count": 5,
   "id": "236345aa-a9a0-41b4-b981-7e51d8af447b",
   "metadata": {},
   "outputs": [
    {
     "name": "stdout",
     "output_type": "stream",
     "text": [
      "AhmadQayum\n"
     ]
    }
   ],
   "source": [
    "ism = 'Ahmad'\n",
    "familiya = 'Qayum'\n",
    "print(ism + familiya)"
   ]
  },
  {
   "cell_type": "code",
   "execution_count": 6,
   "id": "8a212cbe-640e-45b4-8880-f67360165019",
   "metadata": {},
   "outputs": [
    {
     "name": "stdout",
     "output_type": "stream",
     "text": [
      "Ahmad Qayum\n"
     ]
    }
   ],
   "source": [
    "ism = 'Ahmad'\n",
    "familiya = 'Qayum'\n",
    "print(ism + ' ' + familiya)"
   ]
  },
  {
   "cell_type": "code",
   "execution_count": 8,
   "id": "a2b86bb2-505f-4bea-848f-22b8858a585b",
   "metadata": {},
   "outputs": [
    {
     "name": "stdout",
     "output_type": "stream",
     "text": [
      "Ahmad Qayum\n"
     ]
    }
   ],
   "source": [
    "ism = 'Ahmad'\n",
    "familiya = 'Qayum'\n",
    "ism_sharif = f\"{ism} {familiya}\"\n",
    "print(ism_sharif)"
   ]
  },
  {
   "cell_type": "code",
   "execution_count": 9,
   "id": "4efe662d-853c-4d42-bd25-ce3e11a5caa5",
   "metadata": {},
   "outputs": [
    {
     "name": "stdout",
     "output_type": "stream",
     "text": [
      "Salom, mening ismim James. James Bond\n"
     ]
    }
   ],
   "source": [
    "ism = 'James'\n",
    "familiya = 'Bond'\n",
    "print(f\"Salom, mening ismim {ism}. {ism} {familiya}\")"
   ]
  },
  {
   "cell_type": "code",
   "execution_count": 13,
   "id": "1790ee2b-7873-4961-8aa6-22acf81f07d3",
   "metadata": {},
   "outputs": [],
   "source": [
    "# upper() va lower() metodlari"
   ]
  },
  {
   "cell_type": "code",
   "execution_count": 14,
   "id": "4647f99b-a87f-42f5-b001-79b338a88822",
   "metadata": {},
   "outputs": [
    {
     "name": "stdout",
     "output_type": "stream",
     "text": [
      "AHMAD QAYUM\n"
     ]
    }
   ],
   "source": [
    "ism = 'Ahmad'\n",
    "familiya = 'Qayum'\n",
    "ism_sharif = f\"{ism} {familiya}\"\n",
    "print(ism_sharif.upper())"
   ]
  },
  {
   "cell_type": "code",
   "execution_count": 15,
   "id": "78b75693-2029-4059-b515-c81610910148",
   "metadata": {},
   "outputs": [
    {
     "name": "stdout",
     "output_type": "stream",
     "text": [
      "ahmad qayum\n"
     ]
    }
   ],
   "source": [
    "ism = 'Ahmad'\n",
    "familiya = 'Qayum'\n",
    "ism_sharif = f\"{ism} {familiya}\"\n",
    "print(ism_sharif.lower())"
   ]
  },
  {
   "cell_type": "code",
   "execution_count": 16,
   "id": "45995ebc-79de-4f6d-bec0-eabeda6f60a9",
   "metadata": {},
   "outputs": [],
   "source": [
    "#title() va capitalize() metodlari"
   ]
  },
  {
   "cell_type": "code",
   "execution_count": 17,
   "id": "e5c83fc2-01c5-45b9-a911-5eb94342ba18",
   "metadata": {},
   "outputs": [
    {
     "name": "stdout",
     "output_type": "stream",
     "text": [
      "James Bond\n"
     ]
    }
   ],
   "source": [
    "ism_sharif = 'james bond'\n",
    "print(ism_sharif.title())"
   ]
  },
  {
   "cell_type": "code",
   "execution_count": 18,
   "id": "615b8834-6b4b-4da8-b75b-ddb1aee8d3a5",
   "metadata": {},
   "outputs": [
    {
     "name": "stdout",
     "output_type": "stream",
     "text": [
      "James bond\n"
     ]
    }
   ],
   "source": [
    "ism_sharif = 'james bond'\n",
    "print(ism_sharif.capitalize())"
   ]
  },
  {
   "cell_type": "code",
   "execution_count": 20,
   "id": "f0422908-37ba-4e63-9c3f-5e3e115eef5a",
   "metadata": {},
   "outputs": [],
   "source": [
    "#strip(), rstrip() va lstrip() metodlari"
   ]
  },
  {
   "cell_type": "code",
   "execution_count": 21,
   "id": "2ff82759-cdea-430c-9412-fae181f174ec",
   "metadata": {},
   "outputs": [],
   "source": [
    "# lstrip()  — matn boshidagi bo'shliqni,\n",
    "# rstrip() – matn oxiridagi bo'shliqni,\n",
    "# strip() — matn boshi va oxiridagi bo'shliqlarni olib tashlaydi"
   ]
  },
  {
   "cell_type": "code",
   "execution_count": 29,
   "id": "029120a7-3a5a-4952-b981-fd7088627f8c",
   "metadata": {},
   "outputs": [
    {
     "name": "stdout",
     "output_type": "stream",
     "text": [
      "Men olma      yaxshi ko'raman\n",
      "Men      olma yaxshi ko'raman\n",
      "Men olma yaxshi ko'raman\n",
      "Men      olma      yaxshi ko'raman\n"
     ]
    }
   ],
   "source": [
    "meva = \"     olma     \"\n",
    "print(\"Men \" + meva.lstrip() + \" yaxshi ko'raman\")\n",
    "print(\"Men \" + meva.rstrip() + \" yaxshi ko'raman\")\n",
    "print(\"Men \" + meva.strip() + \" yaxshi ko'raman\")\n",
    "print(\"Men \" + meva + \" yaxshi ko'raman\")"
   ]
  },
  {
   "cell_type": "code",
   "execution_count": 23,
   "id": "93ddcfff-afec-4620-bd5f-237b8cd3eff0",
   "metadata": {},
   "outputs": [],
   "source": [
    "#INPUT —FOYDALANUVCHI BILAN MULOQOT"
   ]
  },
  {
   "cell_type": "code",
   "execution_count": 24,
   "id": "894c352a-6a22-4b2a-8a6e-ee5ada5f128f",
   "metadata": {},
   "outputs": [
    {
     "name": "stdin",
     "output_type": "stream",
     "text": [
      "Ismingiz nima? Sardor\n"
     ]
    },
    {
     "name": "stdout",
     "output_type": "stream",
     "text": [
      "Assalom alaykum, Sardor\n"
     ]
    }
   ],
   "source": [
    "ism = input(\"Ismingiz nima?\")\n",
    "print(\"Assalom alaykum, \" + ism)"
   ]
  },
  {
   "cell_type": "code",
   "execution_count": 25,
   "id": "2fffdf1c-f55f-4a0c-8f3a-d0c269032e1e",
   "metadata": {},
   "outputs": [
    {
     "name": "stdin",
     "output_type": "stream",
     "text": [
      "Ismingiz nima?\n",
      ">>> Sardor\n"
     ]
    },
    {
     "name": "stdout",
     "output_type": "stream",
     "text": [
      "Assalom alaykum, Sardor\n"
     ]
    }
   ],
   "source": [
    "ism = input(\"Ismingiz nima?\\n>>>\") \n",
    "# Foydalanuvchi ismini yangi qatordan kir\n",
    "print(\"Assalom alaykum, \" + ism.title())"
   ]
  },
  {
   "cell_type": "code",
   "execution_count": 26,
   "id": "8847d147-9cdf-46e6-b096-263ea28d39e1",
   "metadata": {},
   "outputs": [],
   "source": [
    "#Amaliyot"
   ]
  },
  {
   "cell_type": "code",
   "execution_count": 28,
   "id": "cf2884e8-d34c-44b0-a817-c974c0747b11",
   "metadata": {},
   "outputs": [],
   "source": [
    "# Quyidagi o'zgaruvchilarni yarating: \n",
    "# kocha=\"Bog'bon\" \n",
    "# mahalla=\"Sog'bon\" \n",
    "# tuman=\"Bodomzor\" \n",
    "# viloyat=\"Samarqand\" "
   ]
  },
  {
   "cell_type": "code",
   "execution_count": 30,
   "id": "f1761329-5c9d-4fb2-8fab-fc1f701f6e2f",
   "metadata": {},
   "outputs": [
    {
     "name": "stdout",
     "output_type": "stream",
     "text": [
      "Bog'bon ko'chasi, Sog'bon mahallasi, Bodomzor tumani, Samarqand viloyati\n"
     ]
    }
   ],
   "source": [
    "kocha=\"Bog'bon\"\n",
    "\n",
    "mahalla=\"Sog'bon\"\n",
    "\n",
    "tuman=\"Bodomzor\" \n",
    "\n",
    "viloyat=\"Samarqand\"\n",
    "print(kocha + \" ko'chasi, \" + mahalla + \" mahallasi, \" + tuman + \" tumani, \" + viloyat + \" viloyati\")"
   ]
  },
  {
   "cell_type": "code",
   "execution_count": 31,
   "id": "af18b4cb-eb7a-4769-8f77-5cfd56e36a0c",
   "metadata": {},
   "outputs": [],
   "source": [
    "# Yuqoridagi o'zgaruvchilarni jamlab, quyidagi ko'rinishda konsolga chiqaring:\n",
    "# Bog'bon ko'chasi, Sog'bon mahallasi, Bodomzor tumani, Samarqand viloyati "
   ]
  },
  {
   "cell_type": "code",
   "execution_count": 32,
   "id": "80ad273b-d955-44ec-ad15-b71b6a2b2e7a",
   "metadata": {},
   "outputs": [
    {
     "name": "stdin",
     "output_type": "stream",
     "text": [
      "ko'cha:  Bog'bon\n",
      "mahalla:  Sog'bon\n",
      "tuman:  Bodomzor\n",
      "viloyat:  Samarqand\n"
     ]
    },
    {
     "name": "stdout",
     "output_type": "stream",
     "text": [
      "Bog'bon ko'chasi, Sog'bon mahallasi, Bodomzor tumani, Samarqand viloyati\n"
     ]
    }
   ],
   "source": [
    "kocha=input(\"ko'cha: \")\n",
    "\n",
    "mahalla=input(\"mahalla: \")\n",
    "\n",
    "tuman=input(\"tuman: \")\n",
    "\n",
    "viloyat=input(\"viloyat: \")\n",
    "print(kocha + \" ko'chasi, \" + mahalla + \" mahallasi, \" + tuman + \" tumani, \" + viloyat + \" viloyati\")"
   ]
  },
  {
   "cell_type": "code",
   "execution_count": 33,
   "id": "998bb0be-eb46-4f3d-a23b-0919badc183e",
   "metadata": {},
   "outputs": [],
   "source": [
    "# Yuqoridagi o'zgaruvchilarning (kocha, mahalla, tuman, viloyat) qiymatini foydalanuvchidan so'rang. Va avvalgi mashqni takrorlang."
   ]
  },
  {
   "cell_type": "code",
   "execution_count": 34,
   "id": "ea9d4b27-6279-4012-be95-c917fe156b2a",
   "metadata": {},
   "outputs": [
    {
     "name": "stdin",
     "output_type": "stream",
     "text": [
      "ko'cha:  Bog'bon\n",
      "mahalla:  Sog'bon\n",
      "tuman:  Bodomzor\n",
      "viloyat:  Samarqand\n"
     ]
    },
    {
     "name": "stdout",
     "output_type": "stream",
     "text": [
      "Bog'Bon ko'chasi, Sog'Bon mahallasi, Bodomzor tumani, Samarqand viloyati\n"
     ]
    }
   ],
   "source": [
    "kocha=input(\"ko'cha: \")\n",
    "\n",
    "mahalla=input(\"mahalla: \")\n",
    "\n",
    "tuman=input(\"tuman: \")\n",
    "\n",
    "viloyat=input(\"viloyat: \")\n",
    "print(kocha.title() + \" ko'chasi, \" + mahalla.title() + \" mahallasi, \" + tuman.title() + \" tumani, \" + viloyat.title() + \" viloyati\")"
   ]
  },
  {
   "cell_type": "code",
   "execution_count": 37,
   "id": "0fb86971-aab7-4d7d-8df7-fe10dcc2ce80",
   "metadata": {},
   "outputs": [],
   "source": [
    "# Yuqoridagi matnni konsolga chiqarishda har bir verguldan keyin yangi qatordan yozing"
   ]
  },
  {
   "cell_type": "code",
   "execution_count": 39,
   "id": "d95c1276-00f7-4510-8471-9eca8f769501",
   "metadata": {},
   "outputs": [
    {
     "name": "stdin",
     "output_type": "stream",
     "text": [
      "ko'cha:  Bog'bon\n",
      "mahalla:  Sog'bon\n",
      "tuman:  Bodomzor\n",
      "viloyat:  Samarqand\n"
     ]
    },
    {
     "name": "stdout",
     "output_type": "stream",
     "text": [
      "Bog'bon ko'chasi, Sog'bon mahallasi, Bodomzor tumani, Samarqand viloyati, \n"
     ]
    }
   ],
   "source": [
    "kocha=input(\"ko'cha: \")\n",
    "\n",
    "mahalla=input(\"mahalla: \")\n",
    "\n",
    "tuman=input(\"tuman: \")\n",
    "\n",
    "viloyat=input(\"viloyat: \")\n",
    "manzil=f\"{kocha} ko'chasi, {mahalla} mahallasi, {tuman} tumani, {viloyat} viloyati, \"\n",
    "print(manzil)"
   ]
  },
  {
   "cell_type": "code",
   "execution_count": 40,
   "id": "705a7451-a8e3-4c66-9126-d0a5e2395fc1",
   "metadata": {},
   "outputs": [],
   "source": [
    "# Yuqoridagi matnni f-string yordamida, yangi, manzil deb nomlangan o'zgaruvchiga yuklang"
   ]
  },
  {
   "cell_type": "code",
   "execution_count": 41,
   "id": "2c914f5b-d316-41de-bff1-4e08b397c775",
   "metadata": {},
   "outputs": [
    {
     "name": "stdout",
     "output_type": "stream",
     "text": [
      "Bog'Bon Ko'Chasi, Sog'Bon Mahallasi, Bodomzor Tumani, Samarqand Viloyati, \n",
      "BOG'BON KO'CHASI, SOG'BON MAHALLASI, BODOMZOR TUMANI, SAMARQAND VILOYATI, \n",
      "bog'bon ko'chasi, sog'bon mahallasi, bodomzor tumani, samarqand viloyati, \n",
      "Bog'bon ko'chasi, sog'bon mahallasi, bodomzor tumani, samarqand viloyati, \n"
     ]
    }
   ],
   "source": [
    "kocha=\"Bog'bon\"\n",
    "\n",
    "mahalla=\"Sog'bon\"\n",
    "\n",
    "tuman=\"Bodomzor\" \n",
    "\n",
    "viloyat=\"Samarqand\"\n",
    "manzil=f\"{kocha} ko'chasi, {mahalla} mahallasi, {tuman} tumani, {viloyat} viloyati, \"\n",
    "print(manzil.title())\n",
    "print(manzil.upper())\n",
    "print(manzil.lower())\n",
    "print(manzil.capitalize())"
   ]
  },
  {
   "cell_type": "code",
   "execution_count": 42,
   "id": "eaca96af-1b69-4e50-bd9a-b0fa7385e499",
   "metadata": {},
   "outputs": [],
   "source": [
    "# manzil ga biz yuqorida o'rgangan title(), upper(), lower(), capitalize() metodlarini qo'llab ko'ring."
   ]
  },
  {
   "cell_type": "code",
   "execution_count": 43,
   "id": "b5f599fa-3e4b-43fd-bfb3-35008ecececf",
   "metadata": {},
   "outputs": [
    {
     "name": "stdout",
     "output_type": "stream",
     "text": [
      "Bog'Bon Ko'Chasi, Sog'Bon Mahallasi, Bodomzor Tumani, Samarqand Viloyati, \n",
      "BOG'BON KO'CHASI, SOG'BON MAHALLASI, BODOMZOR TUMANI, SAMARQAND VILOYATI, \n",
      "bog'bon ko'chasi, sog'bon mahallasi, bodomzor tumani, samarqand viloyati, \n",
      "Bog'bon ko'chasi, sog'bon mahallasi, bodomzor tumani, samarqand viloyati, \n"
     ]
    }
   ],
   "source": [
    "kocha=\"Bog'bon\"\n",
    "\n",
    "mahalla=\"Sog'bon\"\n",
    "\n",
    "tuman=\"Bodomzor\" \n",
    "\n",
    "viloyat=\"Samarqand\"\n",
    "manzil=f\"{kocha} ko'chasi, {mahalla} mahallasi, {tuman} tumani, {viloyat} viloyati, \"\n",
    "print(manzil.title())\n",
    "print(manzil.upper())\n",
    "print(manzil.lower())\n",
    "print(manzil.capitalize())"
   ]
  },
  {
   "cell_type": "code",
   "execution_count": null,
   "id": "82fb1b7b-1b09-40af-9b72-7e417d52a566",
   "metadata": {},
   "outputs": [],
   "source": []
  }
 ],
 "metadata": {
  "kernelspec": {
   "display_name": "Python 3 (ipykernel)",
   "language": "python",
   "name": "python3"
  },
  "language_info": {
   "codemirror_mode": {
    "name": "ipython",
    "version": 3
   },
   "file_extension": ".py",
   "mimetype": "text/x-python",
   "name": "python",
   "nbconvert_exporter": "python",
   "pygments_lexer": "ipython3",
   "version": "3.12.1"
  }
 },
 "nbformat": 4,
 "nbformat_minor": 5
}
