{
 "cells": [
  {
   "cell_type": "code",
   "execution_count": 1,
   "id": "b47c938e-9d65-4adb-8937-012a78a23f8e",
   "metadata": {},
   "outputs": [],
   "source": [
    "#FOR TAKRORLASH OPERATORI"
   ]
  },
  {
   "cell_type": "code",
   "execution_count": 2,
   "id": "0b37d272-2dce-4538-b80e-8c1a74b4eb16",
   "metadata": {},
   "outputs": [
    {
     "name": "stdout",
     "output_type": "stream",
     "text": [
      "Ali\n",
      "Vali\n",
      "Hasan\n",
      "Husan\n",
      "Olim\n"
     ]
    }
   ],
   "source": [
    "mehmonlar = ['Ali','Vali','Hasan', 'Husan','Olim']\n",
    "for mehmon in mehmonlar:\n",
    "    print(mehmon)"
   ]
  },
  {
   "cell_type": "code",
   "execution_count": 3,
   "id": "dcffaa2a-3e08-4239-8fab-1e5e5b68b3f8",
   "metadata": {},
   "outputs": [
    {
     "name": "stdout",
     "output_type": "stream",
     "text": [
      "Hurmatli Ali, sizni 20 Dekabr kuni nahorga oshga taklif qilamiz\n",
      "Hurmat bilan, Palonchiyevlar oilasi\n",
      "Hurmatli Vali, sizni 20 Dekabr kuni nahorga oshga taklif qilamiz\n",
      "Hurmat bilan, Palonchiyevlar oilasi\n",
      "Hurmatli Hasan, sizni 20 Dekabr kuni nahorga oshga taklif qilamiz\n",
      "Hurmat bilan, Palonchiyevlar oilasi\n",
      "Hurmatli Husan, sizni 20 Dekabr kuni nahorga oshga taklif qilamiz\n",
      "Hurmat bilan, Palonchiyevlar oilasi\n",
      "Hurmatli Olim, sizni 20 Dekabr kuni nahorga oshga taklif qilamiz\n",
      "Hurmat bilan, Palonchiyevlar oilasi\n"
     ]
    }
   ],
   "source": [
    "mehmonlar = ['Ali','Vali','Hasan', 'Husan','Olim']\n",
    "for mehmon in mehmonlar:\n",
    "    print(f\"Hurmatli {mehmon}, sizni 20 Dekabr kuni nahorga oshga taklif qilamiz\")\n",
    "    print(\"Hurmat bilan, Palonchiyevlar oilasi\")"
   ]
  },
  {
   "cell_type": "code",
   "execution_count": 4,
   "id": "f78a47ce-1e4a-4364-ad6a-e3186237878d",
   "metadata": {},
   "outputs": [
    {
     "name": "stdout",
     "output_type": "stream",
     "text": [
      "Hurmatli Ali, sizni 20 Dekabr kuni nahorga oshga taklif qilamiz\n",
      "Hurmatli Vali, sizni 20 Dekabr kuni nahorga oshga taklif qilamiz\n",
      "Hurmatli Hasan, sizni 20 Dekabr kuni nahorga oshga taklif qilamiz\n",
      "Hurmatli Husan, sizni 20 Dekabr kuni nahorga oshga taklif qilamiz\n",
      "Hurmatli Olim, sizni 20 Dekabr kuni nahorga oshga taklif qilamiz\n",
      "Hurmat bilan, Palonchiyevlar oilasi\n",
      "\n"
     ]
    }
   ],
   "source": [
    "mehmonlar = ['Ali','Vali','Hasan', 'Husan','Olim']\n",
    "for mehmon in mehmonlar:\n",
    "    print(f\"Hurmatli {mehmon}, sizni 20 Dekabr kuni nahorga oshga taklif qilamiz\")\n",
    "print(\"Hurmat bilan, Palonchiyevlar oilasi\\n\")"
   ]
  },
  {
   "cell_type": "code",
   "execution_count": 5,
   "id": "8ea267e2-78a8-4039-93cf-317805750b1a",
   "metadata": {},
   "outputs": [
    {
     "name": "stdout",
     "output_type": "stream",
     "text": [
      "Ali\n",
      "['Ali', 'Vali', 'Hasan', 'Husan', 'Olim']\n",
      "Vali\n",
      "['Ali', 'Vali', 'Hasan', 'Husan', 'Olim']\n",
      "Hasan\n",
      "['Ali', 'Vali', 'Hasan', 'Husan', 'Olim']\n",
      "Husan\n",
      "['Ali', 'Vali', 'Hasan', 'Husan', 'Olim']\n",
      "Olim\n",
      "['Ali', 'Vali', 'Hasan', 'Husan', 'Olim']\n"
     ]
    }
   ],
   "source": [
    "mehmonlar = ['Ali','Vali','Hasan', 'Husan','Olim']\n",
    "for mehmon in mehmonlar:\n",
    "    print(mehmon)\n",
    "    \n",
    "    print(mehmonlar) # bu qator tsikl tashqarisida bo'lishi kerak edi"
   ]
  },
  {
   "cell_type": "code",
   "execution_count": 6,
   "id": "3283b97a-9da0-4eda-9759-f18d3a406f72",
   "metadata": {},
   "outputs": [
    {
     "name": "stdout",
     "output_type": "stream",
     "text": [
      "Ali\n",
      "Vali\n",
      "Hasan\n",
      "Husan\n",
      "Olim\n",
      "['Ali', 'Vali', 'Hasan', 'Husan', 'Olim']\n"
     ]
    }
   ],
   "source": [
    "mehmonlar = ['Ali','Vali','Hasan', 'Husan','Olim']\n",
    "for mehmon in mehmonlar:\n",
    "    print(mehmon)\n",
    "    \n",
    "print(mehmonlar)"
   ]
  },
  {
   "cell_type": "code",
   "execution_count": 7,
   "id": "db6796e8-a012-467e-9f4f-0924a701cd6b",
   "metadata": {},
   "outputs": [
    {
     "name": "stdout",
     "output_type": "stream",
     "text": [
      "1 ning kvadrati 1 ga teng\n",
      "2 ning kvadrati 4 ga teng\n",
      "3 ning kvadrati 9 ga teng\n",
      "4 ning kvadrati 16 ga teng\n",
      "5 ning kvadrati 25 ga teng\n",
      "6 ning kvadrati 36 ga teng\n",
      "7 ning kvadrati 49 ga teng\n",
      "8 ning kvadrati 64 ga teng\n",
      "9 ning kvadrati 81 ga teng\n",
      "10 ning kvadrati 100 ga teng\n"
     ]
    }
   ],
   "source": [
    "sonlar = list(range(1,11))\n",
    "for son in sonlar:\n",
    "    print(f\"{son} ning kvadrati {son**2} ga teng\")"
   ]
  },
  {
   "cell_type": "code",
   "execution_count": 8,
   "id": "de0ca0f1-4cea-4732-8acd-863000c800c3",
   "metadata": {},
   "outputs": [
    {
     "name": "stdout",
     "output_type": "stream",
     "text": [
      "[0, 1, 2, 3, 4, 5, 6, 7, 8, 9, 10]\n",
      "[0, 1, 4, 9, 16, 25, 36, 49, 64, 81, 100]\n"
     ]
    }
   ],
   "source": [
    "sonlar = list(range(11)) # 1 dan 10 gacha sonlar ro'yxatini yaratamiz\n",
    "sonlar_kvadrati =[] # bo'sh ro'yxat yaratamiz\n",
    "for son in sonlar:  # sonlar dagi har bir son uchun\n",
    "    sonlar_kvadrati.append(son**2) # uning kv.ni hisoblab, sonlar_kvadrati ga yuklaymiz\n",
    "\n",
    "print(sonlar)\n",
    "print(sonlar_kvadrati)"
   ]
  },
  {
   "cell_type": "code",
   "execution_count": 9,
   "id": "d86010a6-a91a-4b31-8372-30aed0d49129",
   "metadata": {},
   "outputs": [
    {
     "name": "stdout",
     "output_type": "stream",
     "text": [
      "5 ta eng yaqin do'stingiz kim?\n"
     ]
    },
    {
     "name": "stdin",
     "output_type": "stream",
     "text": [
      "1-do'stingizning ismini kiriting:  Asadbek\n",
      "2-do'stingizning ismini kiriting:  Aziz\n",
      "3-do'stingizning ismini kiriting:  Jasur\n",
      "4-do'stingizning ismini kiriting:  Dilshod\n",
      "5-do'stingizning ismini kiriting:  Ilhom\n"
     ]
    },
    {
     "name": "stdout",
     "output_type": "stream",
     "text": [
      "['Asadbek', 'Aziz', 'Jasur', 'Dilshod', 'Ilhom']\n"
     ]
    }
   ],
   "source": [
    "dostlar = [] # bo'sh ro'yxat\n",
    "print(\"5 ta eng yaqin do'stingiz kim?\")\n",
    "for n in range(5): # n bu yerda 0 dan 4 gacha qiymatlar oladi\n",
    "    dostlar.append(input(f\"{n+1}-do'stingizning ismini kiriting: \"))\n",
    "print(dostlar)"
   ]
  },
  {
   "cell_type": "code",
   "execution_count": 10,
   "id": "ae29cb84-1b92-450d-81b3-ae8c30657160",
   "metadata": {},
   "outputs": [],
   "source": [
    "#Amaliyot"
   ]
  },
  {
   "cell_type": "code",
   "execution_count": 12,
   "id": "4753e03d-bca3-46b2-809b-14adeb02a96d",
   "metadata": {},
   "outputs": [],
   "source": [
    "# Kamida 5 elementdan iborat ismlar degan ro'yxat tuzing, va ro'yxatdagi har bir ismga takrorlanuvchi xabar yozing"
   ]
  },
  {
   "cell_type": "code",
   "execution_count": 13,
   "id": "88c79f66-a467-4817-a508-5b0a1a244850",
   "metadata": {},
   "outputs": [
    {
     "name": "stdout",
     "output_type": "stream",
     "text": [
      "Ali xush kelibsiz\n",
      "Vali xush kelibsiz\n",
      "Ivan xush kelibsiz\n",
      "Olim xush kelibsiz\n",
      "Hasan xush kelibsiz\n"
     ]
    }
   ],
   "source": [
    "ismlar=[\"Ali\", \"Vali\", \"Ivan\", \"Olim\", \"Hasan\"]\n",
    "for ism in ismlar:\n",
    "    print(f\"{ism} xush kelibsiz\")"
   ]
  },
  {
   "cell_type": "code",
   "execution_count": 14,
   "id": "5db54f34-cc69-4b95-bf51-d76b061fb86b",
   "metadata": {},
   "outputs": [],
   "source": [
    "# Yuoqirdagi tsikl tugaganidan so'ng, ekranga \"Kod n marta takrorlandi\" degan xabarni chiqaring (n o'rniga kod necha marta takrorlanganini yozing)"
   ]
  },
  {
   "cell_type": "code",
   "execution_count": 16,
   "id": "a44af9e2-7d9d-4e23-adfa-e60cdfa9b042",
   "metadata": {},
   "outputs": [
    {
     "name": "stdout",
     "output_type": "stream",
     "text": [
      "salom Ali\n",
      "salom Ali\n",
      "salom Ali\n",
      "salom Ali\n",
      "salom Ali\n",
      "salom Vali\n",
      "salom Vali\n",
      "salom Vali\n",
      "salom Vali\n",
      "salom Vali\n",
      "salom Ivan\n",
      "salom Ivan\n",
      "salom Ivan\n",
      "salom Ivan\n",
      "salom Ivan\n",
      "salom Olim\n",
      "salom Olim\n",
      "salom Olim\n",
      "salom Olim\n",
      "salom Olim\n",
      "salom Hasan\n",
      "salom Hasan\n",
      "salom Hasan\n",
      "salom Hasan\n",
      "salom Hasan\n"
     ]
    }
   ],
   "source": [
    "ismlar=[\"Ali\", \"Vali\", \"Ivan\", \"Olim\", \"Hasan\"]\n",
    "for ism in ismlar:\n",
    "    for i in range(len(ismlar)):\n",
    "        print(f\"salom {ism}\")"
   ]
  },
  {
   "cell_type": "code",
   "execution_count": 17,
   "id": "07b16ff7-4180-4387-83ef-44a73570a6b4",
   "metadata": {},
   "outputs": [],
   "source": [
    "# 10 dan 100 gacha bo'lgan toq sonlar ro'yxatini tuzing. Ro'yxatning xar bir elementining kubini yangi qatordan konsolga chiqaring."
   ]
  },
  {
   "cell_type": "code",
   "execution_count": 18,
   "id": "0b2a9d49-68b8-4285-92be-737ca9dd6bb3",
   "metadata": {},
   "outputs": [
    {
     "name": "stdout",
     "output_type": "stream",
     "text": [
      "11 ning kubi 1331\n",
      "13 ning kubi 2197\n",
      "15 ning kubi 3375\n",
      "17 ning kubi 4913\n",
      "19 ning kubi 6859\n",
      "21 ning kubi 9261\n",
      "23 ning kubi 12167\n",
      "25 ning kubi 15625\n",
      "27 ning kubi 19683\n",
      "29 ning kubi 24389\n",
      "31 ning kubi 29791\n",
      "33 ning kubi 35937\n",
      "35 ning kubi 42875\n",
      "37 ning kubi 50653\n",
      "39 ning kubi 59319\n",
      "41 ning kubi 68921\n",
      "43 ning kubi 79507\n",
      "45 ning kubi 91125\n",
      "47 ning kubi 103823\n",
      "49 ning kubi 117649\n",
      "51 ning kubi 132651\n",
      "53 ning kubi 148877\n",
      "55 ning kubi 166375\n",
      "57 ning kubi 185193\n",
      "59 ning kubi 205379\n",
      "61 ning kubi 226981\n",
      "63 ning kubi 250047\n",
      "65 ning kubi 274625\n",
      "67 ning kubi 300763\n",
      "69 ning kubi 328509\n",
      "71 ning kubi 357911\n",
      "73 ning kubi 389017\n",
      "75 ning kubi 421875\n",
      "77 ning kubi 456533\n",
      "79 ning kubi 493039\n",
      "81 ning kubi 531441\n",
      "83 ning kubi 571787\n",
      "85 ning kubi 614125\n",
      "87 ning kubi 658503\n",
      "89 ning kubi 704969\n",
      "91 ning kubi 753571\n",
      "93 ning kubi 804357\n",
      "95 ning kubi 857375\n",
      "97 ning kubi 912673\n",
      "99 ning kubi 970299\n"
     ]
    }
   ],
   "source": [
    "sonlar=list(range(11,101,2))\n",
    "for i in sonlar:\n",
    "    kub=i**3\n",
    "    print(f\"{i} ning kubi {kub}\")"
   ]
  },
  {
   "cell_type": "code",
   "execution_count": 19,
   "id": "dd5cb6c6-a723-4296-8cde-b8ac6d3fd3ad",
   "metadata": {},
   "outputs": [],
   "source": [
    "# Foydalanuvchidan 5 ta eng sevimli kinolarini kiritshni so'rang, va kinolar degan ro'yxatga saqlab oling. Natijani konsolga chiqaring."
   ]
  },
  {
   "cell_type": "code",
   "execution_count": 20,
   "id": "2f8cdcbb-1508-4285-829c-159defc7a1f9",
   "metadata": {},
   "outputs": [
    {
     "name": "stdin",
     "output_type": "stream",
     "text": [
      "kino:  Taksi 1\n",
      "kino:  Taksi 2\n",
      "kino:  Taksi 3\n",
      "kino:  Taksi 4\n",
      "kino:  Taksi 5\n"
     ]
    },
    {
     "name": "stdout",
     "output_type": "stream",
     "text": [
      "['Taksi 1', 'Taksi 2', 'Taksi 3', 'Taksi 4', 'Taksi 5']\n"
     ]
    }
   ],
   "source": [
    "kinolar=[]\n",
    "for i in range(5):\n",
    "    i=input(\"kino: \")\n",
    "    kinolar.append(i)\n",
    "print(kinolar)"
   ]
  },
  {
   "cell_type": "code",
   "execution_count": 21,
   "id": "22cd2f35-8bd1-4972-a0c0-e8da7fcb91fb",
   "metadata": {},
   "outputs": [],
   "source": [
    "# Foydalanuvchidan bugun nechta odam bilan uchrashganini (suhbatlashganini) so'rang, va\n",
    "# har bir suhbatlashgan odamning ismini birma-bir so'rab ro'yxatga yozing. Ro'yxatni konsolga\n",
    "# chiqaring."
   ]
  },
  {
   "cell_type": "code",
   "execution_count": null,
   "id": "15dc3371-8c5e-4d9e-8692-6d9d5a73681c",
   "metadata": {},
   "outputs": [
    {
     "name": "stdin",
     "output_type": "stream",
     "text": [
      "Bugun nechta odam bilan suhbatlashdingiz:  5\n",
      "1-suhbatlashgan odam ismi:  Otam \n",
      "2-suhbatlashgan odam ismi:  Onam\n",
      "3-suhbatlashgan odam ismi:  Singlim\n"
     ]
    }
   ],
   "source": [
    "n=int(input(\"Bugun nechta odam bilan suhbatlashdingiz: \"))\n",
    "royxat=[]\n",
    "for i in range(n):\n",
    "    i=input(f\"{i+1}-suhbatlashgan odam ismi: \")\n",
    "    royxat.append(i)\n",
    "print(royxat)"
   ]
  },
  {
   "cell_type": "code",
   "execution_count": null,
   "id": "e5d878f9-ac10-4a02-84ec-e66dd0e3c3fc",
   "metadata": {},
   "outputs": [],
   "source": []
  }
 ],
 "metadata": {
  "kernelspec": {
   "display_name": "Python 3 (ipykernel)",
   "language": "python",
   "name": "python3"
  },
  "language_info": {
   "codemirror_mode": {
    "name": "ipython",
    "version": 3
   },
   "file_extension": ".py",
   "mimetype": "text/x-python",
   "name": "python",
   "nbconvert_exporter": "python",
   "pygments_lexer": "ipython3",
   "version": "3.12.1"
  }
 },
 "nbformat": 4,
 "nbformat_minor": 5
}
