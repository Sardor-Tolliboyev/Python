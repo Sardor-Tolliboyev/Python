{
 "cells": [
  {
   "cell_type": "code",
   "execution_count": 1,
   "id": "6974c30f-6ddb-44ff-8388-025d03f05b9b",
   "metadata": {},
   "outputs": [],
   "source": [
    "#Sonlar"
   ]
  },
  {
   "cell_type": "code",
   "execution_count": 2,
   "id": "69f9f29a-ca8f-468e-bedc-dd2c0c39652b",
   "metadata": {},
   "outputs": [
    {
     "name": "stdout",
     "output_type": "stream",
     "text": [
      "-10\n"
     ]
    }
   ],
   "source": [
    "a = 20  # Sonlar musbat yoko\n",
    "b = -30 # manfiy bo'lishi mumkin\n",
    "c = a + b\n",
    "print(c)"
   ]
  },
  {
   "cell_type": "code",
   "execution_count": 3,
   "id": "361642ab-4614-4075-bfc7-0dbd96dc9c5a",
   "metadata": {},
   "outputs": [
    {
     "name": "stdout",
     "output_type": "stream",
     "text": [
      "400\n"
     ]
    }
   ],
   "source": [
    "# Kvadratning yuzini hisoblaymiz\n",
    "kvdrt_tmni = 20 # Kavdratning tomoni 20 ga teng\n",
    "kvdrt_yuzi = kvdrt_tmni**2 # Kvadrat yuzini hisoblaymiz\n",
    "print(kvdrt_yuzi)"
   ]
  },
  {
   "cell_type": "code",
   "execution_count": 4,
   "id": "459c17d3-f0bc-4d38-8b7a-cac8768bb6b9",
   "metadata": {},
   "outputs": [
    {
     "name": "stdout",
     "output_type": "stream",
     "text": [
      "Aylana uzunligi  62.8318  ga teng.\n"
     ]
    }
   ],
   "source": [
    "pi = 3.14159 # o'nlik son (float)\n",
    "radius = 10  # butun son (integer)\n",
    "diametr = 2*radius\n",
    "print(\"Aylana uzunligi \", pi*diametr, \" ga teng.\")"
   ]
  },
  {
   "cell_type": "code",
   "execution_count": 5,
   "id": "98f0bcba-f084-4866-a7be-2be15f4a380a",
   "metadata": {},
   "outputs": [
    {
     "name": "stdout",
     "output_type": "stream",
     "text": [
      "-2.0\n"
     ]
    }
   ],
   "source": [
    "a = -20\n",
    "b = 40\n",
    "c = b/a\n",
    "print(c) # natija o'nlik son bo'ladi"
   ]
  },
  {
   "cell_type": "code",
   "execution_count": 6,
   "id": "e237d41a-3db2-4efa-8bf7-a20607737249",
   "metadata": {},
   "outputs": [
    {
     "name": "stdout",
     "output_type": "stream",
     "text": [
      "5.0\n",
      "6.0\n",
      "8.0\n",
      "10.0\n"
     ]
    }
   ],
   "source": [
    "a = 2\n",
    "b = 3.0\n",
    "# Quyidagi arifmetik amallarning natijasi o'nlik son hosil qiladi\n",
    "print(a+b) \n",
    "print(a*b)\n",
    "print(a**b)\n",
    "print(2*(a+b))"
   ]
  },
  {
   "cell_type": "code",
   "execution_count": 7,
   "id": "4e2a6108-0dbf-4874-aecf-f49a3a6d3e99",
   "metadata": {},
   "outputs": [
    {
     "name": "stdout",
     "output_type": "stream",
     "text": [
      "Yer kurrasida 7594000000  ga yaqin odam yashaydi\n"
     ]
    }
   ],
   "source": [
    "aholi_soni = 7_594_000_000 # o'zmizga qulay bo'lishi uchun shinday yozdik\n",
    "print(\"Yer kurrasida\", aholi_soni, \" ga yaqin odam yashaydi\")"
   ]
  },
  {
   "cell_type": "code",
   "execution_count": 8,
   "id": "8105fac4-5dc2-4739-9008-6fad3c8e6706",
   "metadata": {},
   "outputs": [
    {
     "name": "stdout",
     "output_type": "stream",
     "text": [
      "111\n"
     ]
    }
   ],
   "source": [
    "a=1_1_1\n",
    "print(a)"
   ]
  },
  {
   "cell_type": "code",
   "execution_count": 9,
   "id": "81767e0f-79d1-45b2-9b84-159663060588",
   "metadata": {},
   "outputs": [],
   "source": [
    "PI = 3.14159\n",
    "raduis = 21.2"
   ]
  },
  {
   "cell_type": "code",
   "execution_count": 10,
   "id": "f01c1021-6579-4911-ac92-1f1b25da30b6",
   "metadata": {},
   "outputs": [
    {
     "name": "stdout",
     "output_type": "stream",
     "text": [
      "Jobir 36 yoshda\n"
     ]
    }
   ],
   "source": [
    "ism = 'Jobir'\n",
    "yosh = 36\n",
    "xabar = ism + ' ' + str(yosh) + ' yoshda'\n",
    "print(xabar)"
   ]
  },
  {
   "cell_type": "code",
   "execution_count": 11,
   "id": "a254d499-073f-4328-8bb9-a00caaff7164",
   "metadata": {},
   "outputs": [
    {
     "name": "stdout",
     "output_type": "stream",
     "text": [
      "<class 'str'>\n",
      "<class 'int'>\n"
     ]
    }
   ],
   "source": [
    "ism = 'Jobir'\n",
    "yosh = 36\n",
    "print(type(ism))  # ism degan o'zgaruvchining turini konsolga chiqaramiz\n",
    "print(type(yosh)) # ismyosh degan o'zgaruvchining turini konsolga chiqaramiz"
   ]
  },
  {
   "cell_type": "code",
   "execution_count": 12,
   "id": "f0dec1bb-4156-4b4e-9e9d-dd902dcbc4fe",
   "metadata": {},
   "outputs": [
    {
     "name": "stdin",
     "output_type": "stream",
     "text": [
      "Tug'ilgan yilingizni kiriting:  2005\n"
     ]
    },
    {
     "name": "stdout",
     "output_type": "stream",
     "text": [
      "Siz 20 yoshda ekansiz\n"
     ]
    }
   ],
   "source": [
    "#1 foydalanuvchining tug'ilgan yilini so'raymiz va qiymatni int ga aylantiramiz\n",
    "t_yil = int(input(\"Tug'ilgan yilingizni kiriting: \"))\n",
    "#2 foydalanuvchi yoshini xisoblaymiz\n",
    "yosh = 2025 - t_yil # \n",
    "#3 foydalanuvchi yoshini konsolga chiqaramiz\n",
    "print(\"Siz \" + str(yosh) + \" yoshda ekansiz\")"
   ]
  },
  {
   "cell_type": "code",
   "execution_count": 13,
   "id": "b08f5fe5-a35b-41ff-9249-cf1f0a3cf5fb",
   "metadata": {},
   "outputs": [
    {
     "name": "stdin",
     "output_type": "stream",
     "text": [
      "Tug'ilgan yilingizni kiriting:  2005\n"
     ]
    },
    {
     "name": "stdout",
     "output_type": "stream",
     "text": [
      "Siz 15 yoshda ekansiz\n"
     ]
    }
   ],
   "source": [
    "#1.1 foydalanuvchining tug'ilgan yilini so'raymiz\n",
    "t_yil = input(\"Tug'ilgan yilingizni kiriting: \")\n",
    "#1.2 t_yil o'zgaruvchini int ga aylantiramiz\n",
    "t_yil = int(t_yil)\n",
    "#2 foydalanuvchi yoshini xisoblaymiz\n",
    "yosh = 2020 - t_yil # \n",
    "#3 foydalanuvchi yoshini konsolga chiqaramiz\n",
    "print(\"Siz \" + str(yosh) + \" yoshda ekansiz\")"
   ]
  },
  {
   "cell_type": "code",
   "execution_count": 14,
   "id": "4c229ba3-ea25-4251-84b5-fc6ff99559be",
   "metadata": {},
   "outputs": [],
   "source": [
    "#amaliyot"
   ]
  },
  {
   "cell_type": "code",
   "execution_count": 15,
   "id": "d488f3ea-9d8b-461c-bbc2-b75c1fc2098f",
   "metadata": {},
   "outputs": [],
   "source": [
    "# Foydalanuvchi kiritgan sonning kvadrati va kubini konsolga chiqaruvchi dastur"
   ]
  },
  {
   "cell_type": "code",
   "execution_count": 17,
   "id": "d15202f7-e99d-4694-b4a2-0d91292951b8",
   "metadata": {},
   "outputs": [
    {
     "name": "stdin",
     "output_type": "stream",
     "text": [
      "Istalgan son kiriting:\n",
      ">>> 45\n"
     ]
    },
    {
     "name": "stdout",
     "output_type": "stream",
     "text": [
      "45  ning kvadrati  2025 ga teng\n",
      "45  ning kubi  91125 ga teng\n"
     ]
    }
   ],
   "source": [
    "a=int(input(\"Istalgan son kiriting:\\n>>>\"))\n",
    "print(a, \" ning kvadrati \",  a**2, \"ga teng\")\n",
    "print(a, \" ning kubi \",  a**3, \"ga teng\")"
   ]
  },
  {
   "cell_type": "code",
   "execution_count": 18,
   "id": "e1a7be1c-d297-4d53-97db-7dd291ac0eba",
   "metadata": {},
   "outputs": [],
   "source": [
    "# Foydalanuvchining yoshini so'rab, uning tug'ilgan yilini hisoblab, konsolga chiqaruvchi dastur"
   ]
  },
  {
   "cell_type": "code",
   "execution_count": 19,
   "id": "2002db0e-f5c7-4135-82d1-b0a3ecb5bb8c",
   "metadata": {},
   "outputs": [
    {
     "name": "stdin",
     "output_type": "stream",
     "text": [
      "Yoshingiz nechida?\n",
      ">>> 20\n"
     ]
    },
    {
     "name": "stdout",
     "output_type": "stream",
     "text": [
      "Siz 2005  da tug'ilgansiz\n"
     ]
    }
   ],
   "source": [
    "a=int(input(\"Yoshingiz nechida?\\n>>>\"))\n",
    "yil=2025-a\n",
    "print(\"Siz\", yil, \" da tug'ilgansiz\")"
   ]
  },
  {
   "cell_type": "code",
   "execution_count": 20,
   "id": "db285d53-48f9-483e-8412-d370ff80670a",
   "metadata": {},
   "outputs": [],
   "source": [
    "# Foydalanuvchidan ikki son kiritshni so'rab, kiritilgan sonlarning yig'indisi, ayirmasi, ko'paytmasi va bo'linmasini chiqaruvchi dastur"
   ]
  },
  {
   "cell_type": "code",
   "execution_count": 21,
   "id": "4a9ade3b-ef14-42dc-af27-d8281fd6dec2",
   "metadata": {},
   "outputs": [
    {
     "name": "stdin",
     "output_type": "stream",
     "text": [
      "Birinchi sonni kiriting:  45\n",
      "Birinchi sonni kiriting:  15\n"
     ]
    },
    {
     "name": "stdout",
     "output_type": "stream",
     "text": [
      "45+15= 60\n",
      "45-15= 30\n",
      "45*15= 675\n",
      "45/15= 3.0\n"
     ]
    }
   ],
   "source": [
    "a=int(input(\"Birinchi sonni kiriting: \"))\n",
    "b=int(input(\"Birinchi sonni kiriting: \"))\n",
    "print(f\"{a}+{b}=\", a+b)\n",
    "print(f\"{a}-{b}=\", a-b)\n",
    "print(f\"{a}*{b}=\", a*b)\n",
    "print(f\"{a}/{b}=\", a/b)"
   ]
  },
  {
   "cell_type": "code",
   "execution_count": null,
   "id": "941ef714-8a98-4fa8-97f9-e9054555a5c8",
   "metadata": {},
   "outputs": [],
   "source": []
  }
 ],
 "metadata": {
  "kernelspec": {
   "display_name": "Python 3 (ipykernel)",
   "language": "python",
   "name": "python3"
  },
  "language_info": {
   "codemirror_mode": {
    "name": "ipython",
    "version": 3
   },
   "file_extension": ".py",
   "mimetype": "text/x-python",
   "name": "python",
   "nbconvert_exporter": "python",
   "pygments_lexer": "ipython3",
   "version": "3.12.1"
  }
 },
 "nbformat": 4,
 "nbformat_minor": 5
}
