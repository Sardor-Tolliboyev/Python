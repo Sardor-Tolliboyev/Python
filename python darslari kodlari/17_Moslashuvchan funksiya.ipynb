{
 "cells": [
  {
   "cell_type": "code",
   "execution_count": 1,
   "id": "422f0192-93df-40a0-a7b9-bec445551c53",
   "metadata": {},
   "outputs": [],
   "source": [
    "# Moslashuvchan funksiya (*args, **kwargs)"
   ]
  },
  {
   "cell_type": "code",
   "execution_count": 4,
   "id": "f9bf2a07-f5da-40e1-b6fc-b9da6394b9a6",
   "metadata": {},
   "outputs": [],
   "source": [
    "# *args USULI"
   ]
  },
  {
   "cell_type": "code",
   "execution_count": 5,
   "id": "68c3c58b-eb68-4eb9-97cb-c2bce15ac2bf",
   "metadata": {},
   "outputs": [],
   "source": [
    "def summa(*sonlar):\n",
    "    \"\"\"Kiritilgan sonlar yig'indisini hisoblaydigan funksiya\"\"\"\n",
    "    yigindi = 0\n",
    "    for son in sonlar:\n",
    "        yigindi += son\n",
    "    return yigindi"
   ]
  },
  {
   "cell_type": "code",
   "execution_count": 6,
   "id": "c2e3b2ef-5225-4869-b54f-ce38afb8951f",
   "metadata": {},
   "outputs": [
    {
     "name": "stdout",
     "output_type": "stream",
     "text": [
      "3\n"
     ]
    }
   ],
   "source": [
    "print(summa(1,2))"
   ]
  },
  {
   "cell_type": "code",
   "execution_count": 7,
   "id": "7ff45adb-c11f-4545-b208-448c24a09e37",
   "metadata": {},
   "outputs": [
    {
     "name": "stdout",
     "output_type": "stream",
     "text": [
      "15\n"
     ]
    }
   ],
   "source": [
    "print(summa(1,2,3,4,5))"
   ]
  },
  {
   "cell_type": "code",
   "execution_count": 8,
   "id": "93ffbb75-bdf4-423f-a0c2-c9e979ed63c0",
   "metadata": {},
   "outputs": [
    {
     "name": "stdout",
     "output_type": "stream",
     "text": [
      "22\n"
     ]
    }
   ],
   "source": [
    "def summa(*sonlar):\n",
    "    \"\"\"Kiritilgan sonlar yig'indisini hisoblaydigan funksiya\"\"\"\n",
    "    return sum(sonlar)\n",
    "\n",
    "print(summa(4,5,6,7))"
   ]
  },
  {
   "cell_type": "code",
   "execution_count": 12,
   "id": "f844d19a-77dc-4994-932d-a42515e4b46b",
   "metadata": {},
   "outputs": [],
   "source": [
    "# **kwargs USULI"
   ]
  },
  {
   "cell_type": "code",
   "execution_count": 16,
   "id": "dfec4da5-c887-4275-a612-3ecaf1d5609b",
   "metadata": {},
   "outputs": [],
   "source": [
    "def avto_info(kompaniya,model,**malumotlar):\n",
    "    \"\"\"Avto haqidagi ma'lumotlarni lug'at ko'rinishdia qaytaruvchi funksiya\"\"\"\n",
    "    malumotlar['kompaniya']=kompaniya\n",
    "    malumotlar['model']=model\n",
    "    return malumotlar"
   ]
  },
  {
   "cell_type": "code",
   "execution_count": 17,
   "id": "9496009b-f7ce-44e1-8265-f6eb1e131905",
   "metadata": {},
   "outputs": [],
   "source": [
    "avto1 = avto_info(\"GM\", \"malibu\", rang='qora', yil=2018)\n",
    "avto2 = avto_info(\"Kia\", \"K5\", rang='qizil', narh=35000)"
   ]
  },
  {
   "cell_type": "code",
   "execution_count": 18,
   "id": "b918b474-3006-4319-b461-857fe537aded",
   "metadata": {},
   "outputs": [
    {
     "name": "stdout",
     "output_type": "stream",
     "text": [
      "{'rang': 'qizil', 'narh': 35000, 'kompaniya': 'Kia', 'model': 'K5'}\n"
     ]
    }
   ],
   "source": [
    "print(avto2)"
   ]
  },
  {
   "cell_type": "code",
   "execution_count": 19,
   "id": "2feec173-c95f-4474-83ab-70381b433b30",
   "metadata": {},
   "outputs": [
    {
     "data": {
      "text/plain": [
       "{'rang': 'qora', 'yil': 2018, 'kompaniya': 'GM', 'model': 'malibu'}"
      ]
     },
     "execution_count": 19,
     "metadata": {},
     "output_type": "execute_result"
    }
   ],
   "source": [
    "avto1"
   ]
  },
  {
   "cell_type": "code",
   "execution_count": 20,
   "id": "9b63551d-1f7c-403c-b536-1e741bdc1105",
   "metadata": {},
   "outputs": [],
   "source": [
    "# Amaliyot"
   ]
  },
  {
   "cell_type": "code",
   "execution_count": 21,
   "id": "d3f854cd-e96e-4fd9-8fc4-14cb063a82e1",
   "metadata": {},
   "outputs": [],
   "source": [
    "# 1.Istalgancha sonlarni qabul qilib, ularning ko'paytmasini qaytaruvchi funksiya yozing"
   ]
  },
  {
   "cell_type": "code",
   "execution_count": 36,
   "id": "f912d7e8-8bcf-4ee7-a356-255155fe6336",
   "metadata": {},
   "outputs": [],
   "source": [
    "def kop(*sonlar):\n",
    "    \"\"\"Sonlar ko'paytmasini qaytaruvchi funksiya\"\"\"\n",
    "    s = 1\n",
    "    for son in sonlar:\n",
    "        s *= son\n",
    "    return s"
   ]
  },
  {
   "cell_type": "code",
   "execution_count": 37,
   "id": "632c763d-df55-43c8-8818-01b33cbfcb7d",
   "metadata": {},
   "outputs": [
    {
     "name": "stdout",
     "output_type": "stream",
     "text": [
      "6\n"
     ]
    }
   ],
   "source": [
    "print(kop(1,2,3))"
   ]
  },
  {
   "cell_type": "code",
   "execution_count": 38,
   "id": "f712bcb4-56e9-41b6-af0d-1d3780290b7f",
   "metadata": {},
   "outputs": [
    {
     "name": "stdout",
     "output_type": "stream",
     "text": [
      "120\n"
     ]
    }
   ],
   "source": [
    "print(kop(1,2,3,4,5))"
   ]
  },
  {
   "cell_type": "code",
   "execution_count": 39,
   "id": "d2d6f9c1-2b91-4418-bdd6-27317fffbbc9",
   "metadata": {},
   "outputs": [],
   "source": [
    "# 2.Talabalar haqidagi ma'lumotlarini lug'at ko'rinishida qaytaruvchi funkisya yozing. Talabaning ismi va familiyasi majburiy argument, qolgan ma'lumotlar esa ixtiyoriy ko'rinishda istalgancha berilishi mumkin bo'lsin."
   ]
  },
  {
   "cell_type": "code",
   "execution_count": 41,
   "id": "134b21d2-8149-4158-bfe5-cab8d2fdfa2a",
   "metadata": {},
   "outputs": [],
   "source": [
    "def talaba_m(ism, familiya, **malumotlar):\n",
    "    \"\"\"Talabalar haqidagi ma'lumotlarni lug'at ko'rinishdia qaytaruvchi funksiya\"\"\"\n",
    "    malumotlar['ismi']=ism\n",
    "    malumotlar['familiyasi']=familiya\n",
    "    return malumotlar"
   ]
  },
  {
   "cell_type": "code",
   "execution_count": 42,
   "id": "8155081f-50a3-487b-8348-adc3ea433a99",
   "metadata": {},
   "outputs": [],
   "source": [
    "talaba1 = talaba_m(\"Sardor\", \"Tolliboyev\", t_yil = 2005, manzil = \"Samarqand\")\n",
    "talaba2 = talaba_m(\"Aziz\", \"Jabborov\", t_yil = 2006, manzil = \"Samarqand\")"
   ]
  },
  {
   "cell_type": "code",
   "execution_count": 44,
   "id": "d4d957b7-2c4b-4c4f-9a5d-79108b76a13a",
   "metadata": {},
   "outputs": [
    {
     "name": "stdout",
     "output_type": "stream",
     "text": [
      "{'t_yil': 2005, 'manzil': 'Samarqand', 'ismi': 'Sardor', 'familiyasi': 'Tolliboyev'} \n",
      " {'t_yil': 2006, 'manzil': 'Samarqand', 'ismi': 'Aziz', 'familiyasi': 'Jabborov'}\n"
     ]
    }
   ],
   "source": [
    "print(talaba1, '\\n', talaba2)"
   ]
  },
  {
   "cell_type": "code",
   "execution_count": null,
   "id": "6fccdd84-4229-4912-9725-6498915bb8d6",
   "metadata": {},
   "outputs": [],
   "source": []
  }
 ],
 "metadata": {
  "kernelspec": {
   "display_name": "Python 3 (ipykernel)",
   "language": "python",
   "name": "python3"
  },
  "language_info": {
   "codemirror_mode": {
    "name": "ipython",
    "version": 3
   },
   "file_extension": ".py",
   "mimetype": "text/x-python",
   "name": "python",
   "nbconvert_exporter": "python",
   "pygments_lexer": "ipython3",
   "version": "3.12.1"
  }
 },
 "nbformat": 4,
 "nbformat_minor": 5
}
