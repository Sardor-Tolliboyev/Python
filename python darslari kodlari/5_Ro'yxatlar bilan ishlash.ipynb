{
 "cells": [
  {
   "cell_type": "code",
   "execution_count": 1,
   "id": "1c1e603c-7d0f-4591-b2c6-89a8e2564575",
   "metadata": {},
   "outputs": [],
   "source": [
    "# Ro'yxatlar bilan ishlash"
   ]
  },
  {
   "cell_type": "code",
   "execution_count": 2,
   "id": "d43aa7a1-49da-45b2-bf06-1add964cc264",
   "metadata": {},
   "outputs": [
    {
     "name": "stdout",
     "output_type": "stream",
     "text": [
      "['audi', 'bmw', 'general motors', 'mercedes benz', 'tesla', 'volvo']\n"
     ]
    }
   ],
   "source": [
    "cars = ['bmw','mercedes benz', 'volvo', 'general motors', 'tesla', 'audi']\n",
    "cars.sort()\n",
    "print(cars)"
   ]
  },
  {
   "cell_type": "code",
   "execution_count": 3,
   "id": "ab3b3dfe-4d4d-4b62-909e-e4fba91210f9",
   "metadata": {},
   "outputs": [
    {
     "name": "stdout",
     "output_type": "stream",
     "text": [
      "['Bmw', 'audi', 'gm', 'mercedes benz', 'tesla', 'volvo']\n"
     ]
    }
   ],
   "source": [
    "cars = ['Bmw','mercedes benz', 'volvo', 'gm', 'tesla', 'audi']\n",
    "cars.sort()\n",
    "print(cars)"
   ]
  },
  {
   "cell_type": "code",
   "execution_count": 4,
   "id": "a46d4f29-c5cb-4680-b226-8a7af96e53f8",
   "metadata": {},
   "outputs": [
    {
     "name": "stdout",
     "output_type": "stream",
     "text": [
      "['volvo', 'tesla', 'mercedes benz', 'general motors', 'bmw', 'audi']\n"
     ]
    }
   ],
   "source": [
    "cars = ['bmw','mercedes benz', 'volvo', 'general motors', 'tesla', 'audi']\n",
    "cars.sort(reverse=True)\n",
    "print(cars)"
   ]
  },
  {
   "cell_type": "code",
   "execution_count": 5,
   "id": "6736a585-7d72-4a72-9308-5e5de27a7ccd",
   "metadata": {},
   "outputs": [
    {
     "name": "stdout",
     "output_type": "stream",
     "text": [
      "sorted() qaytargan ro'yxat: ['Avazbek', 'Farruh', 'Hamid', 'Odil', 'Shamsiddin', 'Temur']\n",
      "Asl ro'yxat o'zgarmas qoldi: ['Odil', 'Hamid', 'Temur', 'Avazbek', 'Farruh', 'Shamsiddin']\n"
     ]
    }
   ],
   "source": [
    "mehmonlar = ['Odil', 'Hamid', 'Temur', 'Avazbek', 'Farruh', 'Shamsiddin']\n",
    "print(\"sorted() qaytargan ro'yxat:\", sorted(mehmonlar))\n",
    "print(\"Asl ro'yxat o'zgarmas qoldi:\", mehmonlar)"
   ]
  },
  {
   "cell_type": "code",
   "execution_count": 6,
   "id": "b2babf49-f459-49ec-a3b0-949909514a99",
   "metadata": {},
   "outputs": [
    {
     "name": "stdout",
     "output_type": "stream",
     "text": [
      "['Temur', 'Shamsiddin', 'Odil', 'Hamid', 'Farruh', 'Avazbek']\n"
     ]
    }
   ],
   "source": [
    "print(sorted(mehmonlar, reverse=True))"
   ]
  },
  {
   "cell_type": "code",
   "execution_count": 7,
   "id": "ccdcc6d1-1087-412d-bb56-261cd7b24e33",
   "metadata": {},
   "outputs": [
    {
     "name": "stdout",
     "output_type": "stream",
     "text": [
      "[11, 12, 34, 34, 65, 76, 98]\n",
      "[98, 76, 65, 34, 34, 12, 11]\n"
     ]
    }
   ],
   "source": [
    "ages = [12, 98, 34, 65, 34, 76, 11]\n",
    "ages.sort()\n",
    "print(ages)\n",
    "print(sorted(ages, reverse=True))"
   ]
  },
  {
   "cell_type": "code",
   "execution_count": 8,
   "id": "064031d8-bd33-4acc-9dd0-00ea62670944",
   "metadata": {},
   "outputs": [
    {
     "name": "stdout",
     "output_type": "stream",
     "text": [
      "['lemon', 'watermelon', 'apple', 'banana', 'pear']\n"
     ]
    }
   ],
   "source": [
    "fruits = ['pear','banana','apple','watermelon','lemon']\n",
    "fruits.reverse()\n",
    "print(fruits)"
   ]
  },
  {
   "cell_type": "code",
   "execution_count": 9,
   "id": "13a607b9-ae88-42ee-b629-a57a6d935060",
   "metadata": {},
   "outputs": [
    {
     "name": "stdout",
     "output_type": "stream",
     "text": [
      "Elementlar soni: 5\n"
     ]
    }
   ],
   "source": [
    "fruits = ['pear','banana','apple','watermelon','lemon']\n",
    "print(\"Elementlar soni:\",len(fruits)) # len(fruits) ro'yxat uzunligini qaytaradi"
   ]
  },
  {
   "cell_type": "code",
   "execution_count": 10,
   "id": "7d011f15-62db-4b4a-a7a4-1f12be5441d8",
   "metadata": {},
   "outputs": [
    {
     "name": "stdout",
     "output_type": "stream",
     "text": [
      "[0, 1, 2, 3, 4, 5, 6, 7, 8, 9]\n"
     ]
    }
   ],
   "source": [
    "sonlar = list(range(0,10)) # \n",
    "print(sonlar)"
   ]
  },
  {
   "cell_type": "code",
   "execution_count": 11,
   "id": "32953d46-34f2-4d76-a898-6284dd8c196d",
   "metadata": {},
   "outputs": [
    {
     "name": "stdout",
     "output_type": "stream",
     "text": [
      "Juft sonlar:  [0, 2, 4, 6, 8, 10, 12, 14, 16, 18]\n",
      "Toq sonlar:  [1, 3, 5, 7, 9, 11, 13, 15, 17, 19]\n"
     ]
    }
   ],
   "source": [
    "juft_sonlar = list(range(0,20,2)) # 0 dan 20 gacha 2 qadam bilan\n",
    "toq_sonlar = list(range(1,20,2))  # 1 dan 20 gacha 2 qadam bilan\n",
    "print(\"Juft sonlar: \", juft_sonlar)\n",
    "print(\"Toq sonlar: \", toq_sonlar)"
   ]
  },
  {
   "cell_type": "code",
   "execution_count": 12,
   "id": "aea40c76-fdba-4022-91d1-a6c3efe900cc",
   "metadata": {},
   "outputs": [
    {
     "name": "stdout",
     "output_type": "stream",
     "text": [
      "Eng arzon narh  5600 . Eng qimmati  32874 . Jami:  116164\n"
     ]
    }
   ],
   "source": [
    "narhlar = [12000, 22500, 23456, 9800, 5600, 9934, 32874]\n",
    "arzon = min(narhlar)\n",
    "qimmat = max(narhlar)\n",
    "jami = sum(narhlar)\n",
    "print(\"Eng arzon narh \", arzon, \". Eng qimmati \", qimmat, \". Jami: \", jami)"
   ]
  },
  {
   "cell_type": "code",
   "execution_count": 13,
   "id": "8e910abd-12d7-4ea6-be4d-445e5291f996",
   "metadata": {},
   "outputs": [
    {
     "name": "stdout",
     "output_type": "stream",
     "text": [
      "['mercedes benz', 'volvo']\n"
     ]
    }
   ],
   "source": [
    "cars = ['bmw','mercedes benz', 'volvo', 'general motors', 'tesla', 'audi']\n",
    "my_cars = cars[1:3] # 0-indeskdan boshlab 3 ta element ajratib olamiz\n",
    "print(my_cars) "
   ]
  },
  {
   "cell_type": "code",
   "execution_count": 14,
   "id": "36757e7d-56a0-4612-b4ff-112911fc4e78",
   "metadata": {},
   "outputs": [
    {
     "name": "stdout",
     "output_type": "stream",
     "text": [
      "['volvo', 'general motors', 'tesla']\n"
     ]
    }
   ],
   "source": [
    "print(cars[2:5]) # 2-3-4-elementlarni ajratib olamiz (5 kirmaydi)"
   ]
  },
  {
   "cell_type": "code",
   "execution_count": 15,
   "id": "ebaeae57-2a0a-4e3d-a5dc-03083665d978",
   "metadata": {},
   "outputs": [
    {
     "name": "stdout",
     "output_type": "stream",
     "text": [
      "['bmw', 'mercedes benz', 'volvo', 'general motors']\n",
      "['volvo', 'general motors', 'tesla', 'audi']\n"
     ]
    }
   ],
   "source": [
    "print(cars[:4]) # Ro'yxat boshidan 4-gacha kesadi (0,1,2,3)\n",
    "print(cars[2:]) # 2-elementdan boshlab ro'yxat oxirigacha kesib oladi"
   ]
  },
  {
   "cell_type": "code",
   "execution_count": 16,
   "id": "e50319c8-2bdb-455b-bca1-1899606b8a52",
   "metadata": {},
   "outputs": [
    {
     "name": "stdout",
     "output_type": "stream",
     "text": [
      "Bu sonlar ro'yxati: [1, 2, 3, 4, 5, 6, 7]\n",
      "Bu sonlar2 ro'yxati: [1, 2, 3, 4, 5, 6, 7]\n"
     ]
    }
   ],
   "source": [
    "sonlar = [1, 2, 3, 4, 5] # donlar degan ro'yxat yaratamiz\n",
    "sonlar2 = sonlar # sonlar2 degan ro'yxatni sonlar ga tenglaymiz\n",
    "sonlar2.append(6) # sonlar2 ga 6 sonini qo'shamiz\n",
    "sonlar2.append(7) # sonlar2 ga 7 sonini qo'shamiz\n",
    "print(\"Bu sonlar ro'yxati:\", sonlar)\n",
    "print(\"Bu sonlar2 ro'yxati:\", sonlar2)"
   ]
  },
  {
   "cell_type": "code",
   "execution_count": 17,
   "id": "1d7d73c9-63b7-4922-ad5b-e3fddcd74fc4",
   "metadata": {},
   "outputs": [
    {
     "name": "stdout",
     "output_type": "stream",
     "text": [
      "Bu sonlar ro'yxati: [1, 2, 3, 4, 5]\n",
      "Bu sonlar2 ro'yxati: [1, 2, 3, 4, 5, 6, 7]\n"
     ]
    }
   ],
   "source": [
    "sonlar = [1, 2, 3, 4, 5] # donlar degan ro'yxat yaratamiz\n",
    "sonlar2 = sonlar[:] # [:] ro'yxatni to'liq ko'chirib oladi\n",
    "sonlar2.append(6) # sonlar2 ga 6 sonini qo'shamiz\n",
    "sonlar2.append(7) # sonlar2 ga 7 sonini qo'shamiz\n",
    "print(\"Bu sonlar ro'yxati:\", sonlar)\n",
    "print(\"Bu sonlar2 ro'yxati:\", sonlar2)"
   ]
  },
  {
   "cell_type": "code",
   "execution_count": 18,
   "id": "57082a6a-a99e-4cef-9535-8d59bc08ee75",
   "metadata": {},
   "outputs": [
    {
     "name": "stdout",
     "output_type": "stream",
     "text": [
      "(20, 30, 55.2)\n"
     ]
    }
   ],
   "source": [
    "tomonlar = (20, 30, 55.2)\n",
    "print(tomonlar)"
   ]
  },
  {
   "cell_type": "code",
   "execution_count": 19,
   "id": "b2671484-439f-4206-9d1f-d4929df3dce5",
   "metadata": {},
   "outputs": [
    {
     "name": "stdout",
     "output_type": "stream",
     "text": [
      "bus\n",
      "lizard\n",
      "('bear', 'dino', 'snake')\n"
     ]
    }
   ],
   "source": [
    "toys = ('bus','car','bear','dino','snake','lizard')\n",
    "print(toys[0])\n",
    "print(toys[-1])\n",
    "print(toys[2:5])"
   ]
  },
  {
   "cell_type": "code",
   "execution_count": 20,
   "id": "4c54f037-28d6-45f4-b37e-5247ca30d4e3",
   "metadata": {},
   "outputs": [
    {
     "name": "stdout",
     "output_type": "stream",
     "text": [
      "('car', 'mcqueen', 'dino', 'snake', 'lizard', 'dragon')\n"
     ]
    }
   ],
   "source": [
    "toys = ('bus','car','bear','dino','snake','lizard') # o'zgarmas ro'yxat\n",
    "toys = list(toys) # o'zgarmas ro'yxatni oddiy ro'yxatga (List) aylantiramiz\n",
    "# Ro'yxatga o'zgartirishlar kiritamiz\n",
    "toys.append('dragon')\n",
    "toys.remove('bus')\n",
    "toys[1] = 'mcqueen'\n",
    "toys = tuple(toys) # Ro'yxatni qaytadan o'zgarmas ro'yxatga (Tuple) aylantiramiz\n",
    "print(toys)"
   ]
  },
  {
   "cell_type": "code",
   "execution_count": 21,
   "id": "73d24a1e-4d8b-4bee-a8cc-15c3caffa60f",
   "metadata": {},
   "outputs": [],
   "source": [
    "#Amaliyot"
   ]
  },
  {
   "cell_type": "code",
   "execution_count": 22,
   "id": "f14fe9b3-18bc-45e9-ba47-c87f69bd262a",
   "metadata": {},
   "outputs": [],
   "source": [
    "# O'zingizga ma'lum davlatlarning ro'yxatini tuzing va ro'yxatni konsolga chiqaring"
   ]
  },
  {
   "cell_type": "code",
   "execution_count": 23,
   "id": "9f45e0b8-1263-41c9-91ee-a22f0ec170d3",
   "metadata": {},
   "outputs": [
    {
     "name": "stdout",
     "output_type": "stream",
     "text": [
      "[\"O'zbekiston\", 'Rossiya', 'AQSh', 'Koreya']\n"
     ]
    }
   ],
   "source": [
    "davlatlar=[\"O'zbekiston\", \"Rossiya\", \"AQSh\", \"Koreya\"]\n",
    "print(davlatlar)"
   ]
  },
  {
   "cell_type": "code",
   "execution_count": 26,
   "id": "9f18d572-f755-4f7b-ab79-7cf67149bca9",
   "metadata": {},
   "outputs": [],
   "source": [
    "# Ro'yxatning uzunligini konsolga chiqaring"
   ]
  },
  {
   "cell_type": "code",
   "execution_count": 27,
   "id": "a7a41eb0-2451-4ee1-9fdc-4a16b3de9264",
   "metadata": {},
   "outputs": [
    {
     "name": "stdout",
     "output_type": "stream",
     "text": [
      "uzunligi:  4\n"
     ]
    }
   ],
   "source": [
    "print(\"uzunligi: \", len(davlatlar))"
   ]
  },
  {
   "cell_type": "code",
   "execution_count": 28,
   "id": "732dfc43-dbac-4e44-850d-78520bcfba5c",
   "metadata": {},
   "outputs": [],
   "source": [
    "# sorted() funktsiyasi yordamida ro'yxatni tartiblangan holda konsolga chiqaring"
   ]
  },
  {
   "cell_type": "code",
   "execution_count": 29,
   "id": "bbee4d46-d131-4fa1-9b86-72bf317a91d9",
   "metadata": {},
   "outputs": [
    {
     "name": "stdout",
     "output_type": "stream",
     "text": [
      "sorted() ro'yxat ['AQSh', 'Koreya', \"O'zbekiston\", 'Rossiya']\n"
     ]
    }
   ],
   "source": [
    "print(\"sorted() ro'yxat\", sorted(davlatlar))"
   ]
  },
  {
   "cell_type": "code",
   "execution_count": 31,
   "id": "6e255fe0-ec20-403a-936d-a7e77c092eb3",
   "metadata": {},
   "outputs": [],
   "source": [
    "# sorted() yordamida ro'yxatni teskari tartibda konsolga chiqaring"
   ]
  },
  {
   "cell_type": "code",
   "execution_count": 32,
   "id": "999e5d88-f51f-46cd-8de7-6dbbdae85da5",
   "metadata": {},
   "outputs": [
    {
     "name": "stdout",
     "output_type": "stream",
     "text": [
      "['Rossiya', \"O'zbekiston\", 'Koreya', 'AQSh']\n"
     ]
    }
   ],
   "source": [
    "print(sorted(davlatlar, reverse=True))"
   ]
  },
  {
   "cell_type": "code",
   "execution_count": 33,
   "id": "9fdf5e91-5689-448f-ae7e-49abd0750a80",
   "metadata": {},
   "outputs": [],
   "source": [
    "# Asl ro'yxatni qaytadan konsolga chiqaring "
   ]
  },
  {
   "cell_type": "code",
   "execution_count": 34,
   "id": "8bb476e5-bf82-4967-81b6-7c43506b7ef2",
   "metadata": {},
   "outputs": [
    {
     "name": "stdout",
     "output_type": "stream",
     "text": [
      "[\"O'zbekiston\", 'Rossiya', 'AQSh', 'Koreya']\n"
     ]
    }
   ],
   "source": [
    "print(davlatlar)"
   ]
  },
  {
   "cell_type": "code",
   "execution_count": 35,
   "id": "29a42c89-e622-48c3-9d9f-eeb50aa31417",
   "metadata": {},
   "outputs": [],
   "source": [
    "# reverse() metodi yordamida ro'yxatni ortidan boshlab chiqaring"
   ]
  },
  {
   "cell_type": "code",
   "execution_count": 36,
   "id": "491acfa8-5c5b-4889-855b-513cb355cea2",
   "metadata": {},
   "outputs": [
    {
     "name": "stdout",
     "output_type": "stream",
     "text": [
      "['Koreya', 'AQSh', 'Rossiya', \"O'zbekiston\"]\n"
     ]
    }
   ],
   "source": [
    "davlatlar.reverse()\n",
    "print(davlatlar)"
   ]
  },
  {
   "cell_type": "code",
   "execution_count": 37,
   "id": "d526b3d4-d2b7-4f1a-b955-ab7860c75a51",
   "metadata": {},
   "outputs": [],
   "source": [
    "# sort() metodi yordamida ro'yxatni avval alifbo bo'yicha, keyin esa alifboga teskari tartibda konsolga chiqaring."
   ]
  },
  {
   "cell_type": "code",
   "execution_count": 38,
   "id": "73e0af6e-556c-4750-bd93-da5b8d683b43",
   "metadata": {},
   "outputs": [
    {
     "name": "stdout",
     "output_type": "stream",
     "text": [
      "tartiblangan:  ['AQSh', 'Koreya', \"O'zbekiston\", 'Rossiya']\n"
     ]
    }
   ],
   "source": [
    "davlatlar.sort()\n",
    "print(\"tartiblangan: \", davlatlar) "
   ]
  },
  {
   "cell_type": "code",
   "execution_count": 40,
   "id": "ea561b71-5b80-4b64-836a-16ef3b79cb88",
   "metadata": {},
   "outputs": [
    {
     "name": "stdout",
     "output_type": "stream",
     "text": [
      "teskari tartiblangan:  ['Rossiya', \"O'zbekiston\", 'Koreya', 'AQSh']\n"
     ]
    }
   ],
   "source": [
    "davlatlar.sort(reverse=True)\n",
    "print(\"teskari tartiblangan: \", davlatlar) "
   ]
  },
  {
   "cell_type": "code",
   "execution_count": 39,
   "id": "8a0a93a5-ed2b-4137-97d0-e5071e50739e",
   "metadata": {},
   "outputs": [],
   "source": [
    "# 120 dan 1200 gacha bo'lgan juft sonlar ro'yxatini tuzing"
   ]
  },
  {
   "cell_type": "code",
   "execution_count": 41,
   "id": "3ac26a86-e335-463a-8997-b9f9f4471624",
   "metadata": {},
   "outputs": [
    {
     "name": "stdout",
     "output_type": "stream",
     "text": [
      "[120, 122, 124, 126, 128, 130, 132, 134, 136, 138, 140, 142, 144, 146, 148, 150, 152, 154, 156, 158, 160, 162, 164, 166, 168, 170, 172, 174, 176, 178, 180, 182, 184, 186, 188, 190, 192, 194, 196, 198, 200, 202, 204, 206, 208, 210, 212, 214, 216, 218, 220, 222, 224, 226, 228, 230, 232, 234, 236, 238, 240, 242, 244, 246, 248, 250, 252, 254, 256, 258, 260, 262, 264, 266, 268, 270, 272, 274, 276, 278, 280, 282, 284, 286, 288, 290, 292, 294, 296, 298, 300, 302, 304, 306, 308, 310, 312, 314, 316, 318, 320, 322, 324, 326, 328, 330, 332, 334, 336, 338, 340, 342, 344, 346, 348, 350, 352, 354, 356, 358, 360, 362, 364, 366, 368, 370, 372, 374, 376, 378, 380, 382, 384, 386, 388, 390, 392, 394, 396, 398, 400, 402, 404, 406, 408, 410, 412, 414, 416, 418, 420, 422, 424, 426, 428, 430, 432, 434, 436, 438, 440, 442, 444, 446, 448, 450, 452, 454, 456, 458, 460, 462, 464, 466, 468, 470, 472, 474, 476, 478, 480, 482, 484, 486, 488, 490, 492, 494, 496, 498, 500, 502, 504, 506, 508, 510, 512, 514, 516, 518, 520, 522, 524, 526, 528, 530, 532, 534, 536, 538, 540, 542, 544, 546, 548, 550, 552, 554, 556, 558, 560, 562, 564, 566, 568, 570, 572, 574, 576, 578, 580, 582, 584, 586, 588, 590, 592, 594, 596, 598, 600, 602, 604, 606, 608, 610, 612, 614, 616, 618, 620, 622, 624, 626, 628, 630, 632, 634, 636, 638, 640, 642, 644, 646, 648, 650, 652, 654, 656, 658, 660, 662, 664, 666, 668, 670, 672, 674, 676, 678, 680, 682, 684, 686, 688, 690, 692, 694, 696, 698, 700, 702, 704, 706, 708, 710, 712, 714, 716, 718, 720, 722, 724, 726, 728, 730, 732, 734, 736, 738, 740, 742, 744, 746, 748, 750, 752, 754, 756, 758, 760, 762, 764, 766, 768, 770, 772, 774, 776, 778, 780, 782, 784, 786, 788, 790, 792, 794, 796, 798, 800, 802, 804, 806, 808, 810, 812, 814, 816, 818, 820, 822, 824, 826, 828, 830, 832, 834, 836, 838, 840, 842, 844, 846, 848, 850, 852, 854, 856, 858, 860, 862, 864, 866, 868, 870, 872, 874, 876, 878, 880, 882, 884, 886, 888, 890, 892, 894, 896, 898, 900, 902, 904, 906, 908, 910, 912, 914, 916, 918, 920, 922, 924, 926, 928, 930, 932, 934, 936, 938, 940, 942, 944, 946, 948, 950, 952, 954, 956, 958, 960, 962, 964, 966, 968, 970, 972, 974, 976, 978, 980, 982, 984, 986, 988, 990, 992, 994, 996, 998, 1000, 1002, 1004, 1006, 1008, 1010, 1012, 1014, 1016, 1018, 1020, 1022, 1024, 1026, 1028, 1030, 1032, 1034, 1036, 1038, 1040, 1042, 1044, 1046, 1048, 1050, 1052, 1054, 1056, 1058, 1060, 1062, 1064, 1066, 1068, 1070, 1072, 1074, 1076, 1078, 1080, 1082, 1084, 1086, 1088, 1090, 1092, 1094, 1096, 1098, 1100, 1102, 1104, 1106, 1108, 1110, 1112, 1114, 1116, 1118, 1120, 1122, 1124, 1126, 1128, 1130, 1132, 1134, 1136, 1138, 1140, 1142, 1144, 1146, 1148, 1150, 1152, 1154, 1156, 1158, 1160, 1162, 1164, 1166, 1168, 1170, 1172, 1174, 1176, 1178, 1180, 1182, 1184, 1186, 1188, 1190, 1192, 1194, 1196, 1198]\n"
     ]
    }
   ],
   "source": [
    "a=list(range(120,1200,2))\n",
    "print(a)"
   ]
  },
  {
   "cell_type": "code",
   "execution_count": 42,
   "id": "66b55107-fbda-4d60-a68f-fe9287b8577b",
   "metadata": {},
   "outputs": [],
   "source": [
    "#Ro'yxatdagi sonlar yig'indisi hisoblang va konsolga chiqaring."
   ]
  },
  {
   "cell_type": "code",
   "execution_count": 43,
   "id": "f89448c2-fbd7-4d00-9d6a-cbe93f7e689d",
   "metadata": {},
   "outputs": [
    {
     "name": "stdout",
     "output_type": "stream",
     "text": [
      "yig'indi= 355860\n"
     ]
    }
   ],
   "source": [
    "print(\"yig'indi=\", sum(a))"
   ]
  },
  {
   "cell_type": "code",
   "execution_count": 44,
   "id": "6644c3a4-a7fe-4a8c-a1e9-d22ef8d9a3f3",
   "metadata": {},
   "outputs": [],
   "source": [
    "#Ro'yxatdagi eng katta va eng kichik son o'rtasidagi ayirmani hisoblang va konsolga chiqaring"
   ]
  },
  {
   "cell_type": "code",
   "execution_count": 45,
   "id": "6d4e20ab-53f4-48a2-82aa-2d26afc9ccd5",
   "metadata": {},
   "outputs": [
    {
     "name": "stdout",
     "output_type": "stream",
     "text": [
      "max-min 1198-120= 1078\n"
     ]
    }
   ],
   "source": [
    "print(\"max-min\", f\"{max(a)}-{min(a)}=\", max(a)-min(a))"
   ]
  },
  {
   "cell_type": "code",
   "execution_count": 46,
   "id": "bf854721-a693-468a-a3ed-2f1d3a187c73",
   "metadata": {},
   "outputs": [],
   "source": [
    "#Ro'yxatdagi elementlar sonini chiqaring."
   ]
  },
  {
   "cell_type": "code",
   "execution_count": 47,
   "id": "26fbb1df-a53e-4ec4-bdf2-849c406aa7f1",
   "metadata": {},
   "outputs": [
    {
     "name": "stdout",
     "output_type": "stream",
     "text": [
      "elementlar soni:  540\n"
     ]
    }
   ],
   "source": [
    "print(\"elementlar soni: \", len(a))"
   ]
  },
  {
   "cell_type": "code",
   "execution_count": 48,
   "id": "05055b71-7d77-4f18-b84e-ec3d58897636",
   "metadata": {},
   "outputs": [],
   "source": [
    "#Ro'yxatning boshidan, o'rtasidan va oxiridan 20 ta qiymatni konsolga chiqaring."
   ]
  },
  {
   "cell_type": "code",
   "execution_count": 49,
   "id": "672de7c9-363c-4741-9272-da7946b4acc2",
   "metadata": {},
   "outputs": [
    {
     "name": "stdout",
     "output_type": "stream",
     "text": [
      "boshidan 20 ta:  [120, 122, 124, 126, 128, 130, 132, 134, 136, 138, 140, 142, 144, 146, 148, 150, 152, 154, 156, 158]\n",
      "o'rtasidan 20 ta:  [640, 642, 644, 646, 648, 650, 652, 654, 656, 658, 660, 662, 664, 666, 668, 670, 672, 674, 676, 678]\n",
      "oxiridan 20 ta:  [1160, 1162, 1164, 1166, 1168, 1170, 1172, 1174, 1176, 1178, 1180, 1182, 1184, 1186, 1188, 1190, 1192, 1194, 1196, 1198]\n"
     ]
    }
   ],
   "source": [
    "print(\"boshidan 20 ta: \", a[:20])\n",
    "orta=len(a)//2\n",
    "print(\"o'rtasidan 20 ta: \", a[orta-10:orta+10])\n",
    "print(\"oxiridan 20 ta: \", a[-20:])"
   ]
  },
  {
   "cell_type": "code",
   "execution_count": 50,
   "id": "656884a3-9723-4644-b159-35d88f7a3179",
   "metadata": {},
   "outputs": [],
   "source": [
    "# taomlar degan ro'yxat yarating va ichiga istalgan 5 ta taomni kiriting"
   ]
  },
  {
   "cell_type": "code",
   "execution_count": 54,
   "id": "29e3a005-9629-4e40-b8e6-94f2172efb7e",
   "metadata": {},
   "outputs": [],
   "source": [
    "taomlar=[\"osh\", \"mantu\", \"lagman\", \"lavash\", \"barak\"]"
   ]
  },
  {
   "cell_type": "code",
   "execution_count": 55,
   "id": "a5a9276c-4520-4345-82e5-8468cb3a3fb0",
   "metadata": {},
   "outputs": [],
   "source": [
    "# nonushta degan yangi ro'yxatga taomlar dan nusxa oling"
   ]
  },
  {
   "cell_type": "code",
   "execution_count": 56,
   "id": "8a14ab91-0c33-4d7c-b028-c2fd936a7246",
   "metadata": {},
   "outputs": [
    {
     "name": "stdout",
     "output_type": "stream",
     "text": [
      "['osh', 'mantu', 'lagman', 'lavash', 'barak']\n"
     ]
    }
   ],
   "source": [
    "nonushta=taomlar[:]\n",
    "print(nonushta)"
   ]
  },
  {
   "cell_type": "code",
   "execution_count": 57,
   "id": "c4cbe222-56a0-4b88-b2bd-a69019c05d8c",
   "metadata": {},
   "outputs": [],
   "source": [
    "# Yangi ro'yxatda faqat nonushtaga yeyiladigan taomlarni qoldiring va qo'shimcha 2 ta taom qo'shing"
   ]
  },
  {
   "cell_type": "code",
   "execution_count": 58,
   "id": "e22b3b8a-a955-4bdb-9918-93a211a7f793",
   "metadata": {},
   "outputs": [
    {
     "name": "stdout",
     "output_type": "stream",
     "text": [
      "2 ta qo'shilgani \n",
      " ['osh', 'mantu', 'lagman', 'lavash', 'barak', 'kabob', 'qazi']\n"
     ]
    }
   ],
   "source": [
    "nonushta.append(\"kabob\")\n",
    "nonushta.append(\"qazi\")\n",
    "print(\"2 ta qo'shilgani \\n\", nonushta)"
   ]
  },
  {
   "cell_type": "code",
   "execution_count": 59,
   "id": "623b9d82-996a-4405-8029-63bd1ffdfd09",
   "metadata": {},
   "outputs": [],
   "source": [
    "# Ikkala ro'yxatni ham ( taomlar va nonushta ) konsolga chiqaring"
   ]
  },
  {
   "cell_type": "code",
   "execution_count": 60,
   "id": "24683924-e315-4fd7-8883-38b1f36979cc",
   "metadata": {},
   "outputs": [
    {
     "name": "stdout",
     "output_type": "stream",
     "text": [
      "taomlar \t ['osh', 'mantu', 'lagman', 'lavash', 'barak']\n",
      "nonushta \t ['osh', 'mantu', 'lagman', 'lavash', 'barak', 'kabob', 'qazi']\n"
     ]
    }
   ],
   "source": [
    "print(\"taomlar \\t\", taomlar)\n",
    "print(\"nonushta \\t\", nonushta)"
   ]
  },
  {
   "cell_type": "code",
   "execution_count": 61,
   "id": "c998adcd-c9c6-4524-809e-9d36bb067742",
   "metadata": {},
   "outputs": [],
   "source": [
    "# Yuqoridagi nonushta ro'yxatini o'zgarmas ro'yxatga aylantiring va \n",
    "# nonushta[0] = \"qaymoq va non\" deb qiymati berib ko'ring."
   ]
  },
  {
   "cell_type": "code",
   "execution_count": 62,
   "id": "dfd6dd31-8564-4a47-a365-7ee0f4c2bee6",
   "metadata": {},
   "outputs": [
    {
     "name": "stdout",
     "output_type": "stream",
     "text": [
      "('qaymoq va non', 'mantu', 'lagman', 'lavash', 'barak', 'kabob', 'qazi')\n"
     ]
    }
   ],
   "source": [
    "nonushta=list(nonushta)\n",
    "nonushta[0]=\"qaymoq va non\"\n",
    "nonushta=tuple(nonushta)\n",
    "print(nonushta)"
   ]
  },
  {
   "cell_type": "code",
   "execution_count": null,
   "id": "7ddea8b9-1714-4c07-b799-5b2b4a834e63",
   "metadata": {},
   "outputs": [],
   "source": []
  }
 ],
 "metadata": {
  "kernelspec": {
   "display_name": "Python 3 (ipykernel)",
   "language": "python",
   "name": "python3"
  },
  "language_info": {
   "codemirror_mode": {
    "name": "ipython",
    "version": 3
   },
   "file_extension": ".py",
   "mimetype": "text/x-python",
   "name": "python",
   "nbconvert_exporter": "python",
   "pygments_lexer": "ipython3",
   "version": "3.12.1"
  }
 },
 "nbformat": 4,
 "nbformat_minor": 5
}
