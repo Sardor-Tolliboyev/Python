{
 "cells": [
  {
   "cell_type": "code",
   "execution_count": 1,
   "id": "549d59a0-9cd9-4fea-9593-7d68b29973a8",
   "metadata": {},
   "outputs": [],
   "source": [
    "# Funksiya"
   ]
  },
  {
   "cell_type": "code",
   "execution_count": 2,
   "id": "4acfbde3-3396-46ba-9d36-667a7b58fdc3",
   "metadata": {},
   "outputs": [],
   "source": [
    "def salom_ber():\n",
    "    \"\"\"Salom beruvchi funksiya\"\"\"\n",
    "    print(\"Assalomu alaykum!\")"
   ]
  },
  {
   "cell_type": "code",
   "execution_count": 3,
   "id": "562364a4-02b1-4bbb-acc6-8dd156935dcf",
   "metadata": {},
   "outputs": [
    {
     "name": "stdout",
     "output_type": "stream",
     "text": [
      "Assalomu alaykum!\n"
     ]
    }
   ],
   "source": [
    "salom_ber()"
   ]
  },
  {
   "cell_type": "code",
   "execution_count": 4,
   "id": "ed5bc525-4e63-4e76-9bbe-ba86157228e1",
   "metadata": {},
   "outputs": [],
   "source": [
    "def salom_ber(ism):\n",
    "    \"\"\"Fodyalanuvchi ismini qabul qilib, unga salom beruvchi funksiya\"\"\"\n",
    "    print(f\"Assalomu alaykum, hurmatli {ism.title()}!\")"
   ]
  },
  {
   "cell_type": "code",
   "execution_count": 5,
   "id": "b2ddac84-5d67-442f-8105-bd448dd62335",
   "metadata": {},
   "outputs": [
    {
     "name": "stdout",
     "output_type": "stream",
     "text": [
      "Assalomu alaykum, hurmatli Hasan!\n"
     ]
    }
   ],
   "source": [
    "salom_ber('hasan')"
   ]
  },
  {
   "cell_type": "code",
   "execution_count": 8,
   "id": "18137a11-0ff3-4507-b475-9f23aa168b17",
   "metadata": {},
   "outputs": [
    {
     "name": "stdout",
     "output_type": "stream",
     "text": [
      "Assalomu alaykum, hurmatli Hasan!\n",
      "Assalomu alaykum, hurmatli Olim!\n"
     ]
    }
   ],
   "source": [
    "salom_ber('hasan')\n",
    "salom_ber('olim')"
   ]
  },
  {
   "cell_type": "code",
   "execution_count": 9,
   "id": "b7af805f-6497-4ca7-b39c-2638711596dc",
   "metadata": {},
   "outputs": [],
   "source": [
    "def toliq_ism(ism, familiya):\n",
    "    \"\"\"Foydalanuvchi ism va familiyasini jamlab chiqaruvchi funksiya\"\"\"\n",
    "    print(f\"Foydalanuvchi ismi: {ism.title()}\\n\"\n",
    "          f\"Foydalanuvchi familiyasi: {familiya.title()}\")"
   ]
  },
  {
   "cell_type": "code",
   "execution_count": 10,
   "id": "778e56a1-ebce-455b-830b-05f65c6c52ec",
   "metadata": {},
   "outputs": [
    {
     "name": "stdout",
     "output_type": "stream",
     "text": [
      "Foydalanuvchi ismi: Olim\n",
      "Foydalanuvchi familiyasi: Hakimov\n"
     ]
    }
   ],
   "source": [
    "toliq_ism('olim','hakimov')"
   ]
  },
  {
   "cell_type": "code",
   "execution_count": 11,
   "id": "a7ce0124-4973-4cca-bfee-c9ba570f3b7e",
   "metadata": {},
   "outputs": [
    {
     "name": "stdout",
     "output_type": "stream",
     "text": [
      "Foydalanuvchi ismi: Hakimov\n",
      "Foydalanuvchi familiyasi: Olim\n"
     ]
    }
   ],
   "source": [
    "toliq_ism('hakimov','olim')"
   ]
  },
  {
   "cell_type": "code",
   "execution_count": 12,
   "id": "366c911f-0920-45d4-8c82-b6560e7e9c3b",
   "metadata": {},
   "outputs": [],
   "source": [
    "def yosh_hisobla(ism, tugilgan_yil):\n",
    "    \"\"\"Foydalanuvchi yoshini hisoblaydigan dastur\"\"\"\n",
    "    print(f\"{ism.title()} {2020-tugilgan_yil} yoshda\")"
   ]
  },
  {
   "cell_type": "code",
   "execution_count": 13,
   "id": "95aba1cc-30e3-4c51-b83e-59b0eff5391e",
   "metadata": {},
   "outputs": [
    {
     "name": "stdout",
     "output_type": "stream",
     "text": [
      "Olim 23 yoshda\n"
     ]
    }
   ],
   "source": [
    "yosh_hisobla('olim', 1997)"
   ]
  },
  {
   "cell_type": "code",
   "execution_count": 14,
   "id": "87a7cb60-1fce-4c45-a264-15f40a2a204e",
   "metadata": {},
   "outputs": [],
   "source": [
    "# KALIT SO'Z BILAN UZATISH"
   ]
  },
  {
   "cell_type": "code",
   "execution_count": 15,
   "id": "0270fbf5-ca88-40bb-a79e-7411f3e143b6",
   "metadata": {},
   "outputs": [
    {
     "name": "stdout",
     "output_type": "stream",
     "text": [
      "Olim 23 yoshda\n"
     ]
    }
   ],
   "source": [
    "yosh_hisobla(tugilgan_yil=1997, ism='olim')"
   ]
  },
  {
   "cell_type": "code",
   "execution_count": 16,
   "id": "4e3871ac-945f-4449-b3e5-e2a96b552620",
   "metadata": {},
   "outputs": [
    {
     "name": "stdout",
     "output_type": "stream",
     "text": [
      "Foydalanuvchi ismi: Olim\n",
      "Foydalanuvchi familiyasi: Hakimov\n"
     ]
    }
   ],
   "source": [
    "toliq_ism(familiya='hakimov',ism='olim')"
   ]
  },
  {
   "cell_type": "code",
   "execution_count": 17,
   "id": "9c2d6bab-99ae-47a6-ac2a-70deaead602e",
   "metadata": {},
   "outputs": [],
   "source": [
    "# STANDART QIYMAT"
   ]
  },
  {
   "cell_type": "code",
   "execution_count": 21,
   "id": "0b35b628-d460-4112-b1a4-d2749131afa9",
   "metadata": {},
   "outputs": [],
   "source": [
    "def yosh_hisobla(tugilgan_yil, joriy_yil=2025): # joriy yil uchun st.qiymat 2020\n",
    "    \"\"\"Foydalanuvchi tug'ilgan yilidan uning yoshini hisoblaydi\"\"\"\n",
    "    print(f\"Siz {joriy_yil-tugilgan_yil} yoshdasiz\")"
   ]
  },
  {
   "cell_type": "code",
   "execution_count": 22,
   "id": "0237cbca-7977-4f8d-b447-18ddcfefd48d",
   "metadata": {},
   "outputs": [
    {
     "name": "stdout",
     "output_type": "stream",
     "text": [
      "Siz 30 yoshdasiz\n"
     ]
    }
   ],
   "source": [
    "yosh_hisobla(1995,2025)"
   ]
  },
  {
   "cell_type": "code",
   "execution_count": 23,
   "id": "2f018c2a-6ad5-45e4-baf5-73256d3e5b8f",
   "metadata": {},
   "outputs": [
    {
     "name": "stdout",
     "output_type": "stream",
     "text": [
      "Siz 32 yoshdasiz\n"
     ]
    }
   ],
   "source": [
    "yosh_hisobla(1993)"
   ]
  },
  {
   "cell_type": "code",
   "execution_count": 24,
   "id": "d7ed43ea-a404-4d27-9c67-eb98aae0989d",
   "metadata": {},
   "outputs": [],
   "source": [
    "# FUNKSIYAGA MUROJAT QILISHDA XATOLIKLAR"
   ]
  },
  {
   "cell_type": "code",
   "execution_count": 25,
   "id": "6578426c-6d69-446a-a363-0ac574c5982b",
   "metadata": {},
   "outputs": [
    {
     "name": "stdin",
     "output_type": "stream",
     "text": [
      "Tug'ilgan yilingizni kiriting:  2005\n"
     ]
    },
    {
     "ename": "TypeError",
     "evalue": "unsupported operand type(s) for -: 'int' and 'str'",
     "output_type": "error",
     "traceback": [
      "\u001b[31m---------------------------------------------------------------------------\u001b[39m",
      "\u001b[31mTypeError\u001b[39m                                 Traceback (most recent call last)",
      "\u001b[36mCell\u001b[39m\u001b[36m \u001b[39m\u001b[32mIn[25]\u001b[39m\u001b[32m, line 6\u001b[39m\n\u001b[32m      3\u001b[39m     \u001b[38;5;28mprint\u001b[39m(\u001b[33mf\u001b[39m\u001b[33m\"\u001b[39m\u001b[33mSiz \u001b[39m\u001b[38;5;132;01m{\u001b[39;00mjoriy_yil-tugilgan_yil\u001b[38;5;132;01m}\u001b[39;00m\u001b[33m yoshdasiz\u001b[39m\u001b[33m\"\u001b[39m)\n\u001b[32m      5\u001b[39m tyil = \u001b[38;5;28minput\u001b[39m(\u001b[33m\"\u001b[39m\u001b[33mTug\u001b[39m\u001b[33m'\u001b[39m\u001b[33milgan yilingizni kiriting: \u001b[39m\u001b[33m\"\u001b[39m)\n\u001b[32m----> \u001b[39m\u001b[32m6\u001b[39m \u001b[43myosh_hisobla\u001b[49m\u001b[43m(\u001b[49m\u001b[43mtyil\u001b[49m\u001b[43m)\u001b[49m\n",
      "\u001b[36mCell\u001b[39m\u001b[36m \u001b[39m\u001b[32mIn[25]\u001b[39m\u001b[32m, line 3\u001b[39m, in \u001b[36myosh_hisobla\u001b[39m\u001b[34m(tugilgan_yil, joriy_yil)\u001b[39m\n\u001b[32m      1\u001b[39m \u001b[38;5;28;01mdef\u001b[39;00m\u001b[38;5;250m \u001b[39m\u001b[34myosh_hisobla\u001b[39m(tugilgan_yil, joriy_yil=\u001b[32m2020\u001b[39m):\n\u001b[32m      2\u001b[39m \u001b[38;5;250m    \u001b[39m\u001b[33;03m\"\"\"Foydalanuvchi tug'ilgan yilidan uning yoshini hisoblaydi\"\"\"\u001b[39;00m\n\u001b[32m----> \u001b[39m\u001b[32m3\u001b[39m     \u001b[38;5;28mprint\u001b[39m(\u001b[33mf\u001b[39m\u001b[33m\"\u001b[39m\u001b[33mSiz \u001b[39m\u001b[38;5;132;01m{\u001b[39;00m\u001b[43mjoriy_yil\u001b[49m\u001b[43m-\u001b[49m\u001b[43mtugilgan_yil\u001b[49m\u001b[38;5;132;01m}\u001b[39;00m\u001b[33m yoshdasiz\u001b[39m\u001b[33m\"\u001b[39m)\n",
      "\u001b[31mTypeError\u001b[39m: unsupported operand type(s) for -: 'int' and 'str'"
     ]
    }
   ],
   "source": [
    "def yosh_hisobla(tugilgan_yil, joriy_yil=2020):\n",
    "    \"\"\"Foydalanuvchi tug'ilgan yilidan uning yoshini hisoblaydi\"\"\"\n",
    "    print(f\"Siz {joriy_yil-tugilgan_yil} yoshdasiz\")\n",
    "    \n",
    "tyil = input(\"Tug'ilgan yilingizni kiriting: \")\n",
    "yosh_hisobla(tyil)"
   ]
  },
  {
   "cell_type": "code",
   "execution_count": 26,
   "id": "597172bc-9004-4a62-b6e6-bb6aff99c446",
   "metadata": {},
   "outputs": [
    {
     "ename": "TypeError",
     "evalue": "yosh_hisobla() missing 1 required positional argument: 'joriy_yil'",
     "output_type": "error",
     "traceback": [
      "\u001b[31m---------------------------------------------------------------------------\u001b[39m",
      "\u001b[31mTypeError\u001b[39m                                 Traceback (most recent call last)",
      "\u001b[36mCell\u001b[39m\u001b[36m \u001b[39m\u001b[32mIn[26]\u001b[39m\u001b[32m, line 5\u001b[39m\n\u001b[32m      2\u001b[39m \u001b[38;5;250m    \u001b[39m\u001b[33;03m\"\"\"Foydalanuvchi tug'ilgan yilidan uning yoshini hisoblaydi\"\"\"\u001b[39;00m\n\u001b[32m      3\u001b[39m     \u001b[38;5;28mprint\u001b[39m(\u001b[33mf\u001b[39m\u001b[33m\"\u001b[39m\u001b[33mSiz \u001b[39m\u001b[38;5;132;01m{\u001b[39;00mjoriy_yil-tugilgan_yil\u001b[38;5;132;01m}\u001b[39;00m\u001b[33m yoshdasiz\u001b[39m\u001b[33m\"\u001b[39m)\n\u001b[32m----> \u001b[39m\u001b[32m5\u001b[39m \u001b[43myosh_hisobla\u001b[49m\u001b[43m(\u001b[49m\u001b[32;43m1993\u001b[39;49m\u001b[43m)\u001b[49m\n",
      "\u001b[31mTypeError\u001b[39m: yosh_hisobla() missing 1 required positional argument: 'joriy_yil'"
     ]
    }
   ],
   "source": [
    "def yosh_hisobla(tugilgan_yil, joriy_yil):\n",
    "    \"\"\"Foydalanuvchi tug'ilgan yilidan uning yoshini hisoblaydi\"\"\"\n",
    "    print(f\"Siz {joriy_yil-tugilgan_yil} yoshdasiz\")\n",
    "\n",
    "yosh_hisobla(1993)"
   ]
  },
  {
   "cell_type": "code",
   "execution_count": 27,
   "id": "5d20d8b1-6be5-438f-b4a3-c8716f5cdf1d",
   "metadata": {},
   "outputs": [
    {
     "ename": "TypeError",
     "evalue": "salom_ber() takes 0 positional arguments but 1 was given",
     "output_type": "error",
     "traceback": [
      "\u001b[31m---------------------------------------------------------------------------\u001b[39m",
      "\u001b[31mTypeError\u001b[39m                                 Traceback (most recent call last)",
      "\u001b[36mCell\u001b[39m\u001b[36m \u001b[39m\u001b[32mIn[27]\u001b[39m\u001b[32m, line 5\u001b[39m\n\u001b[32m      2\u001b[39m \u001b[38;5;250m    \u001b[39m\u001b[33;03m\"\"\"Salom beruvchi funksiya\"\"\"\u001b[39;00m\n\u001b[32m      3\u001b[39m     \u001b[38;5;28mprint\u001b[39m(\u001b[33m\"\u001b[39m\u001b[33mAssalomu alaykum!\u001b[39m\u001b[33m\"\u001b[39m)\n\u001b[32m----> \u001b[39m\u001b[32m5\u001b[39m \u001b[43msalom_ber\u001b[49m\u001b[43m(\u001b[49m\u001b[33;43m'\u001b[39;49m\u001b[33;43mhasan\u001b[39;49m\u001b[33;43m'\u001b[39;49m\u001b[43m)\u001b[49m\n",
      "\u001b[31mTypeError\u001b[39m: salom_ber() takes 0 positional arguments but 1 was given"
     ]
    }
   ],
   "source": [
    "def salom_ber():\n",
    "    \"\"\"Salom beruvchi funksiya\"\"\"\n",
    "    print(\"Assalomu alaykum!\")\n",
    "\n",
    "salom_ber('hasan')"
   ]
  },
  {
   "cell_type": "code",
   "execution_count": 29,
   "id": "18c7c16a-3704-4007-b2e6-8276229d10e5",
   "metadata": {},
   "outputs": [
    {
     "ename": "IndentationError",
     "evalue": "unindent does not match any outer indentation level (<string>, line 6)",
     "output_type": "error",
     "traceback": [
      "  \u001b[36mFile \u001b[39m\u001b[32m<string>:6\u001b[39m\n\u001b[31m    \u001b[39m\u001b[31mtoliq_ism('olim hakimov')\u001b[39m\n                             ^\n\u001b[31mIndentationError\u001b[39m\u001b[31m:\u001b[39m unindent does not match any outer indentation level\n"
     ]
    }
   ],
   "source": [
    "def toliq_ism(ism, familiya):\n",
    "    \"\"\"Foydalanuvchi ism va familiyasini jamlab chiqaruvchi funksiya\"\"\"\n",
    "    print(f\"Foydalanuvchi ismi: {ism.title()}\\n\"\n",
    "          f\"Foydalanuvchi familiyasi: {familiya.title()}\")\n",
    " \n",
    " toliq_ism('olim hakimov')"
   ]
  },
  {
   "cell_type": "code",
   "execution_count": 31,
   "id": "2512a291-c18d-402b-8e50-0ecc7b8f2a18",
   "metadata": {},
   "outputs": [],
   "source": [
    "# Amaliyot"
   ]
  },
  {
   "cell_type": "code",
   "execution_count": 32,
   "id": "98319d61-cbb2-4104-acdc-8c359f6762b2",
   "metadata": {},
   "outputs": [],
   "source": [
    "# 1.Foydalanuvchi ismi va yoshini so'rab, uning tug'ilgan yilini hisoblaydigan funksiya yozing."
   ]
  },
  {
   "cell_type": "code",
   "execution_count": 38,
   "id": "b8d492cd-95f1-401f-8254-df7cff35b8d0",
   "metadata": {},
   "outputs": [],
   "source": [
    "def t_yil_h(ism, tyil):\n",
    "    print(f\"{ism} {2025-tyil} yilda tug'ilgan\")"
   ]
  },
  {
   "cell_type": "code",
   "execution_count": 39,
   "id": "9d3dc9f1-825b-4685-954c-c0fa340450e6",
   "metadata": {},
   "outputs": [
    {
     "name": "stdin",
     "output_type": "stream",
     "text": [
      "Ismingizni kiriting:  Sardor\n",
      "Yoshingizni kiriting:  20\n"
     ]
    },
    {
     "name": "stdout",
     "output_type": "stream",
     "text": [
      "Sardor 2005 yilda tug'ilgan\n"
     ]
    }
   ],
   "source": [
    "ism = input(\"Ismingizni kiriting: \")\n",
    "tyil = int(input(\"Yoshingizni kiriting: \"))\n",
    "t_yil_h(ism, tyil)"
   ]
  },
  {
   "cell_type": "code",
   "execution_count": 40,
   "id": "cf6b2488-a648-4a50-b15a-876726dd1359",
   "metadata": {},
   "outputs": [],
   "source": [
    "# 2.Foydalanuvchidan son olib, uning kvadrati va kubini konsolga chiqaruvchi funksiya yozing."
   ]
  },
  {
   "cell_type": "code",
   "execution_count": 45,
   "id": "b09e546d-bd15-49b7-9e49-c8807dd8df94",
   "metadata": {},
   "outputs": [],
   "source": [
    "def funksiya(son):\n",
    "    print(f\"{son} ning kvadrati: {son**2}. kubi: {son**3} \")"
   ]
  },
  {
   "cell_type": "code",
   "execution_count": 46,
   "id": "6ec75fd8-e95c-4e07-b303-e976dbee4710",
   "metadata": {},
   "outputs": [
    {
     "name": "stdin",
     "output_type": "stream",
     "text": [
      "Son kiriting:  5\n"
     ]
    },
    {
     "name": "stdout",
     "output_type": "stream",
     "text": [
      "5.0 ning kvadrati: 25.0. kubi: 125.0 \n"
     ]
    }
   ],
   "source": [
    "n = float(input(\"Son kiriting: \"))\n",
    "funksiya(n)"
   ]
  },
  {
   "cell_type": "code",
   "execution_count": 47,
   "id": "50f20479-a820-474c-9dc0-866b4f444048",
   "metadata": {},
   "outputs": [],
   "source": [
    "# 3.Foydalanuvchidan son olib, son juft yoki toqligini konsolga chiqaruvchi funksiya yozing."
   ]
  },
  {
   "cell_type": "code",
   "execution_count": 50,
   "id": "857bf4d0-95ce-4fbd-b403-7759f9443ea4",
   "metadata": {},
   "outputs": [],
   "source": [
    "def juft_toq(son):\n",
    "    if son % 2 == 0:\n",
    "        print('juft son')\n",
    "    else: print('toq son')"
   ]
  },
  {
   "cell_type": "code",
   "execution_count": 51,
   "id": "f09ebf85-bc33-4003-ac37-a41c98890498",
   "metadata": {},
   "outputs": [
    {
     "name": "stdin",
     "output_type": "stream",
     "text": [
      "Son kiriting:  4\n"
     ]
    },
    {
     "name": "stdout",
     "output_type": "stream",
     "text": [
      "juft son\n"
     ]
    }
   ],
   "source": [
    "n = float(input(\"Son kiriting: \"))\n",
    "juft_toq(n)"
   ]
  },
  {
   "cell_type": "code",
   "execution_count": 52,
   "id": "f0a05526-1d21-47de-a5b0-76b8e060693b",
   "metadata": {},
   "outputs": [],
   "source": [
    "# 4.Foydalanuvchidan ikkita son olib, ulardan kattasini konsolga chiqaruvchi funksiya yozing. Agar sonlar teng bo'lsa \"Sonlar teng\" degan xabarni chiqaring."
   ]
  },
  {
   "cell_type": "code",
   "execution_count": 53,
   "id": "b1475fbc-2e3b-4bf6-af7e-6300ea857fda",
   "metadata": {},
   "outputs": [],
   "source": [
    "def funk(son1, son2):\n",
    "    if son1 == son2:\n",
    "        print('Sonlar teng')\n",
    "    elif son1 > son2:\n",
    "        print(\"Kattasi: \", son1)\n",
    "    else: print(\"Kattasi: \", son2)"
   ]
  },
  {
   "cell_type": "code",
   "execution_count": 57,
   "id": "b2b3ba44-faba-4230-bcbd-46fe8ad28f30",
   "metadata": {},
   "outputs": [
    {
     "name": "stdin",
     "output_type": "stream",
     "text": [
      "1-sonni kiriting:  4\n",
      "2-sonni kiriting:  4\n"
     ]
    },
    {
     "name": "stdout",
     "output_type": "stream",
     "text": [
      "Sonlar teng\n"
     ]
    }
   ],
   "source": [
    "n1 = float(input(\"1-sonni kiriting: \"))\n",
    "n2 = float(input(\"2-sonni kiriting: \"))\n",
    "funk(n1, n2)"
   ]
  },
  {
   "cell_type": "code",
   "execution_count": 58,
   "id": "0b48d6cd-4a37-4478-80a6-f87766c4dfd1",
   "metadata": {},
   "outputs": [],
   "source": [
    "# 5. Foydalanuvchidan x va y sonlarini olib, x^y ni konsolga chiqaruvchi funksiya yozing."
   ]
  },
  {
   "cell_type": "code",
   "execution_count": 60,
   "id": "f3eb1c3d-3c2d-4b46-a737-3325c0c4925c",
   "metadata": {},
   "outputs": [],
   "source": [
    "def funk1(x, y):\n",
    "    print(f\"{x}^{y}={x**y}\")"
   ]
  },
  {
   "cell_type": "code",
   "execution_count": 61,
   "id": "33c3a829-084c-44ce-aefa-536bd0098372",
   "metadata": {},
   "outputs": [
    {
     "name": "stdin",
     "output_type": "stream",
     "text": [
      "1-sonni kiriting:  4\n",
      "2-sonni kiriting:  5\n"
     ]
    },
    {
     "name": "stdout",
     "output_type": "stream",
     "text": [
      "4.0^5.0=1024.0\n"
     ]
    }
   ],
   "source": [
    "n1 = float(input(\"1-sonni kiriting: \"))\n",
    "n2 = float(input(\"2-sonni kiriting: \"))\n",
    "funk1(n1, n2)"
   ]
  },
  {
   "cell_type": "code",
   "execution_count": 62,
   "id": "46319145-2350-472c-ae48-5b48fb65455e",
   "metadata": {},
   "outputs": [],
   "source": [
    "# 6.Yuqoridagi funksiyada y uchun 2 standart qiymatini bering."
   ]
  },
  {
   "cell_type": "code",
   "execution_count": 65,
   "id": "608dd3b2-999a-43bd-b159-c6b60c19a4da",
   "metadata": {},
   "outputs": [],
   "source": [
    "def funk2(x, y=2):\n",
    "    print(f\"{x}^{y}={x**y}\")"
   ]
  },
  {
   "cell_type": "code",
   "execution_count": 66,
   "id": "9bf955cd-93c5-4653-9fa8-69115902e43f",
   "metadata": {},
   "outputs": [
    {
     "name": "stdin",
     "output_type": "stream",
     "text": [
      "son kiriting:  5\n"
     ]
    },
    {
     "name": "stdout",
     "output_type": "stream",
     "text": [
      "5.0^2=25.0\n"
     ]
    }
   ],
   "source": [
    "n1 = float(input(\"son kiriting: \"))\n",
    "funk2(n1)"
   ]
  },
  {
   "cell_type": "code",
   "execution_count": 67,
   "id": "2fd34d46-51d9-4ab4-9fd1-4b00fe3f4641",
   "metadata": {},
   "outputs": [],
   "source": [
    "# 7.Foydalanuvchidan son qabul qilib, sonni 2 dan 10 gacha bo'lgan sonlarga qoldiqsiz bo'linishini tekshiruvchi funksiya yozing. Natijalarni konsolga chiqaring."
   ]
  },
  {
   "cell_type": "code",
   "execution_count": 68,
   "id": "7970138e-2793-418a-884d-2ab7cbb108df",
   "metadata": {},
   "outputs": [],
   "source": [
    "def funk3(son):\n",
    "    for i in range(2, 11):\n",
    "        if son % i == 0:\n",
    "            print(f\"{son} {i} ga qoldiqsiz bo'linadi\")"
   ]
  },
  {
   "cell_type": "code",
   "execution_count": 70,
   "id": "f883ceed-bf11-4cae-8db4-ca49383dd664",
   "metadata": {},
   "outputs": [
    {
     "name": "stdin",
     "output_type": "stream",
     "text": [
      "son kiriting:  70\n"
     ]
    },
    {
     "name": "stdout",
     "output_type": "stream",
     "text": [
      "70.0 2 ga qoldiqsiz bo'linadi\n",
      "70.0 5 ga qoldiqsiz bo'linadi\n",
      "70.0 7 ga qoldiqsiz bo'linadi\n",
      "70.0 10 ga qoldiqsiz bo'linadi\n"
     ]
    }
   ],
   "source": [
    "n = float(input(\"son kiriting: \"))\n",
    "funk3(n)"
   ]
  },
  {
   "cell_type": "code",
   "execution_count": null,
   "id": "4c6afe04-fbc0-4584-92dc-a94f608bfa03",
   "metadata": {},
   "outputs": [],
   "source": []
  }
 ],
 "metadata": {
  "kernelspec": {
   "display_name": "Python 3 (ipykernel)",
   "language": "python",
   "name": "python3"
  },
  "language_info": {
   "codemirror_mode": {
    "name": "ipython",
    "version": 3
   },
   "file_extension": ".py",
   "mimetype": "text/x-python",
   "name": "python",
   "nbconvert_exporter": "python",
   "pygments_lexer": "ipython3",
   "version": "3.12.1"
  }
 },
 "nbformat": 4,
 "nbformat_minor": 5
}
