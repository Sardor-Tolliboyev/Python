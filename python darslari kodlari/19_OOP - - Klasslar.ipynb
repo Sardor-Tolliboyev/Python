{
 "cells": [
  {
   "cell_type": "markdown",
   "id": "d23af9ec-d5e5-490c-b5f1-584c0899b65a",
   "metadata": {},
   "source": [
    "## OPP"
   ]
  },
  {
   "cell_type": "markdown",
   "id": "f3321b93-9649-4174-96a7-acd1dc72e04d",
   "metadata": {},
   "source": [
    "OBYEKT NIMA?\n",
    "\n",
    "Object oriented dasturlashda o’zaro bo’gliq bo’lgan o’zgaruvchilar va funksiyalar bitta konteynerga jamlanadi va bunday konteynerlar obyekt deb ataladi.\n",
    " Bir obyektga tegishli o’zgaruvchilar uning xususiyatlari, unga tegishli funksiyalar esa metodlari deb ataladi."
   ]
  },
  {
   "cell_type": "markdown",
   "id": "ea4ca949-6dc2-4d35-8221-5a18b7436f2a",
   "metadata": {},
   "source": [
    "KLASS NIMA?\n",
    "\n",
    "Object oriented programming haqida gaplashar ekanmiz uning fundamental tushunchalaridan biri - klass haqida gapirib o’tmaslikning iloji yo’q. \n",
    "Klass bu obyekt yaratish uchun shablon yoki qolipdir. Bitta klassdan biz istalgancha nusxa olishimiz va yangi obyektlar yaratishimiz mumkin. Demak obyekt bu biror klassning xususiy ko’rinishi. \n",
    "Odatda klasslarning nomi o’zgarmas, undan yaratilgan obyektlar esa istalgancha nomlanishi mumkin."
   ]
  },
  {
   "cell_type": "markdown",
   "id": "21c4747b-9e97-4248-afea-5852bb8d1832",
   "metadata": {},
   "source": [
    "OOP TAMOYILLARI\n",
    "\n",
    "INKAPSULYATSIYA\n",
    "\n",
    "Biz object oriented dasturlash haqida gapira turib, ma’lum bir obyektga tegishli bo’lgan xususiyatlar va metodlarni bitta konteynerga joylaymiz dedik. Bu jarayon inkapsulyatsiya (ya’ni kapsulaga solish) deb ataladi. Inkapsulyatsiya bizga klasslar yaratishga va keyinchalik bu klasslardan boshqa obyektlarni yaratishga yordam beradi.\n",
    "\n",
    "ABSTRAKTSIYA\n",
    "\n",
    "Abstraktsiya yordamida biz kodimizning ichki tuzilishini yashiramiz. Ya’ni, tashqaridan qaraganda obyektimiz 2 ta parameter va 2 ta metoddan iborat bo’lishi mumkin, lekin obyekt to’g’ri ishlashi uchun uning ichida o’nlab boshqa o’zgaruvchilar va funksiyalar yashirin bo’ladi. \n",
    "Klassdan foydalanishda esa uning ichki tuzilishi va qanday ishlashini bilish talab qilinmaydi. Bu o’zimizga ham boshqa dasturchilarga ham bu klassdan foydalanishda qulayliklar yaratadi.\n",
    "\n",
    "VORISLIK\n",
    "\n",
    "Dasturlash jarayonida biz bir klassdan boshqa klasslar yaratishimiz mumkin. Misol uchun bizda transport klassi bor, biz bu klassdan qo’shimcha Avtomobil, avtobus, kema, poyezd kabi klasslarni yaratishimiz mumkin. \n",
    "Bunda bizning asl klassimiz ota yoki super klass deb ataladi, undan yaratilgan klasslar esa voris klasslar deyiladi.\n",
    "\n",
    "POLIMORFIZM\n",
    "\n",
    "Voris klass super klassdan o’zlashtirilgan metodning nomini saqlagan holda, uning ishlashini o’zgartirishiga polimorfizm deyiladi."
   ]
  },
  {
   "cell_type": "markdown",
   "id": "f292238e-b9fb-4246-9edd-c9ec6a2de1b4",
   "metadata": {},
   "source": [
    "OOP AFZALLIKLARI VA KAMCHILIKLARI\n",
    "Keling darsimiz yakunida OOPning afzalliklari va kamchiliklariga ham to’xtalib o’tsak.\n",
    "\n",
    "Afzalliklari\n",
    "\n",
    "Parallel dasturlash – bir loyihaning turli qismlari bir vaqtda yaratilishi mumkin\n",
    "Vorislik tamoyili klasslardan qayta foydanalish imkonini beradi\n",
    "Polimorfizm tamoyili klasslarni moslashuvchan qiladi\n",
    "Klasslardan boshqa dastur va loyihalarda qayta-qayta foydalanish mumkin \n",
    "\n",
    "Kamchiliklari\n",
    "\n",
    "Dasturlashga yangi qadam qo’yganlar uchun biroz tushunarsiz\n",
    "Har doim ham samarali emas\n",
    "Ba’zida dasturimizni haddan tashqari murakkablashtirib yuborishi mumkin\n",
    "OOP bilan qisqacha tanishuvimiz shundan iborat edi. Endi esa Python OOP bilan tanishuvni boshlasak ham bo'ladi.\n",
    "\n"
   ]
  },
  {
   "cell_type": "markdown",
   "id": "1fbfb05d-6420-49a0-99e8-42adff36dd90",
   "metadata": {},
   "source": [
    "## Klasslar"
   ]
  },
  {
   "cell_type": "code",
   "execution_count": 5,
   "id": "b8ee8ba4-798f-481f-9b85-9569f07021f3",
   "metadata": {},
   "outputs": [
    {
     "name": "stdout",
     "output_type": "stream",
     "text": [
      "<class 'int'>\n"
     ]
    }
   ],
   "source": [
    "x = 10\n",
    "print(type(x))"
   ]
  },
  {
   "cell_type": "code",
   "execution_count": 6,
   "id": "32495a67-c540-434c-bd5e-cb37dcb8ad52",
   "metadata": {},
   "outputs": [
    {
     "name": "stdout",
     "output_type": "stream",
     "text": [
      "<class 'str'>\n"
     ]
    }
   ],
   "source": [
    "matn = \"salom\"\n",
    "print(type(matn))"
   ]
  },
  {
   "cell_type": "code",
   "execution_count": 7,
   "id": "b2f44c40-b002-44c4-aa66-5fb1a4ad44c1",
   "metadata": {},
   "outputs": [
    {
     "name": "stdout",
     "output_type": "stream",
     "text": [
      "<class 'function'>\n"
     ]
    }
   ],
   "source": [
    "def salom_ber():\n",
    "    print(\"Assalom alaykum\")\n",
    "\n",
    "print(type(salom_ber))"
   ]
  },
  {
   "cell_type": "markdown",
   "id": "ae850374-b1dc-44b3-ba07-c50c3eee1fd8",
   "metadata": {},
   "source": [
    "METODLAR\n",
    "\n",
    "Har bir obyekt uning ustida bajarish mumkin bo'lgan funksiyalar bilan keladi. Bu funksiyalar obyekt ichida yashirin bo'ladi, va biz ularga nuqta va funksiya nomi orqali murojat qilishimiz mumkin. Bunday funksiyalar shu klass (yoki obyektga) tegishli metodlar deyiladi."
   ]
  },
  {
   "cell_type": "code",
   "execution_count": 9,
   "id": "00ef3c92-277f-40ba-a5e0-d70dcf90b685",
   "metadata": {},
   "outputs": [
    {
     "name": "stdout",
     "output_type": "stream",
     "text": [
      "SALOM\n"
     ]
    }
   ],
   "source": [
    "matn = \"salom\"\n",
    "print(matn.upper())"
   ]
  },
  {
   "cell_type": "markdown",
   "id": "02aedfe0-870a-4330-ad08-b42bec74d0df",
   "metadata": {},
   "source": [
    "## KLASS YARATISH"
   ]
  },
  {
   "cell_type": "code",
   "execution_count": 10,
   "id": "982e1b8f-434a-4b17-85a9-f25c4f6413d8",
   "metadata": {},
   "outputs": [],
   "source": [
    "class Talaba:\n",
    "    def __init__(self, ism, familiya, tyil):\n",
    "        self.ism = ism\n",
    "        self.familiya = familiya\n",
    "        self.tyil = tyil"
   ]
  },
  {
   "cell_type": "code",
   "execution_count": 11,
   "id": "dc1e2d26-f5dd-4e0d-afaf-dde8fc215edf",
   "metadata": {},
   "outputs": [],
   "source": [
    "talaba1 = Talaba(\"Alijon\", \"Valiyev\", 2000)"
   ]
  },
  {
   "cell_type": "code",
   "execution_count": 12,
   "id": "b687db47-377b-4d54-9bf4-edecebec7df2",
   "metadata": {},
   "outputs": [
    {
     "name": "stdout",
     "output_type": "stream",
     "text": [
      "Alijon\n"
     ]
    }
   ],
   "source": [
    "print(talaba1.ism)"
   ]
  },
  {
   "cell_type": "code",
   "execution_count": 13,
   "id": "fa457fa2-9e0c-47a9-9aab-5675c8840e2e",
   "metadata": {},
   "outputs": [
    {
     "name": "stdout",
     "output_type": "stream",
     "text": [
      "Valiyev\n"
     ]
    }
   ],
   "source": [
    "print(talaba1.familiya)"
   ]
  },
  {
   "cell_type": "code",
   "execution_count": 14,
   "id": "3c6b178b-54fe-43f1-8cdb-03c974df534d",
   "metadata": {},
   "outputs": [],
   "source": [
    "talaba2 = Talaba(\"Olim\", \"Olimov\", 1995)\n",
    "talaba3 = Talaba(\"Husan\", \"Akbarov\", 2004)\n",
    "talaba4 = Talaba(\"Hasan\", \"Akbarov\", 2004)"
   ]
  },
  {
   "cell_type": "code",
   "execution_count": 15,
   "id": "b1eca725-47f1-4faa-a535-e9bf7fb2af02",
   "metadata": {},
   "outputs": [
    {
     "name": "stdout",
     "output_type": "stream",
     "text": [
      "Olim\n",
      "Akbarov\n"
     ]
    }
   ],
   "source": [
    "print(talaba2.ism)\n",
    "print(talaba4.familiya)"
   ]
  },
  {
   "cell_type": "markdown",
   "id": "341730dc-2549-48a6-b92b-de38c4cd75ba",
   "metadata": {},
   "source": [
    "## KLASSGA METODLAR QO'SHAMIZ"
   ]
  },
  {
   "cell_type": "code",
   "execution_count": 17,
   "id": "74fe6eb5-470c-4a7b-94d7-30b4c6058c8b",
   "metadata": {},
   "outputs": [],
   "source": [
    "class Talaba:\n",
    "    def __init__(self, ism, familiya, tyil):\n",
    "        self.ism = ism\n",
    "        self.familiya = familiya\n",
    "        self.tyil = tyil\n",
    "\n",
    "    def tanishtir(self):\n",
    "        print(f\"Ismim {self.ism} {self.familiya}. {self.tyil} yilda tug'ilganman\")"
   ]
  },
  {
   "cell_type": "code",
   "execution_count": 18,
   "id": "c2cf6793-bdfd-42cd-8834-175b4a5d7021",
   "metadata": {},
   "outputs": [
    {
     "name": "stdout",
     "output_type": "stream",
     "text": [
      "Ismim Hasan Akbarov. 2004 yilda tug'ilganman\n"
     ]
    }
   ],
   "source": [
    "talaba4 = Talaba(\"Hasan\",\"Akbarov\",2004)\n",
    "talaba4.tanishtir()"
   ]
  },
  {
   "cell_type": "markdown",
   "id": "9462d24d-da6a-4f3b-ba00-ffb64c41096f",
   "metadata": {},
   "source": [
    "## OBYEKTNING METODLARIGA MUROJAT QILAMIZ"
   ]
  },
  {
   "cell_type": "code",
   "execution_count": 20,
   "id": "9d85d558-47e8-4828-9266-e51d69f7de01",
   "metadata": {},
   "outputs": [],
   "source": [
    "class Talaba:\n",
    "    def __init__(self, ism, familiya, tyil):\n",
    "        self.ism = ism\n",
    "        self.familiya = familiya\n",
    "        self.tyil = tyil\n",
    "\n",
    "    def get_name(self):\n",
    "        return self.ism\n",
    "\n",
    "    def get_lastname(self):\n",
    "        return self.familiya\n",
    "\n",
    "    def get_fullname(self):\n",
    "        return f\"{self.ism} {self.familiya}\"\n",
    "\n",
    "    def tanishtir(self):\n",
    "        print(f\"Ismim {self.ism} {self.familiya}. {self.tyil} yilda tug'ilganman\")"
   ]
  },
  {
   "cell_type": "code",
   "execution_count": 21,
   "id": "702f40d6-fc53-45f3-b163-af1a96d1b649",
   "metadata": {},
   "outputs": [
    {
     "name": "stdout",
     "output_type": "stream",
     "text": [
      "Alijon Valiyev\n"
     ]
    }
   ],
   "source": [
    "talaba1 = Talaba(\"Alijon\",\"Valiyev\",2000)\n",
    "print(talaba1.get_fullname())"
   ]
  },
  {
   "cell_type": "markdown",
   "id": "c0a95685-3b93-4070-948e-00837dd995d3",
   "metadata": {},
   "source": [
    "## ARGUMENT QABUL QILUVCHI METODLAR"
   ]
  },
  {
   "cell_type": "code",
   "execution_count": 22,
   "id": "80d75574-1faa-49a4-8303-8bf7145492ce",
   "metadata": {},
   "outputs": [],
   "source": [
    "class Talaba:\n",
    "    def __init__(self,ism,familiya,tyil):\n",
    "        self.ism = ism\n",
    "        self.familiya = familiya\n",
    "        self.tyil = tyil\n",
    "    \n",
    "    def get_name(self):\n",
    "        return self.ism\n",
    "    \n",
    "    def get_lastname(self):\n",
    "        return self.familiya\n",
    "    \n",
    "    def get_fullname(self):\n",
    "        return f\"{self.ism} {self.familiya}\"\n",
    "    \n",
    "    def get_age(self,yil):\n",
    "        return yil-self.tyil\n",
    "    \n",
    "    def tanishtir(self):\n",
    "        print(f\"Ismim {self.ism} {self.familiya}. {self.tyil} yilda tu'gilganman\")"
   ]
  },
  {
   "cell_type": "code",
   "execution_count": 23,
   "id": "5e93b6a5-c4d3-492e-8ac8-7e601267c4ba",
   "metadata": {},
   "outputs": [
    {
     "name": "stdout",
     "output_type": "stream",
     "text": [
      "21\n"
     ]
    }
   ],
   "source": [
    "talaba1 = Talaba(\"Alijon\",\"Valiyev\",2000)\n",
    "print(talaba1.get_age(2021))"
   ]
  },
  {
   "cell_type": "markdown",
   "id": "3b4197b0-bb0c-42d2-a5ba-4a8f0111ac5c",
   "metadata": {},
   "source": [
    "## pass OPERATORI"
   ]
  },
  {
   "cell_type": "markdown",
   "id": "5143ca23-145a-4f3e-9757-a112b440c870",
   "metadata": {},
   "source": [
    "Pythonda hech qanday vazifani bajarmaydigan pass operatori mavjud. Bu operatordan bo'sh metodlar yaratishda foydalanish mumkin. Misol uchun siz klassingiz uchun muhim metodlarni bilasiz, lekin metod badani hali tayyor emas. Agar metod badanini bo'sh qoldirsangiz, Python IndentationError xatosini qaytaradi. Shunday xolatlarda, funksiya badaniga pass operatorini qo'yib ketishimiz mumkin:"
   ]
  },
  {
   "cell_type": "code",
   "execution_count": 32,
   "id": "fc69cdb6-3118-49f4-ba88-2fee9c29b01c",
   "metadata": {},
   "outputs": [],
   "source": [
    "class User:\n",
    "    def __init__(self, name, username, email):\n",
    "        self.name = name\n",
    "        self.uname = username\n",
    "        self.mail = email\n",
    "    \n",
    "    def describe():\n",
    "        pass\n",
    "    \n",
    "    def get_email():\n",
    "        pass"
   ]
  },
  {
   "cell_type": "markdown",
   "id": "f38b704b-f0ae-430b-89b1-98c328357673",
   "metadata": {},
   "source": [
    "## AMALIYOT"
   ]
  },
  {
   "cell_type": "markdown",
   "id": "be15e9bc-954f-4a6c-b52c-e28594b3ba51",
   "metadata": {},
   "source": [
    "1.Web sahifangiz uchun foydalanuvchi (user) klassini tuzing. Klassning xususiyatlari sifatida odatda ijtimoiy tarmoqlar talab qiladigan ma'lumotlarni kiriting (ism, foydalanuvchi ismi, email, va hokazo)"
   ]
  },
  {
   "cell_type": "code",
   "execution_count": 39,
   "id": "db607339-868c-4ff9-82e7-79c40c62d80d",
   "metadata": {},
   "outputs": [],
   "source": [
    "class User:\n",
    "    def __init__(self, name, username, age, email):\n",
    "        self.name = name\n",
    "        self.username = username\n",
    "        self.age = age\n",
    "        self.email = email\n",
    "\n",
    "    def malumot(self):\n",
    "        print(f\"Ism: {self.name} \\n\"\n",
    "              f\"Familiya: {self.username} \\n\"\n",
    "              f\"Yoshi {self.age} \\n\"\n",
    "              f\"Gmail address {self.email}\")"
   ]
  },
  {
   "cell_type": "code",
   "execution_count": 41,
   "id": "1f39eeae-2d73-4e3c-97a6-15b9088a5430",
   "metadata": {},
   "outputs": [
    {
     "name": "stdout",
     "output_type": "stream",
     "text": [
      "Ism: Sardor \n",
      "Familiya: Tolliboyev \n",
      "Yoshi 20 \n",
      "Gmail address tolliboyevsardor05@gmail.com\n"
     ]
    }
   ],
   "source": [
    "user1 = User('Sardor', 'Tolliboyev', 20, 'tolliboyevsardor05@gmail.com')\n",
    "user1.malumot()"
   ]
  },
  {
   "cell_type": "markdown",
   "id": "966c3a8d-672d-4645-b2b9-46d6ad5cf405",
   "metadata": {},
   "source": [
    "2.Klassga bir nechta metodlar qo'shing, jumladan get_info() metodi foydalanuvchi haqida yig'ilgan ma'lumotlarni chiroyli qilib chiqarsin (masalan: \"Foydalanuvchi: alijon1994, ismi: Alijon Valiyev, email: alijon1994@gmail.com)."
   ]
  },
  {
   "cell_type": "code",
   "execution_count": 47,
   "id": "eeef329e-c1c8-4a46-b594-c9465a676322",
   "metadata": {},
   "outputs": [],
   "source": [
    "class User:\n",
    "    def __init__(self, name, username, age, email):\n",
    "        self.name = name\n",
    "        self.username = username\n",
    "        self.age = age\n",
    "        self.email = email\n",
    "\n",
    "    def get_info(self):\n",
    "        return (f\"Ism: {self.name} \\n\"\n",
    "              f\"Familiya: {self.username} \\n\"\n",
    "              f\"Yoshi {self.age} \\n\"\n",
    "              f\"Gmail address {self.email}\")"
   ]
  },
  {
   "cell_type": "code",
   "execution_count": 49,
   "id": "99de02f2-061f-420d-8dd4-e563de64bd86",
   "metadata": {},
   "outputs": [
    {
     "name": "stdout",
     "output_type": "stream",
     "text": [
      "Ism: Sardor \n",
      "Familiya: Tolliboyev \n",
      "Yoshi 20 \n",
      "Gmail address tolliboyevsardor2005@gmail.com\n"
     ]
    }
   ],
   "source": [
    "user2 = User('Sardor', 'Tolliboyev', 20, 'tolliboyevsardor2005@gmail.com')\n",
    "print(user2.get_info())"
   ]
  },
  {
   "cell_type": "markdown",
   "id": "0adc9769-45b8-4849-9bac-08b1c994df70",
   "metadata": {},
   "source": [
    "3.Klassdan bir nechta obyektlar yarating va uning xususiyatlari va metodlariga murojat qiling."
   ]
  },
  {
   "cell_type": "code",
   "execution_count": 51,
   "id": "6a87380e-b320-4e43-b077-b96bc9ef1825",
   "metadata": {},
   "outputs": [
    {
     "name": "stdout",
     "output_type": "stream",
     "text": [
      "Sardor\n",
      "Ism: Sardor \n",
      "Familiya: Tolliboyev \n",
      "Yoshi 20 \n",
      "Gmail address sardor1516.com\n"
     ]
    }
   ],
   "source": [
    "user3 = User('Sardor', 'Tolliboyev', 20, 'sardor2005.com')\n",
    "user4 = User('Sardor', 'Tolliboyev', 20, 'sardor1516.com')\n",
    "print(user3.name)\n",
    "print(user4.get_info())"
   ]
  },
  {
   "cell_type": "code",
   "execution_count": null,
   "id": "185bb2f7-c02f-4fb2-a328-8157b46b71ac",
   "metadata": {},
   "outputs": [],
   "source": []
  }
 ],
 "metadata": {
  "kernelspec": {
   "display_name": "Python 3 (ipykernel)",
   "language": "python",
   "name": "python3"
  },
  "language_info": {
   "codemirror_mode": {
    "name": "ipython",
    "version": 3
   },
   "file_extension": ".py",
   "mimetype": "text/x-python",
   "name": "python",
   "nbconvert_exporter": "python",
   "pygments_lexer": "ipython3",
   "version": "3.12.1"
  }
 },
 "nbformat": 4,
 "nbformat_minor": 5
}
