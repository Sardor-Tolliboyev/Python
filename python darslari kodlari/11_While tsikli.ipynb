{
 "cells": [
  {
   "cell_type": "code",
   "execution_count": 1,
   "id": "a5f9cbb3-c193-4bda-a1bd-e76ad4a05bde",
   "metadata": {},
   "outputs": [],
   "source": [
    "# while tsikli"
   ]
  },
  {
   "cell_type": "code",
   "execution_count": 2,
   "id": "b30e6aab-4430-4196-ae33-1e35f703970d",
   "metadata": {},
   "outputs": [
    {
     "name": "stdin",
     "output_type": "stream",
     "text": [
      "Ismingiz nima?  Sardor\n"
     ]
    },
    {
     "name": "stdout",
     "output_type": "stream",
     "text": [
      "Salom, Sardor\n"
     ]
    }
   ],
   "source": [
    "ism = input(\"Ismingiz nima? \")\n",
    "print(f'Salom, {ism.title()}')"
   ]
  },
  {
   "cell_type": "code",
   "execution_count": 4,
   "id": "f7e5f01c-46b9-4f9b-8e7c-3ab6c9d60731",
   "metadata": {},
   "outputs": [
    {
     "name": "stdin",
     "output_type": "stream",
     "text": [
      "Ismingiz nima?  Sardor\n",
      "Salom, Sardor. Yoshingiz nechida?  20\n"
     ]
    }
   ],
   "source": [
    "ism = input(\"Ismingiz nima? \")\n",
    "savol = f\"Salom, {ism.title()}. Yoshingiz nechida? \"\n",
    "yosh = input(savol)"
   ]
  },
  {
   "cell_type": "code",
   "execution_count": 7,
   "id": "6fbd8a17-d9b3-4c96-ae6b-c831109abb47",
   "metadata": {},
   "outputs": [
    {
     "name": "stdin",
     "output_type": "stream",
     "text": [
      "Ismingiz nima?  Sardor\n",
      "Salom, Sardor. Yoshingiz nechida?  20\n",
      "Bo'yingiz necha metr?  1.80\n"
     ]
    }
   ],
   "source": [
    "ism = input(\"Ismingiz nima? \")\n",
    "savol = f\"Salom, {ism.title()}. Yoshingiz nechida? \"\n",
    "yosh = input(savol)\n",
    "height = input(\"Bo'yingiz necha metr? \")\n",
    "height = float(height)"
   ]
  },
  {
   "cell_type": "code",
   "execution_count": 9,
   "id": "63d40f6e-787f-4ba5-829c-476254d11880",
   "metadata": {},
   "outputs": [
    {
     "name": "stdout",
     "output_type": "stream",
     "text": [
      "1 2 3 4 5 "
     ]
    }
   ],
   "source": [
    "son = 1\n",
    "# son ga 1 qiymatini beramiz\n",
    "while son<=5:\n",
    "# toki son 5 dan kichik yoki teng ekan... \n",
    "    print(son, end=' ') # son ni konsolga chiqaramiz,\n",
    "    son = son + 1 # songa 1 qo'shamiz."
   ]
  },
  {
   "cell_type": "code",
   "execution_count": 12,
   "id": "a85b871a-b164-4b79-b1fd-0d6794c85a35",
   "metadata": {},
   "outputs": [
    {
     "name": "stdout",
     "output_type": "stream",
     "text": [
      "Kiritilgan sonning kvadratini qaytaruvchi dastur.\n"
     ]
    },
    {
     "name": "stdin",
     "output_type": "stream",
     "text": [
      "Istalgan son kiriting (dasturni to'xtatish uchun 'exit' deb yozing):  2\n"
     ]
    },
    {
     "name": "stdout",
     "output_type": "stream",
     "text": [
      "4.0\n"
     ]
    },
    {
     "name": "stdin",
     "output_type": "stream",
     "text": [
      "Istalgan son kiriting (dasturni to'xtatish uchun 'exit' deb yozing):  1\n"
     ]
    },
    {
     "name": "stdout",
     "output_type": "stream",
     "text": [
      "1.0\n"
     ]
    },
    {
     "name": "stdin",
     "output_type": "stream",
     "text": [
      "Istalgan son kiriting (dasturni to'xtatish uchun 'exit' deb yozing):  3\n"
     ]
    },
    {
     "name": "stdout",
     "output_type": "stream",
     "text": [
      "9.0\n"
     ]
    },
    {
     "name": "stdin",
     "output_type": "stream",
     "text": [
      "Istalgan son kiriting (dasturni to'xtatish uchun 'exit' deb yozing):  7\n"
     ]
    },
    {
     "name": "stdout",
     "output_type": "stream",
     "text": [
      "49.0\n"
     ]
    },
    {
     "name": "stdin",
     "output_type": "stream",
     "text": [
      "Istalgan son kiriting (dasturni to'xtatish uchun 'exit' deb yozing):  exit\n"
     ]
    }
   ],
   "source": [
    "print(\"Kiritilgan sonning kvadratini qaytaruvchi dastur.\")\n",
    "savol = \"Istalgan son kiriting \"\n",
    "savol += \"(dasturni to'xtatish uchun 'exit' deb yozing): \"\n",
    "qiymat = ''\n",
    "while qiymat != 'exit':\n",
    "    qiymat = input(savol)\n",
    "    if qiymat != 'exit':\n",
    "        print(float(qiymat)**2)"
   ]
  },
  {
   "cell_type": "code",
   "execution_count": 13,
   "id": "56e9243e-2c53-4bcf-bebf-8db8884e5ebb",
   "metadata": {},
   "outputs": [],
   "source": [
    "# Ishora (ﬂag)"
   ]
  },
  {
   "cell_type": "code",
   "execution_count": 19,
   "id": "d3e1fe04-22f9-4f57-928e-483f71cb8014",
   "metadata": {},
   "outputs": [
    {
     "name": "stdout",
     "output_type": "stream",
     "text": [
      "Kiritilgan sonning kvadratini qaytaruvchi dastur.\n"
     ]
    },
    {
     "name": "stdin",
     "output_type": "stream",
     "text": [
      "Istalgan son kiriting (dasturni to'xtatish uchun 'exit' deb yozing):  4\n"
     ]
    },
    {
     "name": "stdout",
     "output_type": "stream",
     "text": [
      "16.0\n"
     ]
    },
    {
     "name": "stdin",
     "output_type": "stream",
     "text": [
      "Istalgan son kiriting (dasturni to'xtatish uchun 'exit' deb yozing):  45\n"
     ]
    },
    {
     "name": "stdout",
     "output_type": "stream",
     "text": [
      "2025.0\n"
     ]
    },
    {
     "name": "stdin",
     "output_type": "stream",
     "text": [
      "Istalgan son kiriting (dasturni to'xtatish uchun 'exit' deb yozing):  exit\n"
     ]
    }
   ],
   "source": [
    "print(\"Kiritilgan sonning kvadratini qaytaruvchi dastur.\")\n",
    "savol = \"Istalgan son kiriting \"\n",
    "savol += \"(dasturni to'xtatish uchun 'exit' deb yozing): \"\n",
    "ishora = True\n",
    "while ishora:\n",
    "    qiymat = input(savol)\n",
    "    if qiymat == 'exit':\n",
    "        ishora = False\n",
    "    else:\n",
    "        print(float(qiymat)**2)"
   ]
  },
  {
   "cell_type": "code",
   "execution_count": 20,
   "id": "d576032c-16be-4460-9a44-fd825417d11b",
   "metadata": {},
   "outputs": [],
   "source": [
    "# BREAK OPERATORI"
   ]
  },
  {
   "cell_type": "code",
   "execution_count": 21,
   "id": "9ba83c87-8487-4f50-bed8-c1a22db00b0f",
   "metadata": {},
   "outputs": [
    {
     "name": "stdout",
     "output_type": "stream",
     "text": [
      "Kiritilgan sonning kvadratini qaytaruvchi dastur.\n"
     ]
    },
    {
     "name": "stdin",
     "output_type": "stream",
     "text": [
      "Istalgan son kiriting (dasturni to'xtatish uchun 'exit' deb yozing):  4\n"
     ]
    },
    {
     "name": "stdout",
     "output_type": "stream",
     "text": [
      "16.0\n"
     ]
    },
    {
     "name": "stdin",
     "output_type": "stream",
     "text": [
      "Istalgan son kiriting (dasturni to'xtatish uchun 'exit' deb yozing):  5\n"
     ]
    },
    {
     "name": "stdout",
     "output_type": "stream",
     "text": [
      "25.0\n"
     ]
    },
    {
     "name": "stdin",
     "output_type": "stream",
     "text": [
      "Istalgan son kiriting (dasturni to'xtatish uchun 'exit' deb yozing):  6\n"
     ]
    },
    {
     "name": "stdout",
     "output_type": "stream",
     "text": [
      "36.0\n"
     ]
    },
    {
     "name": "stdin",
     "output_type": "stream",
     "text": [
      "Istalgan son kiriting (dasturni to'xtatish uchun 'exit' deb yozing):  35\n"
     ]
    },
    {
     "name": "stdout",
     "output_type": "stream",
     "text": [
      "1225.0\n"
     ]
    },
    {
     "name": "stdin",
     "output_type": "stream",
     "text": [
      "Istalgan son kiriting (dasturni to'xtatish uchun 'exit' deb yozing):  exit\n"
     ]
    }
   ],
   "source": [
    "print(\"Kiritilgan sonning kvadratini qaytaruvchi dastur.\")\n",
    "savol = \"Istalgan son kiriting \"\n",
    "savol += \"(dasturni to'xtatish uchun 'exit' deb yozing): \"\n",
    "\n",
    "while True:\n",
    "    qiymat = input(savol)\n",
    "    if qiymat == 'exit':\n",
    "        break\n",
    "    else:\n",
    "        print(float(qiymat)**2)"
   ]
  },
  {
   "cell_type": "code",
   "execution_count": 26,
   "id": "93c80c3c-af8f-4a9c-820f-88eb70aff302",
   "metadata": {},
   "outputs": [
    {
     "name": "stdout",
     "output_type": "stream",
     "text": [
      "1 ning kvadrati 1 ga teng\n",
      "2 ning kvadrati 4 ga teng\n",
      "3 ning kvadrati 9 ga teng\n",
      "4 ning kvadrati 16 ga teng\n"
     ]
    }
   ],
   "source": [
    "sonlar = list(range(1,11))\n",
    "for son in sonlar:\n",
    "    if son == 5:\n",
    "        break\n",
    "    print(f\"{son} ning kvadrati {son**2} ga teng\")"
   ]
  },
  {
   "cell_type": "code",
   "execution_count": 28,
   "id": "fe8dcfd9-f564-4a30-b2c9-879e31c516be",
   "metadata": {},
   "outputs": [],
   "source": [
    "# CONTINUE OPERATORI"
   ]
  },
  {
   "cell_type": "code",
   "execution_count": 29,
   "id": "9edda208-f5ef-4451-9aff-d1bf82d6b08b",
   "metadata": {},
   "outputs": [
    {
     "name": "stdout",
     "output_type": "stream",
     "text": [
      "1 ning kvadrati 1 ga teng\n",
      "2 ning kvadrati 4 ga teng\n",
      "3 ning kvadrati 9 ga teng\n",
      "4 ning kvadrati 16 ga teng\n",
      "6 ning kvadrati 36 ga teng\n",
      "7 ning kvadrati 49 ga teng\n",
      "8 ning kvadrati 64 ga teng\n",
      "9 ning kvadrati 81 ga teng\n",
      "10 ning kvadrati 100 ga teng\n"
     ]
    }
   ],
   "source": [
    "sonlar = list(range(1,11))\n",
    "for son in sonlar:\n",
    "    if son == 5:\n",
    "        continue\n",
    "    print(f\"{son} ning kvadrati {son**2} ga teng\")"
   ]
  },
  {
   "cell_type": "code",
   "execution_count": 30,
   "id": "f94332ca-1d2d-4c74-bfd2-f49a5d56484a",
   "metadata": {},
   "outputs": [],
   "source": [
    "# ABADIY TSIKL TUZOG'I"
   ]
  },
  {
   "cell_type": "code",
   "execution_count": null,
   "id": "b1d97aa3-811d-4955-b25c-281c7a470c9d",
   "metadata": {},
   "outputs": [
    {
     "name": "stdout",
     "output_type": "stream",
     "text": [
      "0\n"
     ]
    }
   ],
   "source": [
    "# infinite loop\n",
    "son = 0\n",
    "while son<10:\n",
    "    if son%2!=0:\n",
    "        continue\n",
    "    else:\n",
    "        print(son)\n",
    "    son += 1"
   ]
  },
  {
   "cell_type": "code",
   "execution_count": 1,
   "id": "ae625547-3636-4def-8952-0ba7155e5318",
   "metadata": {},
   "outputs": [],
   "source": [
    "# Amaliyot"
   ]
  },
  {
   "cell_type": "code",
   "execution_count": 2,
   "id": "cbeaf0f0-6506-4b17-b458-65efc43e59fc",
   "metadata": {},
   "outputs": [],
   "source": [
    "# 1.Foydalanuvchidan yaxshi ko'rgan kitoblarini kiritishni so'rang. Foydalanuvchi yozishi bilan dasturni to'xtating"
   ]
  },
  {
   "cell_type": "code",
   "execution_count": 3,
   "id": "31338ec4-c954-498b-aba1-ff84b834d44e",
   "metadata": {},
   "outputs": [
    {
     "name": "stdout",
     "output_type": "stream",
     "text": [
      "Yaxshi ko'rgan kitoblaringizni kiriting\n"
     ]
    },
    {
     "name": "stdin",
     "output_type": "stream",
     "text": [
      "'stop' so'zini kiritsangiz to'xtaydi Sariq devni minib\n"
     ]
    },
    {
     "name": "stdout",
     "output_type": "stream",
     "text": [
      "Sariq devni minib\n"
     ]
    },
    {
     "name": "stdin",
     "output_type": "stream",
     "text": [
      "'stop' so'zini kiritsangiz to'xtaydi stop\n"
     ]
    }
   ],
   "source": [
    "print(\"Yaxshi ko'rgan kitoblaringizni kiriting\")\n",
    "savol = \"'stop' so'zini kiritsangiz to'xtaydi\"\n",
    "qiymat = ''\n",
    "while qiymat != 'stop':\n",
    "    qiymat = input(savol)\n",
    "    if qiymat != 'stop':\n",
    "        print(qiymat)"
   ]
  },
  {
   "cell_type": "code",
   "execution_count": 4,
   "id": "4c8fe7e3-42eb-481d-965d-17a9f1c2952c",
   "metadata": {},
   "outputs": [],
   "source": [
    "# 2.Muzeyga chipta narhi foydalanuvchining yoshiga bog'liq: 7 dan yoshlarga - 2000 so'm, 7-18\n",
    "# gacha 3000 so'm, 18-65 gacha 10000 so'm, 65 dan kattalarga bepul. Shunday while tsikl\n",
    "# yozingki, dastur foydalanuvchi yoshini so'rasin va chipta narhini chiqarsin. Foydalanuvchi\n",
    "# exit yoki quit deb yozganda dastur to'xtasin (ikkita shartni ham tekshiring).\n",
    "# 1.Yuqoridagi dasturni turli usullarda yozib ko'ring (break, ishora, yoki shart tekshirish)"
   ]
  },
  {
   "cell_type": "code",
   "execution_count": 10,
   "id": "d0ebbf38-8f07-4400-9813-ec09157a8e52",
   "metadata": {},
   "outputs": [
    {
     "name": "stdin",
     "output_type": "stream",
     "text": [
      "yoshingizni kiriting: (exit yoki quit yozilsa dastur to'xtaydi 54\n"
     ]
    },
    {
     "name": "stdout",
     "output_type": "stream",
     "text": [
      "10000 so'm\n"
     ]
    },
    {
     "name": "stdin",
     "output_type": "stream",
     "text": [
      "yoshingizni kiriting: (exit yoki quit yozilsa dastur to'xtaydi 4\n"
     ]
    },
    {
     "name": "stdout",
     "output_type": "stream",
     "text": [
      "2000 so'm\n"
     ]
    },
    {
     "name": "stdin",
     "output_type": "stream",
     "text": [
      "yoshingizni kiriting: (exit yoki quit yozilsa dastur to'xtaydi 666\n"
     ]
    },
    {
     "name": "stdout",
     "output_type": "stream",
     "text": [
      "bepul\n"
     ]
    },
    {
     "name": "stdin",
     "output_type": "stream",
     "text": [
      "yoshingizni kiriting: (exit yoki quit yozilsa dastur to'xtaydi 11\n"
     ]
    },
    {
     "name": "stdout",
     "output_type": "stream",
     "text": [
      "3000 so'm\n"
     ]
    },
    {
     "name": "stdin",
     "output_type": "stream",
     "text": [
      "yoshingizni kiriting: (exit yoki quit yozilsa dastur to'xtaydi 25\n"
     ]
    },
    {
     "name": "stdout",
     "output_type": "stream",
     "text": [
      "10000 so'm\n"
     ]
    },
    {
     "name": "stdin",
     "output_type": "stream",
     "text": [
      "yoshingizni kiriting: (exit yoki quit yozilsa dastur to'xtaydi exit\n"
     ]
    }
   ],
   "source": [
    "savol = \"yoshingizni kiriting: (exit yoki quit yozilsa dastur to'xtaydi\"\n",
    "qiymat = ''\n",
    "while qiymat != ('exit' or 'quit'):\n",
    "    qiymat = input(savol)\n",
    "    if qiymat != ('exit' or 'quit'):\n",
    "        qiymat = int(qiymat)\n",
    "        if qiymat < 7:\n",
    "            print(\"2000 so'm\")\n",
    "        elif qiymat < 18:\n",
    "            print(\"3000 so'm\")\n",
    "        elif qiymat < 65:\n",
    "            print(\"10000 so'm\")\n",
    "        else: print(\"bepul\")"
   ]
  },
  {
   "cell_type": "code",
   "execution_count": 13,
   "id": "ed8f3eaf-48c5-4289-8da8-eeec67234d3b",
   "metadata": {},
   "outputs": [],
   "source": [
    "# 3.Quyidagi dasturda bir nechta mantiqiy xatolar bor. Jumladan, xusisiy holatlarda tsikl abadiy\n",
    "# qaytarilib qolmoqda. Xatolarni to'g'rilay olasizmi?\n",
    "# savol = \"Kiritilgan sonning ildizini qaytaruvchi dastur.\\n\"\n",
    "# savol += \"Musbat son kiriting \" \n",
    "# savol += \"(dasturni to'xtatish uchun 'exit' deb yozing): \"\n",
    "# while True:\n",
    "# qiymat = input(savol)\n",
    "#     if qiymat<0:\n",
    "#         continue\n",
    "#     elif qiymat == 'Exit':    \n",
    "#         break\n",
    "#     else:\n",
    "#         ildiz = float(qiymat)**(0.5) \n",
    "#         print(f\"{qiymat} ning ildizi {ildiz} ga teng\")"
   ]
  },
  {
   "cell_type": "code",
   "execution_count": 28,
   "id": "e73d2474-b223-4539-8df8-51492fb6a1a5",
   "metadata": {},
   "outputs": [
    {
     "name": "stdin",
     "output_type": "stream",
     "text": [
      "Kiritilgan sonning ildizini qaytaruvchi dastur.\n",
      "Musbat son kiriting (dasturni to'xtatish uchun 'exit' deb yozing):  45\n",
      "Kiritilgan sonning ildizini qaytaruvchi dastur.\n",
      "Musbat son kiriting (dasturni to'xtatish uchun 'exit' deb yozing):  36\n",
      "Kiritilgan sonning ildizini qaytaruvchi dastur.\n",
      "Musbat son kiriting (dasturni to'xtatish uchun 'exit' deb yozing):  6\n",
      "Kiritilgan sonning ildizini qaytaruvchi dastur.\n",
      "Musbat son kiriting (dasturni to'xtatish uchun 'exit' deb yozing):  4\n",
      "Kiritilgan sonning ildizini qaytaruvchi dastur.\n",
      "Musbat son kiriting (dasturni to'xtatish uchun 'exit' deb yozing):  exit\n"
     ]
    }
   ],
   "source": [
    "savol = \"Kiritilgan sonning ildizini qaytaruvchi dastur.\\n\"\n",
    "savol += \"Musbat son kiriting \" \n",
    "savol += \"(dasturni to'xtatish uchun 'exit' deb yozing): \"\n",
    "while True:\n",
    "    qiymat = input(savol)\n",
    "    if qiymat.lower() == 'exit':    \n",
    "        break\n",
    "        qiymat = float(qiymat)\n",
    "        if qiymat<0:\n",
    "            continue\n",
    "        else:\n",
    "            ildiz = float(qiymat)**(0.5) \n",
    "            print(f\"{qiymat} ning ildizi {ildiz} ga teng\")"
   ]
  },
  {
   "cell_type": "code",
   "execution_count": null,
   "id": "c13c7d4f-bc4a-4781-95f6-275a0e9c8998",
   "metadata": {},
   "outputs": [],
   "source": []
  }
 ],
 "metadata": {
  "kernelspec": {
   "display_name": "Python 3 (ipykernel)",
   "language": "python",
   "name": "python3"
  },
  "language_info": {
   "codemirror_mode": {
    "name": "ipython",
    "version": 3
   },
   "file_extension": ".py",
   "mimetype": "text/x-python",
   "name": "python",
   "nbconvert_exporter": "python",
   "pygments_lexer": "ipython3",
   "version": "3.12.1"
  }
 },
 "nbformat": 4,
 "nbformat_minor": 5
}
